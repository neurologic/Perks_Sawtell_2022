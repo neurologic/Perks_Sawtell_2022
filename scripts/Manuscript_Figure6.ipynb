{
 "cells": [
  {
   "cell_type": "markdown",
   "metadata": {},
   "source": [
    "# import packages"
   ]
  },
  {
   "cell_type": "code",
   "execution_count": 1,
   "metadata": {},
   "outputs": [],
   "source": [
    "import sys\n",
    "import matplotlib.pyplot as plt\n",
    "import numpy as np\n",
    "import pandas as pd\n",
    "from pathlib import Path\n",
    "import seaborn as sns\n",
    "import scipy\n",
    "import pickle\n",
    "import yaml\n",
    "import time\n",
    "\n",
    "import matplotlib\n"
   ]
  },
  {
   "cell_type": "markdown",
   "metadata": {},
   "source": [
    "# define paths"
   ]
  },
  {
   "cell_type": "code",
   "execution_count": 2,
   "metadata": {},
   "outputs": [],
   "source": [
    "# You must define the path to the raw data (downloaded from the database)\n",
    "# the raw data to plot example cells is not part of the github directory\n",
    "data_folder = '/Users/kperks/mnt/OneDrive - wesleyan.edu/Research/Manuscripts/GRC_PerksSawtell/AcceptedRevision_CellReports/data_raw'"
   ]
  },
  {
   "cell_type": "code",
   "execution_count": 3,
   "metadata": {},
   "outputs": [],
   "source": [
    "top_dir = Path.cwd().resolve().parents[0] #this is the path to the folder you should be running these notebooks from (Perks_Sawtell_2022)\n",
    "\n",
    "#primary resource folders:\n",
    "script_folder = top_dir / 'scripts'\n",
    "# data_folder = top_dir / 'data_raw'\n",
    "\n",
    "#folders with processed data:\n",
    "df_folder = top_dir / 'data_processed/df_cmdintact'\n",
    "meta_data_folder = top_dir / 'data_processed/GRC_properties_Meta'\n",
    "\n",
    "#where to save any figures that are generated:\n",
    "#change as needed. Default is the location where Perks_Sawtell_2022 lives (if you are running this script from that folder)\n",
    "figure_folder = Path.cwd().resolve().parents[1] / 'Perks_Sawtell_2022_FiguresComponents'\n",
    "\n",
    "#for storing simulation states\n",
    "sim_filename = 'grc_model_initialized.pickle'\n",
    "sim_filepath = top_dir / 'data_processed/grc_model_simulations' / sim_filename "
   ]
  },
  {
   "cell_type": "markdown",
   "metadata": {},
   "source": [
    "# import custom functions from scripts folder"
   ]
  },
  {
   "cell_type": "code",
   "execution_count": 4,
   "metadata": {},
   "outputs": [],
   "source": [
    "sys.path.append(script_folder)\n",
    "from ClassDef_AmplitudeShift_Stable import AmpShift_Stable #this is the function that imports all of the cell_data structures. Needed if plotting any example cells. \n",
    "from FunctionDefinitions import *"
   ]
  },
  {
   "cell_type": "markdown",
   "metadata": {},
   "source": [
    "# configure figure styles"
   ]
  },
  {
   "cell_type": "code",
   "execution_count": 5,
   "metadata": {},
   "outputs": [],
   "source": [
    "# configure figure stylessns.set_style(\"ticks\")\n",
    "sns.set_context(\"paper\")\n",
    "rc = set_fig_style()\n",
    "matplotlib.rcParams.update(rc)"
   ]
  },
  {
   "cell_type": "code",
   "execution_count": 6,
   "metadata": {},
   "outputs": [],
   "source": [
    "import matplotlib.colors as colors\n",
    "def truncate_colormap(cmap, minval=0.0, maxval=1.0, n=100):\n",
    "    new_cmap = colors.LinearSegmentedColormap.from_list(\n",
    "        'trunc({n},{a:.2f},{b:.2f})'.format(n=cmap.name, a=minval, b=maxval),\n",
    "        cmap(np.linspace(minval, maxval, n)))\n",
    "    return new_cmap"
   ]
  },
  {
   "cell_type": "markdown",
   "metadata": {},
   "source": [
    "# Define datafile pre-processed from Nate"
   ]
  },
  {
   "cell_type": "code",
   "execution_count": 7,
   "metadata": {},
   "outputs": [],
   "source": [
    "processed_datafile = top_dir / 'data_processed/Figure6Data/Figure6_summaryforfigure_kp.xlsx'"
   ]
  },
  {
   "cell_type": "markdown",
   "metadata": {},
   "source": [
    "# Import Panel D and plot"
   ]
  },
  {
   "cell_type": "code",
   "execution_count": 8,
   "metadata": {},
   "outputs": [],
   "source": [
    "# plt.cm.plasma(np.linspace(0.2,0.85,13))\n",
    "newmap = truncate_colormap(plt.cm.plasma, minval=0.2, maxval=0.85, n=13)"
   ]
  },
  {
   "cell_type": "code",
   "execution_count": 9,
   "metadata": {},
   "outputs": [
    {
     "data": {
      "image/png": "[encoded data removed]",
      "text/plain": [
       "<Figure size 86.4x108 with 1 Axes>"
      ]
     },
     "metadata": {
      "needs_background": "light"
     },
     "output_type": "display_data"
    }
   ],
   "source": [
    "sheet = '20211201_011'\n",
    "df = pd.read_excel(processed_datafile,sheet_name=sheet)\n",
    "\n",
    "df = df.sort_values('stimamp')\n",
    "\n",
    "df['stimamp_percent'] = np.round(100*((df['stimamp']/250)-1))\n",
    "df['peak_latency'] = df['peak_latency']*1000\n",
    "\n",
    "hfig,ax = create_fig_tuning()\n",
    "sns.scatterplot(x='peak_latency',y='peak_amp',hue='stimamp_percent',data=df,\n",
    "               ax=ax,legend=False,palette=newmap)\n",
    "\n",
    "ax.set_ylabel('Mean Peak Amplitude \\n (mV)',linespacing=0.9)\n",
    "ax.set_xlabel('Mean Peak Latency \\n (msec)',linespacing=0.9)\n",
    "# ax.set_xlim(8,13)\n",
    "ax.set_ylim(-1.1,-0.3);\n",
    "\n",
    "sns.despine(hfig)\n",
    "# figsave(figure_folder,'Fig6_scatter'+sheet)"
   ]
  },
  {
   "cell_type": "code",
   "execution_count": 17,
   "metadata": {},
   "outputs": [
    {
     "data": {
      "text/plain": [
       "12   -30.0\n",
       "10   -25.0\n",
       "8    -20.0\n",
       "6    -15.0\n",
       "4    -10.0\n",
       "2     -5.0\n",
       "0      0.0\n",
       "1      5.0\n",
       "3     10.0\n",
       "5     15.0\n",
       "7     20.0\n",
       "9     25.0\n",
       "11    30.0\n",
       "Name: stimamp_percent, dtype: float64"
      ]
     },
     "execution_count": 17,
     "metadata": {},
     "output_type": "execute_result"
    }
   ],
   "source": [
    "df['stimamp_percent']"
   ]
  },
  {
   "cell_type": "markdown",
   "metadata": {},
   "source": [
    "# Import Panel E and plot"
   ]
  },
  {
   "cell_type": "code",
   "execution_count": 157,
   "metadata": {},
   "outputs": [
    {
     "data": {
      "image/png": "[encoded data removed]",
      "text/plain": [
       "<Figure size 86.4x108 with 1 Axes>"
      ]
     },
     "metadata": {},
     "output_type": "display_data"
    }
   ],
   "source": [
    "sheet='20211201_007'\n",
    "\n",
    "df = pd.read_excel(processed_datafile,sheet_name=sheet)\n",
    "\n",
    "df = df.sort_values('stimamp')\n",
    "\n",
    "df['stimamp_percent'] = np.round(100*((df['stimamp']/250)-1))\n",
    "df['peak_latency'] = df['peak_latency']*1000\n",
    "\n",
    "hfig,ax = create_fig_tuning()\n",
    "sns.scatterplot(x='peak_latency',y='peak_amp',hue='stimamp_percent',data=df,\n",
    "               ax=ax,legend=False,palette=newmap)\n",
    "\n",
    "ax.set_ylabel('Mean Peak Amplitude \\n (mV)',linespacing=0.9)\n",
    "ax.set_xlabel('Mean Peak Latency \\n (msec)',linespacing=0.9)\n",
    "# ax.set_xlim(8,13)\n",
    "ax.set_ylim(-1.1,-0.3);\n",
    "\n",
    "sns.despine(hfig)\n",
    "figsave(figure_folder,'Fig6_scatter'+sheet)"
   ]
  },
  {
   "cell_type": "markdown",
   "metadata": {},
   "source": [
    "# Import Panel F and plot"
   ]
  },
  {
   "cell_type": "code",
   "execution_count": 25,
   "metadata": {},
   "outputs": [
    {
     "data": {
      "image/png": "[encoded data removed]",
      "text/plain": [
       "<Figure size 86.4x108 with 1 Axes>"
      ]
     },
     "metadata": {},
     "output_type": "display_data"
    }
   ],
   "source": [
    "sheet='slope_ML'\n",
    "\n",
    "df = pd.read_excel(processed_datafile,sheet_name=sheet)\n",
    "df['slope']=df['slope']/100\n",
    "\n",
    "hfig,ax = create_fig_tuning()\n",
    "sns.scatterplot(x='track',y='slope',data=df,\n",
    "               ax=ax,legend=False,color='black',s=15)\n",
    "ax.set_xticks([0,7])\n",
    "ax.set_xticklabels(['lateral','medial'])\n",
    "ax.set_xlabel('')\n",
    "\n",
    "ax.set_ylabel('Sensitivity (mV/msec)',linespacing=0.9)\n",
    "# ax.set_xlabel('Mean Peak Latency \\n (msec)',linespacing=0.9)\n",
    "# ax.set_xlim(8,13)\n",
    "# ax.set_ylim(-1.1,-0.3);\n",
    "\n",
    "sns.despine(hfig)\n",
    "\n",
    "figsave(figure_folder,'Fig6_scatter'+sheet)"
   ]
  },
  {
   "cell_type": "markdown",
   "metadata": {},
   "source": [
    "# Import Panel G and plot"
   ]
  },
  {
   "cell_type": "code",
   "execution_count": 26,
   "metadata": {},
   "outputs": [
    {
     "data": {
      "image/png": "[encoded data removed]",
      "text/plain": [
       "<Figure size 86.4x108 with 1 Axes>"
      ]
     },
     "metadata": {},
     "output_type": "display_data"
    }
   ],
   "source": [
    "sheet='sensitivity'\n",
    "\n",
    "df = pd.read_excel(processed_datafile,sheet_name=sheet)\n",
    "df = pd.melt(df,id_vars=['fish'],value_vars=['MZ','DLZ'])\n",
    "\n",
    "df['variable']=df['variable'].astype('string')\n",
    "df['fish']=df['fish'].astype('int')\n",
    "df['value']=df['value'].astype('float')\n",
    "\n",
    "hfig,ax = create_fig_tuning()\n",
    "\n",
    "ax = sns.boxplot(x=\"variable\", y=\"value\", data=df,color = 'grey', showfliers=False)\n",
    "# sns.stripplot(x='variable',y='value',hue='fish',data = df,\n",
    "#              ax=ax,s=5,alpha=0.5,jitter=0.25)\n",
    "sns.stripplot(x='variable',y='value',data = df,\n",
    "             ax=ax,s=3,color='black',jitter=0.25)\n",
    "plt.legend([],[], frameon=False)\n",
    "ax.set_ylabel('Sensitivity (mV/msec)');\n",
    "ax.set_xlabel('')\n",
    "\n",
    "figsave(figure_folder,'Fig6_scatter'+sheet)"
   ]
  },
  {
   "cell_type": "code",
   "execution_count": 32,
   "metadata": {},
   "outputs": [
    {
     "data": {
      "text/plain": [
       "Ttest_indResult(statistic=4.603638147546896, pvalue=0.0001675916731583152)"
      ]
     },
     "execution_count": 32,
     "metadata": {},
     "output_type": "execute_result"
    }
   ],
   "source": [
    "sheet='sensitivity'\n",
    "\n",
    "df = pd.read_excel(processed_datafile,sheet_name=sheet)\n",
    "scipy.stats.ttest_ind(df['MZ'], df['DLZ'], equal_var=False, nan_policy='omit')"
   ]
  },
  {
   "cell_type": "markdown",
   "metadata": {},
   "source": [
    "# Import Panel H and plot"
   ]
  },
  {
   "cell_type": "code",
   "execution_count": 22,
   "metadata": {},
   "outputs": [
    {
     "data": {
      "image/png": "[encoded data removed]",
      "text/plain": [
       "<Figure size 86.4x108 with 1 Axes>"
      ]
     },
     "metadata": {},
     "output_type": "display_data"
    }
   ],
   "source": [
    "sheet='latency_shift'\n",
    "\n",
    "df = pd.read_excel(processed_datafile,sheet_name=sheet)\n",
    "df = pd.melt(df,id_vars=['fish'],value_vars=['MZ','DLZ'])\n",
    "\n",
    "df['variable']=df['variable'].astype('string')\n",
    "df['fish']=df['fish'].astype('int')\n",
    "df['value']=df['value'].astype('float')*1000\n",
    "\n",
    "hfig,ax = create_fig_tuning()\n",
    "\n",
    "ax = sns.boxplot(x=\"variable\", y=\"value\", data=df,color = 'grey', showfliers=False)\n",
    "sns.stripplot(x='variable',y='value',data = df,\n",
    "             ax=ax,s=3,color='black',jitter=0.25)\n",
    "plt.legend([],[], frameon=False)\n",
    "ax.set_ylabel('Latency Shift (msec)');\n",
    "ax.set_xlabel('')\n",
    "\n",
    "figsave(figure_folder,'Fig6_scatter'+sheet)"
   ]
  },
  {
   "cell_type": "code",
   "execution_count": 33,
   "metadata": {},
   "outputs": [
    {
     "data": {
      "text/plain": [
       "Ttest_indResult(statistic=0.6332764155294383, pvalue=0.5338946348780096)"
      ]
     },
     "execution_count": 33,
     "metadata": {},
     "output_type": "execute_result"
    }
   ],
   "source": [
    "sheet='latency_shift'\n",
    "\n",
    "df = pd.read_excel(processed_datafile,sheet_name=sheet)\n",
    "scipy.stats.ttest_ind(df['MZ'], df['DLZ'], equal_var=False, nan_policy='omit')"
   ]
  },
  {
   "cell_type": "markdown",
   "metadata": {},
   "source": [
    "# Import Panel I and plot"
   ]
  },
  {
   "cell_type": "code",
   "execution_count": 24,
   "metadata": {},
   "outputs": [
    {
     "data": {
      "image/png": "[encoded data removed]",
      "text/plain": [
       "<Figure size 86.4x108 with 1 Axes>"
      ]
     },
     "metadata": {},
     "output_type": "display_data"
    }
   ],
   "source": [
    "sheet='amp_change'\n",
    "\n",
    "df = pd.read_excel(processed_datafile,sheet_name=sheet)\n",
    "df = pd.melt(df,id_vars=['fish'],value_vars=['MZ','DLZ'])\n",
    "\n",
    "df['variable']=df['variable'].astype('string')\n",
    "df['fish']=df['fish'].astype('int')\n",
    "df['value']=df['value'].astype('float')\n",
    "\n",
    "hfig,ax = create_fig_tuning()\n",
    "\n",
    "ax = sns.boxplot(x=\"variable\", y=\"value\", data=df,color = 'grey', showfliers=False)\n",
    "sns.stripplot(x='variable',y='value',data = df,\n",
    "             ax=ax,s=3,color='black',jitter=0.25)\n",
    "plt.legend([],[], frameon=False)\n",
    "ax.set_ylabel('Amplitude Shift (mV)');\n",
    "ax.set_xlabel('')\n",
    "\n",
    "figsave(figure_folder,'Fig6_scatter'+sheet)"
   ]
  },
  {
   "cell_type": "code",
   "execution_count": 34,
   "metadata": {},
   "outputs": [
    {
     "data": {
      "text/plain": [
       "Ttest_indResult(statistic=5.81346178544406, pvalue=1.0175443794799167e-05)"
      ]
     },
     "execution_count": 34,
     "metadata": {},
     "output_type": "execute_result"
    }
   ],
   "source": [
    "sheet='amp_change'\n",
    "\n",
    "df = pd.read_excel(processed_datafile,sheet_name=sheet)\n",
    "scipy.stats.ttest_ind(df['MZ'], df['DLZ'], equal_var=False, nan_policy='omit')"
   ]
  },
  {
   "cell_type": "markdown",
   "metadata": {},
   "source": [
    "# Import waveforms and plot A "
   ]
  },
  {
   "cell_type": "code",
   "execution_count": 10,
   "metadata": {},
   "outputs": [],
   "source": [
    "directory = top_dir / 'data_processed/Figure6Data/waves/'\n",
    "\n",
    "stimamp = np.asarray([int(file.parts[-1].split('(')[0][0:3]) for file in Path(directory).glob('*.txt')])\n",
    "stimamp = np.round(100*((stimamp/250)-1))\n",
    "_ = [file.parts[-1].split('(')[1] for file in Path(directory).glob('*.txt')]\n",
    "cellid = [s.split(')')[0] for s in _]"
   ]
  },
  {
   "cell_type": "code",
   "execution_count": 81,
   "metadata": {},
   "outputs": [
    {
     "data": {
      "text/plain": [
       "array([ 10., -15.,  25.,  -5.,  20.,  25., -10.,  -5.,  10., -25., -15.,\n",
       "       -25.,   5.,   0.,   0.,  15., -10., -20., -20.,  20.,   5.,  15.])"
      ]
     },
     "execution_count": 81,
     "metadata": {},
     "output_type": "execute_result"
    }
   ],
   "source": [
    "stimamp"
   ]
  },
  {
   "cell_type": "code",
   "execution_count": 11,
   "metadata": {},
   "outputs": [],
   "source": [
    "wavmean = []\n",
    "wavsem = []\n",
    "for file in Path(directory).glob('*.txt'):\n",
    "    data = pd.read_csv(file, sep=\"\\t\", header=None)\n",
    "    data.columns = [\"time\", \"mean\", \"sem\"]\n",
    "    data = data.drop(0,axis=0)\n",
    "    data = data.astype('float')\n",
    "    wavmean.append(data['mean'].values)\n",
    "    wavsem.append(data['sem'].values)\n",
    "    xtime = data['time'].values*1000\n",
    "    \n",
    "wavmean = np.asarray(wavmean).T\n",
    "wavsem = np.asarray(wavsem).T"
   ]
  },
  {
   "cell_type": "code",
   "execution_count": 8,
   "metadata": {},
   "outputs": [],
   "source": [
    "def search(list, ID):\n",
    "    boolarray = []\n",
    "    for i in range(len(list)):\n",
    "        if list[i] == ID:\n",
    "            boolarray.append(True)\n",
    "        if list[i] != ID:\n",
    "            boolarray.append(False)\n",
    "    return boolarray"
   ]
  },
  {
   "cell_type": "code",
   "execution_count": 19,
   "metadata": {},
   "outputs": [
    {
     "data": {
      "image/png": "[encoded data removed]",
      "text/plain": [
       "<Figure size 108x108 with 1 Axes>"
      ]
     },
     "metadata": {},
     "output_type": "display_data"
    }
   ],
   "source": [
    "cell = '20211201_011'\n",
    "\n",
    "thisid = search(cellid,cell)\n",
    "\n",
    "thiswavs = wavmean[:,thisid]\n",
    "thisamp = stimamp[thisid]\n",
    "\n",
    "sortedinds = np.argsort(thisamp)\n",
    "thisamp = thisamp[sortedinds]\n",
    "thiswavs = thiswavs[:,sortedinds]\n",
    "\n",
    "\n",
    "colinds = plt.cm.plasma(np.linspace(0.2,0.85,13))\n",
    "# colinds = np.asarray([c for c in reversed(colinds)])\n",
    "\n",
    "hfig,ax = create_fig()\n",
    "for i,sweep in enumerate(thiswavs.T):\n",
    "    ax.plot(xtime-4.5,sweep,color = colinds[i+1],lw = 0.5);\n",
    "\n",
    "ax.set_xlabel('Time after stimulus (ms)')\n",
    "ax.set_yticks([-0.5,0])\n",
    "ax.set_xticks(np.arange(0,20,5))\n",
    "ax.set_xlim(0,15)\n",
    "ax.set_ylim(-1,0)\n",
    "\n",
    "sns.despine(hfig)\n",
    "ax.set_frame_on(True)\n",
    "yax = ax.spines[\"left\"]\n",
    "yax.set_visible(False)\n",
    "\n",
    "figsave(figure_folder,'Fig6_LFPwavs_'+cell )"
   ]
  },
  {
   "cell_type": "code",
   "execution_count": 18,
   "metadata": {},
   "outputs": [
    {
     "data": {
      "image/png": "[encoded data removed]",
      "text/plain": [
       "<Figure size 108x108 with 1 Axes>"
      ]
     },
     "metadata": {},
     "output_type": "display_data"
    }
   ],
   "source": [
    "cell = '20211201_007'\n",
    "\n",
    "thisid = search(cellid,cell)\n",
    "\n",
    "thiswavs = wavmean[:,thisid]\n",
    "thisamp = stimamp[thisid]\n",
    "\n",
    "sortedinds = np.argsort(thisamp)\n",
    "thisamp = thisamp[sortedinds]\n",
    "thiswavs = thiswavs[:,sortedinds]\n",
    "\n",
    "\n",
    "colinds = plt.cm.plasma(np.linspace(0.2,0.85,13))\n",
    "# colinds = np.asarray([c for c in reversed(colinds)])\n",
    "\n",
    "hfig,ax = create_fig()\n",
    "coloroffset = 1\n",
    "for i,sweep in enumerate(thiswavs.T):\n",
    "    ax.plot(xtime-4.5,sweep,color = colinds[i+1],lw = 0.5);\n",
    "\n",
    "ax.set_xlabel('Time after stimulus (ms)')\n",
    "ax.set_yticks([-0.5,0])\n",
    "ax.set_xticks(np.arange(0,20,5))\n",
    "ax.set_xlim(0,15)\n",
    "ax.set_ylim(-1,0)\n",
    "sns.despine(hfig)\n",
    "ax.set_frame_on(True)\n",
    "yax = ax.spines[\"left\"]\n",
    "yax.set_visible(False)\n",
    "\n",
    "figsave(figure_folder,'Fig6_LFPwavs_'+cell )"
   ]
  },
  {
   "cell_type": "code",
   "execution_count": 13,
   "metadata": {},
   "outputs": [
    {
     "data": {
      "text/plain": [
       "array([-25., -20., -15., -10.,  -5.,   0.,   5.,  10.,  15.,  20.,  25.])"
      ]
     },
     "execution_count": 13,
     "metadata": {},
     "output_type": "execute_result"
    }
   ],
   "source": [
    "thisamp"
   ]
  }
 ],
 "metadata": {
  "kernelspec": {
   "display_name": "Python 3",
   "language": "python",
   "name": "python3"
  },
  "language_info": {
   "codemirror_mode": {
    "name": "ipython",
    "version": 3
   },
   "file_extension": ".py",
   "mimetype": "text/x-python",
   "name": "python",
   "nbconvert_exporter": "python",
   "pygments_lexer": "ipython3",
   "version": "3.6.12"
  },
  "toc": {
   "base_numbering": 1,
   "nav_menu": {},
   "number_sections": true,
   "sideBar": true,
   "skip_h1_title": false,
   "title_cell": "Table of Contents",
   "title_sidebar": "Contents",
   "toc_cell": false,
   "toc_position": {
    "height": "calc(100% - 180px)",
    "left": "10px",
    "top": "150px",
    "width": "315.797px"
   },
   "toc_section_display": true,
   "toc_window_display": true
  }
 },
 "nbformat": 4,
 "nbformat_minor": 4
}
