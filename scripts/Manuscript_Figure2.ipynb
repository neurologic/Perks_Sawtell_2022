{
 "cells": [
  {
   "cell_type": "markdown",
   "metadata": {},
   "source": [
    "# Import packages"
   ]
  },
  {
   "cell_type": "code",
   "execution_count": 1,
   "metadata": {
    "code_folding": [
     5
    ]
   },
   "outputs": [],
   "source": [
    "import sys\n",
    "from brian2 import *\n",
    "import sympy\n",
    "import matplotlib.pyplot as plt\n",
    "import numpy as np\n",
    "import pandas as pd\n",
    "from pathlib import Path\n",
    "import seaborn as sns\n",
    "from scipy import signal\n",
    "from scipy import optimize\n",
    "from scipy import stats\n",
    "from scipy.stats import gaussian_kde\n",
    "import pickle\n",
    "import yaml\n",
    "import time\n",
    "\n",
    "import matplotlib\n",
    "# matplotlib.rcParams['pdf.fonttype'] = 42\n"
   ]
  },
  {
   "cell_type": "markdown",
   "metadata": {},
   "source": [
    "# define paths"
   ]
  },
  {
   "cell_type": "code",
   "execution_count": 9,
   "metadata": {},
   "outputs": [],
   "source": [
    "# You must define the path to the raw data (downloaded from the database)\n",
    "# the raw data to plot example cells is not part of the github directory\n",
    "data_folder = '/Users/kperks/mnt/OneDrive - wesleyan.edu/Research/Manuscripts/GRC_PerksSawtell/AcceptedRevision_CellReports/data_raw'"
   ]
  },
  {
   "cell_type": "code",
   "execution_count": 2,
   "metadata": {},
   "outputs": [],
   "source": [
    "top_dir = Path.cwd().resolve().parents[0] #this is the path to the folder you should be running these notebooks from (Perks_Sawtell_2022)\n",
    "\n",
    "#primary resource folders:\n",
    "script_folder = top_dir / 'scripts'\n",
    "# data_folder = top_dir / 'data_raw'\n",
    "\n",
    "#folders with processed data:\n",
    "df_folder = top_dir / 'data_processed/df_cmdintact'\n",
    "meta_data_folder = top_dir / 'data_processed/GRC_properties_Meta'\n",
    "\n",
    "#where to save any figures that are generated:\n",
    "#change as needed. Default is the location where Perks_Sawtell_2022 lives (if you are running this script from that folder)\n",
    "figure_folder = Path.cwd().resolve().parents[1] / 'Perks_Sawtell_2022_FiguresComponents'\n",
    "\n",
    "#for storing simulation states\n",
    "sim_filename = 'grc_model_initialized.pickle'\n",
    "sim_filepath = top_dir / 'data_processed/grc_model_simulations' / sim_filename "
   ]
  },
  {
   "cell_type": "markdown",
   "metadata": {},
   "source": [
    "# import custom functions from scripts folder"
   ]
  },
  {
   "cell_type": "code",
   "execution_count": 3,
   "metadata": {},
   "outputs": [],
   "source": [
    "sys.path.append(script_folder)\n",
    "from ClassDef_AmplitudeShift_Stable import AmpShift_Stable #this is the function that imports all of the cell_data structures. Needed if plotting any example cells. \n",
    "from FunctionDefinitions import *"
   ]
  },
  {
   "cell_type": "markdown",
   "metadata": {},
   "source": [
    "# configure figure styles"
   ]
  },
  {
   "cell_type": "code",
   "execution_count": 4,
   "metadata": {},
   "outputs": [],
   "source": [
    "sns.set_style(\"ticks\")\n",
    "sns.set_context(\"paper\")\n",
    "rc = set_fig_style()\n",
    "matplotlib.rcParams.update(rc)"
   ]
  },
  {
   "cell_type": "markdown",
   "metadata": {},
   "source": [
    "# Load GC metadata from yaml files"
   ]
  },
  {
   "cell_type": "code",
   "execution_count": 5,
   "metadata": {},
   "outputs": [],
   "source": [
    "with open(top_dir / 'data_processed/cell_type_metadata.yaml', 'r') as file:\n",
    "    cell_type = yaml.load(file,Loader=yaml.FullLoader)[0]\n",
    "    \n",
    "with open(top_dir / 'data_processed/Vm_offset_metadata.yaml', 'r') as file:\n",
    "    Vm_offset = yaml.load(file,Loader=yaml.FullLoader)[0]"
   ]
  },
  {
   "cell_type": "markdown",
   "metadata": {},
   "source": [
    "# Example cell physiology"
   ]
  },
  {
   "cell_type": "markdown",
   "metadata": {},
   "source": [
    "## uncoupled baseline stim GC properties "
   ]
  },
  {
   "cell_type": "markdown",
   "metadata": {},
   "source": [
    "### load uncoupled response data pickle"
   ]
  },
  {
   "cell_type": "code",
   "execution_count": 6,
   "metadata": {},
   "outputs": [],
   "source": [
    "# files contained in processed data folder GRC_properties_Meta\n",
    "# processed files created using 'GRC_properties_Meta_ipynb'\n",
    "pickle_in = open(meta_data_folder / 'cell_data_uncoupled.pickle',\"rb\")\n",
    "cell_data = pickle.load(pickle_in)\n",
    "pickle_in.close()\n",
    "\n",
    "pickle_in = open(meta_data_folder / 'time_data_uncoupled.pickle',\"rb\")\n",
    "time_data = pickle.load(pickle_in)\n",
    "pickle_in.close()"
   ]
  },
  {
   "cell_type": "markdown",
   "metadata": {},
   "source": [
    "### use metadata defined in section 5 to create dataframe of response properties parameters"
   ]
  },
  {
   "cell_type": "code",
   "execution_count": 7,
   "metadata": {},
   "outputs": [],
   "source": [
    "path = top_dir / 'data_processed/df_GRC_properties'\n",
    "files = [e for e in path.iterdir() if e.is_file() and e.suffix=='.csv']\n",
    "keys = [f.name[0:-4] for f in sorted(files)]\n",
    "meta_df = pd.DataFrame(columns = None)\n",
    "for f in files:\n",
    "    thisdf = pd.read_csv(f)\n",
    "    meta_df = meta_df.append(thisdf,ignore_index = True)\n",
    "\n",
    "meta_df['cell_type'] = meta_df['exptname'].map(cell_type)"
   ]
  },
  {
   "cell_type": "code",
   "execution_count": 30,
   "metadata": {},
   "outputs": [
    {
     "data": {
      "text/plain": [
       "Index(['Unnamed: 0', 'exptname', 'Vm_baseline', 'c_latency', 'cmd_epsp_t',\n",
       "       'cmd_epsp_amp', 'cmd_epsp_onset', 'cmd_ipsp_t', 'cmd_ipsp_amp',\n",
       "       'cmd_ipsp_onset', 'cmd_response_std', 'cmd_peak_std', 'cmd_epsp_hw',\n",
       "       'cmd_epsp_dvdt', 'cmd_ipsp_dvdt', 'u_epsp_t', 'u_epsp_amp',\n",
       "       'u_epsp_onset', 'u_ipsp_t', 'u_ipsp_amp', 'u_ipsp_onset',\n",
       "       'u_response_std', 'u_peak_std', 'u_epsp_hw', 'u_epsp_dvdt',\n",
       "       'u_ipsp_dvdt', 'c_epsp_t', 'c_epsp_amp', 'c_epsp_onset', 'c_ipsp_t',\n",
       "       'c_ipsp_amp', 'c_ipsp_onset', 'c_response_std', 'c_peak_std',\n",
       "       'c_epsp_hw', 'c_epsp_dvdt', 'c_ipsp_dvdt', 'cell_type'],\n",
       "      dtype='object')"
      ]
     },
     "execution_count": 30,
     "metadata": {},
     "output_type": "execute_result"
    }
   ],
   "source": [
    "meta_df.columns"
   ]
  },
  {
   "cell_type": "markdown",
   "metadata": {},
   "source": [
    "### Commented code that was used for interactive plotting to select onset time and peak for each response\n",
    "\n",
    "> Selections used for paper were created once and then saved as numpy arrays that could then be called for future use without running this and selecting peaks and onsets every time\n",
    "\n",
    "numpy arrays saved in meta_data_folder (```np.save() with allow_pickle=False```) as:\n",
    "- 'uncoupled_response_pop_sgrc_onsetT.npy'\n",
    "- 'uncoupled_response_pop_sgrc_peakT.npy'\n",
    "- 'uncoupled_response_pop_dgrc_onsetT.npy'\n",
    "- 'uncoupled_response_pop_dgrc_peakT.npy'\n",
    "- 'uncoupled_response_pop_sgrc_onset.npy'\n",
    "- 'uncoupled_response_pop_sgrc_sweeps.npy'\n",
    "- 'uncoupled_response_pop_sgrc_sweeps_clip.npy'\n",
    "- 'uncoupled_response_pop_dgrc_onset.npy'\n",
    "- 'uncoupled_response_pop_dgrc_sweeps.npy'\n",
    "- 'uncoupled_response_pop_dgrc_sweeps_clip.npy'\n",
    "- 'uncoupled_response_pop_dgrc_tau.npy'\n",
    "- 'uncoupled_response_pop_sgrc_tau.npy'\n",
    "\n",
    "Uncomment code in following block if you want to make selections for yourself. Where it says 'save numpy arrays here', use the ```np.save(<filepath/filename>,allow_pickle=False)``` function."
   ]
  },
  {
   "cell_type": "code",
   "execution_count": 10,
   "metadata": {},
   "outputs": [],
   "source": [
    "# %matplotlib qt\n",
    "\n",
    "# hfig = plt.figure(figsize = (5,8))\n",
    "# ax = hfig.add_axes([0.2,0.2,0.7,0.7])\n",
    "\n",
    "# es_df = pd.DataFrame()\n",
    "\n",
    "# #### interactive select SGC ES response onset and peak; save as numpy\n",
    "\n",
    "# ax.cla()\n",
    "\n",
    "# which_cells = meta_df[meta_df['cell_type']=='s'].exptname.values\n",
    "\n",
    "# sweeps = []\n",
    "# sweepdur = 0.075\n",
    "# newdt = 1/10000\n",
    "# newsamp = int(sweepdur/newdt)\n",
    "# for cell in which_cells:\n",
    "#     sweep = signal.resample(cell_data[cell],newsamp)\n",
    "#     sweeps.append(sweep-sweep[0])\n",
    "# sweeps = np.asarray(sweeps).T\n",
    "# xtime = np.linspace(0,75,newsamp)\n",
    "\n",
    "# onset = []\n",
    "# peak = []\n",
    "# for sweep in sweeps.T:\n",
    "#     ax.cla()\n",
    "    \n",
    "#     ax.plot(xtime,sweep,color='black')\n",
    "#     ax.set_xlim(6,50)\n",
    "    \n",
    "#     x = np.asarray(hfig.ginput(n=-1,show_clicks=True))\n",
    "#     onset.append(x[1][0])\n",
    "#     peak.append(x[2][0])\n",
    "\n",
    "# peak = np.asarray(peak)\n",
    "# onset = np.asarray(onset)\n",
    "# ax.cla()\n",
    "\n",
    "# tdf = pd.DataFrame()\n",
    "# tdf['peakT'] = peak\n",
    "# tdf['onsetT'] = onset\n",
    "# tdf['gc_type'] = 's'\n",
    "\n",
    "# es_df = es_df.append(tdf)\n",
    "\n",
    "# #%% save numpy arrays here\n",
    "# #<hr> \n",
    "\n",
    "# #### interactive select DGC ES response onsets; save as numpy\n",
    "\n",
    "# which_cells = meta_df[meta_df['cell_type']=='d'].exptname.values\n",
    "\n",
    "# sweeps = []\n",
    "# sweepdur = 0.075\n",
    "# newdt = 1/10000\n",
    "# newsamp = int(sweepdur/newdt)\n",
    "# for cell in which_cells:\n",
    "#     sweep = signal.resample(cell_data[cell],newsamp)\n",
    "#     sweeps.append(sweep-sweep[0])\n",
    "# sweeps = np.asarray(sweeps).T\n",
    "# xtime = np.linspace(0,75,newsamp)\n",
    "\n",
    "# onset = []\n",
    "# peak = []\n",
    "# for sweep in sweeps.T:\n",
    "#     ax.cla()\n",
    "    \n",
    "#     ax.plot(xtime,sweep,color='black')\n",
    "#     ax.set_xlim(6,50)\n",
    "    \n",
    "#     x = np.asarray(hfig.ginput(n=-1,show_clicks=True))\n",
    "#     onset.append(x[1][0])\n",
    "#     peak.append(x[2][0])\n",
    "\n",
    "# peak = np.asarray(peak)\n",
    "# onset = np.asarray(onset)\n",
    "# ax.cla()\n",
    "\n",
    "\n",
    "# tdf = pd.DataFrame()\n",
    "# tdf['peakT'] = peak\n",
    "# tdf['onsetT'] = onset\n",
    "# tdf['gc_type'] = 'd'\n",
    "\n",
    "# es_df = es_df.append(tdf)\n",
    "\n",
    "# #%% save numpy arrays here\n",
    "# #<hr> \n",
    "\n",
    "# es_df['rise_time'] = es_df['peakT'] - es_df['onsetT']\n",
    "\n",
    "# print('time from onset to peak by cell type:')\n",
    "# display(es_df.groupby('gc_type')['rise_time'].describe())\n",
    "\n",
    "# print('peak time by cell type:')\n",
    "# display(es_df.groupby('gc_type')['peakT'].describe())\n",
    "\n",
    "# print('onset time by cell type:')\n",
    "# display(es_df.groupby('gc_type')['onsetT'].describe())\n",
    "\n",
    "# hfig = plt.figure(figsize = (5,8))\n",
    "# ax = hfig.add_axes([0.2,0.2,0.7,0.7])\n",
    "\n",
    "# #### interactive select SGC ES response onsets and resize response wavs from raw data to overlay and average\n",
    "# #> saved as numpy without _T\n",
    "\n",
    "# which_cells = meta_df[meta_df['cell_type']=='s'].exptname.values\n",
    "\n",
    "# sweeps = []\n",
    "# sweepdur = 0.075\n",
    "# newdt = 1/10000\n",
    "# newsamp = int(sweepdur/newdt)\n",
    "# for cell in which_cells:\n",
    "#     sweep = signal.resample(cell_data[cell],newsamp)\n",
    "#     sweeps.append(sweep-sweep[0])\n",
    "# sweeps.append(np.zeros(newsamp))\n",
    "# sweeps = np.asarray(sweeps).T\n",
    "# xtime = np.linspace(0,75,newsamp)\n",
    "\n",
    "# onset = []\n",
    "# for sweep in sweeps.T:\n",
    "#     ax.cla()\n",
    "    \n",
    "#     ax.plot(xtime,sweep,color='black')\n",
    "#     ax.set_xlim(6,20)\n",
    "    \n",
    "#     x = np.asarray(hfig.ginput())\n",
    "#     onset.append(x[0][0])\n",
    "# #     print(x[0][0])\n",
    "\n",
    "# ax.cla()\n",
    "# sweeps_clip = []\n",
    "# offsetT = -2\n",
    "# x_clip = np.linspace(offsetT,50,int(50/1000/newdt)-int(offsetT/1000/newdt))\n",
    "# for o,sweep in zip(onset[1:],sweeps[:,0:-1].T):\n",
    "#     onsetind = int(o/1000/newdt)\n",
    "#     startind = onsetind + int((offsetT)/1000/newdt)\n",
    "#     stopind = onsetind + int((50)/1000/newdt)\n",
    "#     sweeps_clip.append(sweep[startind:stopind])\n",
    "#     ax.plot(x_clip,sweep[startind:stopind])\n",
    "# sweeps_clip = np.asarray(sweeps_clip).T\n",
    "# # ax.set_xlim()\n",
    "\n",
    "\n",
    "# #%% save numpy arrays here\n",
    "# #<hr> \n",
    "\n",
    "# #### interactive select DGC ES response onsets  and resize response wavs from raw data to overlay and average\n",
    "# #> saved as numpy without _T\n",
    "\n",
    "# # which_cells = cell_meta_df[cell_meta_df['type']=='s'].index\n",
    "# which_cells = meta_df[meta_df['cell_type']=='s'].exptname.values\n",
    "\n",
    "# sweeps = []\n",
    "# sweepdur = 0.075\n",
    "# newdt = 1/10000\n",
    "# newsamp = int(sweepdur/newdt)\n",
    "# for cell in which_cells:\n",
    "#     sweep = signal.resample(cell_data[cell],newsamp)\n",
    "#     sweeps.append(sweep-sweep[0])\n",
    "# sweeps.append(np.zeros(newsamp))\n",
    "# sweeps = np.asarray(sweeps).T\n",
    "# xtime = np.linspace(0,75,newsamp)\n",
    "\n",
    "# onset = []\n",
    "# for sweep in sweeps.T:\n",
    "#     ax.cla()\n",
    "    \n",
    "#     ax.plot(xtime,sweep,color='black')\n",
    "#     ax.set_xlim(6,20)\n",
    "    \n",
    "#     x = np.asarray(hfig.ginput())\n",
    "#     onset.append(x[0][0])\n",
    "# #     print(x[0][0])\n",
    "\n",
    "# ax.cla()\n",
    "# sweeps_clip = []\n",
    "# offsetT = -2\n",
    "# x_clip = np.linspace(offsetT,50,int(50/1000/newdt)-int(offsetT/1000/newdt))\n",
    "# for o,sweep in zip(onset[1:],sweeps[:,0:-1].T):\n",
    "#     onsetind = int(o/1000/newdt)\n",
    "#     startind = onsetind + int((offsetT)/1000/newdt)\n",
    "#     stopind = onsetind + int((50)/1000/newdt)\n",
    "#     sweeps_clip.append(sweep[startind:stopind])\n",
    "#     ax.plot(x_clip,sweep[startind:stopind])\n",
    "# sweeps_clip = np.asarray(sweeps_clip).T\n",
    "# # ax.set_xlim()\n",
    "\n",
    "# #%% save numpy arrays here\n",
    "# #<hr> \n",
    "\n",
    "#### for DGC and then SGC, interactively choose region to fit exponential decay\n",
    "\n",
    "# which_cells = meta_df[meta_df['cell_type']=='d'].exptname.values\n",
    "\n",
    "# sweeps = []\n",
    "# sweepdur = 0.075\n",
    "# newdt = 1/10000\n",
    "# newsamp = int(sweepdur/newdt)\n",
    "# for cell in which_cells:\n",
    "#     sweep = signal.resample(cell_data[cell],newsamp)\n",
    "#     sweeps.append(sweep-sweep[0])\n",
    "# sweeps = np.asarray(sweeps).T\n",
    "# xtime = np.linspace(0,75,newsamp)\n",
    "\n",
    "\n",
    "# tau = []\n",
    "# for sweep in sweeps.T:\n",
    "#     ax.cla()\n",
    "    \n",
    "#     sweep = sweep-np.min(sweep[xtime>6])\n",
    "#     ax.plot(xtime,sweep,color='black')\n",
    "#     ax.set_xlim(6,50)\n",
    "    \n",
    "#     x = np.asarray(hfig.ginput(n=-1,show_clicks=True))\n",
    "#     t1 = x[1][0]\n",
    "#     t2 = x[2][0]\n",
    "#     s1 = np.min(np.where(xtime>=t1)[0])\n",
    "#     s2 = np.min(np.where(xtime>=t2)[0])\n",
    "#     popt, pcov = optimize.curve_fit(exponential, \n",
    "#                                 xtime[s1:s2]-t1, \n",
    "#                                 sweep[s1:s2],\n",
    "#                                 p0=[15,-0.05, 1])\n",
    "#     tau.append(-1/popt[1])\n",
    "\n",
    "# tau = np.asarray(tau)\n",
    "# ax.cla()\n",
    "\n",
    "\n",
    "# tau_df = pd.DataFrame({'tau' : tau})\n",
    "# tau_df['gc_type'] = 'd'\n",
    "\n",
    "# #save numpy arrays\n",
    "# #<hr>\n",
    "\n",
    "# which_cells = meta_df[meta_df['cell_type']=='s'].exptname.values\n",
    "\n",
    "# sweeps = []\n",
    "# sweepdur = 0.075\n",
    "# newdt = 1/10000\n",
    "# newsamp = int(sweepdur/newdt)\n",
    "# for cell in which_cells:\n",
    "#     sweep = signal.resample(cell_data[cell],newsamp)\n",
    "#     sweeps.append(sweep-sweep[0])\n",
    "# sweeps = np.asarray(sweeps).T\n",
    "# xtime = np.linspace(0,75,newsamp)\n",
    "\n",
    "\n",
    "# tau = []\n",
    "# for sweep in sweeps.T:\n",
    "#     ax.cla()\n",
    "    \n",
    "#     sweep = sweep-np.min(sweep[xtime>6])\n",
    "#     ax.plot(xtime,sweep,color='black')\n",
    "#     ax.set_xlim(6,75)\n",
    "    \n",
    "#     x = np.asarray(hfig.ginput(n=-1,show_clicks=True))\n",
    "#     t1 = x[1][0]\n",
    "#     t2 = x[2][0]\n",
    "#     s1 = np.min(np.where(xtime>=t1)[0])\n",
    "#     s2 = np.min(np.where(xtime>=t2)[0])\n",
    "#     try:\n",
    "#         popt, pcov = optimize.curve_fit(exponential, \n",
    "#                                     xtime[s1:s2]-t1, \n",
    "#                                     sweep[s1:s2],\n",
    "#                                     p0=[15,-0.05, 1])\n",
    "#         tau.append(-1/popt[1])\n",
    "#     except RuntimeError:\n",
    "#         tau.append(np.NaN)\n",
    "#         pass\n",
    "\n",
    "# tau = np.asarray(tau)\n",
    "# ax.cla()\n",
    "\n",
    "\n",
    "# tau_df_s = pd.DataFrame({'tau' : tau})\n",
    "# tau_df_s['gc_type']='s'\n",
    "\n",
    "# #save numpy arrays\n",
    "# #<hr>\n",
    "\n",
    "# tau_df = tau_df.append(tau_df_s)\n",
    "# tau_df.groupby('gc_type').describe()\n",
    "\n",
    "#### close figure and return to inline plotting\n",
    "\n",
    "# plt.close(hfig)\n",
    "\n",
    "# %matplotlib inline"
   ]
  },
  {
   "cell_type": "markdown",
   "metadata": {},
   "source": [
    "## example cell responses"
   ]
  },
  {
   "cell_type": "markdown",
   "metadata": {},
   "source": [
    "### example DGC 20200607_005"
   ]
  },
  {
   "cell_type": "code",
   "execution_count": 12,
   "metadata": {},
   "outputs": [
    {
     "name": "stdout",
     "output_type": "stream",
     "text": [
      "/Users/kperks/mnt/OneDrive - wesleyan.edu/Research/Manuscripts/GRC_PerksSawtell/AcceptedRevision_CellReports/data_raw/20200607_005.smr\n"
     ]
    },
    {
     "data": {
      "image/png": "[encoded data removed]",
      "text/plain": [
       "<Figure size 108x108 with 1 Axes>"
      ]
     },
     "metadata": {},
     "output_type": "display_data"
    },
    {
     "data": {
      "image/png": "[encoded data removed]",
      "text/plain": [
       "<Figure size 108x108 with 1 Axes>"
      ]
     },
     "metadata": {},
     "output_type": "display_data"
    }
   ],
   "source": [
    "exptname = '20200607_005'\n",
    "expt = AmpShift_Stable()\n",
    "expt.load_expt(exptname, data_folder)\n",
    "\n",
    "expt.set_amps(11,[-40,-30,-20,-10,-5,0,5,10,20,30,40])\n",
    "expt.set_channels('CmdTrig','lowgain','spikes','SIU','DigMark')\n",
    "\n",
    "bout_uc = [expt.get_bout_win('R','Keyboard')[0],\n",
    "           expt.get_bout_win('R','Keyboard')[1]]\n",
    "\n",
    "sweepdur = 0.03\n",
    "marker_df = expt.get_marker_table() #access with : getattr(expt,'marker_df')\n",
    "CmdTrig = expt.get_events('CmdTrig')\n",
    "\n",
    "bout_df = expt.filter_marker_df_time(marker_df,bout_uc)\n",
    "trial_df = expt.filter_marker_df_code(bout_df,['T'])\n",
    "\n",
    "eventDur = 0.001\n",
    "xtime,event_sweeps = expt.get_sweepsmat('SIU',trial_df['time'].values,eventDur)\n",
    "event_Amp = np.asarray([np.max(sweep) for sweep in event_sweeps.T])\n",
    "\n",
    "base_df = expt.filter_marker_df_code(bout_df,['U'])\n",
    "xtime,event_sweeps = expt.get_sweepsmat('SIU',base_df['time'].values,eventDur)\n",
    "event_0_Amp = np.median(np.asarray([np.max(sweep) for sweep in event_sweeps.T]))\n",
    "\n",
    "ampshift = np.asarray([np.round(((A/event_0_Amp)*100)-100) for A in event_Amp]).reshape(-1, 1)\n",
    "\n",
    "trial_df.insert(np.shape(trial_df)[1],'ampshift',ampshift)\n",
    "\n",
    "hfig,ax = create_fig()\n",
    "colinds = plt.cm.plasma(np.linspace(0.2,0.85,11))\n",
    "theseT = trial_df[trial_df['ampshift']==-40].time.values - 0.005\n",
    "xtime, R = expt.get_sweepsmat('lowgain',theseT,sweepdur = 0.05)\n",
    "R = R + Vm_offset[exptname]\n",
    "ax.plot(xtime,R[:,-3:],color = 'black',lw = 0.5,label='low stimulus amp')\n",
    "theseT = trial_df[trial_df['ampshift']==0].time.values - 0.005\n",
    "xtime, R = expt.get_sweepsmat('lowgain',theseT,sweepdur = 0.05)\n",
    "R = R + Vm_offset[exptname]\n",
    "ax.plot(xtime,R[:,-3:],color = colinds[5],lw = 0.5,label='baseline stimulus amp')\n",
    "ax.set_xlim(0,50)\n",
    "ax.set_ylim(-65,-25)\n",
    "# ax.set_xlabel('msec')\n",
    "# ax.set_ylabel('mV')\n",
    "ax.set_xticks([0,10])\n",
    "ax.set_yticks([np.round(np.median(R[0,:]),1),-50,-40])\n",
    "ax.vlines(4.5,-65,-60)\n",
    "\n",
    "figsave(figure_folder,'Fig1_dGRC_es')\n",
    "\n",
    "# cmd response for this cell\n",
    "bout_df = expt.filter_marker_df_time(marker_df,bout_uc)\n",
    "trial_df = expt.filter_marker_df_code(bout_df,['B'])\n",
    "\n",
    "hfig,ax = create_fig()\n",
    "theseT = trial_df.time.values - 0.0005\n",
    "xtime, R = expt.get_sweepsmat('lowgain',theseT,sweepdur = 0.05)\n",
    "R = R + Vm_offset[exptname]\n",
    "ax.plot(xtime,R[:,-3:],color = [0.302, 0.675, 0.149],lw = 0.5)\n",
    "ax.set_xlim(0,50)\n",
    "ax.set_ylim(-67,-45)\n",
    "# ax.set_xlabel('msec')\n",
    "# ax.set_ylabel('mV')\n",
    "ax.set_xticks([0,10])\n",
    "ax.set_yticks([np.round(np.median(R[0,:]),1),-55,-45])\n",
    "ax.vlines(0.5,-65,-60)\n",
    "\n",
    "figsave(figure_folder,'Fig1_dGRC_cmd_inhib')"
   ]
  },
  {
   "cell_type": "markdown",
   "metadata": {},
   "source": [
    "### example DGC cell 20200606_005"
   ]
  },
  {
   "cell_type": "code",
   "execution_count": 13,
   "metadata": {},
   "outputs": [
    {
     "name": "stdout",
     "output_type": "stream",
     "text": [
      "/Users/kperks/mnt/OneDrive - wesleyan.edu/Research/Manuscripts/GRC_PerksSawtell/AcceptedRevision_CellReports/data_raw/20200606_005.smr\n"
     ]
    },
    {
     "data": {
      "image/png": "[encoded data removed]",
      "text/plain": [
       "<Figure size 108x108 with 1 Axes>"
      ]
     },
     "metadata": {},
     "output_type": "display_data"
    }
   ],
   "source": [
    "# example cell\n",
    "exptname = '20200606_005' \n",
    "stimamp = -20\n",
    "\n",
    "expt = AmpShift_Stable()\n",
    "expt.load_expt(exptname, data_folder)\n",
    "\n",
    "expt.set_amps(11,[-40,-30,-20,-10,-5,0,5,10,20,30,40])\n",
    "expt.set_channels('CmdTrig','lowgain','spikes','SIU','DigMark')\n",
    "\n",
    "marker_df = expt.get_marker_table() #access with : getattr(expt,'marker_df')\n",
    "\n",
    "# get stimulus amplitude for each trial\n",
    "eventDur = 0.001\n",
    "sweepdur = 0.05\n",
    "\n",
    "bout = [expt.get_bout_win(\"R\",\"Keyboard\")[1]]\n",
    "bout_df = expt.filter_marker_df_time(marker_df,bout)\n",
    "trial_df = expt.filter_marker_df_code(bout_df,['T'])\n",
    "\n",
    "xtime,event_sweeps = expt.get_sweepsmat('SIU',trial_df['time'].values,eventDur)\n",
    "event_Amp = np.asarray([np.max(sweep) for sweep in event_sweeps.T])\n",
    "\n",
    "base_df = expt.filter_marker_df_code(bout_df,['U'])\n",
    "xtime,event_sweeps = expt.get_sweepsmat('SIU',base_df['time'].values,eventDur)\n",
    "event_0_Amp = np.median(np.asarray([np.max(sweep) for sweep in event_sweeps.T]))\n",
    "\n",
    "ampshift = np.asarray([np.round(((A/event_0_Amp)*100)-100) for A in event_Amp]).reshape(-1, 1)\n",
    "trial_df.insert(np.shape(trial_df)[1],'ampshift',ampshift)\n",
    "\n",
    "trialT = trial_df[trial_df['ampshift']==stimamp].time.values - 0.005\n",
    "xtime,sweeps = expt.get_sweepsmat('lowgain',trialT,sweepdur)\n",
    "\n",
    "hfig,ax = create_fig()\n",
    "\n",
    "plt.plot(xtime,sweeps[:,0:4]-sweeps[0,0:4],color = 'lightgray',lw = 0.5)\n",
    "plt.plot(xtime,sweeps[:,5:7]-sweeps[0,5:7],color = 'gray',lw = 0.5)\n",
    "plt.plot(xtime,sweeps[:,4]-sweeps[0,4],color = 'black',lw = 0.5)\n",
    "# ax.set_xlabel('msec')\n",
    "# ax.set_ylabel('mV')\n",
    "ax.set_ylim(-5,35)\n",
    "ax.set_xticks([0,10])\n",
    "ax.set_yticks([10,20])\n",
    "ax.vlines(4.5,-65,-60)\n",
    "\n",
    "figsave(figure_folder,'Fig1_dGRC_es_inhib')"
   ]
  },
  {
   "cell_type": "markdown",
   "metadata": {},
   "source": [
    "### example SGC cell 20170502_002; ES no spikes"
   ]
  },
  {
   "cell_type": "code",
   "execution_count": 14,
   "metadata": {},
   "outputs": [
    {
     "name": "stdout",
     "output_type": "stream",
     "text": [
      "/Users/kperks/mnt/OneDrive - wesleyan.edu/Research/Manuscripts/GRC_PerksSawtell/AcceptedRevision_CellReports/data_raw/20170502_002.smr\n"
     ]
    },
    {
     "data": {
      "image/png": "[encoded data removed]",
      "text/plain": [
       "<Figure size 108x108 with 1 Axes>"
      ]
     },
     "metadata": {},
     "output_type": "display_data"
    }
   ],
   "source": [
    "exptname = '20170502_002'\n",
    "\n",
    "expt = AmpShift_Stable()\n",
    "expt.load_expt(exptname, data_folder)\n",
    "expt.set_channels('CmdTrig','lowgain','spikes','SIU','DigMark')\n",
    "\n",
    "marker_df = expt.get_marker_table()\n",
    "dt = expt.get_dt('lowgain')\n",
    "\n",
    "bout = [expt.get_bout_win('U','Keyboard')[0]]\n",
    "bout_df = expt.filter_marker_df_time(marker_df,bout)\n",
    "u_df = expt.filter_marker_df_code(bout_df,['E'])\n",
    "u_t = u_df.time.values - 0.0003 - 0.005\n",
    "\n",
    "hfig,ax = create_fig()\n",
    "xtime, R = expt.get_sweepsmat('lowgain',u_t,sweepdur = 0.05)\n",
    "R = R + Vm_offset[exptname]\n",
    "colinds = plt.cm.plasma(np.linspace(0.2,0.85,11))\n",
    "ax.plot(xtime,R[:,-4:-2],color = colinds[5],lw = 0.5);\n",
    "ax.plot(xtime,R[:,-1],color = colinds[5],lw = 0.5);\n",
    "ax.set_xlim(0,50)\n",
    "ax.set_ylim(-65,-45)\n",
    "# ax.set_xlabel('msec')\n",
    "# ax.set_ylabel('mV')\n",
    "ax.set_xticks([0,10])\n",
    "ax.set_yticks([np.median(R[0,:]),-60,-50])\n",
    "ax.vlines(4.5,-65,-60)\n",
    "\n",
    "figsave(figure_folder,'Fig1_sGRC_es_50ms')"
   ]
  },
  {
   "cell_type": "markdown",
   "metadata": {},
   "source": [
    "### example SGC cell 20200524_002; ES spikes"
   ]
  },
  {
   "cell_type": "code",
   "execution_count": 16,
   "metadata": {},
   "outputs": [
    {
     "name": "stdout",
     "output_type": "stream",
     "text": [
      "/Users/kperks/mnt/OneDrive - wesleyan.edu/Research/Manuscripts/GRC_PerksSawtell/AcceptedRevision_CellReports/data_raw/20200524_002.smr\n"
     ]
    },
    {
     "data": {
      "image/png": "[encoded data removed]",
      "text/plain": [
       "<Figure size 108x108 with 1 Axes>"
      ]
     },
     "metadata": {},
     "output_type": "display_data"
    }
   ],
   "source": [
    "exptname = '20200524_002'\n",
    "\n",
    "expt = AmpShift_Stable()\n",
    "expt.load_expt(exptname, data_folder)\n",
    "expt.set_channels('CmdTrig','lowgain','spikes','SIU','DigMark')\n",
    "\n",
    "marker_df = expt.get_marker_table()\n",
    "dt = expt.get_dt('lowgain')\n",
    "\n",
    "bout = [expt.get_bout_win('R','Keyboard')[0],\n",
    "           expt.get_bout_win('N','Keyboard')[0]]\n",
    "bout_df = expt.filter_marker_df_time(marker_df,bout)\n",
    "base_df = expt.filter_marker_df_code(bout_df,['U'])\n",
    "\n",
    "hfig,ax = create_fig()\n",
    "xtime, R = expt.get_sweepsmat('lowgain',base_df.time.values,sweepdur = 0.05)\n",
    "R = R + Vm_offset[exptname]\n",
    "ax.plot(xtime,R[:,-3:],color = 'green',lw = 0.5);\n",
    "ax.set_xlim(0,50)\n",
    "ax.set_ylim(-65,-25)\n",
    "ax.set_xlabel('msec',labelpad = 0)\n",
    "ax.set_ylabel('mV',labelpad = 0)\n",
    "\n",
    "figsave(figure_folder,'Fig1_sGRC_es_spikes')"
   ]
  },
  {
   "cell_type": "markdown",
   "metadata": {},
   "source": [
    "### example SGC cell 20180108_004; CD"
   ]
  },
  {
   "cell_type": "code",
   "execution_count": 17,
   "metadata": {},
   "outputs": [
    {
     "name": "stdout",
     "output_type": "stream",
     "text": [
      "/Users/kperks/mnt/OneDrive - wesleyan.edu/Research/Manuscripts/GRC_PerksSawtell/AcceptedRevision_CellReports/data_raw/20180108_004.smr\n"
     ]
    },
    {
     "data": {
      "image/png": "[encoded data removed]",
      "text/plain": [
       "<Figure size 108x108 with 1 Axes>"
      ]
     },
     "metadata": {},
     "output_type": "display_data"
    }
   ],
   "source": [
    "exptname = '20180108_004'\n",
    "\n",
    "expt = AmpShift_Stable()\n",
    "expt.load_expt(exptname, data_folder)\n",
    "expt.set_channels('CmdTrig','lowgain','spikes','SIU','DigMark')\n",
    "\n",
    "marker_df = expt.get_marker_table()\n",
    "dt = expt.get_dt('lowgain')\n",
    "\n",
    "bout = [expt.get_bout_win('U','Keyboard')[0],expt.get_bout_win('B','Keyboard')[0]]\n",
    "bout_df = expt.filter_marker_df_time(marker_df,bout)\n",
    "b_df = expt.filter_marker_df_code(bout_df,['B'])\n",
    "theseT = b_df.time.values - 0.0005\n",
    "\n",
    "hfig,ax = create_fig()\n",
    "xtime, R = expt.get_sweepsmat('lowgain',theseT,sweepdur = 0.05)\n",
    "R = R + Vm_offset[exptname]\n",
    "ax.plot(xtime,R[:,-3:],color = [0.302, 0.675, 0.149],lw = 0.5)\n",
    "ax.set_xlim(0,50)\n",
    "ax.set_ylim(-67,-45)\n",
    "# ax.set_xlabel('msec')\n",
    "# ax.set_ylabel('mV')\n",
    "ax.set_xticks([0,10])\n",
    "ax.set_yticks([np.round(np.median(R[0,:]),1),-55,-45])\n",
    "ax.vlines(0.5,-65,-60)\n",
    "\n",
    "figsave(figure_folder,'Fig1_sGRC_cmd')"
   ]
  },
  {
   "cell_type": "markdown",
   "metadata": {},
   "source": [
    "### example SGC cell 20200524_002; CD bias Vm"
   ]
  },
  {
   "cell_type": "code",
   "execution_count": 18,
   "metadata": {},
   "outputs": [
    {
     "name": "stdout",
     "output_type": "stream",
     "text": [
      "/Users/kperks/mnt/OneDrive - wesleyan.edu/Research/Manuscripts/GRC_PerksSawtell/AcceptedRevision_CellReports/data_raw/20200524_002.smr\n",
      "-44.73877\n",
      "-89.06555\n"
     ]
    },
    {
     "data": {
      "image/png": "[encoded data removed]",
      "text/plain": [
       "<Figure size 108x108 with 1 Axes>"
      ]
     },
     "metadata": {},
     "output_type": "display_data"
    }
   ],
   "source": [
    "exptname = '20200524_002'\n",
    "expt = AmpShift_Stable()\n",
    "expt.load_expt(exptname, data_folder)\n",
    "\n",
    "expt.set_amps(11,[-40,-30,-20,-10,-5,0,5,10,20,30,40])\n",
    "expt.set_channels('CmdTrig','lowgain','spikes','SIU','DigMark')\n",
    "\n",
    "sweepdur = 0.1\n",
    "marker_df = expt.get_marker_table() \n",
    "\n",
    "hfig,ax = create_fig()\n",
    "# ax.set_ylabel('mV')\n",
    "# ax.set_xlabel('msec')\n",
    "\n",
    "##cmd\n",
    "bout = [expt.get_bout_win('B','Keyboard')[1]]\n",
    "bout_df = expt.filter_marker_df_time(marker_df,bout)\n",
    "trial_df = expt.filter_marker_df_code(bout_df,['B'])\n",
    "xtime, sweeps = expt.get_sweepsmat('lowgain',trial_df.time.values - 0.0005,sweepdur)\n",
    "ax.plot(xtime,np.median(sweeps,1)-np.median(sweeps,1)[0],color = 'black',lw = 0.5);\n",
    "print(np.median(sweeps,1)[0])\n",
    "\n",
    "bout = [expt.get_bout_win('B','Keyboard')[2]]\n",
    "bout_df = expt.filter_marker_df_time(marker_df,bout)\n",
    "trial_df = expt.filter_marker_df_code(bout_df,['B'])\n",
    "xtime, sweeps = expt.get_sweepsmat('lowgain',trial_df.time.values - 0.0005,sweepdur)\n",
    "ax.plot(xtime,np.median(sweeps,1)-np.median(sweeps,1)[0],color = 'gray',lw = 0.5);\n",
    "print(np.median(sweeps,1)[0])\n",
    "\n",
    "ax.set_xlim(0,100)\n",
    "ax.set_ylim(-12,-10)\n",
    "# ax.set_xlabel('msec')\n",
    "# ax.set_ylabel('mV')\n",
    "ax.set_xticks([0,10])\n",
    "ax.set_yticks([5,10])\n",
    "ax.vlines(0.5,-5,-1)\n",
    "# plt.legend(bbox_to_anchor=[1,1])\n",
    "\n",
    "\n",
    "\n",
    "figsave(figure_folder,'Fig1_sGRC_cmd_hyperpol')"
   ]
  },
  {
   "cell_type": "markdown",
   "metadata": {},
   "source": [
    "### example DGC cell 20191218_009; CD"
   ]
  },
  {
   "cell_type": "code",
   "execution_count": 19,
   "metadata": {},
   "outputs": [
    {
     "name": "stdout",
     "output_type": "stream",
     "text": [
      "/Users/kperks/mnt/OneDrive - wesleyan.edu/Research/Manuscripts/GRC_PerksSawtell/AcceptedRevision_CellReports/data_raw/20191218_009.smr\n"
     ]
    },
    {
     "data": {
      "image/png": "[encoded data removed]",
      "text/plain": [
       "<Figure size 108x108 with 1 Axes>"
      ]
     },
     "metadata": {},
     "output_type": "display_data"
    }
   ],
   "source": [
    "exptname = '20191218_009'\n",
    "\n",
    "expt = AmpShift_Stable()\n",
    "expt.load_expt(exptname, data_folder)\n",
    "expt.set_channels('CmdTrig','lowgain','spikes','SIU','DigMark')\n",
    "\n",
    "marker_df = expt.get_marker_table()\n",
    "dt = expt.get_dt('lowgain')\n",
    "\n",
    "bout = [expt.get_bout_win('U','Keyboard')[0],expt.get_bout_win('B','Keyboard')[0]]\n",
    "bout_df = expt.filter_marker_df_time(marker_df,bout)\n",
    "b_df = expt.filter_marker_df_code(bout_df,['B'])\n",
    "theseT = b_df.time.values - 0.0005\n",
    "\n",
    "hfig,ax = create_fig()\n",
    "xtime, R = expt.get_sweepsmat('lowgain',theseT,sweepdur = 0.05)\n",
    "R = R + Vm_offset[exptname]\n",
    "ax.plot(xtime,R[:,-3:],color = [0.302, 0.675, 0.149],lw = 0.5)\n",
    "ax.set_xlim(0,50)\n",
    "ax.set_ylim(-67,-45)\n",
    "# ax.set_xlabel('msec')\n",
    "# ax.set_ylabel('mV')\n",
    "ax.set_xticks([0,10])\n",
    "ax.set_yticks([np.round(np.median(R[0,-3:]),1),-55,-45])\n",
    "ax.vlines(0.5,-65,-60)\n",
    "\n",
    "figsave(figure_folder,'Fig1_dGRC_cmd')"
   ]
  },
  {
   "cell_type": "markdown",
   "metadata": {},
   "source": [
    "## prevent edge effects when resample by appending reversed signal\n",
    "https://medium.com/analytics-vidhya/edge-effects-when-resampling-a-signal-on-matlab-how-to-solve-it-cc6458ab1306"
   ]
  },
  {
   "cell_type": "markdown",
   "metadata": {},
   "source": [
    "## uncoupled population average"
   ]
  },
  {
   "cell_type": "markdown",
   "metadata": {},
   "source": [
    "### load GC npy arrays and plot mean/sem"
   ]
  },
  {
   "cell_type": "code",
   "execution_count": 20,
   "metadata": {},
   "outputs": [],
   "source": [
    "dgrc_sweeps_clip = np.load(meta_data_folder / 'uncoupled_response_pop_dgrc_sweeps_clip.npy')\n",
    "sgrc_sweeps_clip = np.load(meta_data_folder / 'uncoupled_response_pop_sgrc_sweeps_clip.npy')\n",
    "newdt = 1/10000\n",
    "offsetT = -2 #in order to average, responses are aligned to response onset (not to stimulus time)\n",
    "    # offset T is the pre-response time to plot\n",
    "x_clip = np.linspace(offsetT,50,int(50/1000/newdt)-int(offsetT/1000/newdt))"
   ]
  },
  {
   "cell_type": "markdown",
   "metadata": {},
   "source": [
    "### plot average uncoupled responses\n",
    "> they are aligned to response onset. adjust x axis to start 7 ms before response onset (pre CD plot win (0.5ms) + cmd->EOD delay (4.5ms) + short aff latency (2ms))"
   ]
  },
  {
   "cell_type": "code",
   "execution_count": 21,
   "metadata": {},
   "outputs": [
    {
     "data": {
      "image/png": "[encoded data removed]",
      "text/plain": [
       "<Figure size 108x108 with 1 Axes>"
      ]
     },
     "metadata": {},
     "output_type": "display_data"
    }
   ],
   "source": [
    "hfig,ax = create_fig()\n",
    "\n",
    "ax.plot(x_clip,np.mean(sgrc_sweeps_clip,1),color = sns.xkcd_rgb['icky green'],lw = 1)\n",
    "ax.fill_between(x_clip,\n",
    "                np.mean(sgrc_sweeps_clip,1)-stats.sem(sgrc_sweeps_clip,1),\n",
    "                np.mean(sgrc_sweeps_clip,1)+stats.sem(sgrc_sweeps_clip,1),\n",
    "               facecolor=sns.xkcd_rgb['icky green'],edgecolor='None',alpha=0.3)\n",
    "\n",
    "ax.plot(x_clip,np.mean(dgrc_sweeps_clip,1),color = sns.xkcd_rgb['teal blue'],lw = 1)\n",
    "ax.fill_between(x_clip,\n",
    "                np.mean(dgrc_sweeps_clip,1)-stats.sem(dgrc_sweeps_clip,1),\n",
    "                np.mean(dgrc_sweeps_clip,1)+stats.sem(dgrc_sweeps_clip,1),\n",
    "               facecolor=sns.xkcd_rgb['teal blue'],edgecolor='None',alpha=0.3)\n",
    "\n",
    "# ax.vlines(0,1,4,color = 'black')\n",
    "sns.despine(hfig)\n",
    "ax.set_xticks(np.arange(0,55,10))\n",
    "# ax.set_xticks([0,10])\n",
    "ax.set_yticks([5,10])\n",
    "ax.set_frame_on(True)\n",
    "yax = ax.spines[\"left\"]\n",
    "yax.set_visible(False)\n",
    "ax.set_xlabel('ms')\n",
    "ax.set_xlim(-7,50)\n",
    "ax.vlines(-2,0,5)\n",
    "figsave(figure_folder,'Fig1_GRC_ES_popmean')"
   ]
  },
  {
   "cell_type": "markdown",
   "metadata": {},
   "source": [
    "### use pre-saved numpy arrays to get peak times for GCs"
   ]
  },
  {
   "cell_type": "code",
   "execution_count": 22,
   "metadata": {},
   "outputs": [
    {
     "name": "stdout",
     "output_type": "stream",
     "text": [
      "time from onset to peak by cell type:\n"
     ]
    },
    {
     "data": {
      "text/html": [
       "<div>\n",
       "<style scoped>\n",
       "    .dataframe tbody tr th:only-of-type {\n",
       "        vertical-align: middle;\n",
       "    }\n",
       "\n",
       "    .dataframe tbody tr th {\n",
       "        vertical-align: top;\n",
       "    }\n",
       "\n",
       "    .dataframe thead th {\n",
       "        text-align: right;\n",
       "    }\n",
       "</style>\n",
       "<table border=\"1\" class=\"dataframe\">\n",
       "  <thead>\n",
       "    <tr style=\"text-align: right;\">\n",
       "      <th></th>\n",
       "      <th>count</th>\n",
       "      <th>mean</th>\n",
       "      <th>std</th>\n",
       "      <th>min</th>\n",
       "      <th>25%</th>\n",
       "      <th>50%</th>\n",
       "      <th>75%</th>\n",
       "      <th>max</th>\n",
       "    </tr>\n",
       "    <tr>\n",
       "      <th>gc_type</th>\n",
       "      <th></th>\n",
       "      <th></th>\n",
       "      <th></th>\n",
       "      <th></th>\n",
       "      <th></th>\n",
       "      <th></th>\n",
       "      <th></th>\n",
       "      <th></th>\n",
       "    </tr>\n",
       "  </thead>\n",
       "  <tbody>\n",
       "    <tr>\n",
       "      <th>d</th>\n",
       "      <td>24.0</td>\n",
       "      <td>2.545714</td>\n",
       "      <td>1.038157</td>\n",
       "      <td>1.005714</td>\n",
       "      <td>1.854286</td>\n",
       "      <td>2.451429</td>\n",
       "      <td>3.205714</td>\n",
       "      <td>4.525714</td>\n",
       "    </tr>\n",
       "    <tr>\n",
       "      <th>s</th>\n",
       "      <td>18.0</td>\n",
       "      <td>11.013968</td>\n",
       "      <td>8.254134</td>\n",
       "      <td>3.017143</td>\n",
       "      <td>5.531429</td>\n",
       "      <td>8.925714</td>\n",
       "      <td>14.300000</td>\n",
       "      <td>38.217143</td>\n",
       "    </tr>\n",
       "  </tbody>\n",
       "</table>\n",
       "</div>"
      ],
      "text/plain": [
       "         count       mean       std       min       25%       50%        75%  \\\n",
       "gc_type                                                                        \n",
       "d         24.0   2.545714  1.038157  1.005714  1.854286  2.451429   3.205714   \n",
       "s         18.0  11.013968  8.254134  3.017143  5.531429  8.925714  14.300000   \n",
       "\n",
       "               max  \n",
       "gc_type             \n",
       "d         4.525714  \n",
       "s        38.217143  "
      ]
     },
     "metadata": {},
     "output_type": "display_data"
    },
    {
     "name": "stdout",
     "output_type": "stream",
     "text": [
      "peak time by cell type:\n"
     ]
    },
    {
     "data": {
      "text/html": [
       "<div>\n",
       "<style scoped>\n",
       "    .dataframe tbody tr th:only-of-type {\n",
       "        vertical-align: middle;\n",
       "    }\n",
       "\n",
       "    .dataframe tbody tr th {\n",
       "        vertical-align: top;\n",
       "    }\n",
       "\n",
       "    .dataframe thead th {\n",
       "        text-align: right;\n",
       "    }\n",
       "</style>\n",
       "<table border=\"1\" class=\"dataframe\">\n",
       "  <thead>\n",
       "    <tr style=\"text-align: right;\">\n",
       "      <th></th>\n",
       "      <th>count</th>\n",
       "      <th>mean</th>\n",
       "      <th>std</th>\n",
       "      <th>min</th>\n",
       "      <th>25%</th>\n",
       "      <th>50%</th>\n",
       "      <th>75%</th>\n",
       "      <th>max</th>\n",
       "    </tr>\n",
       "    <tr>\n",
       "      <th>gc_type</th>\n",
       "      <th></th>\n",
       "      <th></th>\n",
       "      <th></th>\n",
       "      <th></th>\n",
       "      <th></th>\n",
       "      <th></th>\n",
       "      <th></th>\n",
       "      <th></th>\n",
       "    </tr>\n",
       "  </thead>\n",
       "  <tbody>\n",
       "    <tr>\n",
       "      <th>d</th>\n",
       "      <td>24.0</td>\n",
       "      <td>10.530952</td>\n",
       "      <td>1.500570</td>\n",
       "      <td>7.885714</td>\n",
       "      <td>9.614286</td>\n",
       "      <td>10.148571</td>\n",
       "      <td>11.657143</td>\n",
       "      <td>13.040000</td>\n",
       "    </tr>\n",
       "    <tr>\n",
       "      <th>s</th>\n",
       "      <td>18.0</td>\n",
       "      <td>20.254603</td>\n",
       "      <td>8.864642</td>\n",
       "      <td>11.028571</td>\n",
       "      <td>14.642857</td>\n",
       "      <td>18.131429</td>\n",
       "      <td>23.977143</td>\n",
       "      <td>49.371429</td>\n",
       "    </tr>\n",
       "  </tbody>\n",
       "</table>\n",
       "</div>"
      ],
      "text/plain": [
       "         count       mean       std        min        25%        50%  \\\n",
       "gc_type                                                                \n",
       "d         24.0  10.530952  1.500570   7.885714   9.614286  10.148571   \n",
       "s         18.0  20.254603  8.864642  11.028571  14.642857  18.131429   \n",
       "\n",
       "               75%        max  \n",
       "gc_type                        \n",
       "d        11.657143  13.040000  \n",
       "s        23.977143  49.371429  "
      ]
     },
     "metadata": {},
     "output_type": "display_data"
    }
   ],
   "source": [
    "es_df = pd.DataFrame()\n",
    "\n",
    "onset = np.load(meta_data_folder / 'uncoupled_response_pop_dgrc_onsetT.npy')\n",
    "peak = np.load(meta_data_folder / 'uncoupled_response_pop_dgrc_peakT.npy')\n",
    "\n",
    "tdf = pd.DataFrame()\n",
    "tdf['peakT'] = peak\n",
    "tdf['onsetT'] = onset\n",
    "tdf['gc_type'] = 'd'\n",
    "\n",
    "es_df = es_df.append(tdf)\n",
    "\n",
    "onset = np.load(meta_data_folder / 'uncoupled_response_pop_sgrc_onsetT.npy')\n",
    "peak = np.load(meta_data_folder / 'uncoupled_response_pop_sgrc_peakT.npy')\n",
    "\n",
    "tdf = pd.DataFrame()\n",
    "tdf['peakT'] = peak\n",
    "tdf['onsetT'] = onset\n",
    "tdf['gc_type'] = 's'\n",
    "\n",
    "es_df = es_df.append(tdf)\n",
    "\n",
    "es_df['rise_time'] = es_df['peakT'] - es_df['onsetT']\n",
    "\n",
    "print('time from onset to peak by cell type:')\n",
    "display(es_df.groupby('gc_type')['rise_time'].describe())\n",
    "\n",
    "print('peak time by cell type:')\n",
    "display(es_df.groupby('gc_type')['peakT'].describe())"
   ]
  },
  {
   "cell_type": "code",
   "execution_count": 23,
   "metadata": {},
   "outputs": [
    {
     "name": "stdout",
     "output_type": "stream",
     "text": [
      "t(42)=-4.99, p=0.00002\n"
     ]
    }
   ],
   "source": [
    "r = stats.ttest_ind(es_df[es_df['gc_type']=='d']['rise_time'].values,\n",
    "                         es_df[es_df['gc_type']=='s']['rise_time'].values)\n",
    "\n",
    "print('t(%i)=%.2f, p=%0.4f2' %(24+18,r[0],r[1]))"
   ]
  },
  {
   "cell_type": "markdown",
   "metadata": {},
   "source": [
    "### load GC npy arrays and quantify response decay from peak (tau)"
   ]
  },
  {
   "cell_type": "code",
   "execution_count": 24,
   "metadata": {},
   "outputs": [
    {
     "data": {
      "text/html": [
       "<div>\n",
       "<style scoped>\n",
       "    .dataframe tbody tr th:only-of-type {\n",
       "        vertical-align: middle;\n",
       "    }\n",
       "\n",
       "    .dataframe tbody tr th {\n",
       "        vertical-align: top;\n",
       "    }\n",
       "\n",
       "    .dataframe thead tr th {\n",
       "        text-align: left;\n",
       "    }\n",
       "\n",
       "    .dataframe thead tr:last-of-type th {\n",
       "        text-align: right;\n",
       "    }\n",
       "</style>\n",
       "<table border=\"1\" class=\"dataframe\">\n",
       "  <thead>\n",
       "    <tr>\n",
       "      <th></th>\n",
       "      <th colspan=\"8\" halign=\"left\">tau</th>\n",
       "    </tr>\n",
       "    <tr>\n",
       "      <th></th>\n",
       "      <th>count</th>\n",
       "      <th>mean</th>\n",
       "      <th>std</th>\n",
       "      <th>min</th>\n",
       "      <th>25%</th>\n",
       "      <th>50%</th>\n",
       "      <th>75%</th>\n",
       "      <th>max</th>\n",
       "    </tr>\n",
       "    <tr>\n",
       "      <th>gc_type</th>\n",
       "      <th></th>\n",
       "      <th></th>\n",
       "      <th></th>\n",
       "      <th></th>\n",
       "      <th></th>\n",
       "      <th></th>\n",
       "      <th></th>\n",
       "      <th></th>\n",
       "    </tr>\n",
       "  </thead>\n",
       "  <tbody>\n",
       "    <tr>\n",
       "      <th>d</th>\n",
       "      <td>24.0</td>\n",
       "      <td>-0.557351</td>\n",
       "      <td>0.459854</td>\n",
       "      <td>-2.24805</td>\n",
       "      <td>-0.604222</td>\n",
       "      <td>-0.411738</td>\n",
       "      <td>-0.28700</td>\n",
       "      <td>-0.186772</td>\n",
       "    </tr>\n",
       "    <tr>\n",
       "      <th>s</th>\n",
       "      <td>17.0</td>\n",
       "      <td>-0.053115</td>\n",
       "      <td>0.032618</td>\n",
       "      <td>-0.11397</td>\n",
       "      <td>-0.074199</td>\n",
       "      <td>-0.050379</td>\n",
       "      <td>-0.02328</td>\n",
       "      <td>-0.008025</td>\n",
       "    </tr>\n",
       "  </tbody>\n",
       "</table>\n",
       "</div>"
      ],
      "text/plain": [
       "          tau                                                            \\\n",
       "        count      mean       std      min       25%       50%      75%   \n",
       "gc_type                                                                   \n",
       "d        24.0 -0.557351  0.459854 -2.24805 -0.604222 -0.411738 -0.28700   \n",
       "s        17.0 -0.053115  0.032618 -0.11397 -0.074199 -0.050379 -0.02328   \n",
       "\n",
       "                   \n",
       "              max  \n",
       "gc_type            \n",
       "d       -0.186772  \n",
       "s       -0.008025  "
      ]
     },
     "execution_count": 24,
     "metadata": {},
     "output_type": "execute_result"
    }
   ],
   "source": [
    "tau = np.load(meta_data_folder / 'uncoupled_response_pop_dgrc_tau.npy')\n",
    "tau_df_d = pd.DataFrame({'tau' : tau})\n",
    "tau_df_d['gc_type']='d'\n",
    "\n",
    "tau = np.load(meta_data_folder / 'uncoupled_response_pop_sgrc_tau.npy')\n",
    "tau_df_s = pd.DataFrame({'tau' : tau})\n",
    "tau_df_s['gc_type']='s'\n",
    "\n",
    "tau_df = tau_df_d.append(tau_df_s)\n",
    "\n",
    "tau_df.groupby('gc_type').describe()"
   ]
  },
  {
   "cell_type": "code",
   "execution_count": 25,
   "metadata": {},
   "outputs": [],
   "source": [
    "tau_df['tau'] = -1/tau_df['tau'].values"
   ]
  },
  {
   "cell_type": "code",
   "execution_count": 26,
   "metadata": {},
   "outputs": [
    {
     "data": {
      "text/html": [
       "<div>\n",
       "<style scoped>\n",
       "    .dataframe tbody tr th:only-of-type {\n",
       "        vertical-align: middle;\n",
       "    }\n",
       "\n",
       "    .dataframe tbody tr th {\n",
       "        vertical-align: top;\n",
       "    }\n",
       "\n",
       "    .dataframe thead tr th {\n",
       "        text-align: left;\n",
       "    }\n",
       "\n",
       "    .dataframe thead tr:last-of-type th {\n",
       "        text-align: right;\n",
       "    }\n",
       "</style>\n",
       "<table border=\"1\" class=\"dataframe\">\n",
       "  <thead>\n",
       "    <tr>\n",
       "      <th></th>\n",
       "      <th colspan=\"8\" halign=\"left\">tau</th>\n",
       "    </tr>\n",
       "    <tr>\n",
       "      <th></th>\n",
       "      <th>count</th>\n",
       "      <th>mean</th>\n",
       "      <th>std</th>\n",
       "      <th>min</th>\n",
       "      <th>25%</th>\n",
       "      <th>50%</th>\n",
       "      <th>75%</th>\n",
       "      <th>max</th>\n",
       "    </tr>\n",
       "    <tr>\n",
       "      <th>gc_type</th>\n",
       "      <th></th>\n",
       "      <th></th>\n",
       "      <th></th>\n",
       "      <th></th>\n",
       "      <th></th>\n",
       "      <th></th>\n",
       "      <th></th>\n",
       "      <th></th>\n",
       "    </tr>\n",
       "  </thead>\n",
       "  <tbody>\n",
       "    <tr>\n",
       "      <th>d</th>\n",
       "      <td>24.0</td>\n",
       "      <td>2.596467</td>\n",
       "      <td>1.311879</td>\n",
       "      <td>0.44483</td>\n",
       "      <td>1.658294</td>\n",
       "      <td>2.451680</td>\n",
       "      <td>3.493335</td>\n",
       "      <td>5.354123</td>\n",
       "    </tr>\n",
       "    <tr>\n",
       "      <th>s</th>\n",
       "      <td>17.0</td>\n",
       "      <td>33.271222</td>\n",
       "      <td>32.752129</td>\n",
       "      <td>8.77421</td>\n",
       "      <td>13.477320</td>\n",
       "      <td>19.849377</td>\n",
       "      <td>42.954976</td>\n",
       "      <td>124.613585</td>\n",
       "    </tr>\n",
       "  </tbody>\n",
       "</table>\n",
       "</div>"
      ],
      "text/plain": [
       "          tau                                                                  \\\n",
       "        count       mean        std      min        25%        50%        75%   \n",
       "gc_type                                                                         \n",
       "d        24.0   2.596467   1.311879  0.44483   1.658294   2.451680   3.493335   \n",
       "s        17.0  33.271222  32.752129  8.77421  13.477320  19.849377  42.954976   \n",
       "\n",
       "                     \n",
       "                max  \n",
       "gc_type              \n",
       "d          5.354123  \n",
       "s        124.613585  "
      ]
     },
     "execution_count": 26,
     "metadata": {},
     "output_type": "execute_result"
    }
   ],
   "source": [
    "tau_df.groupby('gc_type').describe()"
   ]
  },
  {
   "cell_type": "code",
   "execution_count": 27,
   "metadata": {},
   "outputs": [
    {
     "name": "stdout",
     "output_type": "stream",
     "text": [
      "t(42)=-4.61, p=0.00002\n"
     ]
    }
   ],
   "source": [
    "r = stats.ttest_ind(tau_df[tau_df['gc_type']=='d']['tau'].values,\n",
    "                         tau_df[tau_df['gc_type']=='s']['tau'].values, nan_policy='omit')\n",
    "\n",
    "\n",
    "print('t(%i)=%.2f, p=%0.4f2' %(24+18,r[0],r[1]))"
   ]
  },
  {
   "cell_type": "markdown",
   "metadata": {},
   "source": [
    "### load GC npy arrays and quantify response width at half height"
   ]
  },
  {
   "cell_type": "code",
   "execution_count": 28,
   "metadata": {},
   "outputs": [
    {
     "name": "stdout",
     "output_type": "stream",
     "text": [
      "half-width at half height\n",
      "\n",
      "DGC\n",
      "               0\n",
      "count  24.000000\n",
      "mean    3.586063\n",
      "std     1.671063\n",
      "min     1.001927\n",
      "25%     2.279383\n",
      "50%     3.506744\n",
      "75%     4.909441\n",
      "max     6.312139\n",
      "mean = 3.6ms; sem = 0.3ms; n = 24\n",
      "\n",
      "SGC\n",
      "               0\n",
      "count  18.000000\n",
      "mean   24.842218\n",
      "std    11.403622\n",
      "min     9.317919\n",
      "25%    15.655106\n",
      "50%    22.443160\n",
      "75%    32.913295\n",
      "max    46.088632\n",
      "mean = 24.8ms; sem = 2.7ms; n = 18\n",
      "\n",
      "t(42)=-9.04, p=0.00002\n"
     ]
    }
   ],
   "source": [
    "dgrc_sweeps_clip = np.load(meta_data_folder / 'uncoupled_response_pop_dgrc_sweeps_clip.npy')\n",
    "sgrc_sweeps_clip = np.load(meta_data_folder / 'uncoupled_response_pop_sgrc_sweeps_clip.npy')\n",
    "newdt = 1/10000\n",
    "offsetT = -2\n",
    "x_clip = np.linspace(offsetT,50,int(50/1000/newdt)-int(offsetT/1000/newdt))\n",
    "\n",
    "\n",
    "DGC_hwhh = []\n",
    "for sweep in dgrc_sweeps_clip.T:\n",
    "    peakmv = sweep[np.argmax(sweep)]\n",
    "    halfon = np.min(x_clip[sweep>peakmv/2])\n",
    "    halfoff = np.max(x_clip[sweep>peakmv/2])\n",
    "    DGC_hwhh.append(halfoff-halfon)\n",
    "DGC_hwhh = array(DGC_hwhh)\n",
    "\n",
    "SGC_hwhh = []\n",
    "for sweep in sgrc_sweeps_clip.T:\n",
    "    peakmv = sweep[np.argmax(sweep)]\n",
    "    halfon = np.min(x_clip[sweep>peakmv/2])\n",
    "    halfoff = np.max(x_clip[sweep>peakmv/2])\n",
    "    SGC_hwhh.append(halfoff-halfon)\n",
    "SGC_hwhh = array(SGC_hwhh)\n",
    "\n",
    "print('half-width at half height')\n",
    "print('')\n",
    "print('DGC')\n",
    "print(pd.DataFrame(DGC_hwhh).describe())\n",
    "print('mean = ' + str(np.round(np.mean(DGC_hwhh),1)) + 'ms; sem = ' \n",
    "     + str(np.round(stats.sem(DGC_hwhh),1)) + 'ms; n = ' + str(len(DGC_hwhh)))\n",
    "print('')\n",
    "print('SGC')\n",
    "print(pd.DataFrame(SGC_hwhh).describe())\n",
    "print('mean = ' + str(np.round(np.mean(SGC_hwhh),1)) + 'ms; sem = ' \n",
    "     + str(np.round(stats.sem(SGC_hwhh),1)) + 'ms; n = ' + str(len(SGC_hwhh)))\n",
    "\n",
    "r = stats.ttest_ind(DGC_hwhh,SGC_hwhh, nan_policy='omit')\n",
    "\n",
    "print('')\n",
    "print('t(%i)=%.2f, p=%0.4f2' %(24+18,r[0],r[1]))"
   ]
  },
  {
   "cell_type": "markdown",
   "metadata": {},
   "source": [
    "## CD population average"
   ]
  },
  {
   "cell_type": "markdown",
   "metadata": {},
   "source": [
    "### load SGC pickle data and create/save nmpy array"
   ]
  },
  {
   "cell_type": "code",
   "execution_count": 29,
   "metadata": {},
   "outputs": [],
   "source": [
    "# created in 'GRC_properties_Meta_ipynb'\n",
    "pickle_in = open(meta_data_folder / 'cell_data_cmd_superficial.pickle',\"rb\")\n",
    "cell_data = pickle.load(pickle_in)\n",
    "pickle_in.close()\n",
    "\n",
    "pickle_in = open(meta_data_folder / 'time_data_cmd_superficial.pickle',\"rb\")\n",
    "time_data = pickle.load(pickle_in)\n",
    "pickle_in.close()"
   ]
  },
  {
   "cell_type": "code",
   "execution_count": 30,
   "metadata": {},
   "outputs": [],
   "source": [
    "sweeps = []\n",
    "sweepdur = 0.075\n",
    "newdt = 1/10000\n",
    "newsamp = int(sweepdur/newdt)\n",
    "for exptname,data in cell_data.items():\n",
    "    sweep = data-data[0]\n",
    "    sweep = np.concatenate([sweep[::-1],sweep,sweep[::-1]])\n",
    "    sweep = signal.resample(sweep,3*newsamp)\n",
    "    sweeps.append(sweep[newsamp:2*newsamp])\n",
    "# sweeps.append(np.zeros(newsamp))\n",
    "sweeps = np.asarray(sweeps).T\n",
    "xtime = np.linspace(0,75,newsamp)\n",
    "\n",
    "# np.save(meta_data_folder / 'cmd_response_pop_sgrc_sweeps.npy',sweeps,allow_pickle=False)"
   ]
  },
  {
   "cell_type": "markdown",
   "metadata": {},
   "source": [
    "### load DGC pickle data and create/save nmpy array"
   ]
  },
  {
   "cell_type": "code",
   "execution_count": 32,
   "metadata": {},
   "outputs": [],
   "source": [
    "# created in 'GRC_properties_Meta_ipynb'\n",
    "pickle_in = open(meta_data_folder / 'cell_data_cmd_deep.pickle',\"rb\")\n",
    "cell_data = pickle.load(pickle_in)\n",
    "pickle_in.close()\n",
    "\n",
    "pickle_in = open(meta_data_folder / 'time_data_cmd_deep.pickle',\"rb\")\n",
    "time_data = pickle.load(pickle_in)\n",
    "pickle_in.close()"
   ]
  },
  {
   "cell_type": "code",
   "execution_count": 33,
   "metadata": {},
   "outputs": [],
   "source": [
    "sweeps = []\n",
    "sweepdur = 0.075\n",
    "newdt = 1/10000\n",
    "newsamp = int(sweepdur/newdt)\n",
    "for exptname,data in cell_data.items():\n",
    "    sweep = data-data[0]\n",
    "    sweep = np.concatenate([sweep[::-1],sweep,sweep[::-1]])\n",
    "    sweep = signal.resample(sweep,3*newsamp)\n",
    "    sweeps.append(sweep[newsamp:2*newsamp])\n",
    "# sweeps.append(np.zeros(newsamp))\n",
    "sweeps = np.asarray(sweeps).T\n",
    "xtime = np.linspace(0,75,newsamp)\n",
    "\n",
    "# np.save(meta_data_folder / 'cmd_response_pop_dgrc_sweeps.npy',sweeps,allow_pickle=False)"
   ]
  },
  {
   "cell_type": "markdown",
   "metadata": {},
   "source": [
    "### load GC numpy arrays and plot pop mean/sem"
   ]
  },
  {
   "cell_type": "code",
   "execution_count": 34,
   "metadata": {},
   "outputs": [],
   "source": [
    "dgrc_sweeps_cmd = np.load(meta_data_folder / 'cmd_response_pop_dgrc_sweeps.npy')\n",
    "sgrc_sweeps_cmd = np.load(meta_data_folder / 'cmd_response_pop_sgrc_sweeps.npy')\n",
    "newdt = 1/10000\n",
    "sweepclip = 0.05\n",
    "dgrc_sweeps_cmd = dgrc_sweeps_cmd[0:int(sweepclip/newdt),:]\n",
    "sgrc_sweeps_cmd = sgrc_sweeps_cmd[0:int(sweepclip/newdt),:]\n",
    "\n",
    "xtime = np.linspace(0,sweepclip*1000,int(sweepclip/newdt))-0.5"
   ]
  },
  {
   "cell_type": "markdown",
   "metadata": {},
   "source": [
    "### plot average CD response"
   ]
  },
  {
   "cell_type": "code",
   "execution_count": 35,
   "metadata": {},
   "outputs": [
    {
     "data": {
      "image/png": "[encoded data removed]",
      "text/plain": [
       "<Figure size 108x108 with 1 Axes>"
      ]
     },
     "metadata": {},
     "output_type": "display_data"
    }
   ],
   "source": [
    "hfig,ax = create_fig()\n",
    "\n",
    "ax.fill_between([6.5,18.5],[5,5],[-7,-7],facecolor = 'black',edgecolor='None', alpha = 0.10)\n",
    "\n",
    "ax.plot(xtime-0.0005,np.mean(sgrc_sweeps_cmd,1),color = sns.xkcd_rgb['icky green'],lw = 1)\n",
    "ax.fill_between(xtime-0.0005,\n",
    "                np.mean(sgrc_sweeps_cmd,1)-stats.sem(sgrc_sweeps_cmd,1,nan_policy='omit'),\n",
    "                np.mean(sgrc_sweeps_cmd,1)+stats.sem(sgrc_sweeps_cmd,1,nan_policy='omit'),\n",
    "               facecolor=sns.xkcd_rgb['icky green'],edgecolor='None',alpha=0.3)\n",
    "\n",
    "ax.plot(xtime-0.0005,np.mean(dgrc_sweeps_cmd,1),color = sns.xkcd_rgb['teal blue'],lw = 1)\n",
    "ax.fill_between(xtime-0.0005,\n",
    "                np.mean(dgrc_sweeps_cmd,1)-stats.sem(dgrc_sweeps_cmd,1,nan_policy='omit'),\n",
    "                np.mean(dgrc_sweeps_cmd,1)+stats.sem(dgrc_sweeps_cmd,1,nan_policy='omit'),\n",
    "               facecolor=sns.xkcd_rgb['teal blue'],edgecolor='None',alpha=0.3)\n",
    "\n",
    "\n",
    "sns.despine(hfig)\n",
    "ax.set_xticks(np.arange(0,55,10))\n",
    "plt.xlim(-0.5,56.5)\n",
    "ax.set_yticks([-2,3])\n",
    "ax.set_frame_on(True)\n",
    "yax = ax.spines[\"left\"]\n",
    "yax.set_visible(False)\n",
    "ax.set_xlabel('ms')\n",
    "\n",
    "plt.ylim(-7,5)\n",
    "figsave(figure_folder,'Fig1_GRC_CMD_popmean')"
   ]
  },
  {
   "cell_type": "code",
   "execution_count": 36,
   "metadata": {},
   "outputs": [
    {
     "name": "stdout",
     "output_type": "stream",
     "text": [
      "Index(['Unnamed: 0', 'exptname', 'Vm_baseline', 'c_latency', 'cmd_epsp_t',\n",
      "       'cmd_epsp_amp', 'cmd_epsp_onset', 'cmd_ipsp_t', 'cmd_ipsp_amp',\n",
      "       'cmd_ipsp_onset', 'cmd_response_std', 'cmd_peak_std', 'cmd_epsp_hw',\n",
      "       'cmd_epsp_dvdt', 'cmd_ipsp_dvdt', 'u_epsp_t', 'u_epsp_amp',\n",
      "       'u_epsp_onset', 'u_ipsp_t', 'u_ipsp_amp', 'u_ipsp_onset',\n",
      "       'u_response_std', 'u_peak_std', 'u_epsp_hw', 'u_epsp_dvdt',\n",
      "       'u_ipsp_dvdt', 'c_epsp_t', 'c_epsp_amp', 'c_epsp_onset', 'c_ipsp_t',\n",
      "       'c_ipsp_amp', 'c_ipsp_onset', 'c_response_std', 'c_peak_std',\n",
      "       'c_epsp_hw', 'c_epsp_dvdt', 'c_ipsp_dvdt', 'cell_type'],\n",
      "      dtype='object')\n"
     ]
    }
   ],
   "source": [
    "path = Path.cwd().resolve().parents[0] / 'data_processed' / 'df_GRC_properties'\n",
    "files = [e for e in path.iterdir() if e.is_file() and e.suffix=='.csv']\n",
    "keys = [f.name[0:-4] for f in sorted(files)]\n",
    "meta_df = pd.DataFrame(columns = None)\n",
    "for f in files:\n",
    "    thisdf = pd.read_csv(f)\n",
    "    meta_df = meta_df.append(thisdf,ignore_index = True)\n",
    "\n",
    "meta_df['cell_type'] = meta_df['exptname'].map(cell_type)\n",
    "\n",
    "print(meta_df.columns)\n",
    "\n"
   ]
  },
  {
   "cell_type": "code",
   "execution_count": 37,
   "metadata": {},
   "outputs": [
    {
     "name": "stdout",
     "output_type": "stream",
     "text": [
      "cmd epsp onset\n"
     ]
    },
    {
     "data": {
      "text/html": [
       "<div>\n",
       "<style scoped>\n",
       "    .dataframe tbody tr th:only-of-type {\n",
       "        vertical-align: middle;\n",
       "    }\n",
       "\n",
       "    .dataframe tbody tr th {\n",
       "        vertical-align: top;\n",
       "    }\n",
       "\n",
       "    .dataframe thead th {\n",
       "        text-align: right;\n",
       "    }\n",
       "</style>\n",
       "<table border=\"1\" class=\"dataframe\">\n",
       "  <thead>\n",
       "    <tr style=\"text-align: right;\">\n",
       "      <th></th>\n",
       "      <th>count</th>\n",
       "      <th>mean</th>\n",
       "      <th>std</th>\n",
       "      <th>min</th>\n",
       "      <th>25%</th>\n",
       "      <th>50%</th>\n",
       "      <th>75%</th>\n",
       "      <th>max</th>\n",
       "    </tr>\n",
       "    <tr>\n",
       "      <th>cell_type</th>\n",
       "      <th></th>\n",
       "      <th></th>\n",
       "      <th></th>\n",
       "      <th></th>\n",
       "      <th></th>\n",
       "      <th></th>\n",
       "      <th></th>\n",
       "      <th></th>\n",
       "    </tr>\n",
       "  </thead>\n",
       "  <tbody>\n",
       "    <tr>\n",
       "      <th>d</th>\n",
       "      <td>24.0</td>\n",
       "      <td>5.691991</td>\n",
       "      <td>0.790201</td>\n",
       "      <td>4.702090</td>\n",
       "      <td>5.172299</td>\n",
       "      <td>5.492441</td>\n",
       "      <td>5.845652</td>\n",
       "      <td>7.503335</td>\n",
       "    </tr>\n",
       "    <tr>\n",
       "      <th>m</th>\n",
       "      <td>8.0</td>\n",
       "      <td>4.957468</td>\n",
       "      <td>0.364529</td>\n",
       "      <td>4.309577</td>\n",
       "      <td>4.773107</td>\n",
       "      <td>4.981535</td>\n",
       "      <td>5.259698</td>\n",
       "      <td>5.361915</td>\n",
       "    </tr>\n",
       "    <tr>\n",
       "      <th>o</th>\n",
       "      <td>2.0</td>\n",
       "      <td>8.050872</td>\n",
       "      <td>0.117614</td>\n",
       "      <td>7.967706</td>\n",
       "      <td>8.009289</td>\n",
       "      <td>8.050872</td>\n",
       "      <td>8.092455</td>\n",
       "      <td>8.134038</td>\n",
       "    </tr>\n",
       "    <tr>\n",
       "      <th>s</th>\n",
       "      <td>12.0</td>\n",
       "      <td>7.642955</td>\n",
       "      <td>2.162378</td>\n",
       "      <td>5.712695</td>\n",
       "      <td>6.144597</td>\n",
       "      <td>6.739978</td>\n",
       "      <td>8.397697</td>\n",
       "      <td>12.878619</td>\n",
       "    </tr>\n",
       "  </tbody>\n",
       "</table>\n",
       "</div>"
      ],
      "text/plain": [
       "           count      mean       std       min       25%       50%       75%  \\\n",
       "cell_type                                                                      \n",
       "d           24.0  5.691991  0.790201  4.702090  5.172299  5.492441  5.845652   \n",
       "m            8.0  4.957468  0.364529  4.309577  4.773107  4.981535  5.259698   \n",
       "o            2.0  8.050872  0.117614  7.967706  8.009289  8.050872  8.092455   \n",
       "s           12.0  7.642955  2.162378  5.712695  6.144597  6.739978  8.397697   \n",
       "\n",
       "                 max  \n",
       "cell_type             \n",
       "d           7.503335  \n",
       "m           5.361915  \n",
       "o           8.134038  \n",
       "s          12.878619  "
      ]
     },
     "metadata": {},
     "output_type": "display_data"
    },
    {
     "name": "stdout",
     "output_type": "stream",
     "text": [
      "cmd epsp peak\n"
     ]
    },
    {
     "data": {
      "text/html": [
       "<div>\n",
       "<style scoped>\n",
       "    .dataframe tbody tr th:only-of-type {\n",
       "        vertical-align: middle;\n",
       "    }\n",
       "\n",
       "    .dataframe tbody tr th {\n",
       "        vertical-align: top;\n",
       "    }\n",
       "\n",
       "    .dataframe thead th {\n",
       "        text-align: right;\n",
       "    }\n",
       "</style>\n",
       "<table border=\"1\" class=\"dataframe\">\n",
       "  <thead>\n",
       "    <tr style=\"text-align: right;\">\n",
       "      <th></th>\n",
       "      <th>count</th>\n",
       "      <th>mean</th>\n",
       "      <th>std</th>\n",
       "      <th>min</th>\n",
       "      <th>25%</th>\n",
       "      <th>50%</th>\n",
       "      <th>75%</th>\n",
       "      <th>max</th>\n",
       "    </tr>\n",
       "    <tr>\n",
       "      <th>cell_type</th>\n",
       "      <th></th>\n",
       "      <th></th>\n",
       "      <th></th>\n",
       "      <th></th>\n",
       "      <th></th>\n",
       "      <th></th>\n",
       "      <th></th>\n",
       "      <th></th>\n",
       "    </tr>\n",
       "  </thead>\n",
       "  <tbody>\n",
       "    <tr>\n",
       "      <th>d</th>\n",
       "      <td>24.0</td>\n",
       "      <td>9.667512</td>\n",
       "      <td>2.723670</td>\n",
       "      <td>6.357063</td>\n",
       "      <td>7.779426</td>\n",
       "      <td>9.142259</td>\n",
       "      <td>10.382754</td>\n",
       "      <td>17.018910</td>\n",
       "    </tr>\n",
       "    <tr>\n",
       "      <th>m</th>\n",
       "      <td>8.0</td>\n",
       "      <td>8.003008</td>\n",
       "      <td>0.504485</td>\n",
       "      <td>7.316258</td>\n",
       "      <td>7.811595</td>\n",
       "      <td>7.992762</td>\n",
       "      <td>8.219477</td>\n",
       "      <td>8.769488</td>\n",
       "    </tr>\n",
       "    <tr>\n",
       "      <th>o</th>\n",
       "      <td>2.0</td>\n",
       "      <td>15.663005</td>\n",
       "      <td>1.528198</td>\n",
       "      <td>14.582405</td>\n",
       "      <td>15.122705</td>\n",
       "      <td>15.663005</td>\n",
       "      <td>16.203304</td>\n",
       "      <td>16.743604</td>\n",
       "    </tr>\n",
       "    <tr>\n",
       "      <th>s</th>\n",
       "      <td>12.0</td>\n",
       "      <td>14.398503</td>\n",
       "      <td>5.828642</td>\n",
       "      <td>9.571269</td>\n",
       "      <td>10.200731</td>\n",
       "      <td>12.076837</td>\n",
       "      <td>16.854941</td>\n",
       "      <td>29.064588</td>\n",
       "    </tr>\n",
       "  </tbody>\n",
       "</table>\n",
       "</div>"
      ],
      "text/plain": [
       "           count       mean       std        min        25%        50%  \\\n",
       "cell_type                                                                \n",
       "d           24.0   9.667512  2.723670   6.357063   7.779426   9.142259   \n",
       "m            8.0   8.003008  0.504485   7.316258   7.811595   7.992762   \n",
       "o            2.0  15.663005  1.528198  14.582405  15.122705  15.663005   \n",
       "s           12.0  14.398503  5.828642   9.571269  10.200731  12.076837   \n",
       "\n",
       "                 75%        max  \n",
       "cell_type                        \n",
       "d          10.382754  17.018910  \n",
       "m           8.219477   8.769488  \n",
       "o          16.203304  16.743604  \n",
       "s          16.854941  29.064588  "
      ]
     },
     "metadata": {},
     "output_type": "display_data"
    },
    {
     "name": "stdout",
     "output_type": "stream",
     "text": [
      "cmd ipsp onset\n"
     ]
    },
    {
     "data": {
      "text/html": [
       "<div>\n",
       "<style scoped>\n",
       "    .dataframe tbody tr th:only-of-type {\n",
       "        vertical-align: middle;\n",
       "    }\n",
       "\n",
       "    .dataframe tbody tr th {\n",
       "        vertical-align: top;\n",
       "    }\n",
       "\n",
       "    .dataframe thead th {\n",
       "        text-align: right;\n",
       "    }\n",
       "</style>\n",
       "<table border=\"1\" class=\"dataframe\">\n",
       "  <thead>\n",
       "    <tr style=\"text-align: right;\">\n",
       "      <th></th>\n",
       "      <th>count</th>\n",
       "      <th>mean</th>\n",
       "      <th>std</th>\n",
       "      <th>min</th>\n",
       "      <th>25%</th>\n",
       "      <th>50%</th>\n",
       "      <th>75%</th>\n",
       "      <th>max</th>\n",
       "    </tr>\n",
       "    <tr>\n",
       "      <th>cell_type</th>\n",
       "      <th></th>\n",
       "      <th></th>\n",
       "      <th></th>\n",
       "      <th></th>\n",
       "      <th></th>\n",
       "      <th></th>\n",
       "      <th></th>\n",
       "      <th></th>\n",
       "    </tr>\n",
       "  </thead>\n",
       "  <tbody>\n",
       "    <tr>\n",
       "      <th>d</th>\n",
       "      <td>3.0</td>\n",
       "      <td>7.724227</td>\n",
       "      <td>0.931537</td>\n",
       "      <td>6.965479</td>\n",
       "      <td>7.204393</td>\n",
       "      <td>7.443308</td>\n",
       "      <td>8.103602</td>\n",
       "      <td>8.763895</td>\n",
       "    </tr>\n",
       "    <tr>\n",
       "      <th>m</th>\n",
       "      <td>2.0</td>\n",
       "      <td>8.461066</td>\n",
       "      <td>0.343375</td>\n",
       "      <td>8.218263</td>\n",
       "      <td>8.339664</td>\n",
       "      <td>8.461066</td>\n",
       "      <td>8.582467</td>\n",
       "      <td>8.703868</td>\n",
       "    </tr>\n",
       "    <tr>\n",
       "      <th>o</th>\n",
       "      <td>1.0</td>\n",
       "      <td>14.933185</td>\n",
       "      <td>NaN</td>\n",
       "      <td>14.933185</td>\n",
       "      <td>14.933185</td>\n",
       "      <td>14.933185</td>\n",
       "      <td>14.933185</td>\n",
       "      <td>14.933185</td>\n",
       "    </tr>\n",
       "    <tr>\n",
       "      <th>s</th>\n",
       "      <td>18.0</td>\n",
       "      <td>4.885353</td>\n",
       "      <td>0.540063</td>\n",
       "      <td>4.109131</td>\n",
       "      <td>4.552023</td>\n",
       "      <td>4.782959</td>\n",
       "      <td>5.025726</td>\n",
       "      <td>5.961192</td>\n",
       "    </tr>\n",
       "  </tbody>\n",
       "</table>\n",
       "</div>"
      ],
      "text/plain": [
       "           count       mean       std        min        25%        50%  \\\n",
       "cell_type                                                                \n",
       "d            3.0   7.724227  0.931537   6.965479   7.204393   7.443308   \n",
       "m            2.0   8.461066  0.343375   8.218263   8.339664   8.461066   \n",
       "o            1.0  14.933185       NaN  14.933185  14.933185  14.933185   \n",
       "s           18.0   4.885353  0.540063   4.109131   4.552023   4.782959   \n",
       "\n",
       "                 75%        max  \n",
       "cell_type                        \n",
       "d           8.103602   8.763895  \n",
       "m           8.582467   8.703868  \n",
       "o          14.933185  14.933185  \n",
       "s           5.025726   5.961192  "
      ]
     },
     "metadata": {},
     "output_type": "display_data"
    }
   ],
   "source": [
    "print('cmd epsp onset')\n",
    "display(meta_df.groupby('cell_type')['cmd_epsp_onset'].describe())\n",
    "\n",
    "print('cmd epsp peak')\n",
    "display(meta_df.groupby('cell_type')['cmd_epsp_t'].describe())\n",
    "\n",
    "print('cmd ipsp onset')\n",
    "display(meta_df.groupby('cell_type')['cmd_ipsp_onset'].describe())"
   ]
  },
  {
   "cell_type": "code",
   "execution_count": null,
   "metadata": {},
   "outputs": [],
   "source": []
  }
 ],
 "metadata": {
  "kernelspec": {
   "display_name": "Python 3",
   "language": "python",
   "name": "python3"
  },
  "language_info": {
   "codemirror_mode": {
    "name": "ipython",
    "version": 3
   },
   "file_extension": ".py",
   "mimetype": "text/x-python",
   "name": "python",
   "nbconvert_exporter": "python",
   "pygments_lexer": "ipython3",
   "version": "3.6.12"
  },
  "toc": {
   "base_numbering": 1,
   "nav_menu": {},
   "number_sections": true,
   "sideBar": true,
   "skip_h1_title": false,
   "title_cell": "Table of Contents",
   "title_sidebar": "Contents",
   "toc_cell": false,
   "toc_position": {
    "height": "calc(100% - 180px)",
    "left": "10px",
    "top": "150px",
    "width": "237.984px"
   },
   "toc_section_display": true,
   "toc_window_display": true
  }
 },
 "nbformat": 4,
 "nbformat_minor": 4
}
