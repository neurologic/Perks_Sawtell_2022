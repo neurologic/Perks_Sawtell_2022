{
 "cells": [
  {
   "cell_type": "markdown",
   "metadata": {},
   "source": [
    "# Import packages"
   ]
  },
  {
   "cell_type": "code",
   "execution_count": 27,
   "metadata": {
    "code_folding": [
     5
    ]
   },
   "outputs": [],
   "source": [
    "import sys\n",
    "from brian2 import *\n",
    "import sympy\n",
    "import matplotlib.pyplot as plt\n",
    "import numpy as np\n",
    "import pandas as pd\n",
    "from pathlib import Path\n",
    "import seaborn as sns\n",
    "from scipy import signal\n",
    "from scipy import optimize\n",
    "from scipy import stats\n",
    "from scipy.stats import gaussian_kde\n",
    "import pickle\n",
    "import yaml\n",
    "import time\n",
    "import h5py\n",
    "\n",
    "import matplotlib\n",
    "# matplotlib.rcParams['pdf.fonttype'] = 42\n",
    "import warnings\n",
    "warnings.filterwarnings(action='ignore', message='Mean of empty slice')"
   ]
  },
  {
   "cell_type": "code",
   "execution_count": 2,
   "metadata": {},
   "outputs": [],
   "source": [
    "# import platform\n",
    "# import sys\n",
    "# os_name = platform.system()\n",
    "# if os_name == 'Darwin':\n",
    "#     sys.path.append('/Users/kperks/mnt/engram_share/home/kep2142/scripts/Python/Analysis/')\n",
    "# if os_name == 'Linux':\n",
    "#     sys.path.append('/mnt/engram/scripts/Python/Analysis/')\n",
    "# from ClassDef_AmplitudeShift_Stable import AmpShift_Stable\n",
    "# from Plotting import figsave, create_fig, create_fig_tuning, set_fig_style\n",
    "\n",
    "# from brian2 import *\n",
    "# from tqdm import tqdm\n",
    "# import h5py\n",
    "# import tables as tb\n",
    "# import sympy\n",
    "# import matplotlib.pyplot as plt\n",
    "# import numpy as np\n",
    "# import pandas as pd\n",
    "# from pathlib import Path\n",
    "# import seaborn as sns\n",
    "# from scipy import signal\n",
    "# from scipy import optimize\n",
    "# from scipy import stats\n",
    "# from scipy.stats import gaussian_kde\n",
    "# import pickle\n",
    "# import random\n",
    "\n",
    "# from sklearn.linear_model import LinearRegression\n",
    "# from sklearn import datasets,linear_model\n",
    "# # from sklearn.cross_validation import train_test_split\n",
    "\n",
    "# import matplotlib\n",
    "# # matplotlib.rcParams['pdf.fonttype'] = 42\n",
    "# import ipympl\n",
    "\n",
    "\n",
    "# import warnings\n",
    "# warnings.filterwarnings(action='ignore', message='Mean of empty slice')"
   ]
  },
  {
   "cell_type": "markdown",
   "metadata": {},
   "source": [
    "# define paths"
   ]
  },
  {
   "cell_type": "code",
   "execution_count": 3,
   "metadata": {},
   "outputs": [],
   "source": [
    "# You must define the path to the raw data (downloaded from the database)\n",
    "# the raw data to plot example cells is not part of the github directory\n",
    "data_folder = '/Users/kperks/mnt/OneDrive - wesleyan.edu/Research/Manuscripts/GRC_PerksSawtell/AcceptedRevision_CellReports/data_raw'"
   ]
  },
  {
   "cell_type": "code",
   "execution_count": 4,
   "metadata": {},
   "outputs": [],
   "source": [
    "top_dir = Path.cwd().resolve().parents[0] #this is the path to the folder you should be running these notebooks from (Perks_Sawtell_2022)\n",
    "\n",
    "#primary resource folders:\n",
    "script_folder = top_dir / 'scripts'\n",
    "# data_folder = top_dir / 'data_raw'\n",
    "\n",
    "#folders with processed data:\n",
    "df_folder = top_dir / 'data_processed/df_cmdintact'\n",
    "meta_data_folder = top_dir / 'data_processed/GRC_properties_Meta'\n",
    "\n",
    "#where to save any figures that are generated:\n",
    "#change as needed. Default is the location where Perks_Sawtell_2022 lives (if you are running this script from that folder)\n",
    "figure_folder = Path.cwd().resolve().parents[1] / 'Perks_Sawtell_2022_FiguresComponents'\n",
    "\n",
    "#for storing simulation states\n",
    "sim_filename = 'grc_model_initialized.pickle'\n",
    "sim_filepath = top_dir / 'data_processed/grc_model_simulations' / sim_filename "
   ]
  },
  {
   "cell_type": "code",
   "execution_count": 5,
   "metadata": {},
   "outputs": [],
   "source": [
    "# exptpath = Path.cwd().resolve().parents[0] #assumes running notebook from /data_processed\n",
    "# data_folder = exptpath / 'data_raw'\n",
    "# # figure_folder = Path.cwd().resolve().parents[2] / 'engram_share' / 'GranularCellPaperResources' / 'Figure_RawEPScomponents'\n",
    "# figure_folder = Path.cwd().resolve().parents[3] / 'locker' / 'GranularCellPaperResources' / 'Figure_RawEPScomponents'\n",
    "# df_folder = exptpath / 'data_processed' / 'Figures_GRC_properties' / 'Unsubtracted_CvsU' / 'df_cmdintact'\n",
    "# meta_data_folder = exptpath / 'data_processed' / 'GRC_properties_Meta'\n",
    "\n",
    "# #for storing simulation states\n",
    "# sim_filename = 'grc_model_init.pickle'\n",
    "# sim_filepath = Path.cwd() / 'grc_model_simulations' / sim_filename #assumes running notebook from /data_processed\n",
    "\n",
    "# rootpath = Path('/Users/kperks/mnt/')\n",
    "# savepath = rootpath / 'engram_share/locker/GranularCellPaperResources/Draft_For_Submission/Code/Results'\n",
    "# exptpath = rootpath / 'engram_share/home/kep2142/spikedata'\n",
    "# data_folder = exptpath / 'data_raw'\n",
    "# df_folder = exptpath / 'data_processed' / 'Figures_GRC_properties' / 'Unsubtracted_CvsU' / 'df_cmdintact'\n",
    "# meta_data_folder = exptpath / 'data_processed' / 'GRC_properties_Meta'\n",
    "# figure_folder = Path('/Users/kperks/mnt/engram_share') / 'locker' / 'GranularCellPaperResources' / 'Figure_RawEPScomponents'\n",
    "# #for storing simulation states\n",
    "# sim_filename = 'grc_model_init.pickle'\n",
    "# sim_filepath = savepath / sim_filename "
   ]
  },
  {
   "cell_type": "markdown",
   "metadata": {},
   "source": [
    "# import custom functions from scripts folder"
   ]
  },
  {
   "cell_type": "code",
   "execution_count": 6,
   "metadata": {},
   "outputs": [],
   "source": [
    "sys.path.append(script_folder)\n",
    "from ClassDef_AmplitudeShift_Stable import AmpShift_Stable #this is the function that imports all of the cell_data structures. Needed if plotting any example cells. \n",
    "from FunctionDefinitions import *"
   ]
  },
  {
   "cell_type": "markdown",
   "metadata": {},
   "source": [
    "# configure figure styles"
   ]
  },
  {
   "cell_type": "code",
   "execution_count": 7,
   "metadata": {},
   "outputs": [],
   "source": [
    "sns.set_style(\"ticks\")\n",
    "sns.set_context(\"paper\")\n",
    "rc = set_fig_style()\n",
    "matplotlib.rcParams.update(rc)"
   ]
  },
  {
   "cell_type": "markdown",
   "metadata": {},
   "source": [
    "# Example Cells for long delay readout waveforms"
   ]
  },
  {
   "cell_type": "markdown",
   "metadata": {},
   "source": [
    "## DGC '20200607_005'"
   ]
  },
  {
   "cell_type": "code",
   "execution_count": 8,
   "metadata": {},
   "outputs": [
    {
     "name": "stdout",
     "output_type": "stream",
     "text": [
      "/Users/kperks/mnt/OneDrive - wesleyan.edu/Research/Manuscripts/GRC_PerksSawtell/AcceptedRevision_CellReports/data_raw/20200607_005.smr\n"
     ]
    }
   ],
   "source": [
    "## example DGC amplitude tuning; plot agains example afferent latency instead of stimamp\n",
    "\n",
    "exptname = '20200607_005'\n",
    "expt = AmpShift_Stable()\n",
    "expt.load_expt(exptname, data_folder)"
   ]
  },
  {
   "cell_type": "code",
   "execution_count": 9,
   "metadata": {},
   "outputs": [
    {
     "data": {
      "image/png": "[encoded data removed]",
      "text/plain": [
       "<Figure size 108x108 with 1 Axes>"
      ]
     },
     "metadata": {},
     "output_type": "display_data"
    }
   ],
   "source": [
    "expt.set_amps(11,[-40,-30,-20,-10,-5,0,5,10,20,30,40])\n",
    "expt.set_channels('CmdTrig','lowgain','spikes','SIU','DigMark')\n",
    "\n",
    "bout_uc = [expt.get_bout_win('R','Keyboard')[0],\n",
    "           expt.get_bout_win('R','Keyboard')[1]]\n",
    "\n",
    "sweepdur = 0.05\n",
    "marker_df = expt.get_marker_table() #access with : getattr(expt,'marker_df')\n",
    "CmdTrig = expt.get_events('CmdTrig')\n",
    "\n",
    "bout_df = expt.filter_marker_df_time(marker_df,bout_uc)\n",
    "trial_df = expt.filter_marker_df_code(bout_df,['T'])\n",
    "stim_t = trial_df.time.values\n",
    "\n",
    "eventDur = 0.001\n",
    "xtime,event_sweeps = expt.get_sweepsmat('SIU',trial_df['time'].values,eventDur)\n",
    "event_Amp = np.asarray([np.max(sweep) for sweep in event_sweeps.T])\n",
    "\n",
    "base_df = expt.filter_marker_df_code(bout_df,['U'])\n",
    "xtime,event_sweeps = expt.get_sweepsmat('SIU',base_df['time'].values,eventDur)\n",
    "event_0_Amp = np.median(np.asarray([np.max(sweep) for sweep in event_sweeps.T]))\n",
    "\n",
    "ampshift = np.asarray([np.round(((A/event_0_Amp)*100)-100) for A in event_Amp]).reshape(-1, 1)\n",
    "trial_df.insert(np.shape(trial_df)[1],'ampshift',ampshift)\n",
    "    \n",
    "trialmat = []\n",
    "for a in np.unique(trial_df['ampshift']):\n",
    "    theseT = trial_df[trial_df['ampshift']==a].time.values \n",
    "    xtime, R = expt.get_sweepsmat('lowgain',theseT,sweepdur)\n",
    "    trialmat.append(np.mean(R,1))\n",
    "trialmat = np.asarray(trialmat).T \n",
    "trialmat = np.asarray([sweep-sweep[0] for sweep in trialmat.T]).T\n",
    "\n",
    "hfig,ax = create_fig()\n",
    "colinds = plt.cm.plasma(np.linspace(0.2,0.85,11))\n",
    "colinds = array([c for c in reversed(colinds)])\n",
    "trialmat = array([sweep for sweep in reversed(trialmat.T)]).T\n",
    "for i,sweep in enumerate(trialmat.T):\n",
    "    ax.plot(xtime,sweep,color = colinds[i],lw = 0.5);\n",
    "\n",
    "\n",
    "# ax.vlines(4.5,15,20)\n",
    "sns.despine(hfig)\n",
    "ax.set_xticks(np.arange(0,55,10))\n",
    "plt.xlim(0,50)\n",
    "ax.set_yticks([15,20])\n",
    "ax.set_frame_on(True)\n",
    "yax = ax.spines[\"left\"]\n",
    "yax.set_visible(False)\n",
    "ax.set_xlabel('Time after stimulus (ms)');\n",
    "\n",
    "\n",
    "\n",
    "figsave(figure_folder,'Fig5_ExampleDGRCwavs')"
   ]
  },
  {
   "cell_type": "code",
   "execution_count": 20,
   "metadata": {},
   "outputs": [
    {
     "data": {
      "image/png": "[encoded data removed]",
      "text/plain": [
       "<Figure size 72x86.4 with 1 Axes>"
      ]
     },
     "metadata": {},
     "output_type": "display_data"
    }
   ],
   "source": [
    "dt = expt.get_dt('lowgain')\n",
    "\n",
    "amp = []\n",
    "searchinds = xtime>1.5\n",
    "for sweep in trialmat.T:\n",
    "#     r_u = calc_peaks(xtime,sweep, order, min_peakt,threshold_h,dt)\n",
    "#     amp.append(r_u[1])\n",
    "    maxR = sweep[searchinds][np.argmax(sweep[searchinds])]\n",
    "    amp.append(maxR)\n",
    "amp = np.asarray(amp)\n",
    "\n",
    "stim_ampshift = np.unique(trial_df['ampshift'])\n",
    "\n",
    "\n",
    "figsize=[1,1.2]\n",
    "hfig = plt.figure(figsize = figsize) \n",
    "ax = hfig.add_axes([0.3,0.3,0.5,0.6])\n",
    "\n",
    "colinds = plt.cm.plasma(np.linspace(0.2,0.85,11))\n",
    "i=0\n",
    "for s,r in zip(stim_ampshift,reversed(amp)):\n",
    "    ax.scatter(s,r,color = colinds[i], s=10)\n",
    "    i+=1\n",
    "ax.set_xlim(-47,47)\n",
    "xticks([-40,0,40]);\n",
    "ax.set_xlabel('Stimulus amplitude \\n (% change)',linespacing=0.9)\n",
    "ax.set_ylabel('Peak response (mV)');\n",
    "sns.despine(hfig)\n",
    "\n",
    "figsave(figure_folder,'Fig5_ExampleDGRCscatter')"
   ]
  },
  {
   "cell_type": "markdown",
   "metadata": {},
   "source": [
    "## SGC '20200607_000'"
   ]
  },
  {
   "cell_type": "code",
   "execution_count": 15,
   "metadata": {},
   "outputs": [
    {
     "name": "stdout",
     "output_type": "stream",
     "text": [
      "/Users/kperks/mnt/engram_share/home/kep2142/spikedata/data_raw/20200607/20200607_000.smr\n"
     ]
    }
   ],
   "source": [
    "exptname = '20200607_000'\n",
    "expt = AmpShift_Stable()\n",
    "expt.load_expt(exptname, data_folder)"
   ]
  },
  {
   "cell_type": "code",
   "execution_count": 16,
   "metadata": {},
   "outputs": [
    {
     "data": {
      "image/png": "[encoded data removed]",
      "text/plain": [
       "<Figure size 108x108 with 1 Axes>"
      ]
     },
     "metadata": {},
     "output_type": "display_data"
    }
   ],
   "source": [
    "expt.set_amps(11,[-40,-30,-20,-10,-5,0,5,10,20,30,40])\n",
    "expt.set_channels('CmdTrig','lowgain','spikes','SIU','DigMark')\n",
    "marker_df = expt.get_marker_table()\n",
    "\n",
    "bout_uc = [expt.get_bout_win('R','Keyboard')[1],\n",
    "          expt.get_bout_win('R','Keyboard')[2]]\n",
    "\n",
    "sweepdur = 0.05\n",
    "marker_df = expt.get_marker_table() #access with : getattr(expt,'marker_df')\n",
    "CmdTrig = expt.get_events('CmdTrig')\n",
    "\n",
    "bout_df = expt.filter_marker_df_time(marker_df,bout_uc)\n",
    "trial_df = expt.filter_marker_df_code(bout_df,['T'])\n",
    "stim_t = trial_df.time.values\n",
    "\n",
    "eventDur = 0.001\n",
    "xtime,event_sweeps = expt.get_sweepsmat('SIU',trial_df['time'].values,eventDur)\n",
    "event_Amp = np.asarray([np.max(sweep) for sweep in event_sweeps.T])\n",
    "\n",
    "base_df = expt.filter_marker_df_code(bout_df,['U'])\n",
    "xtime,event_sweeps = expt.get_sweepsmat('SIU',base_df['time'].values,eventDur)\n",
    "event_0_Amp = np.median(np.asarray([np.max(sweep) for sweep in event_sweeps.T]))\n",
    "\n",
    "ampshift = np.asarray([np.round(((A/event_0_Amp)*100)-100) for A in event_Amp]).reshape(-1, 1)\n",
    "trial_df.insert(np.shape(trial_df)[1],'ampshift',ampshift)\n",
    "    \n",
    "trialmat = []\n",
    "for a in np.unique(trial_df['ampshift']):\n",
    "    theseT = trial_df[trial_df['ampshift']==a].time.values\n",
    "    xtime, R = expt.get_sweepsmat('lowgain',theseT,sweepdur)\n",
    "    trialmat.append(np.mean(R,1))\n",
    "trialmat = np.asarray(trialmat).T \n",
    "trialmat = np.asarray([sweep-sweep[0] for sweep in trialmat.T]).T\n",
    "\n",
    "hfig,ax = create_fig()\n",
    "colinds = plt.cm.plasma(np.linspace(0.2,0.85,11))\n",
    "colinds = array([c for c in reversed(colinds)])\n",
    "trialmat = array([sweep for sweep in reversed(trialmat.T)]).T\n",
    "for i,sweep in enumerate(trialmat.T):\n",
    "    ax.plot(xtime,sweep,color = colinds[i],lw = 0.5);\n",
    "\n",
    "# ax.vlines(4.5,2,7)\n",
    "sns.despine(hfig)\n",
    "ax.set_xticks(np.arange(0,55,10))\n",
    "plt.xlim(0,50)\n",
    "ax.set_yticks([2,7])\n",
    "ax.set_ylim(-1,9)\n",
    "ax.set_frame_on(True)\n",
    "yax = ax.spines[\"left\"]\n",
    "yax.set_visible(False)\n",
    "ax.set_xlabel('Time after stimulus (ms)');\n",
    "\n",
    "figsave(figure_folder,'Fig5_ExampleSGRCwavs')"
   ]
  },
  {
   "cell_type": "code",
   "execution_count": 17,
   "metadata": {},
   "outputs": [
    {
     "data": {
      "image/png": "[encoded data removed]",
      "text/plain": [
       "<Figure size 72x86.4 with 1 Axes>"
      ]
     },
     "metadata": {},
     "output_type": "display_data"
    }
   ],
   "source": [
    "dt = expt.get_dt('lowgain')\n",
    "\n",
    "amp = []\n",
    "searchinds = xtime>1.5\n",
    "for sweep in trialmat.T:\n",
    "#     r_u = calc_peaks(xtime,sweep, order, min_peakt,threshold_h,dt)\n",
    "#     amp.append(r_u[1])\n",
    "    maxR = sweep[searchinds][np.argmax(sweep[searchinds])]\n",
    "    amp.append(maxR)\n",
    "amp = np.asarray(amp)\n",
    "\n",
    "stim_ampshift = np.unique(trial_df['ampshift'])\n",
    "restrict_inds = stim_ampshift>-20\n",
    "\n",
    "figsize=[1,1.2]\n",
    "hfig = plt.figure(figsize = figsize) \n",
    "ax = hfig.add_axes([0.3,0.3,0.5,0.6])\n",
    "colinds = plt.cm.plasma(np.linspace(0.2,0.85,11))\n",
    "i = 0\n",
    "for s,r in zip(stim_ampshift,reversed(amp)):\n",
    "    ax.scatter(s,r,color = colinds[i], s=10)\n",
    "    i+=1\n",
    "ax.set_xlim(-47,47)\n",
    "xticks([-40,0,40]);\n",
    "ax.set_xlabel('Stimulus amplitude \\n (% change)',linespacing=0.9)\n",
    "ax.set_ylabel('Peak response (mV)');\n",
    "sns.despine(hfig)\n",
    "\n",
    "figsave(figure_folder,'Fig5_ExampleSGRCscatter')"
   ]
  },
  {
   "cell_type": "markdown",
   "metadata": {},
   "source": [
    "## SGC '20200718_000'"
   ]
  },
  {
   "cell_type": "code",
   "execution_count": 10,
   "metadata": {},
   "outputs": [
    {
     "name": "stdout",
     "output_type": "stream",
     "text": [
      "/Users/kperks/mnt/OneDrive - wesleyan.edu/Research/Manuscripts/GRC_PerksSawtell/AcceptedRevision_CellReports/data_raw/20200718_000.smr\n"
     ]
    }
   ],
   "source": [
    "exptname = '20200718_000'\n",
    "expt = AmpShift_Stable()\n",
    "expt.load_expt(exptname, data_folder)"
   ]
  },
  {
   "cell_type": "code",
   "execution_count": 11,
   "metadata": {},
   "outputs": [
    {
     "data": {
      "image/png": "[encoded data removed]",
      "text/plain": [
       "<Figure size 108x108 with 1 Axes>"
      ]
     },
     "metadata": {},
     "output_type": "display_data"
    }
   ],
   "source": [
    "expt.set_amps(11,[-40,-30,-20,-10,-5,0,5,10,20,30,40])\n",
    "expt.set_channels('CmdTrig','lowgain','spikes','SIU','DigMark')\n",
    "marker_df = expt.get_marker_table()\n",
    "\n",
    "bout_uc = [expt.get_bout_win('R','Keyboard')[0],\n",
    "          expt.get_bout_win('R','Keyboard')[1]]\n",
    "\n",
    "sweepdur = 0.05\n",
    "marker_df = expt.get_marker_table() #access with : getattr(expt,'marker_df')\n",
    "CmdTrig = expt.get_events('CmdTrig')\n",
    "\n",
    "bout_df = expt.filter_marker_df_time(marker_df,bout_uc)\n",
    "trial_df = expt.filter_marker_df_code(bout_df,['T'])\n",
    "stim_t = trial_df.time.values\n",
    "\n",
    "eventDur = 0.001\n",
    "xtime,event_sweeps = expt.get_sweepsmat('SIU',trial_df['time'].values,eventDur)\n",
    "event_Amp = np.asarray([np.max(sweep) for sweep in event_sweeps.T])\n",
    "\n",
    "base_df = expt.filter_marker_df_code(bout_df,['U'])\n",
    "xtime,event_sweeps = expt.get_sweepsmat('SIU',base_df['time'].values,eventDur)\n",
    "event_0_Amp = np.median(np.asarray([np.max(sweep) for sweep in event_sweeps.T]))\n",
    "\n",
    "ampshift = np.asarray([np.round(((A/event_0_Amp)*100)-100) for A in event_Amp]).reshape(-1, 1)\n",
    "trial_df.insert(np.shape(trial_df)[1],'ampshift',ampshift)\n",
    "    \n",
    "trialmat = []\n",
    "for a in np.unique(trial_df['ampshift']):\n",
    "    theseT = trial_df[trial_df['ampshift']==a].time.values\n",
    "    xtime, R = expt.get_sweepsmat('lowgain',theseT,sweepdur)\n",
    "    trialmat.append(np.mean(R,1))\n",
    "trialmat = np.asarray(trialmat).T \n",
    "trialmat = np.asarray([sweep-sweep[0] for sweep in trialmat.T]).T\n",
    "\n",
    "hfig,ax = create_fig()\n",
    "colinds = plt.cm.plasma(np.linspace(0.2,0.85,11))\n",
    "colinds = array([c for c in reversed(colinds)])\n",
    "trialmat = array([sweep for sweep in reversed(trialmat.T)]).T\n",
    "for i,sweep in enumerate(trialmat.T):\n",
    "    ax.plot(xtime,sweep,color = colinds[i],lw = 0.5);\n",
    "\n",
    "# ax.vlines(4.5,2,7)\n",
    "sns.despine(hfig)\n",
    "ax.set_xticks(np.arange(0,55,10))\n",
    "plt.xlim(0,50)\n",
    "ax.set_yticks([2,7])\n",
    "ax.set_ylim(-2,21)\n",
    "ax.set_frame_on(True)\n",
    "yax = ax.spines[\"left\"]\n",
    "yax.set_visible(False)\n",
    "ax.set_xlabel('Time after stimulus (ms)');\n",
    "\n",
    "figsave(figure_folder,'Fig5_ExampleSGRCwavs_cell2')"
   ]
  },
  {
   "cell_type": "code",
   "execution_count": 17,
   "metadata": {},
   "outputs": [
    {
     "data": {
      "image/png": "[encoded data removed]",
      "text/plain": [
       "<Figure size 72x86.4 with 1 Axes>"
      ]
     },
     "metadata": {},
     "output_type": "display_data"
    }
   ],
   "source": [
    "dt = expt.get_dt('lowgain')\n",
    "\n",
    "amp = []\n",
    "searchinds = xtime>1.5\n",
    "for sweep in trialmat.T:\n",
    "#     r_u = calc_peaks(xtime,sweep, order, min_peakt,threshold_h,dt)\n",
    "#     amp.append(r_u[1])\n",
    "    maxR = sweep[searchinds][np.argmax(sweep[searchinds])]\n",
    "    amp.append(maxR)\n",
    "amp = np.asarray(amp)\n",
    "\n",
    "stim_ampshift = np.unique(trial_df['ampshift'])\n",
    "restrict_inds = stim_ampshift>-20\n",
    "\n",
    "figsize=[1,1.2]\n",
    "hfig = plt.figure(figsize = figsize) \n",
    "ax = hfig.add_axes([0.3,0.3,0.5,0.6])\n",
    "colinds = plt.cm.plasma(np.linspace(0.2,0.85,11))\n",
    "i = 0\n",
    "for s,r in zip(stim_ampshift,reversed(amp)):\n",
    "    ax.scatter(s,r,color = colinds[i], s=10)\n",
    "    i+=1\n",
    "ax.set_xlim(-47,47)\n",
    "xticks([-40,0,40]);\n",
    "ax.set_xlabel('Stimulus amplitude \\n (% change)',linespacing=0.9)\n",
    "ax.set_ylabel('Peak response (mV)');\n",
    "sns.despine(hfig)\n",
    "\n",
    "figsave(figure_folder,'Fig5_ExampleSGRCscatter')"
   ]
  },
  {
   "cell_type": "markdown",
   "metadata": {},
   "source": [
    "# Import data for simulations"
   ]
  },
  {
   "cell_type": "code",
   "execution_count": 8,
   "metadata": {},
   "outputs": [
    {
     "name": "stdout",
     "output_type": "stream",
     "text": [
      "20200129(blue) has a total of 11 afferents recorded\n",
      "20200204(orange) has a total of 11 afferents recorded\n",
      "20200531(brown) has a total of 27 afferents recorded\n",
      "20200621(green) has a total of 15 afferents recorded\n",
      "number afferents excluded because first fsl threshold too high or could not be fit: 3\n",
      "number afferents included (spike thresh at least 0%): 61\n",
      "        exptname    animal   stretch       tau    offset    max_fsl  \\\n",
      "1   20200129_003  20200129  5.002921 -0.017816  1.000000   9.532944   \n",
      "4   20200129_006  20200129  5.715809 -0.022154  1.000000   9.858215   \n",
      "7   20200129_009  20200129  5.451725 -0.015384  1.000000   9.357798   \n",
      "10  20200129_012  20200129  6.623366 -0.019459  1.000000  12.010008   \n",
      "1   20200531_001  20200531  6.964934 -0.020705  1.000000  11.347565   \n",
      "7   20200531_007  20200531  3.842939 -0.038101  2.673761  11.087392   \n",
      "\n",
      "           sse   df  \n",
      "1   103.435863   94  \n",
      "4    48.310496  108  \n",
      "7    43.739012   40  \n",
      "10   91.976468   85  \n",
      "1    56.609527  105  \n",
      "7   109.099794  105  \n"
     ]
    },
    {
     "data": {
      "image/png": "[encoded data removed]",
      "text/plain": [
       "<Figure size 144x288 with 1 Axes>"
      ]
     },
     "metadata": {},
     "output_type": "display_data"
    }
   ],
   "source": [
    "exptdate = 'all'\n",
    "# meta_df.to_csv('DF_AfferentPopulation_' + exptdate + '.csv')\n",
    "meta_df = pd.read_csv(top_dir / ('data_processed/DF_AfferentPopulation_' + exptdate + '.csv'))\n",
    "\n",
    "meta_params_df,expt_excluded = exclude_HighThreshAff(meta_df)\n",
    "\n",
    "well_fit,un_fit = assess_fits(meta_params_df)\n",
    "\n",
    "# meta_params_df = meta_params_df.dropna()\n",
    "data_df = well_fit\n",
    "dataset = list(zip(\n",
    "    data_df['stretch'],\n",
    "    data_df['tau'],\n",
    "    data_df['offset'],\n",
    "    data_df['max_fsl']\n",
    "    ))\n",
    "dataset = np.asarray(dataset)\n",
    "# dataset = dataset[:,0:3]\n",
    "\n",
    "rv = gaussian_kde(dataset[:,0:3].T)\n",
    "\n",
    "max_fsl_global = np.max(meta_params_df['max_fsl'])\n",
    "\n",
    "# plot_corr_matrix_multigauss(rv)\n",
    "filtered_df = meta_df[meta_df.exptname.str.match('|'.join(well_fit.exptname.values))]"
   ]
  },
  {
   "cell_type": "code",
   "execution_count": 9,
   "metadata": {},
   "outputs": [
    {
     "data": {
      "text/html": [
       "<div>\n",
       "<style scoped>\n",
       "    .dataframe tbody tr th:only-of-type {\n",
       "        vertical-align: middle;\n",
       "    }\n",
       "\n",
       "    .dataframe tbody tr th {\n",
       "        vertical-align: top;\n",
       "    }\n",
       "\n",
       "    .dataframe thead th {\n",
       "        text-align: right;\n",
       "    }\n",
       "</style>\n",
       "<table border=\"1\" class=\"dataframe\">\n",
       "  <thead>\n",
       "    <tr style=\"text-align: right;\">\n",
       "      <th></th>\n",
       "      <th>Unnamed: 0</th>\n",
       "      <th>time</th>\n",
       "      <th>code</th>\n",
       "      <th>ampshift</th>\n",
       "      <th>s0t</th>\n",
       "      <th>s0a</th>\n",
       "      <th>s1t</th>\n",
       "      <th>s1a</th>\n",
       "      <th>s2t</th>\n",
       "      <th>s2a</th>\n",
       "      <th>s3t</th>\n",
       "      <th>s3a</th>\n",
       "      <th>animalID</th>\n",
       "      <th>exptname</th>\n",
       "    </tr>\n",
       "  </thead>\n",
       "  <tbody>\n",
       "    <tr>\n",
       "      <th>0</th>\n",
       "      <td>5</td>\n",
       "      <td>1.885168</td>\n",
       "      <td>T</td>\n",
       "      <td>30.0</td>\n",
       "      <td>3.205342</td>\n",
       "      <td>17.364502</td>\n",
       "      <td>NaN</td>\n",
       "      <td>NaN</td>\n",
       "      <td>NaN</td>\n",
       "      <td>NaN</td>\n",
       "      <td>NaN</td>\n",
       "      <td>NaN</td>\n",
       "      <td>20200129</td>\n",
       "      <td>20200129_002</td>\n",
       "    </tr>\n",
       "    <tr>\n",
       "      <th>1</th>\n",
       "      <td>7</td>\n",
       "      <td>2.278948</td>\n",
       "      <td>T</td>\n",
       "      <td>10.0</td>\n",
       "      <td>3.981636</td>\n",
       "      <td>15.441895</td>\n",
       "      <td>NaN</td>\n",
       "      <td>NaN</td>\n",
       "      <td>NaN</td>\n",
       "      <td>NaN</td>\n",
       "      <td>NaN</td>\n",
       "      <td>NaN</td>\n",
       "      <td>20200129</td>\n",
       "      <td>20200129_002</td>\n",
       "    </tr>\n",
       "    <tr>\n",
       "      <th>2</th>\n",
       "      <td>9</td>\n",
       "      <td>2.672728</td>\n",
       "      <td>T</td>\n",
       "      <td>-20.0</td>\n",
       "      <td>NaN</td>\n",
       "      <td>NaN</td>\n",
       "      <td>NaN</td>\n",
       "      <td>NaN</td>\n",
       "      <td>NaN</td>\n",
       "      <td>NaN</td>\n",
       "      <td>NaN</td>\n",
       "      <td>NaN</td>\n",
       "      <td>20200129</td>\n",
       "      <td>20200129_002</td>\n",
       "    </tr>\n",
       "    <tr>\n",
       "      <th>3</th>\n",
       "      <td>11</td>\n",
       "      <td>3.066488</td>\n",
       "      <td>T</td>\n",
       "      <td>-40.0</td>\n",
       "      <td>NaN</td>\n",
       "      <td>NaN</td>\n",
       "      <td>NaN</td>\n",
       "      <td>NaN</td>\n",
       "      <td>NaN</td>\n",
       "      <td>NaN</td>\n",
       "      <td>NaN</td>\n",
       "      <td>NaN</td>\n",
       "      <td>20200129</td>\n",
       "      <td>20200129_002</td>\n",
       "    </tr>\n",
       "    <tr>\n",
       "      <th>4</th>\n",
       "      <td>13</td>\n",
       "      <td>3.460268</td>\n",
       "      <td>T</td>\n",
       "      <td>-10.0</td>\n",
       "      <td>5.734558</td>\n",
       "      <td>15.502930</td>\n",
       "      <td>NaN</td>\n",
       "      <td>NaN</td>\n",
       "      <td>NaN</td>\n",
       "      <td>NaN</td>\n",
       "      <td>NaN</td>\n",
       "      <td>NaN</td>\n",
       "      <td>20200129</td>\n",
       "      <td>20200129_002</td>\n",
       "    </tr>\n",
       "  </tbody>\n",
       "</table>\n",
       "</div>"
      ],
      "text/plain": [
       "   Unnamed: 0      time code  ampshift       s0t        s0a  s1t  s1a  s2t  \\\n",
       "0           5  1.885168    T      30.0  3.205342  17.364502  NaN  NaN  NaN   \n",
       "1           7  2.278948    T      10.0  3.981636  15.441895  NaN  NaN  NaN   \n",
       "2           9  2.672728    T     -20.0       NaN        NaN  NaN  NaN  NaN   \n",
       "3          11  3.066488    T     -40.0       NaN        NaN  NaN  NaN  NaN   \n",
       "4          13  3.460268    T     -10.0  5.734558  15.502930  NaN  NaN  NaN   \n",
       "\n",
       "   s2a  s3t  s3a  animalID      exptname  \n",
       "0  NaN  NaN  NaN  20200129  20200129_002  \n",
       "1  NaN  NaN  NaN  20200129  20200129_002  \n",
       "2  NaN  NaN  NaN  20200129  20200129_002  \n",
       "3  NaN  NaN  NaN  20200129  20200129_002  \n",
       "4  NaN  NaN  NaN  20200129  20200129_002  "
      ]
     },
     "execution_count": 9,
     "metadata": {},
     "output_type": "execute_result"
    }
   ],
   "source": [
    "## load multispike metadata\n",
    "\n",
    "meta_df = pd.read_csv(top_dir / 'data_processed/DF_Afferent_MultiSpikePop_ALL.csv')\n",
    "\n",
    "meta_df.head()"
   ]
  },
  {
   "cell_type": "code",
   "execution_count": 10,
   "metadata": {},
   "outputs": [],
   "source": [
    "x = np.asarray([-40,-30,-20,-10,-5,0,5,10,20,30,40])\n",
    "n_inputs = 4"
   ]
  },
  {
   "cell_type": "markdown",
   "metadata": {},
   "source": [
    "# Example model waveforms"
   ]
  },
  {
   "cell_type": "markdown",
   "metadata": {},
   "source": [
    "## initialize model"
   ]
  },
  {
   "cell_type": "code",
   "execution_count": 11,
   "metadata": {},
   "outputs": [],
   "source": [
    "## set up stimamp values\n",
    "N_inputs = 4\n",
    "N_runs = 1\n",
    "\n",
    "x = np.asarray([-40,-30,-20,-10,-5,0,5,10,20,30,40])\n",
    "\n",
    "meta_params = {\n",
    "    'N_inputs' : N_inputs*4, # 7 inputs with 4 possible spikes each\n",
    "    'N_runs' : N_runs,\n",
    "    'duration' : 0.05*second,\n",
    "    'onset_offset' : 0, # 5msec is for figure making because data plotted with 5msec pre-stimonset #4.5,\n",
    "    'tau_e1' : 4*ms,\n",
    "    'tau_e2' : 1*ms,#ms, time of normal stimulus onset relative to cmd\n",
    "    'e_lmi_delay' : 4*ms #ms\n",
    "}\n",
    "\n",
    "invpeak = (meta_params['tau_e2'] / meta_params['tau_e1']) ** \\\n",
    "        (meta_params['tau_e1'] / (meta_params['tau_e2'] - meta_params['tau_e1']))\n",
    "\n",
    "namespace_sim = {\n",
    "    'sim_dt' : 0.1*ms,\n",
    "    'Cm' : 6*pF,\n",
    "    'E_l' : -70*mV,\n",
    "    'g_l' : 1*nS, # a 1MOhm cell has gl = 1*nS\n",
    "    'E_e' : 0*mV,\n",
    "    'E_e_lmi' : -90*mV,\n",
    "    'V_th' : 0*mV,\n",
    "    'V_r' : -70*mV,\n",
    "    'w_e' : 0.1*nS,\n",
    "    'w_e_lmi' : 4*nS, #0*nS,##0,#either on and off... weight by logistic 0*nS,\n",
    "    'tau_e1' : 4*ms,\n",
    "    'tau_e2' : 1*ms,\n",
    "    'tau_e_lmi' : 5*ms,\n",
    "    'invpeak' : invpeak\n",
    "}\n"
   ]
  },
  {
   "cell_type": "markdown",
   "metadata": {},
   "source": [
    "get an afferent set"
   ]
  },
  {
   "cell_type": "code",
   "execution_count": 13,
   "metadata": {
    "scrolled": false
   },
   "outputs": [],
   "source": [
    "\n",
    "\n",
    "### subsample from data\n",
    "\n",
    "meta_params['e_lmi_delay']=4*ms #ms\n",
    "    \n",
    "net = initialize_model(namespace_sim,meta_params) \n",
    "#initialized with max inputs going to test so don't have to recreate\n",
    "net.store('intialized',filename=sim_filepath) \n",
    "\n",
    "multispike = get_afferents_subsampled(meta_df,N_inputs)\n",
    "\n"
   ]
  },
  {
   "cell_type": "markdown",
   "metadata": {},
   "source": [
    "OR Load Pre-existing afferent set:\n"
   ]
  },
  {
   "cell_type": "code",
   "execution_count": 14,
   "metadata": {},
   "outputs": [],
   "source": [
    "# multispike = np.load(figure_folder / 'ExampleModelResponses_0_MultispikeInputTimes',multispike,allow_pickle=False)\n",
    "multispike_example_input = np.load(top_dir / 'data_processed/ExampleModelResponses_0_MultispikeInputTimes.npy')\n",
    "multispike = multispike_example_input\n",
    "# /Users/kperks/mnt/engram_share/locker/GranularCellPaperResources/Figure_RawEPScomponents/ExampleModelResponses_0_MultispikeInputTimes.npy"
   ]
  },
  {
   "cell_type": "code",
   "execution_count": 15,
   "metadata": {},
   "outputs": [
    {
     "data": {
      "text/plain": [
       "(4, 4)"
      ]
     },
     "execution_count": 15,
     "metadata": {},
     "output_type": "execute_result"
    }
   ],
   "source": [
    "#if need to get fsls... can reshape each pop response to stim by doing... then getting first val in each row\n",
    "np.shape(multispike_example_input[10].reshape(4,-1)) "
   ]
  },
  {
   "cell_type": "markdown",
   "metadata": {},
   "source": [
    "first get reponses without inhibition for this set of afferents\n",
    "calculate the amp and sum at lmi onset"
   ]
  },
  {
   "cell_type": "code",
   "execution_count": 16,
   "metadata": {},
   "outputs": [
    {
     "data": {
      "image/png": "[encoded data removed]",
      "text/plain": [
       "<Figure size 108x108 with 1 Axes>"
      ]
     },
     "metadata": {},
     "output_type": "display_data"
    }
   ],
   "source": [
    "namespace_sim['w_e_lmi'] = 0*nS\n",
    "namespace_sim['Cm'] = 12*pF\n",
    "### subsample from data\n",
    "net = initialize_model(namespace_sim,meta_params) \n",
    "#initialized with max inputs going to test so don't have to recreate\n",
    "net.store('intialized',filename=sim_filepath) \n",
    "\n",
    "R_wav = []\n",
    "for _,y in enumerate(multispike):\n",
    "    net.restore('intialized',filename=sim_filepath) # this resets simulation clock to 0\n",
    "        # the state of the system at time of restore should affect the network operation accordingly\n",
    "\n",
    "    y = y[~np.isnan(y)] # remove nan values from array of spike times\n",
    "    spk_t_aff = np.asarray(y)*ms # create spike time array for SpikeGeneratorGroup, sorted\n",
    "    ind_aff = np.empty(0) # create default afferent index array in case all were nan\n",
    "\n",
    "    spk_t_lmi = np.empty(0)*ms # create default lmi spike time in case where no afferent input (all nan)\n",
    "    ind_lmi = np.empty(0) # create default lmi index array in case all were nan\n",
    "\n",
    "    if len(y)!=0: # if not all were nan, create index array for afferent spikes, lmi neuron, and lmi spike\n",
    "        ind_aff = np.arange(len(y))\n",
    "        ind_lmi = np.arange(1)\n",
    "        spk_t_lmi = [np.min(y)]*ms\n",
    "\n",
    "    # update SpikeGeneratorGroup neuron indices and spikes\n",
    "    net['aff_input'].set_spikes(ind_aff,spk_t_aff)\n",
    "    net['lmi_input'].set_spikes(ind_lmi,spk_t_lmi)\n",
    "\n",
    "    net.run(duration = meta_params['duration'])\n",
    "\n",
    "    r =net['state_mon'].v/mV+70 # set r to voltage trace from simulation trial\n",
    "    R_wav.append(r)\n",
    "    \n",
    "    xtime = net['state_mon'].t\n",
    "    \n",
    "#     if len(y)>0:\n",
    "#         print(_)\n",
    "#         print(np.sum(r[0,argmin((np.min(y))>(xtime/ms)):argmin((np.min(y)+4)>(xtime/ms))].T))\n",
    "#         print(np.max(r[0,argmin((np.min(y))>(xtime/ms)):argmin((np.min(y)+4)>(xtime/ms))].T))\n",
    "    \n",
    "\n",
    "R_wav = (np.asarray(R_wav).squeeze())\n",
    "\n",
    "colinds = plt.cm.plasma(np.linspace(0.2,0.85,11))\n",
    "order = np.linspace(10,0,11)\n",
    "hfig,ax = create_fig()\n",
    "# plt.figure()\n",
    "for i,w in enumerate(R_wav):\n",
    "    ax.plot(xtime*1000,w,color=colinds[i],zorder=order[i],linewidth=0.5);\n",
    "sns.despine(hfig)\n",
    "ax.set_xticks(np.arange(0,55,10))\n",
    "plt.xlim(0,50)\n",
    "ax.set_yticks([5,10])\n",
    "ax.set_frame_on(True)\n",
    "yax = ax.spines[\"left\"]\n",
    "yax.set_visible(False)\n",
    "ax.set_xlabel('Time after stimulus (ms)');\n",
    "    \n",
    "    \n",
    "figsave(figure_folder,'Fig5_ExampleModelResponses_0_NoInhib_Cm12pF')"
   ]
  },
  {
   "cell_type": "code",
   "execution_count": 17,
   "metadata": {},
   "outputs": [
    {
     "name": "stdout",
     "output_type": "stream",
     "text": [
      "[  0.           6.68251639  22.23362903  57.15736409  75.72267638\n",
      " 107.01673981 128.65489881 144.76788667 168.0808483  180.96633829\n",
      " 197.25074787]\n"
     ]
    },
    {
     "data": {
      "image/png": "[encoded data removed]",
      "text/plain": [
       "<Figure size 1080x216 with 11 Axes>"
      ]
     },
     "metadata": {},
     "output_type": "display_data"
    },
    {
     "data": {
      "image/png": "[encoded data removed]",
      "text/plain": [
       "<Figure size 108x108 with 1 Axes>"
      ]
     },
     "metadata": {},
     "output_type": "display_data"
    }
   ],
   "source": [
    "meta_params ['e_lmi_delay'] = 4*ms #ms\n",
    "\n",
    "namespace_sim ['Cm'] = 6*pF\n",
    "\n",
    "w = [0.5,0.7,1,1.5,1.5,2,2,2,3,4,4]\n",
    "    \n",
    "R_wav = [] # initialize array to store the result of each run\n",
    "\n",
    "\n",
    "for w_,y in zip(w,multispike):\n",
    "#         print(t_,w_)\n",
    "    namespace_sim['w_e_lmi'] = w_*nS\n",
    "    \n",
    "    net = initialize_model(namespace_sim,meta_params) \n",
    "    #initialized with max inputs going to test so don't have to recreate\n",
    "    net.store('intialized',filename=sim_filepath) \n",
    "    \n",
    "    # y = multispike[ampind,:]\n",
    "    y = y[~np.isnan(y)] # remove nan values from array of spike times\n",
    "    spk_t_aff = np.asarray(y)*ms # create spike time array for SpikeGeneratorGroup, sorted\n",
    "    ind_aff = np.empty(0) # create default afferent index array in case all were nan\n",
    "\n",
    "    spk_t_lmi = np.empty(0)*ms # create default lmi spike time in case where no afferent input (all nan)\n",
    "    ind_lmi = np.empty(0) # create default lmi index array in case all were nan\n",
    "\n",
    "    if len(y)!=0: # if not all were nan, create index array for afferent spikes, lmi neuron, and lmi spike\n",
    "        ind_aff = np.arange(len(y))\n",
    "        ind_lmi = np.arange(1)\n",
    "        spk_t_lmi = [np.min(y)]*ms\n",
    "\n",
    "    # update SpikeGeneratorGroup neuron indices and spikes\n",
    "    net['aff_input'].set_spikes(ind_aff,spk_t_aff)\n",
    "    net['lmi_input'].set_spikes(ind_lmi,spk_t_lmi)\n",
    "\n",
    "    net.run(duration = meta_params['duration'])\n",
    "\n",
    "    r =net['state_mon'].v/mV+70 # set r to voltage trace from simulation trial\n",
    "\n",
    "    R_wav.append(r)\n",
    "#             r = r.reshape(-1)\n",
    "\n",
    "# containers for storing across different inhib and afferent input params:\n",
    "# R_amp_mat.append(np.nanmean(R_amp,1)) # append the average across runs for these #aff and this inhib delay\n",
    "# R_amp_mat_subsamp = np.asarray(R_amp_mat)\\\n",
    "\n",
    "# R_wav = np.asarray(R_wav).reshape(11,-1).T\n",
    "xtime = net['state_mon'].t\n",
    "R_wav = (np.asarray(R_wav).squeeze())\n",
    "\n",
    "hfig,ax = plt.subplots(1,len(w),figsize=(15,3))\n",
    "\n",
    "_ = 0\n",
    "for j,w_ in enumerate(w):\n",
    "    ax[j].plot(xtime,R_wav[_,:])\n",
    "    ax[j].set_ylim(-5,20)\n",
    "#     ax[j].vlines(np.min(y)/1000,0,15)\n",
    "#     ax[j].vlines((np.min(y)+4)/1000,0,15)\n",
    "    _+=1\n",
    "    ax[j].set_title('weight = ' + str(w_))\n",
    "\n",
    "figsave(figure_folder,'Fig5_ExampleModelResponses_0_Inhib_ByWeightLMI')\n",
    "#     \n",
    "print(np.sum(R_wav[:,argmin((np.min(y))>(xtime/ms)):argmin((np.min(y)+4)>(xtime/ms))].T,0))\n",
    "\n",
    "colinds = plt.cm.plasma(np.linspace(0.2,0.85,11))\n",
    "order = np.linspace(10,0,11)\n",
    "hfig,ax = create_fig()\n",
    "for i,w in enumerate(R_wav):\n",
    "    ax.plot(xtime*1000,w,color=colinds[i],zorder=order[i],linewidth=0.5);\n",
    "    \n",
    "sns.despine(hfig)\n",
    "ax.set_xticks(np.arange(0,55,10))\n",
    "plt.xlim(0,50)\n",
    "ax.set_yticks([0,5])\n",
    "ax.set_frame_on(True)\n",
    "yax = ax.spines[\"left\"]\n",
    "yax.set_visible(False)\n",
    "ax.set_xlabel('Time after stimulus (ms)');\n",
    "    \n",
    "figsave(figure_folder,'Fig5_ExampleModelResponses_0_Inhib')"
   ]
  },
  {
   "cell_type": "code",
   "execution_count": 322,
   "metadata": {},
   "outputs": [],
   "source": [
    "## Use this function to save a different example set of inputs\n",
    "# np.save('filepath to save',multispike,allow_pickle=False)"
   ]
  },
  {
   "cell_type": "markdown",
   "metadata": {},
   "source": [
    "# Plot sample afferent input tuning curves for each condition"
   ]
  },
  {
   "cell_type": "code",
   "execution_count": 20,
   "metadata": {},
   "outputs": [],
   "source": [
    "results_path = top_dir / 'data_processed'"
   ]
  },
  {
   "cell_type": "code",
   "execution_count": 21,
   "metadata": {},
   "outputs": [],
   "source": [
    "size_dict = {\n",
    "    '1' : 10,\n",
    "    '2' : 30,\n",
    "    '3' : 50,\n",
    "    '4' : 70,\n",
    "    '5' : 90\n",
    "}"
   ]
  },
  {
   "cell_type": "code",
   "execution_count": 22,
   "metadata": {},
   "outputs": [
    {
     "data": {
      "image/png": "[encoded data removed]",
      "text/plain": [
       "<Figure size 86.4x108 with 1 Axes>"
      ]
     },
     "metadata": {},
     "output_type": "display_data"
    }
   ],
   "source": [
    "# multispike,fsl = get_afferents_subsampled(n_inputs)\n",
    "# np.save(results_path / 'multispike_sub_4.npy', multispike)\n",
    "multispike = np.load(results_path / 'multispike_sub_4.npy')\n",
    "\n",
    "color = 'black'\n",
    "\n",
    "# maxnumaff = 1\n",
    "df = pd.DataFrame(np.round(multispike,1).T,columns=[x])\n",
    "\n",
    "dfmelted = pd.melt(df,value_vars=[x],var_name = 'stimamp', value_name='latency')\n",
    "\n",
    "df_plot = dfmelted.groupby(dfmelted.columns.tolist(),as_index=False).size()\n",
    "df_plot['size']=df_plot['size'].astype('str')\n",
    "\n",
    "# hfig,ax = create_fig_tuning()\n",
    "# [ax.scatter(x_.repeat(4*n_inputs),y_,color='white',alpha=0.25,\n",
    "#            s=10,edgecolors='purple') for x_,y_ in zip(x,multispike_homogisi)];\n",
    "hfig,ax = create_fig_tuning()\n",
    "sns.scatterplot(x=\"stimamp\", y=\"latency\", size=\"size\",\n",
    "            sizes=size_dict, alpha=.5, color=color,\n",
    "            ax=ax, legend=False, data=df_plot)\n",
    "\n",
    "ax.set_ylim(1.5,12)\n",
    "ax.set_ylabel('Spike latency (msec)')\n",
    "ax.set_xlabel('Stimulus amplitude \\n (% change)',linespacing=0.75)\n",
    "ax.set_xlim(-47,47)\n",
    "xticks([-40,-20,0,20,40]);\n",
    "\n",
    "\n",
    "figsave(figure_folder,'Fig5_ModelSimulation_AfferentInputPop_subsamp4')"
   ]
  },
  {
   "cell_type": "code",
   "execution_count": 228,
   "metadata": {},
   "outputs": [
    {
     "data": {
      "image/png": "[encoded data removed]",
      "text/plain": [
       "<Figure size 86.4x108 with 1 Axes>"
      ]
     },
     "metadata": {},
     "output_type": "display_data"
    }
   ],
   "source": [
    "# multispike = generate_y_fit_multispike_homogisi(x,n_inputs,dataset,rv)\n",
    "# np.save(results_path / 'multispike_homogisi.npy', multispike)\n",
    "multispike = np.load(results_path / 'multispike_homogisi.npy')\n",
    "\n",
    "color = 'purple'\n",
    "\n",
    "df = pd.DataFrame(np.round(multispike,1).T,columns=[x])\n",
    "\n",
    "dfmelted = pd.melt(df,value_vars=[x],var_name = 'stimamp', value_name='latency')\n",
    "\n",
    "df_plot = dfmelted.groupby(dfmelted.columns.tolist(),as_index=False).size()\n",
    "\n",
    "df_plot['size']=df_plot['size'].astype('str')\n",
    "\n",
    "# hfig,ax = create_fig_tuning()\n",
    "# [ax.scatter(x_.repeat(4*n_inputs),y_,color='white',alpha=0.25,\n",
    "#            s=10,edgecolors='purple') for x_,y_ in zip(x,multispike_homogisi)];\n",
    "hfig,ax = create_fig_tuning()\n",
    "sns.scatterplot(x=\"stimamp\", y=\"latency\", size=\"size\",\n",
    "            sizes=size_dict, alpha=.5, color=color,\n",
    "            ax=ax, legend=False, data=df_plot)\n",
    "\n",
    "ax.set_ylim(1.5,12)\n",
    "ax.set_ylabel('Spike latency (msec)')\n",
    "ax.set_xlabel('Stimulus amplitude \\n (% change)',linespacing=0.75)\n",
    "ax.set_xlim(-47,47)\n",
    "xticks([-40,-20,0,20,40]);\n",
    "figsave(figure_folder,'Fig5_ModelSimulation_AfferentInputPop_homogisi')"
   ]
  },
  {
   "cell_type": "code",
   "execution_count": 231,
   "metadata": {},
   "outputs": [
    {
     "data": {
      "image/png": "[encoded data removed]",
      "text/plain": [
       "<Figure size 86.4x108 with 1 Axes>"
      ]
     },
     "metadata": {},
     "output_type": "display_data"
    }
   ],
   "source": [
    "multispike,fsl = generate_y_fit_multispike_gauss(x,n_inputs,dataset,rv)\n",
    "np.save(results_path / 'multispike_homogpspike.npy', multispike)\n",
    "\n",
    "multispike = np.load(results_path / 'multispike_homogpspike.npy')\n",
    "\n",
    "color = 'orange'\n",
    "\n",
    "df = pd.DataFrame(np.round(multispike,1).T,columns=[x])\n",
    "\n",
    "dfmelted = pd.melt(df,value_vars=[x],var_name = 'stimamp', value_name='latency')\n",
    "\n",
    "df_plot = dfmelted.groupby(dfmelted.columns.tolist(),as_index=False).size()\n",
    "\n",
    "df_plot['size']=df_plot['size'].astype('str')\n",
    "\n",
    "# hfig,ax = create_fig_tuning()\n",
    "# [ax.scatter(x_.repeat(4*n_inputs),y_,color='white',alpha=0.25,\n",
    "#            s=10,edgecolors='purple') for x_,y_ in zip(x,multispike_homogisi)];\n",
    "hfig,ax = create_fig_tuning()\n",
    "sns.scatterplot(x=\"stimamp\", y=\"latency\", size=\"size\",\n",
    "            sizes=size_dict, alpha=.5, color=color,\n",
    "            ax=ax, legend=False, data=df_plot)\n",
    "\n",
    "ax.set_ylim(1.5,12)\n",
    "ax.set_ylabel('Spike latency (msec)')\n",
    "ax.set_xlabel('Stimulus amplitude \\n (% change)',linespacing=0.75)\n",
    "ax.set_xlim(-47,47)\n",
    "xticks([-40,-20,0,20,40]);\n",
    "figsave(figure_folder,'Fig5_ModelSimulation_AfferentInputPop_homogpspike')\n",
    "\n"
   ]
  },
  {
   "cell_type": "code",
   "execution_count": 232,
   "metadata": {},
   "outputs": [
    {
     "data": {
      "image/png": "[encoded data removed]",
      "text/plain": [
       "<Figure size 86.4x108 with 1 Axes>"
      ]
     },
     "metadata": {},
     "output_type": "display_data"
    }
   ],
   "source": [
    "multispike,fsl = generate_y_fit_multispike_homog(x,n_inputs,dataset,rv)\n",
    "\n",
    "np.save(results_path / 'multispike_homog.npy', multispike)\n",
    "\n",
    "multispike = np.load(results_path / 'multispike_homog.npy')\n",
    "\n",
    "color = 'blue'\n",
    "\n",
    "df = pd.DataFrame(np.round(multispike,1).T,columns=[x])\n",
    "\n",
    "dfmelted = pd.melt(df,value_vars=[x],var_name = 'stimamp', value_name='latency')\n",
    "\n",
    "df_plot = dfmelted.groupby(dfmelted.columns.tolist(),as_index=False).size()\n",
    "\n",
    "df_plot['size']=df_plot['size'].astype('str')\n",
    "\n",
    "# hfig,ax = create_fig_tuning()\n",
    "# [ax.scatter(x_.repeat(4*n_inputs),y_,color='white',alpha=0.25,\n",
    "#            s=10,edgecolors='purple') for x_,y_ in zip(x,multispike_homogisi)];\n",
    "hfig,ax = create_fig_tuning()\n",
    "sns.scatterplot(x=\"stimamp\", y=\"latency\", size=\"size\",\n",
    "            sizes=size_dict, alpha=.5, color=color,\n",
    "            ax=ax, legend=False, data=df_plot)\n",
    "\n",
    "ax.set_ylim(1.5,12)\n",
    "ax.set_ylabel('Spike latency (msec)')\n",
    "ax.set_xlabel('Stimulus amplitude \\n (% change)',linespacing=0.75)\n",
    "ax.set_xlim(-47,47)\n",
    "xticks([-40,-20,0,20,40]);\n",
    "figsave(figure_folder,'Fig5_ModelSimulation_AfferentInputPop_homogall')\n",
    "\n"
   ]
  },
  {
   "cell_type": "markdown",
   "metadata": {},
   "source": [
    "# Model DGC"
   ]
  },
  {
   "cell_type": "markdown",
   "metadata": {},
   "source": [
    "## Initialize"
   ]
  },
  {
   "cell_type": "code",
   "execution_count": 23,
   "metadata": {},
   "outputs": [],
   "source": [
    "meta_params = {\n",
    "    'N_inputs' : n_inputs*4, # 7 inputs with 4 possible spikes each\n",
    "    'N_runs' : 100,\n",
    "    'duration' : 0.05*second,\n",
    "    'onset_offset' : 0, # 5msec is for figure making because data plotted with 5msec pre-stimonset #4.5,\n",
    "    'tau_e1' : 4*ms,\n",
    "    'tau_e2' : 1*ms,#ms, time of normal stimulus onset relative to cmd\n",
    "    'e_lmi_delay' : 4*ms #ms\n",
    "}\n",
    "\n",
    "invpeak = (meta_params['tau_e2'] / meta_params['tau_e1']) ** \\\n",
    "        (meta_params['tau_e1'] / (meta_params['tau_e2'] - meta_params['tau_e1']))\n",
    "\n",
    "namespace_sim = {\n",
    "    'sim_dt' : 0.1*ms,\n",
    "    'Cm' : 6*pF,\n",
    "    'E_l' : -70*mV,\n",
    "    'g_l' : 1*nS, # a 1MOhm cell has gl = 1*nS\n",
    "    'E_e' : 0*mV,\n",
    "    'E_e_lmi' : -90*mV,\n",
    "    'V_th' : 0*mV,\n",
    "    'V_r' : -70*mV,\n",
    "    'w_e' : 0.1*nS,\n",
    "    'w_e_lmi' : 5*nS, #0*nS,##0,#either on and off... weight by logistic 0*nS,\n",
    "    'tau_e1' : 4*ms,\n",
    "    'tau_e2' : 1*ms,\n",
    "    'tau_e_lmi' : 5*ms,\n",
    "    'invpeak' : invpeak\n",
    "}\n",
    "\n"
   ]
  },
  {
   "cell_type": "markdown",
   "metadata": {},
   "source": [
    "## Do all 4 model conditions"
   ]
  },
  {
   "cell_type": "code",
   "execution_count": 234,
   "metadata": {
    "scrolled": false
   },
   "outputs": [],
   "source": [
    "n_runs = 100\n",
    "subsamp, homog_all, homog_isi, homog_pspike = run_4_model_conditions(x, n_runs, n_inputs)"
   ]
  },
  {
   "cell_type": "code",
   "execution_count": 242,
   "metadata": {},
   "outputs": [
    {
     "data": {
      "text/plain": [
       "{'amp': array([[ 2.82613441,  4.64370549,  8.39206015, ...,  0.        ,\n",
       "          0.        ,  0.        ],\n",
       "        [ 6.07879702,  5.5813473 ,  9.50008967, ...,  7.31562706,\n",
       "         12.00044691,  0.        ],\n",
       "        [ 6.85622798, 11.00529536, 10.74602919, ...,  6.3339422 ,\n",
       "         13.3528154 , 11.03439812],\n",
       "        ...,\n",
       "        [11.86757475, 13.85390868, 12.95369835, ..., 12.4738864 ,\n",
       "         15.4086111 , 11.81820399],\n",
       "        [11.87399865, 14.18381719, 12.80169256, ..., 13.87994404,\n",
       "         15.90947877, 12.90485362],\n",
       "        [12.32291842, 14.64783683, 13.16323994, ..., 14.66751725,\n",
       "         15.55613922, 14.04648338]]),\n",
       " 'dvdt': array([[0.7065336 , 1.16092637, 2.09801504, ...,        nan,        nan,\n",
       "                nan],\n",
       "        [1.51969925, 1.39533683, 2.37502242, ..., 1.82890677, 3.00011173,\n",
       "                nan],\n",
       "        [1.714057  , 2.75132384, 2.6865073 , ..., 1.58348555, 3.33820385,\n",
       "         2.75859953],\n",
       "        ...,\n",
       "        [2.96689369, 3.46347717, 3.23842459, ..., 3.1184716 , 3.85215278,\n",
       "         2.954551  ],\n",
       "        [2.96849966, 3.5459543 , 3.20042314, ..., 3.46998601, 3.97736969,\n",
       "         3.2262134 ],\n",
       "        [3.08072961, 3.66195921, 3.29080999, ..., 3.66687931, 3.8890348 ,\n",
       "         3.51162084]])}"
      ]
     },
     "execution_count": 242,
     "metadata": {},
     "output_type": "execute_result"
    }
   ],
   "source": [
    "homog_pspike"
   ]
  },
  {
   "cell_type": "markdown",
   "metadata": {},
   "source": [
    "## Plot results"
   ]
  },
  {
   "cell_type": "code",
   "execution_count": 244,
   "metadata": {},
   "outputs": [
    {
     "data": {
      "image/png": "[encoded data removed]",
      "text/plain": [
       "<Figure size 86.4x108 with 1 Axes>"
      ]
     },
     "metadata": {},
     "output_type": "display_data"
    }
   ],
   "source": [
    "### plot all 4 conditions overlaid\n",
    "\n",
    "hfig,ax = create_fig_tuning()\n",
    "ax.set_ylabel('Mean Response Amplitude \\n (mV)',linespacing=0.9)\n",
    "ax.set_xlabel('Stimulus amplitude \\n (% change)',linespacing=0.9)\n",
    "# ax.set_ylim(-5,105)\n",
    "ax.set_xlim(-47,47)\n",
    "xticks([-40,-20,0,20,40]);\n",
    "\n",
    "\n",
    "plt.errorbar(x,\n",
    "             np.mean(subsamp['amp'],1),\n",
    "             yerr=stats.sem(subsamp['amp'],1),marker='o',markersize=2,\n",
    "             linestyle=\"None\",color = sns.xkcd_rgb['black'], capsize=2)\n",
    "\n",
    "plt.errorbar(x,\n",
    "             np.mean(homog_all['amp'],1),\n",
    "             yerr=stats.sem(homog_all['amp'],1),marker='o',markersize=2,\n",
    "             linestyle=\"None\",color = sns.xkcd_rgb['blue'], capsize=2,zorder=3)\n",
    "\n",
    "plt.errorbar(x,\n",
    "             np.mean(homog_isi['amp'],1),\n",
    "             yerr=stats.sem(homog_isi['amp'],1),marker='o',markersize=2,\n",
    "             linestyle=\"None\",color = sns.xkcd_rgb['purple'], capsize=2,zorder=3)\n",
    "\n",
    "plt.errorbar(x,\n",
    "             np.mean(homog_pspike['amp'],1),\n",
    "             yerr=stats.sem(homog_pspike['amp'],1),marker='o',markersize=2,\n",
    "             linestyle=\"None\",color = sns.xkcd_rgb['orange'], capsize=2,zorder=3)\n",
    "\n",
    "\n",
    "sns.despine(hfig)\n",
    "figsave(figure_folder,'Fig5_ModelSimulation_AllFourConditions_DGC')"
   ]
  },
  {
   "cell_type": "markdown",
   "metadata": {},
   "source": [
    "# Model SGC"
   ]
  },
  {
   "cell_type": "markdown",
   "metadata": {},
   "source": [
    "## Initialize"
   ]
  },
  {
   "cell_type": "code",
   "execution_count": 11,
   "metadata": {},
   "outputs": [],
   "source": [
    "meta_params = {\n",
    "    'N_inputs' : n_inputs*4, # 7 inputs with 4 possible spikes each\n",
    "    'N_runs' : 100,\n",
    "    'duration' : 0.05*second,\n",
    "    'onset_offset' : 0, # 5msec is for figure making because data plotted with 5msec pre-stimonset #4.5,\n",
    "    'tau_e1' : 4*ms,\n",
    "    'tau_e2' : 1*ms,#ms, time of normal stimulus onset relative to cmd\n",
    "    'e_lmi_delay' : 4*ms #ms\n",
    "}\n",
    "\n",
    "invpeak = (meta_params['tau_e2'] / meta_params['tau_e1']) ** \\\n",
    "        (meta_params['tau_e1'] / (meta_params['tau_e2'] - meta_params['tau_e1']))\n",
    "\n",
    "namespace_sim = {\n",
    "    'sim_dt' : 0.1*ms,\n",
    "    'Cm' : 12*pF, #12*pF,\n",
    "    'E_l' : -70*mV,\n",
    "    'g_l' : 1*nS, # a 1MOhm cell has gl = 1*nS\n",
    "    'E_e' : 0*mV,\n",
    "    'E_e_lmi' : -90*mV,\n",
    "    'V_th' : 0*mV,\n",
    "    'V_r' : -70*mV,\n",
    "    'w_e' : 0.1*nS,\n",
    "    'w_e_lmi' : 0*nS, #0*nS,##0,#either on and off... weight by logistic 0*nS,\n",
    "    'tau_e1' : 4*ms,\n",
    "    'tau_e2' : 1*ms,\n",
    "    'tau_e_lmi' : 5*ms,\n",
    "    'invpeak' : invpeak\n",
    "}\n",
    "\n"
   ]
  },
  {
   "cell_type": "code",
   "execution_count": 249,
   "metadata": {
    "scrolled": false
   },
   "outputs": [],
   "source": [
    "n_runs = 100\n",
    "subsamp, homog_all, homog_isi, homog_pspike = run_4_model_conditions(x, n_runs, n_inputs)"
   ]
  },
  {
   "cell_type": "code",
   "execution_count": 250,
   "metadata": {},
   "outputs": [
    {
     "data": {
      "image/png": "[encoded data removed]",
      "text/plain": [
       "<Figure size 86.4x108 with 1 Axes>"
      ]
     },
     "metadata": {},
     "output_type": "display_data"
    }
   ],
   "source": [
    "### plot all 4 conditions overlaid\n",
    "\n",
    "hfig,ax = create_fig_tuning()\n",
    "ax.set_ylabel('Mean Response Amplitude \\n (mV)',linespacing=0.9)\n",
    "ax.set_xlabel('Stimulus amplitude \\n (% change)',linespacing=0.9)\n",
    "# ax.set_ylim(-5,105)\n",
    "ax.set_xlim(-47,47)\n",
    "xticks([-40,-20,0,20,40]);\n",
    "\n",
    "\n",
    "plt.errorbar(x,\n",
    "             np.mean(subsamp['amp'],1),\n",
    "             yerr=stats.sem(subsamp['amp'],1),marker='o',markersize=2,\n",
    "             linestyle=\"None\",color = sns.xkcd_rgb['black'], capsize=2)\n",
    "\n",
    "plt.errorbar(x,\n",
    "             np.mean(homog_all['amp'],1),\n",
    "             yerr=stats.sem(homog_all['amp'],1),marker='o',markersize=2,\n",
    "             linestyle=\"None\",color = sns.xkcd_rgb['blue'], capsize=2,zorder=3)\n",
    "\n",
    "plt.errorbar(x,\n",
    "             np.mean(homog_isi['amp'],1),\n",
    "             yerr=stats.sem(homog_isi['amp'],1),marker='o',markersize=2,\n",
    "             linestyle=\"None\",color = sns.xkcd_rgb['purple'], capsize=2,zorder=3)\n",
    "\n",
    "plt.errorbar(x,\n",
    "             np.mean(homog_pspike['amp'],1),\n",
    "             yerr=stats.sem(homog_pspike['amp'],1),marker='o',markersize=2,\n",
    "             linestyle=\"None\",color = sns.xkcd_rgb['orange'], capsize=2,zorder=3)\n",
    "\n",
    "sns.despine(hfig)\n",
    "figsave(figure_folder,'Fig5_ModelSimulation_AllFourConditions_SGC_12pF')"
   ]
  },
  {
   "cell_type": "markdown",
   "metadata": {},
   "source": [
    "# analyze simulation results from RunSimulation_hyperparameterize.py that saved results to h5"
   ]
  },
  {
   "cell_type": "code",
   "execution_count": 25,
   "metadata": {},
   "outputs": [],
   "source": [
    "def get_response_amp_atdelay(results,results_onset,lmi_delay):\n",
    "    amp = []\n",
    "    for i,rmat in enumerate(np.moveaxis(results, [0, 1, 2], [-1, -2, -3])):\n",
    "        rmat = rmat.T\n",
    "        ronset = results_onset[:,i]\n",
    "\n",
    "        t0ind = np.array([np.argmax(xtime>=r) for r in ronset]).astype('float')\n",
    "        t0ind[t0ind==0] = np.nan\n",
    "        tind = np.array([np.argmax(xtime>=(r+lmi_delay)) for r in ronset]).astype('float')\n",
    "        tind[tind==0] = np.nan\n",
    "\n",
    "        amp_ = []\n",
    "        for o,t,r in zip(t0ind,tind,rmat):\n",
    "            if np.isnan(o):\n",
    "                amp_.append(0)\n",
    "            if ~np.isnan(o):\n",
    "                amp_.append(r[int(t)]-r[int(o)])\n",
    "        amp.append(np.array(amp_).T)\n",
    "    amp = np.array(amp).T\n",
    "    return amp\n",
    "\n",
    "def get_response_amp_peak(results):\n",
    "    amp = []\n",
    "    for rmat in np.moveaxis(results, [0, 1, 2], [-1, -2, -3]):\n",
    "        amp_ = [np.max(r)-r[0] for r in rmat.T]\n",
    "        amp.append(np.array(amp_).T)\n",
    "    amp = np.array(amp).T\n",
    "    return amp"
   ]
  },
  {
   "cell_type": "code",
   "execution_count": 24,
   "metadata": {},
   "outputs": [],
   "source": [
    "results_path = top_dir / 'data_processed'\n",
    "results_path = results_path / 'simulation_results_4inputs.h5'\n"
   ]
  },
  {
   "cell_type": "code",
   "execution_count": 28,
   "metadata": {},
   "outputs": [
    {
     "data": {
      "image/png": "[encoded data removed]",
      "text/plain": [
       "<Figure size 432x288 with 1 Axes>"
      ]
     },
     "metadata": {},
     "output_type": "display_data"
    }
   ],
   "source": [
    "with h5py.File(results_path, 'a') as h5file:\n",
    "    group = h5file.get('results')\n",
    "    randtrial = randint(np.shape(np.array(group['subsamp']))[2])\n",
    "    plt.plot(np.array(group['subsamp'])[:,:,randtrial].T);"
   ]
  },
  {
   "cell_type": "code",
   "execution_count": 29,
   "metadata": {},
   "outputs": [
    {
     "name": "stdout",
     "output_type": "stream",
     "text": [
      "['homog_all', 'homog_all_onset', 'homog_isi', 'homog_isi_onset', 'homog_pspike', 'homog_pspike_onset', 'subsamp', 'subsamp_onset']\n",
      "['n_inputs', 'n_runs', 'stimamp', 'xtime']\n"
     ]
    }
   ],
   "source": [
    "h5file = h5py.File(results_path, 'r')\n",
    "\n",
    "\n",
    "print(list(h5file['results'].keys()))\n",
    "\n",
    "xtime = np.array(h5file['metadata']['xtime'])\n",
    "x = np.array(h5file['metadata']['stimamp'])\n",
    "subsamp = np.array(h5file['results']['subsamp'])\n",
    "\n",
    "subsamp = np.array(h5file['results']['subsamp'])\n",
    "homog_isi = np.array(h5file['results']['homog_isi'])\n",
    "homog_pspike = np.array(h5file['results']['homog_pspike'])\n",
    "homog_all = np.array(h5file['results']['homog_all'])\n",
    "\n",
    "subsamp_onset = np.array(h5file['results']['subsamp_onset'])\n",
    "homog_isi_onset = np.array(h5file['results']['homog_isi_onset'])\n",
    "homog_pspike_onset = np.array(h5file['results']['homog_pspike_onset'])\n",
    "homog_all_onset = np.array(h5file['results']['homog_all_onset'])\n",
    "\n",
    "print(list(h5file['metadata'].keys()))\n",
    "\n",
    "xtime = np.array(h5file['metadata']['xtime'])\n",
    "stimamp = np.array(h5file['metadata']['stimamp'])\n",
    "\n",
    "h5file.close()"
   ]
  },
  {
   "cell_type": "code",
   "execution_count": 18,
   "metadata": {},
   "outputs": [
    {
     "data": {
      "text/plain": [
       "(11, 500, 200)"
      ]
     },
     "execution_count": 18,
     "metadata": {},
     "output_type": "execute_result"
    }
   ],
   "source": [
    "np.shape(homog_isi)"
   ]
  },
  {
   "cell_type": "code",
   "execution_count": 28,
   "metadata": {},
   "outputs": [
    {
     "data": {
      "image/png": "[encoded data removed]",
      "text/plain": [
       "<Figure size 86.4x108 with 1 Axes>"
      ]
     },
     "metadata": {},
     "output_type": "display_data"
    }
   ],
   "source": [
    "lmi_delay = 2\n",
    "\n",
    "\n",
    "hfig,ax = create_fig_tuning()\n",
    "ax.set_ylabel('Mean Response Amplitude \\n (mV)',linespacing=0.9)\n",
    "ax.set_xlabel('Stimulus amplitude \\n (% change)',linespacing=0.9)\n",
    "# ax.set_ylim(0,17)\n",
    "ax.set_xlim(-47,47)\n",
    "xticks([-40,-20,0,20,40]);\n",
    "\n",
    "amp = get_response_amp_atdelay(subsamp,subsamp_onset,lmi_delay)\n",
    "plt.errorbar(x,\n",
    "             np.nanmean(amp,1),\n",
    "             yerr=stats.sem(amp,1,nan_policy='omit'),marker='o',markersize=2,\n",
    "             linestyle=\"None\",color = sns.xkcd_rgb['black'], capsize=2)\n",
    "\n",
    "amp = get_response_amp_atdelay(homog_all,homog_all_onset,lmi_delay)\n",
    "plt.errorbar(x,\n",
    "             np.nanmean(amp,1),\n",
    "             yerr=stats.sem(amp,1,nan_policy='omit'),marker='o',markersize=2,\n",
    "             linestyle=\"None\",color = sns.xkcd_rgb['blue'], capsize=2,zorder=3)\n",
    "\n",
    "amp = get_response_amp_atdelay(homog_isi,homog_isi_onset,lmi_delay)\n",
    "plt.errorbar(x,\n",
    "             np.nanmean(amp,1),\n",
    "             yerr=stats.sem(amp,1,nan_policy='omit'),marker='o',markersize=2,\n",
    "             linestyle=\"None\",color = sns.xkcd_rgb['purple'], capsize=2,zorder=3)\n",
    "\n",
    "amp = get_response_amp_atdelay(homog_pspike,homog_pspike_onset,lmi_delay)\n",
    "plt.errorbar(x,\n",
    "             np.nanmean(amp,1),\n",
    "             yerr=stats.sem(amp,1,nan_policy='omit'),marker='o',markersize=2,\n",
    "             linestyle=\"None\",color = sns.xkcd_rgb['orange'], capsize=2,zorder=3)\n",
    "\n",
    "\n",
    "sns.despine(hfig)\n",
    "figsave(figure_folder,'Fig5_ModelSimulation_AllFourConditions_DGC_2msecLMI')\n"
   ]
  },
  {
   "cell_type": "code",
   "execution_count": 295,
   "metadata": {},
   "outputs": [
    {
     "data": {
      "text/plain": [
       "<ErrorbarContainer object of 3 artists>"
      ]
     },
     "execution_count": 295,
     "metadata": {},
     "output_type": "execute_result"
    },
    {
     "data": {
      "image/png": "[encoded data removed]",
      "text/plain": [
       "<Figure size 86.4x108 with 1 Axes>"
      ]
     },
     "metadata": {},
     "output_type": "display_data"
    }
   ],
   "source": [
    "\n",
    "hfig,ax = create_fig_tuning()\n",
    "ax.set_ylabel('Mean Response Amplitude (mV)')\n",
    "ax.set_xlabel('Stimulus amplitude \\n (% change)',linespacing=0.75)\n",
    "# ax.set_ylim(-5,105)\n",
    "ax.set_xlim(-47,47)\n",
    "xticks([-40,-20,0,20,40]);\n",
    "\n",
    "amp = get_response_amp_peak(subsamp)\n",
    "plt.errorbar(x,\n",
    "             np.mean(amp,1),\n",
    "             yerr=stats.sem(amp,1),marker='o',markersize=2,\n",
    "             linestyle=\"None\",color = sns.xkcd_rgb['black'], capsize=2)\n",
    "\n",
    "amp = get_response_amp_peak(homog_isi)\n",
    "plt.errorbar(x,\n",
    "             np.mean(amp,1),\n",
    "             yerr=stats.sem(amp,1),marker='o',markersize=2,\n",
    "             linestyle=\"None\",color = sns.xkcd_rgb['purple'], capsize=2)\n",
    "\n",
    "amp = get_response_amp_peak(homog_pspike)\n",
    "plt.errorbar(x,\n",
    "             np.mean(amp,1),\n",
    "             yerr=stats.sem(amp,1),marker='o',markersize=2,\n",
    "             linestyle=\"None\",color = sns.xkcd_rgb['orange'], capsize=2)\n",
    "\n",
    "amp = get_response_amp_peak(homog_all)\n",
    "plt.errorbar(x,\n",
    "             np.mean(amp,1),\n",
    "             yerr=stats.sem(amp,1),marker='o',markersize=2,\n",
    "             linestyle=\"None\",color = sns.xkcd_rgb['grey'], capsize=2)"
   ]
  },
  {
   "cell_type": "markdown",
   "metadata": {},
   "source": [
    "### add no stimamp latency tuning condition"
   ]
  },
  {
   "cell_type": "code",
   "execution_count": 377,
   "metadata": {},
   "outputs": [],
   "source": [
    "def generate_y_fit_multispike_nolatencytuning_pspikevar(x,n_inputs,dataset,rv):\n",
    "    jitter_amp = 0.1 #(max jitter amp)\n",
    "    mean_val = 2\n",
    "    minfsl = np.array([mean_val+random.uniform(-jitter_amp,jitter_amp)]).repeat(11,-1)\n",
    "    offset_2 = 1.74 #(these are averages from empirical data in ms from first spikes)\n",
    "    offset_3 = 3.66\n",
    "    offset_4 = 6.37\n",
    "    t2 = minfsl + offset_2\n",
    "    t3 = minfsl + offset_3\n",
    "    t4 = minfsl + offset_4\n",
    "    basis = np.vstack([minfsl,t2,t3,t4]).T\n",
    "    \n",
    "    # select a subset of real afferent p(spike) to mimic\n",
    "    subset = random.choices(np.unique(meta_df['exptname']),k=n_inputs) #divide by 4 if multispike\n",
    "    multispike = []\n",
    "    # get spike times across stimamps\n",
    "    for expt_ in subset:\n",
    "        spkt = meta_df[meta_df['exptname'].isin([expt_])].groupby(['ampshift']).mean()[['s0t','s1t','s2t','s3t']].values\n",
    "        spk_mask = np.isnan(spkt)\n",
    "        y = basis.copy()\n",
    "        y[spk_mask] = np.nan\n",
    "        multispike.extend(y.T)\n",
    "    multispike = np.asarray(multispike).T\n",
    "    \n",
    "    return multispike\n",
    "    \n"
   ]
  },
  {
   "cell_type": "code",
   "execution_count": 380,
   "metadata": {},
   "outputs": [],
   "source": [
    "multispike = generate_y_fit_multispike_nolatencytuning_pspikevar(x,n_inputs,dataset,rv)"
   ]
  },
  {
   "cell_type": "code",
   "execution_count": 378,
   "metadata": {},
   "outputs": [
    {
     "name": "stderr",
     "output_type": "stream",
     "text": [
      "\r",
      "  0%|          | 0/50 [00:00<?, ?it/s]"
     ]
    },
    {
     "name": "stdout",
     "output_type": "stream",
     "text": [
      "doing no latency tuning (only p_spike) simulation\n"
     ]
    },
    {
     "name": "stderr",
     "output_type": "stream",
     "text": [
      "100%|██████████| 50/50 [01:14<00:00,  1.49s/it]\n"
     ]
    }
   ],
   "source": [
    "a = 4\n",
    "\n",
    "\n",
    "n_runs = 50\n",
    "n_inputs_list = [4,5,6,7]\n",
    "x = np.asarray([-40,-30,-20,-10,-5,0,5,10,20,30,40])\n",
    "sim_dt = 0.1\n",
    "# xtime = np.linspace(0,50,int(0.05/sim_dt*1000))\n",
    "\n",
    "meta_params = {\n",
    "    'N_inputs' : a*4, # 7 inputs with 4 possible spikes each\n",
    "    'N_runs' : n_runs,\n",
    "    'duration' : 0.05*second,\n",
    "    'onset_offset' : 0, # 5msec is for figure making because data plotted with 5msec pre-stimonset #4.5,\n",
    "    'tau_e1' : 4*ms,\n",
    "    'tau_e2' : 1*ms,#ms, time of normal stimulus onset relative to cmd\n",
    "    'e_lmi_delay' : 4*ms #ms\n",
    "}\n",
    "\n",
    "invpeak = (meta_params['tau_e2'] / meta_params['tau_e1']) ** \\\n",
    "        (meta_params['tau_e1'] / (meta_params['tau_e2'] - meta_params['tau_e1']))\n",
    "\n",
    "namespace_sim = {\n",
    "    'sim_dt' : sim_dt*ms,\n",
    "    'Cm' : 6*pF,\n",
    "    'E_l' : -70*mV,\n",
    "    'g_l' : 1*nS, # a 1MOhm cell has gl = 1*nS\n",
    "    'E_e' : 0*mV,\n",
    "    'E_e_lmi' : -90*mV,\n",
    "    'V_th' : 0*mV,\n",
    "    'V_r' : -70*mV,\n",
    "    'w_e' : 0.1*nS,\n",
    "    'w_e_lmi' : 0*nS, #0*nS,##0,#either on and off... weight by logistic 0*nS,\n",
    "    'tau_e1' : 4*ms,\n",
    "    'tau_e2' : 1*ms,\n",
    "    'tau_e_lmi' : 5*ms,\n",
    "    'invpeak' : invpeak\n",
    "}\n",
    "\n",
    "\n",
    "filename = 'simulation_results_'+ str(a) + 'inputs_nolatencytuning.h5'\n",
    "model_h5_resultspath = savepath / filename\n",
    "\n",
    "meta_params['N_inputs'] = a*4\n",
    "\n",
    "with h5py.File(model_h5_resultspath, 'a') as h5file:\n",
    "    group = h5file.require_group('results')\n",
    "    group = h5file.require_group('metadata')\n",
    "    group.create_dataset('stimamp',data=x)\n",
    "    # group.create_dataset('xtime',data=xtime) # get this from subsamp simulation\n",
    "    group.create_dataset('n_inputs',data=a)\n",
    "    group.create_dataset('n_runs',data=n_runs)\n",
    "\n",
    "############# def run_4_model_conditions(x, n_runs, n_inputs):\n",
    "# get a canonical multispike tuning function from fsl generative model and offsets with basic spike threshold at 12ms\n",
    "\n",
    "net = initialize_model(namespace_sim,meta_params) \n",
    "net.store('intialized',filename=sim_filepath) \n",
    "\n",
    "R_wavs = []\n",
    "onset = []\n",
    "print('doing no latency tuning (only p_spike) simulation')\n",
    "for _ in tqdm(range(n_runs)):\n",
    "\n",
    "    # get spike times for afferent population\n",
    "    multispike = generate_y_fit_multispike_nolatencytuning_pspikevar(x,n_inputs,dataset,rv)\n",
    "\n",
    "    R_wavs_ = [] # initialize array to store responses across stimulus set\n",
    "    onset_ = []\n",
    "    for y in multispike:\n",
    "        miny = np.NaN\n",
    "        net.restore('intialized',filename=sim_filepath) # this resets simulation clock to 0\n",
    "            # the state of the system at time of restore should affect the network operation accordingly\n",
    "        y = y[~np.isnan(y)] # remove nan values from array of spike times\n",
    "        spk_t_aff = np.asarray(y)*ms # create spike time array for SpikeGeneratorGroup, sorted\n",
    "        ind_aff = np.empty(0) # create default afferent index array in case all were nan\n",
    "\n",
    "        spk_t_lmi = np.empty(0)*ms # create default lmi spike time in case where no afferent input (all nan)\n",
    "        ind_lmi = np.empty(0) # create default lmi index array in case all were nan\n",
    "\n",
    "        if len(y)!=0: # if not all were nan, create index array for afferent spikes, lmi neuron, and lmi spike\n",
    "            ind_aff = np.arange(len(y))\n",
    "            ind_lmi = np.arange(1)\n",
    "            spk_t_lmi = [np.min(y)]*ms\n",
    "            miny = np.min(y)\n",
    "\n",
    "        # update SpikeGeneratorGroup neuron indices and spikes\n",
    "        net['aff_input'].set_spikes(ind_aff,spk_t_aff)\n",
    "        net['lmi_input'].set_spikes(ind_lmi,spk_t_lmi)\n",
    "\n",
    "        net.run(duration = meta_params['duration'])\n",
    "\n",
    "        r =net['state_mon'].v/mV # set r to voltage trace from simulation trial\n",
    "        R_wavs_.append(r.reshape(-1)) # append response for this stimamp to response mat across all stimamp\n",
    "        onset_.append(miny)\n",
    "\n",
    "    R_wavs.append(np.asarray(R_wavs_).T) #append the result from this run across stimamp\n",
    "    onset.append(np.asarray(onset_).T)\n",
    "\n",
    "R_wavs = np.asarray(R_wavs).T\n",
    "onset = np.asarray(onset).T\n",
    "\n",
    "with h5py.File(model_h5_resultspath, 'a') as h5file:\n",
    "    group = h5file.get('results')\n",
    "    group.create_dataset('pspike_nolattuning',data = R_wavs)\n",
    "    group.create_dataset('pspike_nolattuning_onset',data = onset)"
   ]
  },
  {
   "cell_type": "code",
   "execution_count": 384,
   "metadata": {},
   "outputs": [],
   "source": [
    "results_path_ = top_dir / 'data_processed'\n",
    "results_path = results_path_ / 'simulation_results_4inputs_nolatencytuning.h5'\n",
    "# results_path = results_path_ / 'simulation_results_4inputs.h5'"
   ]
  },
  {
   "cell_type": "code",
   "execution_count": 369,
   "metadata": {},
   "outputs": [
    {
     "name": "stdout",
     "output_type": "stream",
     "text": [
      "['homog_all', 'homog_all_onset', 'homog_isi', 'homog_isi_onset', 'homog_pspike', 'homog_pspike_onset', 'subsamp', 'subsamp_onset']\n"
     ]
    }
   ],
   "source": [
    "h5file = h5py.File(results_path, 'r')\n",
    "\n",
    "print(list(h5file['results'].keys()))\n",
    "h5file.close()"
   ]
  },
  {
   "cell_type": "code",
   "execution_count": 385,
   "metadata": {
    "code_folding": []
   },
   "outputs": [
    {
     "name": "stdout",
     "output_type": "stream",
     "text": [
      "['homog_all', 'homog_all_onset', 'homog_isi', 'homog_isi_onset', 'homog_pspike', 'homog_pspike_onset', 'subsamp', 'subsamp_onset']\n",
      "175\n",
      "['pspike_nolattuning', 'pspike_nolattuning_onset']\n",
      "9\n"
     ]
    },
    {
     "data": {
      "image/png": "[encoded data removed]",
      "text/plain": [
       "<Figure size 432x288 with 1 Axes>"
      ]
     },
     "metadata": {},
     "output_type": "display_data"
    },
    {
     "data": {
      "image/png": "[encoded data removed]",
      "text/plain": [
       "<Figure size 432x288 with 1 Axes>"
      ]
     },
     "metadata": {},
     "output_type": "display_data"
    }
   ],
   "source": [
    "\n",
    "results_path = results_path_ / 'simulation_results_4inputs.h5'\n",
    "with h5py.File(results_path, 'r') as h5file:\n",
    "    group = h5file.get('results')\n",
    "    print(list(h5file['results'].keys()))\n",
    "    randtrial = randint(np.shape(np.array(group['subsamp']))[2])\n",
    "    print(randtrial)\n",
    "    plt.figure()\n",
    "    plt.plot(xtime,np.array(group['subsamp'])[:,:,randtrial].T);\n",
    "    \n",
    "results_path = results_path_ / 'simulation_results_4inputs_nolatencytuning.h5'\n",
    "with h5py.File(results_path, 'r') as h5file:\n",
    "    group = h5file.get('results')\n",
    "    print(list(h5file['results'].keys()))\n",
    "    randtrial = randint(np.shape(np.array(group['pspike_nolattuning']))[2])\n",
    "    print(randtrial)\n",
    "    plt.figure()\n",
    "    plt.plot(xtime,np.array(group['pspike_nolattuning'])[:,:,randtrial].T);"
   ]
  },
  {
   "cell_type": "code",
   "execution_count": 386,
   "metadata": {},
   "outputs": [
    {
     "name": "stdout",
     "output_type": "stream",
     "text": [
      "['pspike_nolattuning', 'pspike_nolattuning_onset']\n"
     ]
    }
   ],
   "source": [
    "h5file = h5py.File(results_path, 'r')\n",
    "\n",
    "print(list(h5file['results'].keys()))\n",
    "\n",
    "homog_isi_nolattuning = np.array(h5file['results']['pspike_nolattuning'])\n",
    "homog_isi_nolatshift_onset = np.array(h5file['results']['pspike_nolattuning_onset'])\n",
    "\n",
    "# print(list(h5file['metadata'].keys()))\n",
    "\n",
    "# xtime = np.array(h5file['metadata']['xtime'])\n",
    "# stimamp = np.array(h5file['metadata']['stimamp'])\n",
    "\n",
    "h5file.close()"
   ]
  },
  {
   "cell_type": "code",
   "execution_count": 387,
   "metadata": {},
   "outputs": [
    {
     "data": {
      "text/plain": [
       "<ErrorbarContainer object of 3 artists>"
      ]
     },
     "execution_count": 387,
     "metadata": {},
     "output_type": "execute_result"
    },
    {
     "data": {
      "image/png": "[encoded data removed]",
      "text/plain": [
       "<Figure size 86.4x108 with 1 Axes>"
      ]
     },
     "metadata": {},
     "output_type": "display_data"
    },
    {
     "data": {
      "image/png": "[encoded data removed]",
      "text/plain": [
       "<Figure size 86.4x108 with 1 Axes>"
      ]
     },
     "metadata": {},
     "output_type": "display_data"
    }
   ],
   "source": [
    "lmi_delay = 4\n",
    "\n",
    "hfig,ax = create_fig_tuning()\n",
    "ax.set_ylabel('Mean Response Amplitude (mV)')\n",
    "ax.set_xlabel('Stimulus amplitude \\n (% change)',linespacing=0.75)\n",
    "# ax.set_ylim(-5,105)\n",
    "ax.set_xlim(-47,47)\n",
    "xticks([-40,-20,0,20,40]);\n",
    "\n",
    "amp = get_response_amp_atdelay(subsamp,subsamp_onset,lmi_delay)\n",
    "plt.errorbar(x,\n",
    "             np.nanmean(amp,1),\n",
    "             yerr=stats.sem(amp,1),marker='o',markersize=2,\n",
    "             linestyle=\"None\",color = sns.xkcd_rgb['black'], capsize=2)\n",
    "\n",
    "amp = get_response_amp_atdelay(homog_isi,homog_isi_onset,lmi_delay)\n",
    "plt.errorbar(x,\n",
    "             np.nanmean(amp,1),\n",
    "             yerr=stats.sem(amp,1),marker='o',markersize=2,\n",
    "             linestyle=\"None\",color = sns.xkcd_rgb['purple'], capsize=2)\n",
    "\n",
    "amp = get_response_amp_atdelay(homog_isi_nolattuning,homog_isi_nolatshift_onset,lmi_delay)\n",
    "plt.errorbar(x,\n",
    "             np.nanmean(amp,1),\n",
    "             yerr=stats.sem(amp,1),marker='o',markersize=2,\n",
    "             linestyle=\"None\",color = sns.xkcd_rgb['red'], capsize=2)\n",
    "\n",
    "\n",
    "amp = get_response_amp_atdelay(homog_pspike,homog_pspike_onset,lmi_delay)\n",
    "plt.errorbar(x,\n",
    "             np.nanmean(amp,1),\n",
    "             yerr=stats.sem(amp,1),marker='o',markersize=2,\n",
    "             linestyle=\"None\",color = sns.xkcd_rgb['orange'], capsize=2)\n",
    "\n",
    "amp = get_response_amp_atdelay(homog_all,homog_all_onset,lmi_delay)\n",
    "plt.errorbar(x,\n",
    "             np.nanmean(amp,1),\n",
    "             yerr=stats.sem(amp,1),marker='o',markersize=2,\n",
    "             linestyle=\"None\",color = sns.xkcd_rgb['grey'], capsize=2)\n",
    "\n",
    "\n",
    "hfig,ax = create_fig_tuning()\n",
    "ax.set_ylabel('Mean Response Amplitude (mV)')\n",
    "ax.set_xlabel('Stimulus amplitude \\n (% change)',linespacing=0.75)\n",
    "# ax.set_ylim(-5,105)\n",
    "ax.set_xlim(-47,47)\n",
    "xticks([-40,-20,0,20,40]);\n",
    "\n",
    "amp = get_response_amp_peak(subsamp)\n",
    "plt.errorbar(x,\n",
    "             np.mean(amp,1),\n",
    "             yerr=stats.sem(amp,1),marker='o',markersize=2,\n",
    "             linestyle=\"None\",color = sns.xkcd_rgb['black'], capsize=2)\n",
    "\n",
    "amp = get_response_amp_peak(homog_isi)\n",
    "plt.errorbar(x,\n",
    "             np.mean(amp,1),\n",
    "             yerr=stats.sem(amp,1),marker='o',markersize=2,\n",
    "             linestyle=\"None\",color = sns.xkcd_rgb['purple'], capsize=2)\n",
    "\n",
    "amp = get_response_amp_peak(homog_isi_nolattuning)\n",
    "plt.errorbar(x,\n",
    "             np.nanmean(amp,1),\n",
    "             yerr=stats.sem(amp,1),marker='o',markersize=2,\n",
    "             linestyle=\"None\",color = sns.xkcd_rgb['red'], capsize=2)\n",
    "\n",
    "amp = get_response_amp_peak(homog_pspike)\n",
    "plt.errorbar(x,\n",
    "             np.mean(amp,1),\n",
    "             yerr=stats.sem(amp,1),marker='o',markersize=2,\n",
    "             linestyle=\"None\",color = sns.xkcd_rgb['orange'], capsize=2)\n",
    "\n",
    "amp = get_response_amp_peak(homog_all)\n",
    "plt.errorbar(x,\n",
    "             np.mean(amp,1),\n",
    "             yerr=stats.sem(amp,1),marker='o',markersize=2,\n",
    "             linestyle=\"None\",color = sns.xkcd_rgb['grey'], capsize=2)"
   ]
  },
  {
   "cell_type": "markdown",
   "metadata": {},
   "source": [
    "# Make graphic of latency shift mech with inhib using model DGC "
   ]
  },
  {
   "cell_type": "markdown",
   "metadata": {},
   "source": [
    "## Initialize"
   ]
  },
  {
   "cell_type": "code",
   "execution_count": null,
   "metadata": {},
   "outputs": [],
   "source": [
    "%matplotlib widget"
   ]
  },
  {
   "cell_type": "code",
   "execution_count": 44,
   "metadata": {},
   "outputs": [],
   "source": [
    "n_inputs = 4\n",
    "meta_params = {\n",
    "    'N_inputs' : n_inputs*4, # 7 inputs with 4 possible spikes each\n",
    "    'N_runs' : 100,\n",
    "    'duration' : 0.05*second,\n",
    "    'onset_offset' : 0, # 5msec is for figure making because data plotted with 5msec pre-stimonset #4.5,\n",
    "    'tau_e1' : 4*ms,\n",
    "    'tau_e2' : 1*ms,#ms, time of normal stimulus onset relative to cmd\n",
    "    'e_lmi_delay' : 4*ms #ms\n",
    "}\n",
    "\n",
    "invpeak = (meta_params['tau_e2'] / meta_params['tau_e1']) ** \\\n",
    "        (meta_params['tau_e1'] / (meta_params['tau_e2'] - meta_params['tau_e1']))\n",
    "\n",
    "namespace_sim = {\n",
    "    'sim_dt' : 0.1*ms,\n",
    "    'Cm' : 6*pF,\n",
    "    'E_l' : -70*mV,\n",
    "    'g_l' : 1*nS, # a 1MOhm cell has gl = 1*nS\n",
    "    'E_e' : 0*mV,\n",
    "    'E_e_lmi' : -90*mV,\n",
    "    'V_th' : 0*mV,\n",
    "    'V_r' : -70*mV,\n",
    "    'w_e' : 0.1*nS,\n",
    "    'w_e_lmi' : 0*nS, #0*nS,##0,#either on and off... weight by logistic 0*nS,\n",
    "    'tau_e1' : 4*ms,\n",
    "    'tau_e2' : 1*ms,\n",
    "    'tau_e_lmi' : 5*ms,\n",
    "    'invpeak' : invpeak\n",
    "}"
   ]
  },
  {
   "cell_type": "markdown",
   "metadata": {},
   "source": [
    "## Use just two inputs and do two different relative latencies"
   ]
  },
  {
   "cell_type": "code",
   "execution_count": 13,
   "metadata": {},
   "outputs": [],
   "source": [
    "multispike,fsl = get_afferents_subsampled(2)"
   ]
  },
  {
   "cell_type": "code",
   "execution_count": 14,
   "metadata": {},
   "outputs": [
    {
     "data": {
      "text/plain": [
       "array([[       nan,        nan],\n",
       "       [       nan,        nan],\n",
       "       [       nan,        nan],\n",
       "       [7.08681135, 7.40487316],\n",
       "       [6.75500835, 6.66138184],\n",
       "       [       nan, 5.99799733],\n",
       "       [5.64065109, 5.57242991],\n",
       "       [6.01717148, 5.16188251],\n",
       "       [5.66658717, 4.3858478 ],\n",
       "       [4.19449082, 3.92773698],\n",
       "       [3.72843628, 3.65236983]])"
      ]
     },
     "execution_count": 14,
     "metadata": {},
     "output_type": "execute_result"
    }
   ],
   "source": [
    "fsl"
   ]
  },
  {
   "cell_type": "code",
   "execution_count": 47,
   "metadata": {},
   "outputs": [
    {
     "name": "stderr",
     "output_type": "stream",
     "text": [
      "100%|██████████| 3/3 [00:00<00:00,  4.07it/s]\n"
     ]
    },
    {
     "data": {
      "application/vnd.jupyter.widget-view+json": {
       "model_id": "",
       "version_major": 2,
       "version_minor": 0
      },
      "text/plain": [
       "FigureCanvasNbAgg()"
      ]
     },
     "metadata": {},
     "output_type": "display_data"
    }
   ],
   "source": [
    "\n",
    "# multispike = np.asarray([[3],[2.5],[2.25]])\n",
    "multispike = np.asarray([[3.5],[3],[2.75]])\n",
    "\n",
    "net = initialize_model(namespace_sim,meta_params) \n",
    "net.store('intialized',filename=sim_filepath) \n",
    "\n",
    "### subsample from data\n",
    "R_wavs_ = [] # initialize array to store responses across stimulus set\n",
    "onset_ = []\n",
    "\n",
    "i = 0\n",
    "for _ in tqdm(range(len(multispike))):\n",
    "\n",
    "    # get spike times for afferent population\n",
    "#     multispike,fsl = get_afferents_subsampled(a)\n",
    "\n",
    "\n",
    "#     for y in multispike:\n",
    "    y = multispike[i]\n",
    "    i+=1\n",
    "    miny = np.NaN\n",
    "    net.restore('intialized',filename=sim_filepath) # this resets simulation clock to 0\n",
    "        # the state of the system at time of restore should affect the network operation accordingly\n",
    "    y = y[~np.isnan(y)] # remove nan values from array of spike times\n",
    "    spk_t_aff = np.asarray(y)*ms # create spike time array for SpikeGeneratorGroup, sorted\n",
    "    ind_aff = np.empty(0) # create default afferent index array in case all were nan\n",
    "\n",
    "    spk_t_lmi = np.empty(0)*ms # create default lmi spike time in case where no afferent input (all nan)\n",
    "    ind_lmi = np.empty(0) # create default lmi index array in case all were nan\n",
    "\n",
    "    if len(y)!=0: # if not all were nan, create index array for afferent spikes, lmi neuron, and lmi spike\n",
    "        ind_aff = np.arange(len(y))\n",
    "        ind_lmi = np.arange(1)\n",
    "        spk_t_lmi = [np.min(y)]*ms\n",
    "        miny = np.min(y)\n",
    "\n",
    "    # update SpikeGeneratorGroup neuron indices and spikes\n",
    "    net['aff_input'].set_spikes(ind_aff,spk_t_aff)\n",
    "    net['lmi_input'].set_spikes(ind_lmi,spk_t_lmi)\n",
    "\n",
    "    net.run(duration = meta_params['duration'])\n",
    "\n",
    "    r =net['state_mon'].v/mV # set r to voltage trace from simulation trial\n",
    "    xtime = net['state_mon'].t/ms\n",
    "    R_wavs_.append(r.reshape(-1)) # append response for this stimamp to response mat across all stimamp\n",
    "    onset_.append(miny)\n",
    "\n",
    "\n",
    "R_wavs = np.asarray(R_wavs_).T\n",
    "R_wavs = R_wavs-R_wavs[0,:]\n",
    "onset = np.asarray(onset_).T\n",
    "\n",
    "plt.figure(figsize=(3,5))\n",
    "colinds = plt.cm.plasma(np.linspace(0.2,0.85,3))\n",
    "plt.plot(xtime, R_wavs[:,0],color=colinds[0],linestyle='-')\n",
    "plt.vlines(multispike[0][0],0,5,color=colinds[0],linestyle='-')\n",
    "plt.plot(xtime, R_wavs[:,1],color=colinds[1],linestyle='-')\n",
    "plt.vlines(multispike[1][0],0,5,color=colinds[1],linestyle='-')\n",
    "plt.plot(xtime, R_wavs[:,2],color=colinds[2],linestyle='-')\n",
    "plt.vlines(multispike[2][0],0,5,color=colinds[2],linestyle='-')\n",
    "plt.xlim(0,10)\n",
    "plt.vlines(2,0,10,color='black',linestyle='--')\n",
    "plt.vlines(5,0,15,color='blue',linestyle='--')\n",
    "\n",
    "plt.show()\n",
    "\n"
   ]
  },
  {
   "cell_type": "code",
   "execution_count": 48,
   "metadata": {},
   "outputs": [
    {
     "name": "stderr",
     "output_type": "stream",
     "text": [
      "100%|██████████| 3/3 [00:00<00:00,  4.08it/s]\n"
     ]
    },
    {
     "data": {
      "application/vnd.jupyter.widget-view+json": {
       "model_id": "",
       "version_major": 2,
       "version_minor": 0
      },
      "text/plain": [
       "FigureCanvasNbAgg()"
      ]
     },
     "metadata": {},
     "output_type": "display_data"
    }
   ],
   "source": [
    "# multispike = np.asarray([[2,3],[2,2.5],[2,2.25]])\n",
    "multispike = np.asarray([[2,3.5],[2,3],[2,2.75]])\n",
    "\n",
    "net = initialize_model(namespace_sim,meta_params) \n",
    "net.store('intialized',filename=sim_filepath) \n",
    "\n",
    "### subsample from data\n",
    "R_wavs_ = [] # initialize array to store responses across stimulus set\n",
    "onset_ = []\n",
    "\n",
    "i = 0\n",
    "for _ in tqdm(range(len(multispike))):\n",
    "\n",
    "    # get spike times for afferent population\n",
    "#     multispike,fsl = get_afferents_subsampled(a)\n",
    "\n",
    "\n",
    "#     for y in multispike:\n",
    "    y = multispike[i]\n",
    "    i+=1\n",
    "    miny = np.NaN\n",
    "    net.restore('intialized',filename=sim_filepath) # this resets simulation clock to 0\n",
    "        # the state of the system at time of restore should affect the network operation accordingly\n",
    "    y = y[~np.isnan(y)] # remove nan values from array of spike times\n",
    "    spk_t_aff = np.asarray(y)*ms # create spike time array for SpikeGeneratorGroup, sorted\n",
    "    ind_aff = np.empty(0) # create default afferent index array in case all were nan\n",
    "\n",
    "    spk_t_lmi = np.empty(0)*ms # create default lmi spike time in case where no afferent input (all nan)\n",
    "    ind_lmi = np.empty(0) # create default lmi index array in case all were nan\n",
    "\n",
    "    if len(y)!=0: # if not all were nan, create index array for afferent spikes, lmi neuron, and lmi spike\n",
    "        ind_aff = np.arange(len(y))\n",
    "        ind_lmi = np.arange(1)\n",
    "        spk_t_lmi = [np.min(y)]*ms\n",
    "        miny = np.min(y)\n",
    "\n",
    "    # update SpikeGeneratorGroup neuron indices and spikes\n",
    "    net['aff_input'].set_spikes(ind_aff,spk_t_aff)\n",
    "    net['lmi_input'].set_spikes(ind_lmi,spk_t_lmi)\n",
    "\n",
    "    net.run(duration = meta_params['duration'])\n",
    "\n",
    "    r =net['state_mon'].v/mV # set r to voltage trace from simulation trial\n",
    "    xtime = net['state_mon'].t/ms\n",
    "    R_wavs_.append(r.reshape(-1)) # append response for this stimamp to response mat across all stimamp\n",
    "    onset_.append(miny)\n",
    "\n",
    "\n",
    "R_wavs = np.asarray(R_wavs_).T\n",
    "R_wavs = R_wavs-R_wavs[0,:]\n",
    "onset = np.asarray(onset_).T\n",
    "\n",
    "plt.figure(figsize=(3,5))\n",
    "colinds = plt.cm.plasma(np.linspace(0.2,0.85,3))\n",
    "plt.plot(xtime, R_wavs[:,0],color=colinds[0],linestyle='-')\n",
    "plt.vlines(multispike[0][1],0,5,color=colinds[0],linestyle='-')\n",
    "plt.plot(xtime, R_wavs[:,1],color=colinds[1],linestyle='-')\n",
    "plt.vlines(multispike[1][1],0,5,color=colinds[1],linestyle='-')\n",
    "plt.plot(xtime, R_wavs[:,2],color=colinds[2],linestyle='-')\n",
    "plt.vlines(multispike[2][1],0,5,color=colinds[2],linestyle='-')\n",
    "plt.xlim(0,10)\n",
    "plt.vlines(2,0,10,color='black',linestyle='--')\n",
    "plt.vlines(5,0,15,color='blue',linestyle='--')\n",
    "\n",
    "plt.show()\n",
    "# plt.vlines(2.5,-70,-64,color=colinds[1],linestyle='-')"
   ]
  },
  {
   "cell_type": "code",
   "execution_count": 49,
   "metadata": {},
   "outputs": [
    {
     "name": "stderr",
     "output_type": "stream",
     "text": [
      "100%|██████████| 3/3 [00:00<00:00,  4.00it/s]\n"
     ]
    },
    {
     "data": {
      "application/vnd.jupyter.widget-view+json": {
       "model_id": "",
       "version_major": 2,
       "version_minor": 0
      },
      "text/plain": [
       "FigureCanvasNbAgg()"
      ]
     },
     "metadata": {},
     "output_type": "display_data"
    }
   ],
   "source": [
    "# multispike = np.asarray([[2,2.1,3],[2,2.1,2.5],[2,2.1,2.25]])\n",
    "multispike = np.asarray([[2,2.75,3.5],[2,2.75,3],[2,2.75,2.75]])\n",
    "\n",
    "net = initialize_model(namespace_sim,meta_params) \n",
    "net.store('intialized',filename=sim_filepath) \n",
    "\n",
    "### subsample from data\n",
    "R_wavs_ = [] # initialize array to store responses across stimulus set\n",
    "onset_ = []\n",
    "\n",
    "i = 0\n",
    "for _ in tqdm(range(len(multispike))):\n",
    "\n",
    "    # get spike times for afferent population\n",
    "#     multispike,fsl = get_afferents_subsampled(a)\n",
    "\n",
    "\n",
    "#     for y in multispike:\n",
    "    y = multispike[i]\n",
    "    i+=1\n",
    "    miny = np.NaN\n",
    "    net.restore('intialized',filename=sim_filepath) # this resets simulation clock to 0\n",
    "        # the state of the system at time of restore should affect the network operation accordingly\n",
    "    y = y[~np.isnan(y)] # remove nan values from array of spike times\n",
    "    spk_t_aff = np.asarray(y)*ms # create spike time array for SpikeGeneratorGroup, sorted\n",
    "    ind_aff = np.empty(0) # create default afferent index array in case all were nan\n",
    "\n",
    "    spk_t_lmi = np.empty(0)*ms # create default lmi spike time in case where no afferent input (all nan)\n",
    "    ind_lmi = np.empty(0) # create default lmi index array in case all were nan\n",
    "\n",
    "    if len(y)!=0: # if not all were nan, create index array for afferent spikes, lmi neuron, and lmi spike\n",
    "        ind_aff = np.arange(len(y))\n",
    "        ind_lmi = np.arange(1)\n",
    "        spk_t_lmi = [np.min(y)]*ms\n",
    "        miny = np.min(y)\n",
    "\n",
    "    # update SpikeGeneratorGroup neuron indices and spikes\n",
    "    net['aff_input'].set_spikes(ind_aff,spk_t_aff)\n",
    "    net['lmi_input'].set_spikes(ind_lmi,spk_t_lmi)\n",
    "\n",
    "    net.run(duration = meta_params['duration'])\n",
    "\n",
    "    r =net['state_mon'].v/mV # set r to voltage trace from simulation trial\n",
    "    xtime = net['state_mon'].t/ms\n",
    "    R_wavs_.append(r.reshape(-1)) # append response for this stimamp to response mat across all stimamp\n",
    "    onset_.append(miny)\n",
    "\n",
    "\n",
    "R_wavs = np.asarray(R_wavs_).T\n",
    "R_wavs = R_wavs-R_wavs[0,:]\n",
    "onset = np.asarray(onset_).T\n",
    "\n",
    "plt.figure(figsize=(3,5))\n",
    "colinds = plt.cm.plasma(np.linspace(0.2,0.85,3))\n",
    "plt.plot(xtime, R_wavs[:,0],color=colinds[0],linestyle='-')\n",
    "plt.vlines(multispike[0][2],0,5,color=colinds[0],linestyle='-')\n",
    "plt.plot(xtime, R_wavs[:,1],color=colinds[1],linestyle='-')\n",
    "plt.vlines(multispike[1][2],0,5,color=colinds[1],linestyle='-')\n",
    "plt.plot(xtime, R_wavs[:,2],color=colinds[2],linestyle='-')\n",
    "plt.vlines(multispike[2][2],0,5,color=colinds[2],linestyle='-')\n",
    "plt.xlim(0,10)\n",
    "plt.vlines(2,0,10,color='black',linestyle='--')\n",
    "plt.vlines(5,0,15,color='blue',linestyle='--')\n",
    "\n",
    "plt.show()\n",
    "# plt.vlines(2.5,-70,-64,color=colinds[1],linestyle='-')"
   ]
  },
  {
   "cell_type": "code",
   "execution_count": 50,
   "metadata": {},
   "outputs": [
    {
     "name": "stderr",
     "output_type": "stream",
     "text": [
      "100%|██████████| 3/3 [00:00<00:00,  3.63it/s]\n"
     ]
    },
    {
     "data": {
      "application/vnd.jupyter.widget-view+json": {
       "model_id": "",
       "version_major": 2,
       "version_minor": 0
      },
      "text/plain": [
       "FigureCanvasNbAgg()"
      ]
     },
     "metadata": {},
     "output_type": "display_data"
    }
   ],
   "source": [
    "# multispike = np.asarray([[2,2.1,2.25,3],[2,2.1,2.25,2.5],[2,2.1,2.25,2.25]])\n",
    "multispike = np.asarray([[2,2.75,3,3.5],[2,2.75,3,3],[2,2.75,3,2.75]])\n",
    "\n",
    "net = initialize_model(namespace_sim,meta_params) \n",
    "net.store('intialized',filename=sim_filepath) \n",
    "\n",
    "### subsample from data\n",
    "R_wavs_ = [] # initialize array to store responses across stimulus set\n",
    "onset_ = []\n",
    "\n",
    "i = 0\n",
    "for _ in tqdm(range(len(multispike))):\n",
    "\n",
    "    # get spike times for afferent population\n",
    "#     multispike,fsl = get_afferents_subsampled(a)\n",
    "\n",
    "\n",
    "#     for y in multispike:\n",
    "    y = multispike[i]\n",
    "    i+=1\n",
    "    miny = np.NaN\n",
    "    net.restore('intialized',filename=sim_filepath) # this resets simulation clock to 0\n",
    "        # the state of the system at time of restore should affect the network operation accordingly\n",
    "    y = y[~np.isnan(y)] # remove nan values from array of spike times\n",
    "    spk_t_aff = np.asarray(y)*ms # create spike time array for SpikeGeneratorGroup, sorted\n",
    "    ind_aff = np.empty(0) # create default afferent index array in case all were nan\n",
    "\n",
    "    spk_t_lmi = np.empty(0)*ms # create default lmi spike time in case where no afferent input (all nan)\n",
    "    ind_lmi = np.empty(0) # create default lmi index array in case all were nan\n",
    "\n",
    "    if len(y)!=0: # if not all were nan, create index array for afferent spikes, lmi neuron, and lmi spike\n",
    "        ind_aff = np.arange(len(y))\n",
    "        ind_lmi = np.arange(1)\n",
    "        spk_t_lmi = [np.min(y)]*ms\n",
    "        miny = np.min(y)\n",
    "\n",
    "    # update SpikeGeneratorGroup neuron indices and spikes\n",
    "    net['aff_input'].set_spikes(ind_aff,spk_t_aff)\n",
    "    net['lmi_input'].set_spikes(ind_lmi,spk_t_lmi)\n",
    "\n",
    "    net.run(duration = meta_params['duration'])\n",
    "\n",
    "    r =net['state_mon'].v/mV # set r to voltage trace from simulation trial\n",
    "    xtime = net['state_mon'].t/ms\n",
    "    R_wavs_.append(r.reshape(-1)) # append response for this stimamp to response mat across all stimamp\n",
    "    onset_.append(miny)\n",
    "\n",
    "\n",
    "R_wavs = np.asarray(R_wavs_).T\n",
    "R_wavs = R_wavs-R_wavs[0,:]\n",
    "onset = np.asarray(onset_).T\n",
    "\n",
    "plt.figure(figsize=(3,5))\n",
    "colinds = plt.cm.plasma(np.linspace(0.2,0.85,3))\n",
    "plt.plot(xtime, R_wavs[:,0],color=colinds[0],linestyle='-')\n",
    "plt.vlines(multispike[0][3],0,5,color=colinds[0],linestyle='-')\n",
    "plt.plot(xtime, R_wavs[:,1],color=colinds[1],linestyle='-')\n",
    "plt.vlines(multispike[1][3],0,5,color=colinds[1],linestyle='-')\n",
    "plt.plot(xtime, R_wavs[:,2],color=colinds[2],linestyle='-')\n",
    "plt.vlines(multispike[2][3],0,5,color=colinds[2],linestyle='-')\n",
    "plt.xlim(0,10)\n",
    "plt.vlines(2,0,10,color='black',linestyle='--')\n",
    "plt.vlines(5,0,15,color='blue',linestyle='--')\n",
    "\n",
    "plt.show()\n",
    "# plt.vlines(2.5,-70,-64,color=colinds[1],linestyle='-')"
   ]
  },
  {
   "cell_type": "markdown",
   "metadata": {},
   "source": [
    "## now move all 3 by same amount relative to first"
   ]
  },
  {
   "cell_type": "code",
   "execution_count": 51,
   "metadata": {},
   "outputs": [
    {
     "name": "stderr",
     "output_type": "stream",
     "text": [
      "100%|██████████| 3/3 [00:00<00:00,  4.26it/s]\n"
     ]
    },
    {
     "data": {
      "application/vnd.jupyter.widget-view+json": {
       "model_id": "",
       "version_major": 2,
       "version_minor": 0
      },
      "text/plain": [
       "FigureCanvasNbAgg()"
      ]
     },
     "metadata": {},
     "output_type": "display_data"
    }
   ],
   "source": [
    "multispike = np.asarray([[2,2.75,3,3.5],[2,2.25,2.5,3],[2,2,2.25,2.75]])\n",
    "\n",
    "net = initialize_model(namespace_sim,meta_params) \n",
    "net.store('intialized',filename=sim_filepath) \n",
    "\n",
    "### subsample from data\n",
    "R_wavs_ = [] # initialize array to store responses across stimulus set\n",
    "onset_ = []\n",
    "\n",
    "i = 0\n",
    "for _ in tqdm(range(len(multispike))):\n",
    "\n",
    "    # get spike times for afferent population\n",
    "#     multispike,fsl = get_afferents_subsampled(a)\n",
    "\n",
    "\n",
    "#     for y in multispike:\n",
    "    y = multispike[i]\n",
    "    i+=1\n",
    "    miny = np.NaN\n",
    "    net.restore('intialized',filename=sim_filepath) # this resets simulation clock to 0\n",
    "        # the state of the system at time of restore should affect the network operation accordingly\n",
    "    y = y[~np.isnan(y)] # remove nan values from array of spike times\n",
    "    spk_t_aff = np.asarray(y)*ms # create spike time array for SpikeGeneratorGroup, sorted\n",
    "    ind_aff = np.empty(0) # create default afferent index array in case all were nan\n",
    "\n",
    "    spk_t_lmi = np.empty(0)*ms # create default lmi spike time in case where no afferent input (all nan)\n",
    "    ind_lmi = np.empty(0) # create default lmi index array in case all were nan\n",
    "\n",
    "    if len(y)!=0: # if not all were nan, create index array for afferent spikes, lmi neuron, and lmi spike\n",
    "        ind_aff = np.arange(len(y))\n",
    "        ind_lmi = np.arange(1)\n",
    "        spk_t_lmi = [np.min(y)]*ms\n",
    "        miny = np.min(y)\n",
    "\n",
    "    # update SpikeGeneratorGroup neuron indices and spikes\n",
    "    net['aff_input'].set_spikes(ind_aff,spk_t_aff)\n",
    "    net['lmi_input'].set_spikes(ind_lmi,spk_t_lmi)\n",
    "\n",
    "    net.run(duration = meta_params['duration'])\n",
    "\n",
    "    r =net['state_mon'].v/mV # set r to voltage trace from simulation trial\n",
    "    xtime = net['state_mon'].t/ms\n",
    "    R_wavs_.append(r.reshape(-1)) # append response for this stimamp to response mat across all stimamp\n",
    "    onset_.append(miny)\n",
    "\n",
    "\n",
    "R_wavs = np.asarray(R_wavs_).T\n",
    "R_wavs = R_wavs-R_wavs[0,:]\n",
    "onset = np.asarray(onset_).T\n",
    "\n",
    "plt.figure(figsize=(3,5))\n",
    "colinds = plt.cm.plasma(np.linspace(0.2,0.85,3))\n",
    "plt.plot(xtime, R_wavs[:,0],color=colinds[0],linestyle='-')\n",
    "plt.vlines(multispike[0][3],0,5,color=colinds[0],linestyle='-')\n",
    "plt.plot(xtime, R_wavs[:,1],color=colinds[1],linestyle='-')\n",
    "plt.vlines(multispike[1][3],0,5,color=colinds[1],linestyle='-')\n",
    "plt.plot(xtime, R_wavs[:,2],color=colinds[2],linestyle='-')\n",
    "plt.vlines(multispike[2][3],0,5,color=colinds[2],linestyle='-')\n",
    "plt.xlim(0,10)\n",
    "plt.vlines(2,0,10,color='black',linestyle='--')\n",
    "plt.vlines(5,0,15,color='blue',linestyle='--')\n",
    "\n",
    "plt.show()\n",
    "# plt.vlines(2.5,-70,-64,color=colinds[1],linestyle='-')"
   ]
  },
  {
   "cell_type": "code",
   "execution_count": 54,
   "metadata": {},
   "outputs": [
    {
     "data": {
      "text/plain": [
       "array([11.42227156, 11.45383545, 11.46735578])"
      ]
     },
     "execution_count": 54,
     "metadata": {},
     "output_type": "execute_result"
    }
   ],
   "source": [
    "np.max(R_wavs,0)"
   ]
  },
  {
   "cell_type": "markdown",
   "metadata": {},
   "source": [
    "## make CD + EA for Figure 1"
   ]
  },
  {
   "cell_type": "code",
   "execution_count": null,
   "metadata": {},
   "outputs": [],
   "source": [
    "# multispike = np.asarray([[2,3],[2,2.5],[2,2.25]])\n",
    "multispike = np.asarray([[np.nan,5],[5,12],[5,24]])\n",
    "\n",
    "\n",
    "meta_params['duration'] = 0.075*second\n",
    "\n",
    "net = initialize_model(namespace_sim,meta_params) \n",
    "net.store('intialized',filename=sim_filepath) \n",
    "\n",
    "### subsample from data\n",
    "R_wavs_ = [] # initialize array to store responses across stimulus set\n",
    "onset_ = []\n",
    "\n",
    "i = 0\n",
    "for _ in tqdm(range(len(multispike))):\n",
    "\n",
    "    # get spike times for afferent population\n",
    "#     multispike,fsl = get_afferents_subsampled(a)\n",
    "\n",
    "\n",
    "#     for y in multispike:\n",
    "    y = multispike[i]\n",
    "    i+=1\n",
    "    miny = np.NaN\n",
    "    net.restore('intialized',filename=sim_filepath) # this resets simulation clock to 0\n",
    "        # the state of the system at time of restore should affect the network operation accordingly\n",
    "    y = y[~np.isnan(y)] # remove nan values from array of spike times\n",
    "    spk_t_aff = np.asarray(y)*ms # create spike time array for SpikeGeneratorGroup, sorted\n",
    "    ind_aff = np.empty(0) # create default afferent index array in case all were nan\n",
    "\n",
    "    spk_t_lmi = np.empty(0)*ms # create default lmi spike time in case where no afferent input (all nan)\n",
    "    ind_lmi = np.empty(0) # create default lmi index array in case all were nan\n",
    "\n",
    "    if len(y)!=0: # if not all were nan, create index array for afferent spikes, lmi neuron, and lmi spike\n",
    "        ind_aff = np.arange(len(y))\n",
    "        ind_lmi = np.arange(1)\n",
    "        spk_t_lmi = [np.min(y)]*ms\n",
    "        miny = np.min(y)\n",
    "\n",
    "    # update SpikeGeneratorGroup neuron indices and spikes\n",
    "    net['aff_input'].set_spikes(ind_aff,spk_t_aff)\n",
    "    net['lmi_input'].set_spikes(ind_lmi,spk_t_lmi)\n",
    "\n",
    "    net.run(duration = meta_params['duration'])\n",
    "\n",
    "    r =net['state_mon'].v/mV # set r to voltage trace from simulation trial\n",
    "    xtime = net['state_mon'].t/ms\n",
    "    R_wavs_.append(r.reshape(-1)) # append response for this stimamp to response mat across all stimamp\n",
    "    onset_.append(miny)\n",
    "\n",
    "\n",
    "R_wavs = np.asarray(R_wavs_).T\n",
    "R_wavs = R_wavs-R_wavs[0,:]\n",
    "onset = np.asarray(onset_).T"
   ]
  },
  {
   "cell_type": "code",
   "execution_count": 26,
   "metadata": {
    "scrolled": false
   },
   "outputs": [
    {
     "data": {
      "application/vnd.jupyter.widget-view+json": {
       "model_id": "b4583317519d450e9dd088299bd9eb0a",
       "version_major": 2,
       "version_minor": 0
      },
      "text/plain": [
       "FigureCanvasNbAgg()"
      ]
     },
     "metadata": {},
     "output_type": "display_data"
    }
   ],
   "source": [
    "# hfig,ax = create_fig()\n",
    "hfig = plt.figure(figsize=[3,1])\n",
    "ax = hfig.add_axes([0.2,0.2,0.7,0.7],frameon=False)\n",
    "colinds = plt.cm.plasma(np.linspace(0.2,0.85,2))\n",
    "plt.plot(xtime, R_wavs[:,0],color='black',linestyle='-')\n",
    "plt.plot(xtime, R_wavs[:,1],color=colinds[0],linestyle='-')\n",
    "plt.vlines(multispike[1][1],0,5,color=colinds[0],linestyle='-')\n",
    "plt.plot(xtime, R_wavs[:,2],color=colinds[1],linestyle='-')\n",
    "plt.vlines(multispike[2][1],0,5,color=colinds[1],linestyle='-')\n",
    "# plt.plot(xtime, R_wavs[:,2],color=colinds[2],linestyle='-')\n",
    "# plt.vlines(multispike[2][1],0,5,color=colinds[2],linestyle='-')\n",
    "plt.xlim(0,60)\n",
    "# plt.vlines(2,0,10,color='black',linestyle='--')\n",
    "# plt.vlines(5,0,15,color='blue',linestyle='--')\n",
    "\n",
    "plt.show()\n",
    "# plt.vlines(2.5,-70,-64,color=colinds[1],linestyle='-')\n",
    "figsave(figure_folder,'Fig1_HypothesisWavs')"
   ]
  },
  {
   "cell_type": "markdown",
   "metadata": {},
   "source": [
    "## plot min psps for sgc and dgc"
   ]
  },
  {
   "cell_type": "markdown",
   "metadata": {},
   "source": [
    "### dgc"
   ]
  },
  {
   "cell_type": "code",
   "execution_count": 118,
   "metadata": {},
   "outputs": [],
   "source": [
    "n_inputs = 4\n",
    "meta_params = {\n",
    "    'N_inputs' : n_inputs*4, # 7 inputs with 4 possible spikes each\n",
    "    'N_runs' : 100,\n",
    "    'duration' : 0.05*second,\n",
    "    'onset_offset' : 0, # 5msec is for figure making because data plotted with 5msec pre-stimonset #4.5,\n",
    "    'tau_e1' : 4*ms,\n",
    "    'tau_e2' : 1*ms,#ms, time of normal stimulus onset relative to cmd\n",
    "    'e_lmi_delay' : 4*ms #ms\n",
    "}\n",
    "\n",
    "invpeak = (meta_params['tau_e2'] / meta_params['tau_e1']) ** \\\n",
    "        (meta_params['tau_e1'] / (meta_params['tau_e2'] - meta_params['tau_e1']))\n",
    "\n",
    "namespace_sim = {\n",
    "    'sim_dt' : 0.1*ms,\n",
    "    'Cm' : 6*pF,\n",
    "    'E_l' : -70*mV,\n",
    "    'g_l' : 1*nS, # a 1MOhm cell has gl = 1*nS\n",
    "    'E_e' : 0*mV,\n",
    "    'E_e_lmi' : -90*mV,\n",
    "    'V_th' : 0*mV,\n",
    "    'V_r' : -70*mV,\n",
    "    'w_e' : 0.1*nS,\n",
    "    'w_e_lmi' : 0*nS, #0*nS,##0,#either on and off... weight by logistic 0*nS,\n",
    "    'tau_e1' : 4*ms,\n",
    "    'tau_e2' : 1*ms,\n",
    "    'tau_e_lmi' : 5*ms,\n",
    "    'invpeak' : invpeak\n",
    "}"
   ]
  },
  {
   "cell_type": "markdown",
   "metadata": {},
   "source": [
    "#### make single EA input for Supplement Fig 4"
   ]
  },
  {
   "cell_type": "code",
   "execution_count": 119,
   "metadata": {
    "scrolled": false
   },
   "outputs": [
    {
     "name": "stderr",
     "output_type": "stream",
     "text": [
      "100%|██████████| 1/1 [00:00<00:00,  3.95it/s]\n"
     ]
    }
   ],
   "source": [
    "# multispike = np.asarray([[2,3],[2,2.5],[2,2.25]])\n",
    "multispike = np.asarray([[np.nan,0]])\n",
    "\n",
    "\n",
    "meta_params['duration'] = 0.075*second\n",
    "\n",
    "net = initialize_model(namespace_sim,meta_params) \n",
    "net.store('intialized',filename=sim_filepath) \n",
    "\n",
    "### subsample from data\n",
    "R_wavs_ = [] # initialize array to store responses across stimulus set\n",
    "onset_ = []\n",
    "\n",
    "i = 0\n",
    "for _ in tqdm(range(len(multispike))):\n",
    "\n",
    "    # get spike times for afferent population\n",
    "#     multispike,fsl = get_afferents_subsampled(a)\n",
    "\n",
    "\n",
    "#     for y in multispike:\n",
    "    y = multispike[i]\n",
    "    i+=1\n",
    "    miny = np.NaN\n",
    "    net.restore('intialized',filename=sim_filepath) # this resets simulation clock to 0\n",
    "        # the state of the system at time of restore should affect the network operation accordingly\n",
    "    y = y[~np.isnan(y)] # remove nan values from array of spike times\n",
    "    spk_t_aff = np.asarray(y)*ms # create spike time array for SpikeGeneratorGroup, sorted\n",
    "    ind_aff = np.empty(0) # create default afferent index array in case all were nan\n",
    "\n",
    "    spk_t_lmi = np.empty(0)*ms # create default lmi spike time in case where no afferent input (all nan)\n",
    "    ind_lmi = np.empty(0) # create default lmi index array in case all were nan\n",
    "\n",
    "    if len(y)!=0: # if not all were nan, create index array for afferent spikes, lmi neuron, and lmi spike\n",
    "        ind_aff = np.arange(len(y))\n",
    "        ind_lmi = np.arange(1)\n",
    "        spk_t_lmi = [np.min(y)]*ms\n",
    "        miny = np.min(y)\n",
    "\n",
    "    # update SpikeGeneratorGroup neuron indices and spikes\n",
    "    net['aff_input'].set_spikes(ind_aff,spk_t_aff)\n",
    "    net['lmi_input'].set_spikes(ind_lmi,spk_t_lmi)\n",
    "\n",
    "    net.run(duration = meta_params['duration'])\n",
    "\n",
    "    r =net['state_mon'].v/mV # set r to voltage trace from simulation trial\n",
    "    xtime_model = net['state_mon'].t/ms\n",
    "    R_wavs_.append(r.reshape(-1)) # append response for this stimamp to response mat across all stimamp\n",
    "    onset_.append(miny)\n",
    "\n",
    "\n",
    "R_wavs = np.asarray(R_wavs_).T\n",
    "R_wavs = R_wavs-R_wavs[0,:]\n",
    "onset = np.asarray(onset_).T"
   ]
  },
  {
   "cell_type": "code",
   "execution_count": 49,
   "metadata": {
    "scrolled": false
   },
   "outputs": [
    {
     "data": {
      "application/vnd.jupyter.widget-view+json": {
       "model_id": "abc807e022344eb394793b81a2102d2d",
       "version_major": 2,
       "version_minor": 0
      },
      "text/plain": [
       "FigureCanvasNbAgg()"
      ]
     },
     "metadata": {},
     "output_type": "display_data"
    },
    {
     "name": "stderr",
     "output_type": "stream",
     "text": [
      "WARNING    /Users/kperks/opt/anaconda3/envs/grc_study/lib/python3.6/site-packages/ipykernel_launcher.py:3: MatplotlibDeprecationWarning: Adding an axes using the same arguments as a previous axes currently reuses the earlier instance.  In a future version, a new instance will always be created and returned.  Meanwhile, this warning can be suppressed, and the future behavior ensured, by passing a unique label to each axes instance.\n",
      "  This is separate from the ipykernel package so we can avoid doing imports until\n",
      " [py.warnings]\n"
     ]
    }
   ],
   "source": [
    "hfig,ax = create_fig()\n",
    "# hfig = plt.figure(figsize=[3,1])\n",
    "ax = hfig.add_axes([0.2,0.2,0.7,0.7],frameon=False)\n",
    "colinds = plt.cm.plasma(np.linspace(0.2,0.85,2))\n",
    "plt.plot(xtime_model, R_wavs[:,0],color='black',linestyle='-')\n",
    "\n",
    "sns.despine(hfig)\n",
    "ax.set_xticks(np.arange(0,55,10))\n",
    "plt.xlim(0,50)\n",
    "# ax.set_yticks([15,20])\n",
    "ax.set_frame_on(True)\n",
    "yax = ax.spines[\"left\"]\n",
    "yax.set_visible(False)\n",
    "ax.set_xlabel('Time after stimulus (ms)');\n",
    "plt.show()\n",
    "# plt.vlines(2.5,-70,-64,color=colinds[1],linestyle='-')\n",
    "figsave(figure_folder,'S4_SingleModelPSP_DGC')"
   ]
  },
  {
   "cell_type": "code",
   "execution_count": 30,
   "metadata": {},
   "outputs": [],
   "source": [
    "filename = \"minresponse_dict_dgrc.pickle\"\n",
    "# fileobj = open(filename, 'wb')\n",
    "# pickle.dump(minresponse_dict_dgrc, fileobj)\n",
    "# fileobj.close()\n",
    "fileobj = open(top_dir / 'data_processed' / filename, 'rb')\n",
    "minresponse_dict = pickle.load(fileobj)\n",
    "fileobj.close()"
   ]
  },
  {
   "cell_type": "code",
   "execution_count": 121,
   "metadata": {},
   "outputs": [],
   "source": [
    "# xtime, dt, minresponses, minresponses_norm = get_minresponse_mat(all_exptname)\n",
    "sweepdur = 0.05\n",
    "newdt = 1/10000\n",
    "newsamp = int(sweepdur/newdt)\n",
    "xtime = np.linspace(0,sweepdur,newsamp)*1000\n",
    "minresponse_expts = {\n",
    "#     '20200719_001' : [13],\n",
    "#     '20200719_004' : [0,1,9,10,12,14],\n",
    "    '20200607_004' : [0],\n",
    "    '20200607_002' : [0,1,4,6,9,10,11],\n",
    "    '20200115_002' : [0,1,2,5,6,7,8],\n",
    "    '20200115_004' : [1]}\n",
    "\n",
    "mean_onsets = {\n",
    "#     '20200719_001' : [8.73],\n",
    "#     '20200719_004' : [0,1,9,10,12,14],\n",
    "    '20200607_004' : [5.31],\n",
    "    '20200607_002' : [6.7],\n",
    "    '20200115_002' : [5.96],\n",
    "    '20200115_004' : [4.68]}\n",
    "\n",
    "mean_peaks = {\n",
    "#     '20200719_001' : [8.73],\n",
    "#     '20200719_004' : [0,1,9,10,12,14],\n",
    "    '20200607_004' : [1.29],\n",
    "    '20200607_002' : [1.29],\n",
    "    '20200115_002' : [1.93],\n",
    "    '20200115_004' : [2.17]}"
   ]
  },
  {
   "cell_type": "code",
   "execution_count": 122,
   "metadata": {},
   "outputs": [
    {
     "data": {
      "application/vnd.jupyter.widget-view+json": {
       "model_id": "763bcc6e5b764cc6a0f495b2926df206",
       "version_major": 2,
       "version_minor": 0
      },
      "text/plain": [
       "FigureCanvasNbAgg()"
      ]
     },
     "metadata": {},
     "output_type": "display_data"
    },
    {
     "name": "stdout",
     "output_type": "stream",
     "text": [
      "20200607_004 [0]\n",
      "20200607_002 [0, 1, 4, 6, 9, 10, 11]\n",
      "20200115_002 [0, 1, 2, 5, 6, 7, 8]\n",
      "20200115_004 [1]\n"
     ]
    },
    {
     "data": {
      "application/vnd.jupyter.widget-view+json": {
       "model_id": "4ed6e34b0b0849658196e34a98f0636a",
       "version_major": 2,
       "version_minor": 0
      },
      "text/plain": [
       "FigureCanvasNbAgg()"
      ]
     },
     "metadata": {},
     "output_type": "display_data"
    },
    {
     "name": "stdout",
     "output_type": "stream",
     "text": [
      "20200607_004 [0]\n",
      "20200607_002 [0, 1, 4, 6, 9, 10, 11]\n",
      "20200115_002 [0, 1, 2, 5, 6, 7, 8]\n",
      "20200115_004 [1]\n"
     ]
    }
   ],
   "source": [
    "hfig,ax = create_fig()\n",
    "# hfig = plt.figure(figsize=[5,5])\n",
    "# ax = hfig.add_axes([0.2,0.2,0.7,0.7],frameon=False)\n",
    "\n",
    "for name,trials in minresponse_expts.items():\n",
    "    print(name,trials)\n",
    "    \n",
    "    xtime = np.linspace(0,50,np.shape(minresponse_dict[name])[0])\n",
    "\n",
    "    plt.plot(xtime-mean_onsets[name],(np.mean(minresponse_dict[name][:,trials],1)-\n",
    "            np.mean(minresponse_dict[name][:,trials],1)[-1])/mean_peaks[name],\n",
    "            color='black',linewidth=0.5);\n",
    "\n",
    "plt.plot(xtime_model, R_wavs[:,0]/np.max(R_wavs[:,0]),color='grey',linewidth=3)\n",
    "    \n",
    "sns.despine(hfig)\n",
    "ax.set_xticks(np.arange(0,55,10))\n",
    "plt.xlim(-2,45)\n",
    "plt.ylim(-0.25,1.25)\n",
    "# ax.set_yticks([15,20])\n",
    "ax.set_frame_on(True)\n",
    "yax = ax.spines[\"left\"]\n",
    "yax.set_visible(False)\n",
    "ax.set_xlabel('Time (msec)');\n",
    "plt.show()\n",
    "\n",
    "figsave(figure_folder,'S4_miniPSP_DGC_ModelOverlay_Norm')\n",
    "\n",
    "hfig,ax = create_fig()\n",
    "# hfig = plt.figure(figsize=[5,5])\n",
    "# ax = hfig.add_axes([0.2,0.2,0.7,0.7],frameon=False)\n",
    "\n",
    "for name,trials in minresponse_expts.items():\n",
    "    print(name,trials)\n",
    "    \n",
    "    xtime = np.linspace(0,50,np.shape(minresponse_dict[name])[0])\n",
    "\n",
    "    plt.plot(xtime-mean_onsets[name],(np.mean(minresponse_dict[name][:,trials],1)-\n",
    "            np.mean(minresponse_dict[name][:,trials],1)[-1]),\n",
    "            color='black',linewidth=0.5);\n",
    "\n",
    "# plt.plot(xtime_model, R_wavs[:,0]/np.max(R_wavs[:,0]),color='grey',linewidth=3)\n",
    "    \n",
    "sns.despine(hfig)\n",
    "ax.set_xticks(np.arange(0,55,10))\n",
    "plt.xlim(-2,45)\n",
    "plt.ylim(-0.5,3)\n",
    "# ax.set_yticks([15,20])\n",
    "ax.set_frame_on(True)\n",
    "yax = ax.spines[\"left\"]\n",
    "yax.set_visible(False)\n",
    "ax.set_xlabel('Time (msec)');\n",
    "plt.show()\n",
    "\n",
    "figsave(figure_folder,'S4_miniPSP_DGC')"
   ]
  },
  {
   "cell_type": "markdown",
   "metadata": {},
   "source": [
    "### sgc"
   ]
  },
  {
   "cell_type": "code",
   "execution_count": 100,
   "metadata": {},
   "outputs": [],
   "source": [
    "n_inputs = 4\n",
    "meta_params = {\n",
    "    'N_inputs' : n_inputs*4, # 7 inputs with 4 possible spikes each\n",
    "    'N_runs' : 100,\n",
    "    'duration' : 0.05*second,\n",
    "    'onset_offset' : 0, # 5msec is for figure making because data plotted with 5msec pre-stimonset #4.5,\n",
    "    'tau_e1' : 4*ms,\n",
    "    'tau_e2' : 1*ms,#ms, time of normal stimulus onset relative to cmd\n",
    "    'e_lmi_delay' : 4*ms #ms\n",
    "}\n",
    "\n",
    "invpeak = (meta_params['tau_e2'] / meta_params['tau_e1']) ** \\\n",
    "        (meta_params['tau_e1'] / (meta_params['tau_e2'] - meta_params['tau_e1']))\n",
    "\n",
    "namespace_sim = {\n",
    "    'sim_dt' : 0.1*ms,\n",
    "    'Cm' : 12*pF,\n",
    "    'E_l' : -70*mV,\n",
    "    'g_l' : 1*nS, # a 1MOhm cell has gl = 1*nS\n",
    "    'E_e' : 0*mV,\n",
    "    'E_e_lmi' : -90*mV,\n",
    "    'V_th' : 0*mV,\n",
    "    'V_r' : -70*mV,\n",
    "    'w_e' : 0.1*nS,\n",
    "    'w_e_lmi' : 0*nS, #0*nS,##0,#either on and off... weight by logistic 0*nS,\n",
    "    'tau_e1' : 4*ms,\n",
    "    'tau_e2' : 1*ms,\n",
    "    'tau_e_lmi' : 5*ms,\n",
    "    'invpeak' : invpeak\n",
    "}"
   ]
  },
  {
   "cell_type": "markdown",
   "metadata": {},
   "source": [
    "#### make single EA input for Supplement Fig 4"
   ]
  },
  {
   "cell_type": "code",
   "execution_count": 101,
   "metadata": {
    "scrolled": false
   },
   "outputs": [
    {
     "name": "stderr",
     "output_type": "stream",
     "text": [
      "100%|██████████| 1/1 [00:00<00:00,  3.90it/s]\n"
     ]
    }
   ],
   "source": [
    "# multispike = np.asarray([[2,3],[2,2.5],[2,2.25]])\n",
    "multispike = np.asarray([[np.nan,0]])\n",
    "\n",
    "\n",
    "meta_params['duration'] = 0.075*second\n",
    "\n",
    "net = initialize_model(namespace_sim,meta_params) \n",
    "net.store('intialized',filename=sim_filepath) \n",
    "\n",
    "### subsample from data\n",
    "R_wavs_ = [] # initialize array to store responses across stimulus set\n",
    "onset_ = []\n",
    "\n",
    "i = 0\n",
    "for _ in tqdm(range(len(multispike))):\n",
    "\n",
    "    # get spike times for afferent population\n",
    "#     multispike,fsl = get_afferents_subsampled(a)\n",
    "\n",
    "\n",
    "#     for y in multispike:\n",
    "    y = multispike[i]\n",
    "    i+=1\n",
    "    miny = np.NaN\n",
    "    net.restore('intialized',filename=sim_filepath) # this resets simulation clock to 0\n",
    "        # the state of the system at time of restore should affect the network operation accordingly\n",
    "    y = y[~np.isnan(y)] # remove nan values from array of spike times\n",
    "    spk_t_aff = np.asarray(y)*ms # create spike time array for SpikeGeneratorGroup, sorted\n",
    "    ind_aff = np.empty(0) # create default afferent index array in case all were nan\n",
    "\n",
    "    spk_t_lmi = np.empty(0)*ms # create default lmi spike time in case where no afferent input (all nan)\n",
    "    ind_lmi = np.empty(0) # create default lmi index array in case all were nan\n",
    "\n",
    "    if len(y)!=0: # if not all were nan, create index array for afferent spikes, lmi neuron, and lmi spike\n",
    "        ind_aff = np.arange(len(y))\n",
    "        ind_lmi = np.arange(1)\n",
    "        spk_t_lmi = [np.min(y)]*ms\n",
    "        miny = np.min(y)\n",
    "\n",
    "    # update SpikeGeneratorGroup neuron indices and spikes\n",
    "    net['aff_input'].set_spikes(ind_aff,spk_t_aff)\n",
    "    net['lmi_input'].set_spikes(ind_lmi,spk_t_lmi)\n",
    "\n",
    "    net.run(duration = meta_params['duration'])\n",
    "\n",
    "    r =net['state_mon'].v/mV # set r to voltage trace from simulation trial\n",
    "    xtime_model = net['state_mon'].t/ms\n",
    "    R_wavs_.append(r.reshape(-1)) # append response for this stimamp to response mat across all stimamp\n",
    "    onset_.append(miny)\n",
    "\n",
    "\n",
    "R_wavs = np.asarray(R_wavs_).T\n",
    "R_wavs = R_wavs-R_wavs[0,:]\n",
    "onset = np.asarray(onset_).T"
   ]
  },
  {
   "cell_type": "code",
   "execution_count": 102,
   "metadata": {
    "scrolled": false
   },
   "outputs": [
    {
     "data": {
      "application/vnd.jupyter.widget-view+json": {
       "model_id": "05ce1d57869b4b39af11df2f9866d771",
       "version_major": 2,
       "version_minor": 0
      },
      "text/plain": [
       "FigureCanvasNbAgg()"
      ]
     },
     "metadata": {},
     "output_type": "display_data"
    },
    {
     "name": "stderr",
     "output_type": "stream",
     "text": [
      "WARNING    /Users/kperks/opt/anaconda3/envs/grc_study/lib/python3.6/site-packages/ipykernel_launcher.py:3: MatplotlibDeprecationWarning: Adding an axes using the same arguments as a previous axes currently reuses the earlier instance.  In a future version, a new instance will always be created and returned.  Meanwhile, this warning can be suppressed, and the future behavior ensured, by passing a unique label to each axes instance.\n",
      "  This is separate from the ipykernel package so we can avoid doing imports until\n",
      " [py.warnings]\n"
     ]
    }
   ],
   "source": [
    "hfig,ax = create_fig()\n",
    "# hfig = plt.figure(figsize=[3,1])\n",
    "ax = hfig.add_axes([0.2,0.2,0.7,0.7],frameon=False)\n",
    "colinds = plt.cm.plasma(np.linspace(0.2,0.85,2))\n",
    "plt.plot(xtime_model, R_wavs[:,0],color='black',linestyle='-')\n",
    "\n",
    "sns.despine(hfig)\n",
    "ax.set_xticks(np.arange(0,55,10))\n",
    "plt.xlim(0,50)\n",
    "# ax.set_yticks([15,20])\n",
    "ax.set_frame_on(True)\n",
    "yax = ax.spines[\"left\"]\n",
    "yax.set_visible(False)\n",
    "ax.set_xlabel('Time after stimulus (ms)');\n",
    "plt.show()\n",
    "# plt.vlines(2.5,-70,-64,color=colinds[1],linestyle='-')\n",
    "figsave(figure_folder,'S4_SingleModelPSP_SGC')"
   ]
  },
  {
   "cell_type": "markdown",
   "metadata": {},
   "source": [
    "## plot min psps for sgc and dgc"
   ]
  },
  {
   "cell_type": "code",
   "execution_count": 103,
   "metadata": {},
   "outputs": [],
   "source": [
    "filename = \"minresponse_dict_sgrc.pickle\"\n",
    "# fileobj = open(filename, 'wb')\n",
    "# pickle.dump(minresponse_dict_dgrc, fileobj)\n",
    "# fileobj.close()\n",
    "fileobj = open(top_dir / 'data_processed' / filename, 'rb')\n",
    "minresponse_dict = pickle.load(fileobj)\n",
    "fileobj.close()"
   ]
  },
  {
   "cell_type": "code",
   "execution_count": 110,
   "metadata": {},
   "outputs": [],
   "source": [
    "# xtime, dt, minresponses, minresponses_norm = get_minresponse_mat(all_exptname)\n",
    "sweepdur = 0.05\n",
    "newdt = 1/10000\n",
    "newsamp = int(sweepdur/newdt)\n",
    "xtime = np.linspace(0,sweepdur,newsamp)*1000\n",
    "minresponse_expts = {\n",
    "    '20200718_000' : [1,2,3,4,5],\n",
    "    '20200606_001' : [0,5,6],\n",
    "#     '20200607_000' : [4,9],\n",
    "#     '20200524_002' : [0,1,3,4],\n",
    "    '20200109_004' : [0,1,2,3]\n",
    "    }\n",
    "\n",
    "mean_onsets = {\n",
    "    '20200718_000' : [6.83],\n",
    "    '20200606_001' : [7.43],\n",
    "#     '20200607_000' : [0],\n",
    "#     '20200524_002' : [0],\n",
    "    '20200109_004' : [5.39]\n",
    "    }\n",
    "\n",
    "mean_offsets = {\n",
    "    '20200718_000' : [139],\n",
    "    '20200606_001' : [377],\n",
    "#     '20200607_000' : [0],\n",
    "#     '20200524_002' : [0],\n",
    "    '20200109_004' : [214]\n",
    "    }\n",
    "\n",
    "mean_peaks = {\n",
    "    '20200718_000' : [2.98],\n",
    "    '20200606_001' : [1.41],\n",
    "#     '20200607_000' : [0],\n",
    "#     '20200524_002' : [0],\n",
    "    '20200109_004' : [2.94]\n",
    "}"
   ]
  },
  {
   "cell_type": "code",
   "execution_count": 109,
   "metadata": {},
   "outputs": [
    {
     "data": {
      "application/vnd.jupyter.widget-view+json": {
       "model_id": "ab4f31fe698f4c65a1b098d5084ce6c7",
       "version_major": 2,
       "version_minor": 0
      },
      "text/plain": [
       "FigureCanvasNbAgg()"
      ]
     },
     "metadata": {},
     "output_type": "display_data"
    },
    {
     "name": "stdout",
     "output_type": "stream",
     "text": [
      "20200718_000 [1, 2, 3, 4, 5]\n",
      "20200606_001 [0, 5, 6]\n",
      "20200109_004 [0, 1, 2, 3]\n"
     ]
    }
   ],
   "source": [
    "# hfig,ax = create_fig()\n",
    "hfig = plt.figure(figsize=[8,5])\n",
    "ax = hfig.add_axes([0.2,0.2,0.7,0.7],frameon=False)\n",
    "\n",
    "for name,trials in minresponse_expts.items():\n",
    "    print(name,trials)\n",
    "    \n",
    "    xtime = np.linspace(0,50,np.shape(minresponse_dict[name])[0])\n",
    "\n",
    "    plt.plot(np.nanmean(minresponse_dict[name][:,trials],1)-\n",
    "            np.nanmean(minresponse_dict[name][:,trials],1)[0],\n",
    "            linewidth=0.5);\n",
    "\n",
    "# plt.plot(xtime_model, R_wavs[:,0],color='grey',linewidth=2)\n",
    "    \n",
    "sns.despine(hfig)\n",
    "ax.set_xticks(np.arange(0,55,10))\n",
    "# plt.xlim(-2,45)\n",
    "# plt.ylim(-1.5,4)\n",
    "# ax.set_yticks([15,20])\n",
    "ax.set_frame_on(True)\n",
    "yax = ax.spines[\"left\"]\n",
    "yax.set_visible(False)\n",
    "ax.set_xlabel('Time (msec)');\n",
    "plt.show()"
   ]
  },
  {
   "cell_type": "code",
   "execution_count": 117,
   "metadata": {},
   "outputs": [
    {
     "data": {
      "application/vnd.jupyter.widget-view+json": {
       "model_id": "9d23ad465dbb43ccbd8c5673529512ed",
       "version_major": 2,
       "version_minor": 0
      },
      "text/plain": [
       "FigureCanvasNbAgg()"
      ]
     },
     "metadata": {},
     "output_type": "display_data"
    },
    {
     "name": "stdout",
     "output_type": "stream",
     "text": [
      "20200718_000 [1, 2, 3, 4, 5]\n",
      "20200606_001 [0, 5, 6]\n",
      "20200109_004 [0, 1, 2, 3]\n"
     ]
    },
    {
     "data": {
      "application/vnd.jupyter.widget-view+json": {
       "model_id": "b7a7dabc89364951a9d4a2e199b68772",
       "version_major": 2,
       "version_minor": 0
      },
      "text/plain": [
       "FigureCanvasNbAgg()"
      ]
     },
     "metadata": {},
     "output_type": "display_data"
    },
    {
     "name": "stdout",
     "output_type": "stream",
     "text": [
      "20200718_000 [1, 2, 3, 4, 5]\n",
      "20200606_001 [0, 5, 6]\n",
      "20200109_004 [0, 1, 2, 3]\n"
     ]
    }
   ],
   "source": [
    "hfig,ax = create_fig()\n",
    "# hfig = plt.figure(figsize=[5,5])\n",
    "# ax = hfig.add_axes([0.2,0.2,0.7,0.7],frameon=False)\n",
    "\n",
    "for name,trials in minresponse_expts.items():\n",
    "    print(name,trials)\n",
    "    \n",
    "    xtime = np.linspace(0,50,np.shape(minresponse_dict[name])[0])\n",
    "\n",
    "    plt.plot(xtime-mean_onsets[name],(np.mean(minresponse_dict[name][:,trials],1)-\n",
    "            np.mean(minresponse_dict[name][:,trials],1)[mean_offsets[name]])/mean_peaks[name],\n",
    "            color='black',linewidth=0.5);\n",
    "\n",
    "plt.plot(xtime_model, R_wavs[:,0]/np.max(R_wavs[:,0]),color='grey',linewidth=3)\n",
    "    \n",
    "sns.despine(hfig)\n",
    "ax.set_xticks(np.arange(0,55,10))\n",
    "plt.xlim(-2,45)\n",
    "plt.ylim(-0.25,1.25)\n",
    "# ax.set_yticks([15,20])\n",
    "ax.set_frame_on(True)\n",
    "yax = ax.spines[\"left\"]\n",
    "yax.set_visible(False)\n",
    "ax.set_xlabel('Time (msec)');\n",
    "plt.show()\n",
    "\n",
    "figsave(figure_folder,'S4_miniPSP_SGC_ModelOverlay_Norm')\n",
    "\n",
    "hfig,ax = create_fig()\n",
    "# hfig = plt.figure(figsize=[5,5])\n",
    "# ax = hfig.add_axes([0.2,0.2,0.7,0.7],frameon=False)\n",
    "\n",
    "for name,trials in minresponse_expts.items():\n",
    "    print(name,trials)\n",
    "    \n",
    "    xtime = np.linspace(0,50,np.shape(minresponse_dict[name])[0])\n",
    "\n",
    "    plt.plot(xtime-mean_onsets[name],(np.mean(minresponse_dict[name][:,trials],1)-\n",
    "            np.mean(minresponse_dict[name][:,trials],1)[mean_offsets[name]]),\n",
    "            color='black',linewidth=0.5);\n",
    "\n",
    "# plt.plot(xtime_model, R_wavs[:,0]/np.max(R_wavs[:,0]),color='grey',linewidth=3)\n",
    "    \n",
    "sns.despine(hfig)\n",
    "ax.set_xticks(np.arange(0,55,10))\n",
    "plt.xlim(-2,45)\n",
    "plt.ylim(-0.5,3.2)\n",
    "# ax.set_yticks([15,20])\n",
    "ax.set_frame_on(True)\n",
    "yax = ax.spines[\"left\"]\n",
    "yax.set_visible(False)\n",
    "ax.set_xlabel('Time (msec)');\n",
    "plt.show()\n",
    "\n",
    "figsave(figure_folder,'S4_miniPSP_SGC')"
   ]
  },
  {
   "cell_type": "markdown",
   "metadata": {},
   "source": [
    "# Hyperparameterize model Figure S4"
   ]
  },
  {
   "cell_type": "markdown",
   "metadata": {},
   "source": [
    "## analyze simulation results from RunSimulation_hyperparameterize.py that saved results to h5"
   ]
  },
  {
   "cell_type": "code",
   "execution_count": 10,
   "metadata": {},
   "outputs": [],
   "source": [
    "def get_response_amp_atdelay(results,results_onset,lmi_delay):\n",
    "    amp = []\n",
    "    for i,rmat in enumerate(np.moveaxis(results, [0, 1, 2], [-1, -2, -3])):\n",
    "        rmat = rmat.T\n",
    "        ronset = results_onset[:,i]\n",
    "\n",
    "        t0ind = np.array([np.argmax(xtime>=r) for r in ronset]).astype('float')\n",
    "        t0ind[t0ind==0] = np.nan\n",
    "        tind = np.array([np.argmax(xtime>=(r+lmi_delay)) for r in ronset]).astype('float')\n",
    "        tind[tind==0] = np.nan\n",
    "\n",
    "        amp_ = []\n",
    "        for o,t,r in zip(t0ind,tind,rmat):\n",
    "            if np.isnan(o):\n",
    "                amp_.append(np.nan)\n",
    "            if ~np.isnan(o):\n",
    "                amp_.append(r[int(t)]-r[int(o)])\n",
    "        amp.append(np.array(amp_).T)\n",
    "    amp = np.array(amp).T\n",
    "    return amp\n",
    "\n",
    "def get_response_amp_peak(results):\n",
    "    amp = []\n",
    "    for rmat in np.moveaxis(results, [0, 1, 2], [-1, -2, -3]):\n",
    "        amp_ = [np.max(r)-r[0] for r in rmat.T]\n",
    "        amp.append(np.array(amp_).T)\n",
    "    amp = np.array(amp).T\n",
    "    return amp"
   ]
  },
  {
   "cell_type": "code",
   "execution_count": 126,
   "metadata": {},
   "outputs": [
    {
     "data": {
      "application/vnd.jupyter.widget-view+json": {
       "model_id": "1ce820f9bc8d40fba8c7105321acfe32",
       "version_major": 2,
       "version_minor": 0
      },
      "text/plain": [
       "FigureCanvasNbAgg()"
      ]
     },
     "metadata": {},
     "output_type": "display_data"
    }
   ],
   "source": [
    "results_path = top_dir / 'data_processed'\n",
    "results_path = results_path / 'simulation_results_4inputs.h5'\n",
    "with h5py.File(results_path, 'a') as h5file:\n",
    "    group = h5file.get('results')\n",
    "    randtrial = randint(np.shape(np.array(group['subsamp']))[2])\n",
    "    plt.figure()\n",
    "    plt.plot(np.array(group['subsamp'])[:,:,randtrial].T);\n",
    "    plt.show()"
   ]
  },
  {
   "cell_type": "code",
   "execution_count": 19,
   "metadata": {},
   "outputs": [
    {
     "name": "stdout",
     "output_type": "stream",
     "text": [
      "['homog_all', 'homog_all_onset', 'homog_isi', 'homog_isi_onset', 'homog_pspike', 'homog_pspike_onset', 'subsamp', 'subsamp_onset']\n",
      "['n_inputs', 'n_runs', 'stimamp', 'xtime']\n"
     ]
    },
    {
     "data": {
      "application/vnd.jupyter.widget-view+json": {
       "model_id": "2230bbebefe441798cef08bcb68c5bcf",
       "version_major": 2,
       "version_minor": 0
      },
      "text/plain": [
       "FigureCanvasNbAgg()"
      ]
     },
     "metadata": {},
     "output_type": "display_data"
    }
   ],
   "source": [
    "results_path = top_dir / 'data_processed'\n",
    "results_path = results_path / 'simulation_results_4inputs.h5'\n",
    "lmi_delay = 5\n",
    "\n",
    "conditions = '4input_lmi5'\n",
    "\n",
    "\n",
    "h5file = h5py.File(results_path, 'r')\n",
    "print(list(h5file['results'].keys()))\n",
    "\n",
    "xtime = np.array(h5file['metadata']['xtime'])\n",
    "x = np.array(h5file['metadata']['stimamp'])\n",
    "subsamp = np.array(h5file['results']['subsamp'])\n",
    "\n",
    "subsamp = np.array(h5file['results']['subsamp'])\n",
    "homog_isi = np.array(h5file['results']['homog_isi'])\n",
    "homog_pspike = np.array(h5file['results']['homog_pspike'])\n",
    "homog_all = np.array(h5file['results']['homog_all'])\n",
    "\n",
    "subsamp_onset = np.array(h5file['results']['subsamp_onset'])\n",
    "homog_isi_onset = np.array(h5file['results']['homog_isi_onset'])\n",
    "homog_pspike_onset = np.array(h5file['results']['homog_pspike_onset'])\n",
    "homog_all_onset = np.array(h5file['results']['homog_all_onset'])\n",
    "\n",
    "print(list(h5file['metadata'].keys()))\n",
    "\n",
    "xtime = np.array(h5file['metadata']['xtime'])\n",
    "stimamp = np.array(h5file['metadata']['stimamp'])\n",
    "\n",
    "h5file.close()\n",
    "\n",
    "\n",
    "hfig,ax = create_fig_tuning()\n",
    "ax.set_ylabel('Mean Response Amplitude (mV)')\n",
    "ax.set_xlabel('Stimulus amplitude \\n (% change)',linespacing=0.75)\n",
    "# ax.set_ylim(-5,105)\n",
    "ax.set_xlim(-47,47)\n",
    "xticks([-40,-20,0,20,40]);\n",
    "\n",
    "amp = get_response_amp_atdelay(subsamp,subsamp_onset,lmi_delay)\n",
    "plt.errorbar(x,\n",
    "             np.nanmean(amp,1),\n",
    "             yerr=stats.sem(amp,1),marker='o',markersize=2,\n",
    "             linestyle=\"None\",color = sns.xkcd_rgb['black'], capsize=2)\n",
    "\n",
    "amp = get_response_amp_atdelay(homog_isi,homog_isi_onset,lmi_delay)\n",
    "plt.errorbar(x,\n",
    "             np.nanmean(amp,1),\n",
    "             yerr=stats.sem(amp,1),marker='o',markersize=2,\n",
    "             linestyle=\"None\",color = sns.xkcd_rgb['purple'], capsize=2)\n",
    "\n",
    "amp = get_response_amp_atdelay(homog_pspike,homog_pspike_onset,lmi_delay)\n",
    "plt.errorbar(x,\n",
    "             np.nanmean(amp,1),\n",
    "             yerr=stats.sem(amp,1),marker='o',markersize=2,\n",
    "             linestyle=\"None\",color = sns.xkcd_rgb['orange'], capsize=2)\n",
    "\n",
    "amp = get_response_amp_atdelay(homog_all,homog_all_onset,lmi_delay)\n",
    "plt.errorbar(x,\n",
    "             np.nanmean(amp,1),\n",
    "             yerr=stats.sem(amp,1),marker='o',markersize=2,\n",
    "             linestyle=\"None\",color = sns.xkcd_rgb['blue'], capsize=2)\n",
    "\n",
    "\n",
    "figsave(figure_folder,'S4_model_hyperparameterize_'+conditions)"
   ]
  },
  {
   "cell_type": "code",
   "execution_count": 13,
   "metadata": {},
   "outputs": [
    {
     "name": "stdout",
     "output_type": "stream",
     "text": [
      "['homog_all', 'homog_all_onset', 'homog_isi', 'homog_isi_onset', 'homog_pspike', 'homog_pspike_onset', 'subsamp', 'subsamp_onset']\n",
      "['n_inputs', 'n_runs', 'stimamp', 'xtime']\n"
     ]
    },
    {
     "data": {
      "application/vnd.jupyter.widget-view+json": {
       "model_id": "ef30d990e8e547f29a12b350c867e969",
       "version_major": 2,
       "version_minor": 0
      },
      "text/plain": [
       "FigureCanvasNbAgg()"
      ]
     },
     "metadata": {},
     "output_type": "display_data"
    }
   ],
   "source": [
    "results_path = top_dir / 'data_processed'\n",
    "results_path = results_path / 'simulation_results_7inputs.h5'\n",
    "\n",
    "conditions = '7input_peakamp'\n",
    "\n",
    "\n",
    "h5file = h5py.File(results_path, 'r')\n",
    "print(list(h5file['results'].keys()))\n",
    "\n",
    "xtime = np.array(h5file['metadata']['xtime'])\n",
    "x = np.array(h5file['metadata']['stimamp'])\n",
    "subsamp = np.array(h5file['results']['subsamp'])\n",
    "\n",
    "subsamp = np.array(h5file['results']['subsamp'])\n",
    "homog_isi = np.array(h5file['results']['homog_isi'])\n",
    "homog_pspike = np.array(h5file['results']['homog_pspike'])\n",
    "homog_all = np.array(h5file['results']['homog_all'])\n",
    "\n",
    "subsamp_onset = np.array(h5file['results']['subsamp_onset'])\n",
    "homog_isi_onset = np.array(h5file['results']['homog_isi_onset'])\n",
    "homog_pspike_onset = np.array(h5file['results']['homog_pspike_onset'])\n",
    "homog_all_onset = np.array(h5file['results']['homog_all_onset'])\n",
    "\n",
    "print(list(h5file['metadata'].keys()))\n",
    "\n",
    "xtime = np.array(h5file['metadata']['xtime'])\n",
    "stimamp = np.array(h5file['metadata']['stimamp'])\n",
    "\n",
    "h5file.close()\n",
    "\n",
    "\n",
    "hfig,ax = create_fig_tuning()\n",
    "ax.set_ylabel('Mean Response Amplitude (mV)')\n",
    "ax.set_xlabel('Stimulus amplitude \\n (% change)',linespacing=0.75)\n",
    "# ax.set_ylim(-5,105)\n",
    "ax.set_xlim(-47,47)\n",
    "xticks([-40,-20,0,20,40]);\n",
    "\n",
    "amp = get_response_amp_peak(subsamp)\n",
    "plt.errorbar(x,\n",
    "             np.nanmean(amp,1),\n",
    "             yerr=stats.sem(amp,1),marker='o',markersize=2,\n",
    "             linestyle=\"None\",color = sns.xkcd_rgb['black'], capsize=2)\n",
    "\n",
    "amp = get_response_amp_peak(homog_isi)\n",
    "plt.errorbar(x,\n",
    "             np.nanmean(amp,1),\n",
    "             yerr=stats.sem(amp,1),marker='o',markersize=2,\n",
    "             linestyle=\"None\",color = sns.xkcd_rgb['purple'], capsize=2)\n",
    "\n",
    "amp = get_response_amp_peak(homog_pspike)\n",
    "plt.errorbar(x,\n",
    "             np.nanmean(amp,1),\n",
    "             yerr=stats.sem(amp,1),marker='o',markersize=2,\n",
    "             linestyle=\"None\",color = sns.xkcd_rgb['orange'], capsize=2)\n",
    "\n",
    "amp = get_response_amp_peak(homog_all)\n",
    "plt.errorbar(x,\n",
    "             np.nanmean(amp,1),\n",
    "             yerr=stats.sem(amp,1),marker='o',markersize=2,\n",
    "             linestyle=\"None\",color = sns.xkcd_rgb['blue'], capsize=2)\n",
    "\n",
    "\n",
    "figsave(figure_folder,'S4_model_hyperparameterize_'+conditions)"
   ]
  },
  {
   "cell_type": "code",
   "execution_count": null,
   "metadata": {},
   "outputs": [],
   "source": []
  }
 ],
 "metadata": {
  "kernelspec": {
   "display_name": "Python 3",
   "language": "python",
   "name": "python3"
  },
  "language_info": {
   "codemirror_mode": {
    "name": "ipython",
    "version": 3
   },
   "file_extension": ".py",
   "mimetype": "text/x-python",
   "name": "python",
   "nbconvert_exporter": "python",
   "pygments_lexer": "ipython3",
   "version": "3.6.12"
  },
  "toc": {
   "base_numbering": 1,
   "nav_menu": {},
   "number_sections": true,
   "sideBar": true,
   "skip_h1_title": false,
   "title_cell": "Table of Contents",
   "title_sidebar": "Contents",
   "toc_cell": false,
   "toc_position": {
    "height": "calc(100% - 180px)",
    "left": "10px",
    "top": "150px",
    "width": "367.797px"
   },
   "toc_section_display": true,
   "toc_window_display": true
  }
 },
 "nbformat": 4,
 "nbformat_minor": 4
}
