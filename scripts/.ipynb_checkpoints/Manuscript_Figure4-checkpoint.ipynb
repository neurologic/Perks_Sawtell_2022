{
 "cells": [
  {
   "cell_type": "markdown",
   "metadata": {},
   "source": [
    "# Import packages"
   ]
  },
  {
   "cell_type": "code",
   "execution_count": 2,
   "metadata": {
    "code_folding": [
     5
    ]
   },
   "outputs": [],
   "source": [
    "import sys\n",
    "from brian2 import *\n",
    "import sympy\n",
    "import matplotlib.pyplot as plt\n",
    "import numpy as np\n",
    "import pandas as pd\n",
    "from pathlib import Path\n",
    "import seaborn as sns\n",
    "from scipy import signal\n",
    "from scipy import optimize\n",
    "from scipy import stats\n",
    "from scipy.stats import gaussian_kde\n",
    "import pickle\n",
    "import yaml\n",
    "import time\n",
    "\n",
    "import matplotlib\n",
    "# matplotlib.rcParams['pdf.fonttype'] = 42\n",
    "import warnings\n",
    "warnings.filterwarnings(action='ignore', message='Mean of empty slice')"
   ]
  },
  {
   "cell_type": "code",
   "execution_count": 1,
   "metadata": {},
   "outputs": [],
   "source": [
    "# import platform\n",
    "# import sys\n",
    "# os_name = platform.system()\n",
    "# if os_name == 'Darwin':\n",
    "#     sys.path.append('/Users/kperks/mnt/engram_share/home/kep2142/scripts/Python/Analysis/')\n",
    "# if os_name == 'Linux':\n",
    "#     sys.path.append('/mnt/engram/scripts/Python/Analysis/')\n",
    "# from ClassDef_AmplitudeShift_Stable import AmpShift_Stable\n",
    "# from Plotting import figsave, create_fig, create_fig_tuning, set_fig_style\n",
    "\n",
    "# from brian2 import *\n",
    "# import sympy\n",
    "# import matplotlib.pyplot as plt\n",
    "# import numpy as np\n",
    "# import pandas as pd\n",
    "# from pathlib import Path\n",
    "# import seaborn as sns\n",
    "# from scipy import signal\n",
    "# from scipy import optimize\n",
    "# from scipy import stats\n",
    "# from scipy.stats import gaussian_kde\n",
    "# import pickle\n",
    "# import random\n",
    "# import pyplot.express as px\n",
    "\n",
    "# import matplotlib\n",
    "# # matplotlib.rcParams['pdf.fonttype'] = 42\n",
    "\n",
    "# import warnings\n",
    "# warnings.filterwarnings(action='ignore', message='Mean of empty slice')"
   ]
  },
  {
   "cell_type": "markdown",
   "metadata": {},
   "source": [
    "# define paths"
   ]
  },
  {
   "cell_type": "code",
   "execution_count": 18,
   "metadata": {},
   "outputs": [],
   "source": [
    "# You must define the path to the raw data (downloaded from the database)\n",
    "# the raw data to plot example cells is not part of the github directory\n",
    "data_folder = '/Users/kperks/mnt/OneDrive - wesleyan.edu/Research/Manuscripts/GRC_PerksSawtell/AcceptedRevision_CellReports/data_raw'"
   ]
  },
  {
   "cell_type": "code",
   "execution_count": 9,
   "metadata": {},
   "outputs": [],
   "source": [
    "top_dir = Path.cwd().resolve().parents[0] #this is the path to the folder you should be running these notebooks from (Perks_Sawtell_2022)\n",
    "\n",
    "#primary resource folders:\n",
    "script_folder = top_dir / 'scripts'\n",
    "# data_folder = top_dir / 'data_raw'\n",
    "\n",
    "#folders with processed data:\n",
    "df_folder = top_dir / 'data_processed/df_cmdintact'\n",
    "meta_data_folder = top_dir / 'data_processed/GRC_properties_Meta'\n",
    "\n",
    "#where to save any figures that are generated:\n",
    "#change as needed. Default is the location where Perks_Sawtell_2022 lives (if you are running this script from that folder)\n",
    "figure_folder = Path.cwd().resolve().parents[1] / 'Perks_Sawtell_2022_FiguresComponents'\n",
    "\n",
    "#for storing simulation states\n",
    "sim_filename = 'grc_model_initialized.pickle'\n",
    "sim_filepath = top_dir / 'data_processed/grc_model_simulations' / sim_filename "
   ]
  },
  {
   "cell_type": "markdown",
   "metadata": {},
   "source": [
    "# import custom functions from scripts folder"
   ]
  },
  {
   "cell_type": "code",
   "execution_count": 5,
   "metadata": {},
   "outputs": [],
   "source": [
    "sys.path.append(script_folder)\n",
    "from ClassDef_AmplitudeShift_Stable import AmpShift_Stable #this is the function that imports all of the cell_data structures. Needed if plotting any example cells. \n",
    "from FunctionDefinitions import *"
   ]
  },
  {
   "cell_type": "markdown",
   "metadata": {},
   "source": [
    "# configure figure styles"
   ]
  },
  {
   "cell_type": "code",
   "execution_count": 6,
   "metadata": {},
   "outputs": [],
   "source": [
    "sns.set_style(\"ticks\")\n",
    "sns.set_context(\"paper\")\n",
    "rc = set_fig_style()\n",
    "matplotlib.rcParams.update(rc)"
   ]
  },
  {
   "cell_type": "markdown",
   "metadata": {},
   "source": [
    "# import dataset for multispike model "
   ]
  },
  {
   "cell_type": "code",
   "execution_count": 10,
   "metadata": {},
   "outputs": [],
   "source": [
    "meta_df = pd.read_csv(top_dir / 'data_processed/DF_Afferent_MultiSpikePop_ALL.csv')"
   ]
  },
  {
   "cell_type": "markdown",
   "metadata": {},
   "source": [
    "# Load afferent metadata from yaml files"
   ]
  },
  {
   "cell_type": "code",
   "execution_count": 15,
   "metadata": {},
   "outputs": [],
   "source": [
    "with open(top_dir / 'data_processed/all_expt_metadata.yaml', 'r') as file:\n",
    "    all_expt = yaml.load(file,Loader=yaml.FullLoader)[0]\n",
    "    \n",
    "with open(top_dir / 'data_processed/spk_thresh_metadata.yaml', 'r') as file:\n",
    "    spk_thresh = yaml.load(file,Loader=yaml.FullLoader)[0]# Load GC metadata from yaml files"
   ]
  },
  {
   "cell_type": "markdown",
   "metadata": {},
   "source": [
    "# Create settings dataframe"
   ]
  },
  {
   "cell_type": "code",
   "execution_count": 16,
   "metadata": {},
   "outputs": [
    {
     "data": {
      "text/html": [
       "<div>\n",
       "<style scoped>\n",
       "    .dataframe tbody tr th:only-of-type {\n",
       "        vertical-align: middle;\n",
       "    }\n",
       "\n",
       "    .dataframe tbody tr th {\n",
       "        vertical-align: top;\n",
       "    }\n",
       "\n",
       "    .dataframe thead th {\n",
       "        text-align: right;\n",
       "    }\n",
       "</style>\n",
       "<table border=\"1\" class=\"dataframe\">\n",
       "  <thead>\n",
       "    <tr style=\"text-align: right;\">\n",
       "      <th></th>\n",
       "      <th>exptname</th>\n",
       "      <th>boutstr</th>\n",
       "      <th>spk_thresh</th>\n",
       "    </tr>\n",
       "  </thead>\n",
       "  <tbody>\n",
       "    <tr>\n",
       "      <th>0</th>\n",
       "      <td>20200129_002</td>\n",
       "      <td>[expt.get_bout_win(\"N\",\"Keyboard\")[0]]</td>\n",
       "      <td>5.0</td>\n",
       "    </tr>\n",
       "    <tr>\n",
       "      <th>1</th>\n",
       "      <td>20200129_003</td>\n",
       "      <td>[expt.get_bout_win(\"N\",\"Keyboard\")[0]]</td>\n",
       "      <td>15.0</td>\n",
       "    </tr>\n",
       "    <tr>\n",
       "      <th>2</th>\n",
       "      <td>20200129_004</td>\n",
       "      <td>[expt.get_bout_win(\"N\",\"Keyboard\")[0]]</td>\n",
       "      <td>8.0</td>\n",
       "    </tr>\n",
       "    <tr>\n",
       "      <th>3</th>\n",
       "      <td>20200129_005</td>\n",
       "      <td>[expt.get_bout_win(\"N\",\"Keyboard\")[0]]</td>\n",
       "      <td>5.0</td>\n",
       "    </tr>\n",
       "    <tr>\n",
       "      <th>4</th>\n",
       "      <td>20200129_006</td>\n",
       "      <td>[expt.get_bout_win(\"N\",\"Keyboard\")[0]]</td>\n",
       "      <td>20.0</td>\n",
       "    </tr>\n",
       "  </tbody>\n",
       "</table>\n",
       "</div>"
      ],
      "text/plain": [
       "       exptname                                 boutstr  spk_thresh\n",
       "0  20200129_002  [expt.get_bout_win(\"N\",\"Keyboard\")[0]]         5.0\n",
       "1  20200129_003  [expt.get_bout_win(\"N\",\"Keyboard\")[0]]        15.0\n",
       "2  20200129_004  [expt.get_bout_win(\"N\",\"Keyboard\")[0]]         8.0\n",
       "3  20200129_005  [expt.get_bout_win(\"N\",\"Keyboard\")[0]]         5.0\n",
       "4  20200129_006  [expt.get_bout_win(\"N\",\"Keyboard\")[0]]        20.0"
      ]
     },
     "execution_count": 16,
     "metadata": {},
     "output_type": "execute_result"
    }
   ],
   "source": [
    "df0 = pd.DataFrame.from_dict(all_expt,orient='index',columns=['boutstr'])\n",
    "df0 = df0.reset_index().rename(columns={'index':'exptname'})\n",
    "\n",
    "df1 = pd.DataFrame.from_dict(spk_thresh,orient='index',columns=['spk_thresh'])\n",
    "df1 = df1.reset_index().rename(columns={'index':'exptname'})\n",
    "\n",
    "settings_df = df0.merge(df1)\n",
    "settings_df.head()"
   ]
  },
  {
   "cell_type": "markdown",
   "metadata": {},
   "source": [
    "# from afferents with multispike data, Plot 3 example afferents"
   ]
  },
  {
   "cell_type": "markdown",
   "metadata": {},
   "source": [
    "## 20200531_015"
   ]
  },
  {
   "cell_type": "code",
   "execution_count": 19,
   "metadata": {},
   "outputs": [
    {
     "name": "stdout",
     "output_type": "stream",
     "text": [
      "/Users/kperks/mnt/OneDrive - wesleyan.edu/Research/Manuscripts/GRC_PerksSawtell/AcceptedRevision_CellReports/data_raw/20200531_015.smr\n"
     ]
    }
   ],
   "source": [
    "exptname='20200531_015'\n",
    "\n",
    "boutstr=settings_df[settings_df['exptname']==exptname]['boutstr'].values[0]\n",
    "spk_thresh = settings_df[settings_df['exptname']==exptname]['spk_thresh'].values[0]\n",
    "animalID = exptname.split('_')[0]\n",
    "\n",
    "expt = AmpShift_Stable()\n",
    "expt.load_expt(exptname, data_folder)"
   ]
  },
  {
   "cell_type": "code",
   "execution_count": 145,
   "metadata": {},
   "outputs": [],
   "source": [
    "dt = expt.get_dt('lowgain')\n",
    "isimin = int(0.0005/dt)\n",
    "min_peakt = 1.5 #ms #(s)\n",
    "order = 0.0005 #(s)\n",
    "sweepdur = 0.015\n",
    "\n",
    "expt.set_amps(11,[-40,-30,-20,-10,-5,0,5,10,20,30,40])\n",
    "expt.set_channels('CmdTrig','lowgain','spikes','SIU','DigMark')\n",
    "\n",
    "marker_df = expt.get_marker_table() #access with : getattr(expt,'marker_df')\n",
    "\n",
    "# for each stimulus amplitude, get spike response data\n",
    "eventDur = 0.001\n",
    "bout = eval(boutstr)\n",
    "bout_df = expt.filter_marker_df_time(marker_df,bout)\n",
    "trial_df = expt.filter_marker_df_code(bout_df,['T'])\n",
    "\n",
    "xtime,event_sweeps = expt.get_sweepsmat('SIU',trial_df['time'].values,eventDur)\n",
    "event_Amp = np.asarray([np.max(sweep) for sweep in event_sweeps.T])\n",
    "base_df = expt.filter_marker_df_code(bout_df,['U'])\n",
    "xtime,event_sweeps = expt.get_sweepsmat('SIU',base_df['time'].values,eventDur)\n",
    "event_0_Amp = np.median(np.asarray([np.max(sweep) for sweep in event_sweeps.T]))\n",
    "ampshift = np.asarray([np.round(((A/event_0_Amp)*100)-100) for A in event_Amp]).reshape(-1, 1)\n",
    "trial_df.insert(np.shape(trial_df)[1],'ampshift',ampshift)"
   ]
  },
  {
   "cell_type": "code",
   "execution_count": 146,
   "metadata": {},
   "outputs": [
    {
     "data": {
      "image/png": "[encoded data removed]",
      "text/plain": [
       "<Figure size 108x108 with 1 Axes>"
      ]
     },
     "metadata": {},
     "output_type": "display_data"
    }
   ],
   "source": [
    "##########\n",
    "xtime,sweeps = expt.get_sweepsmat('lowgain',trial_df.time.values,sweepdur)\n",
    "\n",
    "hfig,ax = create_fig()\n",
    "colinds = plt.cm.plasma(np.linspace(0.2,0.85,11))\n",
    "\n",
    "y = sweeps[:,trial_df.ampshift==-10][:,[1,2,3]]\n",
    "# y_err = stats.sem(sweeps[:,trial_df.ampshift==-10][:,1:],1)\n",
    "ax.plot(xtime,y,color = colinds[3],linewidth = 0.5)\n",
    "# ax.fill_between(xtime, y-y_err, y+y_err,color = colinds[3],alpha=0.2)\n",
    "\n",
    "y = sweeps[:,trial_df.ampshift==0][:,[1,2,3]]\n",
    "# y_err = stats.sem(sweeps[:,trial_df.ampshift==0][:,1:],1)\n",
    "ax.plot(xtime,y,color = colinds[5],linewidth = 0.5)\n",
    "# ax.fill_between(xtime, y-y_err, y+y_err,color = colinds[5],alpha=0.2)\n",
    "\n",
    "y = sweeps[:,trial_df.ampshift==10][:,[1,2,3]]\n",
    "# y_err = stats.sem(sweeps[:,trial_df.ampshift==10][:,1:],1)\n",
    "ax.plot(xtime,y,color = colinds[7],linewidth = 0.5)\n",
    "# ax.fill_between(xtime, y-y_err, y+y_err,color = colinds[7],alpha=0.2)\n",
    "\n",
    "ax.set_ylim(-70,10)\n",
    "ax.set_xlim(0,15)\n",
    "ax.set_xticks(np.arange(0,15,2));\n",
    "ax.set_frame_on(True)\n",
    "ax.set_ylabel('mV')\n",
    "ax.set_xlabel('msec')\n",
    "# ax.spines[\"bottom\"].set_visible(True)\n",
    "sns.despine(left=False, bottom=False, right=True)\n",
    "# plt.savefig(Path(savepath,exptname + '.pdf'),format='pdf',backend='pdf',facecolor=None,edgecolor=None)\n",
    "\n",
    "\n",
    "# figsave(figure_folder,'ExampleAfferentResponses_' + exptname)\n",
    "figsave(figure_folder,'Fig4_EA_TRIALS_' + exptname)"
   ]
  },
  {
   "cell_type": "code",
   "execution_count": 11,
   "metadata": {},
   "outputs": [
    {
     "name": "stderr",
     "output_type": "stream",
     "text": [
      "WARNING    /Users/kperks/opt/anaconda3/envs/grc_study/lib/python3.6/site-packages/numpy/core/_asarray.py:83: UserWarning: Warning: converting a masked element to nan.\n",
      "  return array(a, dtype, copy=False, order=order)\n",
      " [py.warnings]\n",
      "WARNING    /Users/kperks/opt/anaconda3/envs/grc_study/lib/python3.6/site-packages/numpy/core/_asarray.py:136: UserWarning: Warning: converting a masked element to nan.\n",
      "  return array(a, dtype, copy=False, order=order, subok=True)\n",
      " [py.warnings]\n"
     ]
    },
    {
     "data": {
      "image/png": "[encoded data removed]",
      "text/plain": [
       "<Figure size 86.4x108 with 1 Axes>"
      ]
     },
     "metadata": {},
     "output_type": "display_data"
    }
   ],
   "source": [
    "expt_df = meta_df[meta_df['exptname'].isin([exptname])]\n",
    "\n",
    "colinds = plt.cm.plasma(np.linspace(0.2,0.85,11))\n",
    "\n",
    "hfig,ax = create_fig_tuning()\n",
    "ax.set_xlim([-47,47])\n",
    "ax.set_ylim([2,10])\n",
    "ax.set_ylabel('msec')\n",
    "ax.set_xlabel('Stimulus amplitude \\n (% change)',linespacing=0.8)\n",
    "\n",
    "    \n",
    "for i,a in enumerate(np.unique(expt_df['ampshift'])):\n",
    "    y = np.nanmean(expt_df[expt_df['ampshift'].isin([a])].s0t.values)\n",
    "    y_err = stats.sem(expt_df[expt_df['ampshift'].isin([a])].s0t.values,nan_policy='omit')\n",
    "    plt.errorbar(a,y,yerr=y_err,marker='o',markersize=2,\n",
    "         linestyle=\"None\",color = colinds[i], capsize=2,zorder=3,ecolor='black')\n",
    "\n",
    "    \n",
    "for i,a in enumerate(np.unique(expt_df['ampshift'])):\n",
    "    y = np.nanmean(expt_df[expt_df['ampshift'].isin([a])].s1t.values)\n",
    "    y_err = stats.sem(expt_df[expt_df['ampshift'].isin([a])].s1t.values,nan_policy='omit')\n",
    "    plt.errorbar(a,y,yerr=y_err,marker='X',markersize=2,\n",
    "         linestyle=\"None\",color = colinds[i], capsize=2,zorder=3,ecolor='black')\n",
    "    \n",
    "for i,a in enumerate(np.unique(expt_df['ampshift'])):\n",
    "    y = np.nanmean(expt_df[expt_df['ampshift'].isin([a])].s2t.values)\n",
    "    y_err = stats.sem(expt_df[expt_df['ampshift'].isin([a])].s2t.values,nan_policy='omit')\n",
    "    plt.errorbar(a,y,yerr=y_err,marker='^',markersize=2,\n",
    "         linestyle=\"None\",color = colinds[i], capsize=2,zorder=3,ecolor='black')\n",
    "    \n",
    "figsave(figure_folder,'ExampleAfferentTuningMean_' + exptname)"
   ]
  },
  {
   "cell_type": "markdown",
   "metadata": {},
   "source": [
    "## 20200531_022"
   ]
  },
  {
   "cell_type": "code",
   "execution_count": 139,
   "metadata": {},
   "outputs": [],
   "source": [
    "exptname='20200531_022'"
   ]
  },
  {
   "cell_type": "code",
   "execution_count": 140,
   "metadata": {},
   "outputs": [
    {
     "name": "stdout",
     "output_type": "stream",
     "text": [
      "/Users/kperks/mnt/engram_share/home/kep2142/spikedata/data_raw/20200531/20200531_022.smr\n"
     ]
    }
   ],
   "source": [
    "boutstr=settings_df[settings_df['exptname']==exptname]['boutstr'].values[0]\n",
    "spk_thresh = settings_df[settings_df['exptname']==exptname]['spk_thresh'].values[0]\n",
    "animalID = exptname.split('_')[0]\n",
    "\n",
    "expt = AmpShift_Stable()\n",
    "expt.load_expt(exptname, data_folder)"
   ]
  },
  {
   "cell_type": "code",
   "execution_count": 141,
   "metadata": {},
   "outputs": [],
   "source": [
    "dt = expt.get_dt('lowgain')\n",
    "isimin = int(0.0005/dt)\n",
    "min_peakt = 1.5 #ms #(s)\n",
    "order = 0.0005 #(s)\n",
    "sweepdur = 0.015\n",
    "\n",
    "expt.set_amps(11,[-40,-30,-20,-10,-5,0,5,10,20,30,40])\n",
    "expt.set_channels('CmdTrig','lowgain','spikes','SIU','DigMark')\n",
    "\n",
    "marker_df = expt.get_marker_table() #access with : getattr(expt,'marker_df')\n",
    "\n",
    "# for each stimulus amplitude, get spike response data\n",
    "eventDur = 0.001\n",
    "bout = eval(boutstr)\n",
    "bout_df = expt.filter_marker_df_time(marker_df,bout)\n",
    "trial_df = expt.filter_marker_df_code(bout_df,['T'])\n",
    "\n",
    "xtime,event_sweeps = expt.get_sweepsmat('SIU',trial_df['time'].values,eventDur)\n",
    "event_Amp = np.asarray([np.max(sweep) for sweep in event_sweeps.T])\n",
    "base_df = expt.filter_marker_df_code(bout_df,['U'])\n",
    "xtime,event_sweeps = expt.get_sweepsmat('SIU',base_df['time'].values,eventDur)\n",
    "event_0_Amp = np.median(np.asarray([np.max(sweep) for sweep in event_sweeps.T]))\n",
    "ampshift = np.asarray([np.round(((A/event_0_Amp)*100)-100) for A in event_Amp]).reshape(-1, 1)\n",
    "trial_df.insert(np.shape(trial_df)[1],'ampshift',ampshift)\n",
    "\n",
    "##########\n",
    "xtime,sweeps = expt.get_sweepsmat('lowgain',trial_df.time.values,sweepdur)"
   ]
  },
  {
   "cell_type": "code",
   "execution_count": 142,
   "metadata": {},
   "outputs": [
    {
     "data": {
      "image/png": "[encoded data removed]",
      "text/plain": [
       "<Figure size 108x108 with 1 Axes>"
      ]
     },
     "metadata": {},
     "output_type": "display_data"
    }
   ],
   "source": [
    "hfig,ax = create_fig()\n",
    "colinds = plt.cm.plasma(np.linspace(0.2,0.85,11))\n",
    "\n",
    "y = sweeps[:,trial_df.ampshift==-10][:,[1,2,3]]\n",
    "# y_err = stats.sem(sweeps[:,trial_df.ampshift==-10][:,1:],1)\n",
    "ax.plot(xtime,y,color = colinds[3],linewidth = 0.5)\n",
    "# ax.fill_between(xtime, y-y_err, y+y_err,color = colinds[3],alpha=0.2)\n",
    "\n",
    "y = sweeps[:,trial_df.ampshift==0][:,[1,2,3]]\n",
    "# y_err = stats.sem(sweeps[:,trial_df.ampshift==0][:,1:],1)\n",
    "ax.plot(xtime,y,color = colinds[5],linewidth = 0.5)\n",
    "# ax.fill_between(xtime, y-y_err, y+y_err,color = colinds[5],alpha=0.2)\n",
    "\n",
    "y = sweeps[:,trial_df.ampshift==10][:,[1,2,3]]\n",
    "# y_err = stats.sem(sweeps[:,trial_df.ampshift==10][:,1:],1)\n",
    "ax.plot(xtime,y,color = colinds[7],linewidth = 0.5)\n",
    "# ax.fill_between(xtime, y-y_err, y+y_err,color = colinds[7],alpha=0.2)\n",
    "\n",
    "ax.set_ylim(-75,10)\n",
    "ax.set_xlim(0,15)\n",
    "ax.set_xticks(np.arange(0,15,2));\n",
    "ax.set_frame_on(True)\n",
    "ax.set_ylabel('mV')\n",
    "ax.set_xlabel('msec')\n",
    "# ax.spines[\"bottom\"].set_visible(True)\n",
    "sns.despine(left=False, bottom=False, right=True)\n",
    "# plt.savefig(Path(savepath,exptname + '.pdf'),format='pdf',backend='pdf',facecolor=None,edgecolor=None)\n",
    "expt_df = meta_df[meta_df['exptname'].isin([exptname])]\n",
    "\n",
    "figsave(figure_folder,'Fig4_EA_TRIALS_' + exptname)"
   ]
  },
  {
   "cell_type": "code",
   "execution_count": 143,
   "metadata": {},
   "outputs": [
    {
     "name": "stderr",
     "output_type": "stream",
     "text": [
      "WARNING    /Users/kperks/opt/anaconda3/envs/grc_study/lib/python3.6/site-packages/numpy/core/_asarray.py:83: UserWarning: Warning: converting a masked element to nan.\n",
      "  return array(a, dtype, copy=False, order=order)\n",
      " [py.warnings]\n",
      "WARNING    /Users/kperks/opt/anaconda3/envs/grc_study/lib/python3.6/site-packages/numpy/core/_asarray.py:136: UserWarning: Warning: converting a masked element to nan.\n",
      "  return array(a, dtype, copy=False, order=order, subok=True)\n",
      " [py.warnings]\n"
     ]
    },
    {
     "data": {
      "image/png": "[encoded data removed]",
      "text/plain": [
       "<Figure size 86.4x108 with 1 Axes>"
      ]
     },
     "metadata": {},
     "output_type": "display_data"
    }
   ],
   "source": [
    "expt_df = meta_df[meta_df['exptname'].isin([exptname])]\n",
    "\n",
    "colinds = plt.cm.plasma(np.linspace(0.2,0.85,11))\n",
    "\n",
    "hfig,ax = create_fig_tuning()\n",
    "ax.set_xlim([-47,47])\n",
    "ax.set_ylim([2,10])\n",
    "ax.set_ylabel('msec')\n",
    "ax.set_xlabel('Stimulus amplitude \\n (% change)',linespacing=0.8)\n",
    "\n",
    "    \n",
    "for i,a in enumerate(np.unique(expt_df['ampshift'])):\n",
    "    y = np.nanmean(expt_df[expt_df['ampshift'].isin([a])].s0t.values)\n",
    "    y_err = stats.sem(expt_df[expt_df['ampshift'].isin([a])].s0t.values,nan_policy='omit')\n",
    "    plt.errorbar(a,y,yerr=y_err,marker='o',markersize=2,\n",
    "         linestyle=\"None\",color = colinds[i], capsize=2,zorder=3,ecolor='black')\n",
    "\n",
    "    \n",
    "for i,a in enumerate(np.unique(expt_df['ampshift'])):\n",
    "    y = np.nanmean(expt_df[expt_df['ampshift'].isin([a])].s1t.values)\n",
    "    y_err = stats.sem(expt_df[expt_df['ampshift'].isin([a])].s1t.values,nan_policy='omit')\n",
    "    plt.errorbar(a,y,yerr=y_err,marker='X',markersize=2,\n",
    "         linestyle=\"None\",color = colinds[i], capsize=2,zorder=3,ecolor='black')\n",
    "    \n",
    "for i,a in enumerate(np.unique(expt_df['ampshift'])):\n",
    "    y = np.nanmean(expt_df[expt_df['ampshift'].isin([a])].s2t.values)\n",
    "    y_err = stats.sem(expt_df[expt_df['ampshift'].isin([a])].s2t.values,nan_policy='omit')\n",
    "    plt.errorbar(a,y,yerr=y_err,marker='^',markersize=2,\n",
    "         linestyle=\"None\",color = colinds[i], capsize=2,zorder=3,ecolor='black')\n",
    "    \n",
    "for i,a in enumerate(np.unique(expt_df['ampshift'])):\n",
    "    y = np.nanmean(expt_df[expt_df['ampshift'].isin([a])].s3t.values)\n",
    "    y_err = stats.sem(expt_df[expt_df['ampshift'].isin([a])].s3t.values,nan_policy='omit')\n",
    "    plt.errorbar(a,y,yerr=y_err,marker='x',markersize=2,\n",
    "         linestyle=\"None\",color = colinds[i], capsize=2,zorder=3,ecolor='black')\n",
    "    \n",
    "figsave(figure_folder,'ExampleAfferentTuningMean_' + exptname)"
   ]
  },
  {
   "cell_type": "markdown",
   "metadata": {},
   "source": [
    "## 20200531_001 good example of relative shift primary spike and psp\n",
    "> instead of mean, need to choose example waves"
   ]
  },
  {
   "cell_type": "code",
   "execution_count": 147,
   "metadata": {},
   "outputs": [],
   "source": [
    "exptname = '20200531_001'\n",
    "boutstr = '[expt.get_bout_win(\"R\",\"Keyboard\")[0],expt.get_bout_win(\"R\",\"Keyboard\")[1],expt.get_bout_win(\"R\",\"Keyboard\")[2]]'"
   ]
  },
  {
   "cell_type": "code",
   "execution_count": 148,
   "metadata": {},
   "outputs": [
    {
     "name": "stdout",
     "output_type": "stream",
     "text": [
      "/Users/kperks/mnt/engram_share/home/kep2142/spikedata/data_raw/20200531/20200531_001.smr\n"
     ]
    }
   ],
   "source": [
    "expt = AmpShift_Stable()\n",
    "expt.load_expt(exptname, data_folder)"
   ]
  },
  {
   "cell_type": "code",
   "execution_count": 149,
   "metadata": {},
   "outputs": [],
   "source": [
    "dt = expt.get_dt('lowgain')\n",
    "isimin = int(0.0005/dt)\n",
    "min_peakt = 1.5 #ms #(s)\n",
    "order = 0.0005 #(s)\n",
    "sweepdur = 0.015\n",
    "\n",
    "expt.set_amps(11,[-40,-30,-20,-10,-5,0,5,10,20,30,40])\n",
    "expt.set_channels('CmdTrig','lowgain','spikes','SIU','DigMark')\n",
    "\n",
    "marker_df = expt.get_marker_table() #access with : getattr(expt,'marker_df')\n",
    "\n",
    "# for each stimulus amplitude, get spike response data\n",
    "eventDur = 0.001\n",
    "bout = eval(boutstr)\n",
    "bout_df = expt.filter_marker_df_time(marker_df,bout)\n",
    "trial_df = expt.filter_marker_df_code(bout_df,['T'])\n",
    "\n",
    "xtime,event_sweeps = expt.get_sweepsmat('SIU',trial_df['time'].values,eventDur)\n",
    "event_Amp = np.asarray([np.max(sweep) for sweep in event_sweeps.T])\n",
    "base_df = expt.filter_marker_df_code(bout_df,['U'])\n",
    "xtime,event_sweeps = expt.get_sweepsmat('SIU',base_df['time'].values,eventDur)\n",
    "event_0_Amp = np.median(np.asarray([np.max(sweep) for sweep in event_sweeps.T]))\n",
    "ampshift = np.asarray([np.round(((A/event_0_Amp)*100)-100) for A in event_Amp]).reshape(-1, 1)\n",
    "trial_df.insert(np.shape(trial_df)[1],'ampshift',ampshift)\n",
    "\n",
    "##########\n",
    "xtime,sweeps = expt.get_sweepsmat('lowgain',trial_df.time.values,sweepdur)"
   ]
  },
  {
   "cell_type": "code",
   "execution_count": 46,
   "metadata": {},
   "outputs": [
    {
     "data": {
      "image/png": "[encoded data removed]",
      "text/plain": [
       "<Figure size 108x108 with 1 Axes>"
      ]
     },
     "metadata": {},
     "output_type": "display_data"
    }
   ],
   "source": [
    "hfig,ax = create_fig()\n",
    "colinds = plt.cm.plasma(np.linspace(0.2,0.85,11))\n",
    "\n",
    "y = np.mean(sweeps[:,trial_df.ampshift==-10][:,1:],1)\n",
    "y_err = stats.sem(sweeps[:,trial_df.ampshift==-10][:,1:],1)\n",
    "ax.plot(xtime,y,color = colinds[3],linewidth = 0.5)\n",
    "ax.fill_between(xtime, y-y_err, y+y_err,color = colinds[3],alpha=0.2)\n",
    "\n",
    "y = np.mean(sweeps[:,trial_df.ampshift==5][:,1:],1)\n",
    "y_err = stats.sem(sweeps[:,trial_df.ampshift==5][:,1:],1)\n",
    "ax.plot(xtime,y,color = colinds[6],linewidth = 0.5)\n",
    "ax.fill_between(xtime, y-y_err, y+y_err,color = colinds[6],alpha=0.2)\n",
    "\n",
    "y = np.mean(sweeps[:,trial_df.ampshift==20][:,1:],1)\n",
    "y_err = stats.sem(sweeps[:,trial_df.ampshift==20][:,1:],1)\n",
    "ax.plot(xtime,y,color = colinds[8],linewidth = 0.5)\n",
    "ax.fill_between(xtime, y-y_err, y+y_err,color = colinds[8],alpha=0.2)\n",
    "\n",
    "y = np.mean(sweeps[:,trial_df.ampshift==40][:,1:],1)\n",
    "y_err = stats.sem(sweeps[:,trial_df.ampshift==40][:,1:],1)\n",
    "ax.plot(xtime,y,color = colinds[10],linewidth = 0.5)\n",
    "ax.fill_between(xtime, y-y_err, y+y_err,color = colinds[10],alpha=0.2)\n",
    "\n",
    "ax.set_ylim(-75,10)\n",
    "ax.set_xlim(0,15)\n",
    "ax.set_xticks(np.arange(0,15,2));\n",
    "ax.set_frame_on(True)\n",
    "ax.set_ylabel('mV')\n",
    "ax.set_xlabel('msec')\n",
    "# ax.spines[\"bottom\"].set_visible(True)\n",
    "sns.despine(left=False, bottom=False, right=True)\n",
    "figsave(figure_folder , 'Fig4_EA_' + exptname + '_average')"
   ]
  },
  {
   "cell_type": "code",
   "execution_count": 33,
   "metadata": {},
   "outputs": [
    {
     "data": {
      "image/png": "[encoded data removed]",
      "text/plain": [
       "<Figure size 432x288 with 1 Axes>"
      ]
     },
     "metadata": {},
     "output_type": "display_data"
    }
   ],
   "source": [
    "# hfig,ax = create_fig()\n",
    "\n",
    "ampshift = 20\n",
    "\n",
    "hfig,ax = plt.subplots(1)\n",
    "colinds = plt.cm.plasma(np.linspace(0.2,0.85,11))\n",
    "\n",
    "y = sweeps[:,trial_df.ampshift==ampshift][:,1:]-sweeps[:,trial_df.ampshift==ampshift][-1,1:]\n",
    "y_err = stats.sem(sweeps[:,trial_df.ampshift==ampshift][:,1:],1)\n",
    "ax.plot(xtime,y,color = 'black',linewidth = 0.5);"
   ]
  },
  {
   "cell_type": "code",
   "execution_count": 111,
   "metadata": {},
   "outputs": [
    {
     "data": {
      "image/png": "[encoded data removed]",
      "text/plain": [
       "<Figure size 432x288 with 1 Axes>"
      ]
     },
     "metadata": {},
     "output_type": "display_data"
    }
   ],
   "source": [
    "ampshift = -10\n",
    "trials =[8,9,10]\n",
    "tmp = [10]\n",
    "\n",
    "hfig,ax = plt.subplots(1)\n",
    "y = sweeps[:,trial_df.ampshift==ampshift][:,trials]\n",
    "ax.plot(xtime,y-y[-1],color = colinds[3],linewidth = 0.5);\n",
    "y = sweeps[:,trial_df.ampshift==ampshift][:,tmp]\n",
    "ax.plot(xtime,y-y[-1],color = 'black',linewidth = 0.5);"
   ]
  },
  {
   "cell_type": "code",
   "execution_count": 150,
   "metadata": {},
   "outputs": [
    {
     "data": {
      "image/png": "[encoded data removed]",
      "text/plain": [
       "<Figure size 108x108 with 1 Axes>"
      ]
     },
     "metadata": {},
     "output_type": "display_data"
    }
   ],
   "source": [
    "hfig,ax = create_fig()\n",
    "colinds = plt.cm.plasma(np.linspace(0.2,0.85,11))\n",
    "\n",
    "y = sweeps[:,trial_df.ampshift==40][:,[8,9,11]] \\\n",
    "    - sweeps[:,trial_df.ampshift==40][-1,[8,9,11]] \\\n",
    "    + np.mean(sweeps[:,trial_df.ampshift==40][-1,[8,9,11]],0)\n",
    "# y_err = stats.sem(sweeps[:,trial_df.ampshift==40][:,1:],1)\n",
    "ax.plot(xtime,y,color = colinds[10],linewidth = 0.5)\n",
    "# ax.fill_between(xtime, y-y_err, y+y_err,color = colinds[10],alpha=0.2)\n",
    "\n",
    "# y = sweeps[:,trial_df.ampshift==20][:,1]\n",
    "# y_err = stats.sem(sweeps[:,trial_df.ampshift==20][:,1:],1)\n",
    "# ax.plot(xtime,y,color = colinds[8],linewidth = 0.5)\n",
    "# ax.fill_between(xtime, y-y_err, y+y_err,color = colinds[8],alpha=0.2)\n",
    "\n",
    "y = sweeps[:,trial_df.ampshift==10][:,[8,9,12]] \\\n",
    "    - sweeps[:,trial_df.ampshift==10][-1,[8,9,12]] \\\n",
    "    + np.mean(sweeps[:,trial_df.ampshift==10][-1,[8,9,12]],0)# y_err = stats.sem(sweeps[:,trial_df.ampshift==10][:,1:],1)\n",
    "ax.plot(xtime,y,color = colinds[7],linewidth = 0.5)\n",
    "# ax.fill_between(xtime, y-y_err, y+y_err,color = colinds[7],alpha=0.2)\n",
    "\n",
    "y = sweeps[:,trial_df.ampshift==0][:,[8,12,13]] \\\n",
    "    - sweeps[:,trial_df.ampshift==0][-1,[8,12,13]] \\\n",
    "    + np.mean(sweeps[:,trial_df.ampshift==0][-1,[8,12,13]],0)# y_err = stats.sem(sweeps[:,trial_df.ampshift==0][:,1:],1)\n",
    "ax.plot(xtime,y,color = colinds[5],linewidth = 0.5)\n",
    "# ax.fill_between(xtime, y-y_err, y+y_err,color = colinds[5],alpha=0.2)\n",
    "\n",
    "y = sweeps[:,trial_df.ampshift==-10][:,[8,9,10]]\\\n",
    "    - sweeps[:,trial_df.ampshift==10][-1,[8,9,10]] \\\n",
    "    + np.mean(sweeps[:,trial_df.ampshift==10][-1,[8,9,10]],0)# y_err = stats.sem(sweeps[:,trial_df.ampshift==-10][:,1:],1)\n",
    "ax.plot(xtime,y,color = colinds[3],linewidth = 0.5)\n",
    "# ax.fill_between(xtime, y-y_err, y+y_err,color = colinds[3],alpha=0.2)\n",
    "\n",
    "ax.set_ylim(-62,10)\n",
    "ax.set_xlim(0,15)\n",
    "ax.set_xticks(np.arange(0,15,2));\n",
    "ax.set_frame_on(True)\n",
    "ax.set_ylabel('mV')\n",
    "ax.set_xlabel('msec')\n",
    "# ax.spines[\"bottom\"].set_visible(True)\n",
    "sns.despine(left=False, bottom=False, right=True)\n",
    "\n",
    "figsave(figure_folder,'Fig4_EA_TRIALS_' + exptname)"
   ]
  },
  {
   "cell_type": "code",
   "execution_count": 131,
   "metadata": {},
   "outputs": [
    {
     "data": {
      "image/png": "[encoded data removed]",
      "text/plain": [
       "<Figure size 86.4x108 with 1 Axes>"
      ]
     },
     "metadata": {},
     "output_type": "display_data"
    }
   ],
   "source": [
    "expt_df = meta_df[meta_df['exptname'].isin([exptname])]\n",
    "\n",
    "colinds = plt.cm.plasma(np.linspace(0.2,0.85,11))\n",
    "\n",
    "hfig,ax = create_fig_tuning()\n",
    "ax.set_xlim([-47,47])\n",
    "ax.set_ylim([2,10])\n",
    "ax.set_ylabel('msec')\n",
    "ax.set_xlabel('Stimulus amplitude \\n (% change)',linespacing=0.8)\n",
    "\n",
    "    \n",
    "for i,a in enumerate(np.unique(expt_df['ampshift'])):\n",
    "    y = np.nanmean(expt_df[expt_df['ampshift'].isin([a])].s0t.values)\n",
    "    y_err = stats.sem(expt_df[expt_df['ampshift'].isin([a])].s0t.values,nan_policy='omit')\n",
    "    plt.errorbar(a,y,yerr=y_err,marker='o',markersize=2,\n",
    "         linestyle=\"None\",color = colinds[i], capsize=2,zorder=3,ecolor='black')\n",
    "\n",
    "    \n",
    "for i,a in enumerate(np.unique(expt_df['ampshift'])):\n",
    "    y = np.nanmean(expt_df[expt_df['ampshift'].isin([a])].s1t.values)\n",
    "    y_err = stats.sem(expt_df[expt_df['ampshift'].isin([a])].s1t.values,nan_policy='omit')\n",
    "    plt.errorbar(a,y,yerr=y_err,marker='X',markersize=2,\n",
    "         linestyle=\"None\",color = colinds[i], capsize=2,zorder=3,ecolor='black')\n",
    "    \n",
    "for i,a in enumerate(np.unique(expt_df['ampshift'])):\n",
    "    y = np.nanmean(expt_df[expt_df['ampshift'].isin([a])].s2t.values)\n",
    "    y_err = stats.sem(expt_df[expt_df['ampshift'].isin([a])].s2t.values,nan_policy='omit')\n",
    "    plt.errorbar(a,y,yerr=y_err,marker='^',markersize=2,\n",
    "         linestyle=\"None\",color = colinds[i], capsize=2,zorder=3,ecolor='black')\n",
    "    \n",
    "for i,a in enumerate(np.unique(expt_df['ampshift'])):\n",
    "    y = np.nanmean(expt_df[expt_df['ampshift'].isin([a])].s3t.values)\n",
    "    y_err = stats.sem(expt_df[expt_df['ampshift'].isin([a])].s3t.values,nan_policy='omit')\n",
    "    plt.errorbar(a,y,yerr=y_err,marker='X',markersize=2,\n",
    "         linestyle=\"None\",color = colinds[i], capsize=2,zorder=3,ecolor='black')\n",
    "    \n",
    "figsave(figure_folder,'ExampleAfferentTuningMean_' + exptname)"
   ]
  },
  {
   "cell_type": "markdown",
   "metadata": {},
   "source": [
    "### Shift in relative latency between first spike and psp onset with stimamp for this cell... can also show population data, but need to measure this for all afferents first"
   ]
  },
  {
   "cell_type": "code",
   "execution_count": 190,
   "metadata": {},
   "outputs": [
    {
     "data": {
      "image/png": "[encoded data removed]",
      "text/plain": [
       "<Figure size 86.4x108 with 1 Axes>"
      ]
     },
     "metadata": {},
     "output_type": "display_data"
    }
   ],
   "source": [
    "sweepdur = 0.015\n",
    "fsl = []\n",
    "onset = []\n",
    "amp = []\n",
    "for a in np.unique(trial_df.ampshift):\n",
    "#     plt.figure(figsize=(3,4))\n",
    "    xtime,sweeps = expt.get_sweepsmat('lowgain',trial_df[trial_df['ampshift']==a].time.values,sweepdur)\n",
    "    sweeps = np.asarray([sweep[int(0.002/expt.get_dt('lowgain')):]-sweep[0] for sweep in sweeps.T]).T\n",
    "    xtime = xtime[int(0.002/expt.get_dt('lowgain')):]\n",
    "    for sweep in sweeps.T:\n",
    "        if sweep[np.argmax(sweep)] > 20: #then there is a spike so get it's time and get time of psp onset\n",
    "            amp.append(a)\n",
    "            fsl.append(xtime[np.argmax(sweep)])\n",
    "            dv = signal.medfilt(np.concatenate([[0],np.diff(sweep)]),51)\n",
    "            onset.append(xtime[np.min(np.where(dv>=0.05)[0])])\n",
    "\n",
    "fsl = np.asarray(fsl)\n",
    "amp = np.asarray(amp)\n",
    "onset = np.asarray(onset)\n",
    "\n",
    "fsl_u = array([np.mean(fsl[amp==a]) for a in np.unique(amp)])\n",
    "onset_u = array([np.mean(onset[amp==a]) for a in np.unique(amp)])\n",
    "\n",
    "df = pd.DataFrame({\n",
    "    'amp' : amp,\n",
    "    'onset' : onset,\n",
    "    'fsl' : fsl,\n",
    "    'diff' : fsl-onset\n",
    "})\n",
    "\n",
    "hfig,ax = create_fig_tuning()\n",
    "x = df.groupby('amp')['amp'].mean()\n",
    "inds = x>=0\n",
    "ax.scatter(x[inds],\n",
    "            df.groupby('amp')['diff'].mean()[inds],color = 'black',s = 10)\n",
    "ax.errorbar(x[inds],\n",
    "             df.groupby('amp')['diff'].mean()[inds],\n",
    "             yerr=df.groupby('amp')['diff'].sem()[inds],linestyle=\"None\",color = 'black', capsize=2)\n",
    "sns.despine(hfig)\n",
    "ax.set_xticks([0,20,40])\n",
    "ax.set_ylabel('Timing difference (ms) \\n spike - epsp onset')\n",
    "ax.set_xlabel('Stimulus amplitude \\n (% change)',linespacing=0.75)\n",
    "ax.set_xlim(-7,47)\n",
    "figsave(figure_folder,'ExampleAfferentTuningMean_' + exptname + 'IntraAxon_ExampleScatterDiff')"
   ]
  },
  {
   "cell_type": "markdown",
   "metadata": {},
   "source": [
    "# stats for fsl afferent population recorded"
   ]
  },
  {
   "cell_type": "markdown",
   "metadata": {},
   "source": [
    "## load afferent data for fsl fits"
   ]
  },
  {
   "cell_type": "code",
   "execution_count": 22,
   "metadata": {},
   "outputs": [
    {
     "name": "stdout",
     "output_type": "stream",
     "text": [
      "20200129(blue) has a total of 11 afferents recorded\n",
      "20200204(orange) has a total of 11 afferents recorded\n",
      "20200531(brown) has a total of 27 afferents recorded\n",
      "20200621(green) has a total of 15 afferents recorded\n",
      "number afferents excluded because first fsl threshold too high or could not be fit: 3\n",
      "number afferents included (spike thresh at least 0%): 61\n",
      "        exptname    animal   stretch       tau    offset    max_fsl  \\\n",
      "1   20200129_003  20200129  5.002921 -0.017816  1.000000   9.532944   \n",
      "4   20200129_006  20200129  5.715809 -0.022154  1.000000   9.858215   \n",
      "7   20200129_009  20200129  5.451725 -0.015384  1.000000   9.357798   \n",
      "10  20200129_012  20200129  6.623366 -0.019459  1.000000  12.010008   \n",
      "1   20200531_001  20200531  6.964934 -0.020705  1.000000  11.347565   \n",
      "7   20200531_007  20200531  3.842939 -0.038101  2.673761  11.087392   \n",
      "\n",
      "           sse   df  \n",
      "1   103.435863   94  \n",
      "4    48.310496  108  \n",
      "7    43.739012   40  \n",
      "10   91.976468   85  \n",
      "1    56.609527  105  \n",
      "7   109.099794  105  \n"
     ]
    },
    {
     "data": {
      "image/png": "[encoded data removed]",
      "text/plain": [
       "<Figure size 144x288 with 1 Axes>"
      ]
     },
     "metadata": {},
     "output_type": "display_data"
    }
   ],
   "source": [
    "exptdate = 'all'\n",
    "filename = 'DF_AfferentPopulation_' + exptdate + '.csv'\n",
    "meta_df = pd.read_csv(top_dir / 'data_processed' / filename)\n",
    "\n",
    "meta_params_df,expt_excluded = exclude_HighThreshAff(meta_df)\n",
    "\n",
    "well_fit,un_fit = assess_fits(meta_params_df)\n",
    "\n",
    "# meta_params_df = meta_params_df.dropna()\n",
    "data_df = well_fit\n",
    "dataset = list(zip(\n",
    "    data_df['stretch'],\n",
    "    data_df['tau'],\n",
    "    data_df['offset'],\n",
    "    data_df['max_fsl']\n",
    "    ))\n",
    "dataset = np.asarray(dataset)\n",
    "# dataset = dataset[:,0:3]\n",
    "\n",
    "rv = gaussian_kde(dataset[:,0:3].T)\n",
    "\n",
    "max_fsl_global = np.max(meta_params_df['max_fsl'])\n",
    "\n",
    "# plot_corr_matrix_multigauss(rv)\n",
    "filtered_df = meta_df[meta_df.exptname.str.match('|'.join(well_fit.exptname.values))]"
   ]
  },
  {
   "cell_type": "markdown",
   "metadata": {},
   "source": [
    "## for each animal, plot tuning curve fits"
   ]
  },
  {
   "cell_type": "code",
   "execution_count": 23,
   "metadata": {},
   "outputs": [],
   "source": [
    "colors = ['blue','orange','green','red'] # one color for each animal np.unique(well_fit['animal'])"
   ]
  },
  {
   "cell_type": "code",
   "execution_count": 24,
   "metadata": {},
   "outputs": [
    {
     "data": {
      "text/html": [
       "<div>\n",
       "<style scoped>\n",
       "    .dataframe tbody tr th:only-of-type {\n",
       "        vertical-align: middle;\n",
       "    }\n",
       "\n",
       "    .dataframe tbody tr th {\n",
       "        vertical-align: top;\n",
       "    }\n",
       "\n",
       "    .dataframe thead th {\n",
       "        text-align: right;\n",
       "    }\n",
       "</style>\n",
       "<table border=\"1\" class=\"dataframe\">\n",
       "  <thead>\n",
       "    <tr style=\"text-align: right;\">\n",
       "      <th></th>\n",
       "      <th>exptname</th>\n",
       "      <th>stretch</th>\n",
       "      <th>tau</th>\n",
       "      <th>offset</th>\n",
       "      <th>max_fsl</th>\n",
       "      <th>sse</th>\n",
       "      <th>df</th>\n",
       "    </tr>\n",
       "    <tr>\n",
       "      <th>animal</th>\n",
       "      <th></th>\n",
       "      <th></th>\n",
       "      <th></th>\n",
       "      <th></th>\n",
       "      <th></th>\n",
       "      <th></th>\n",
       "      <th></th>\n",
       "    </tr>\n",
       "  </thead>\n",
       "  <tbody>\n",
       "    <tr>\n",
       "      <th>20200129</th>\n",
       "      <td>7</td>\n",
       "      <td>7</td>\n",
       "      <td>7</td>\n",
       "      <td>7</td>\n",
       "      <td>7</td>\n",
       "      <td>7</td>\n",
       "      <td>7</td>\n",
       "    </tr>\n",
       "    <tr>\n",
       "      <th>20200204</th>\n",
       "      <td>11</td>\n",
       "      <td>11</td>\n",
       "      <td>11</td>\n",
       "      <td>11</td>\n",
       "      <td>11</td>\n",
       "      <td>11</td>\n",
       "      <td>11</td>\n",
       "    </tr>\n",
       "    <tr>\n",
       "      <th>20200531</th>\n",
       "      <td>21</td>\n",
       "      <td>21</td>\n",
       "      <td>21</td>\n",
       "      <td>21</td>\n",
       "      <td>21</td>\n",
       "      <td>21</td>\n",
       "      <td>21</td>\n",
       "    </tr>\n",
       "    <tr>\n",
       "      <th>20200621</th>\n",
       "      <td>15</td>\n",
       "      <td>15</td>\n",
       "      <td>15</td>\n",
       "      <td>15</td>\n",
       "      <td>15</td>\n",
       "      <td>15</td>\n",
       "      <td>15</td>\n",
       "    </tr>\n",
       "  </tbody>\n",
       "</table>\n",
       "</div>"
      ],
      "text/plain": [
       "          exptname  stretch  tau  offset  max_fsl  sse  df\n",
       "animal                                                    \n",
       "20200129         7        7    7       7        7    7   7\n",
       "20200204        11       11   11      11       11   11  11\n",
       "20200531        21       21   21      21       21   21  21\n",
       "20200621        15       15   15      15       15   15  15"
      ]
     },
     "execution_count": 24,
     "metadata": {},
     "output_type": "execute_result"
    }
   ],
   "source": [
    "np.unique(well_fit['animal'])\n",
    "\n",
    "well_fit.groupby('animal').count()"
   ]
  },
  {
   "cell_type": "code",
   "execution_count": 25,
   "metadata": {},
   "outputs": [
    {
     "data": {
      "image/png": "[encoded data removed]",
      "text/plain": [
       "<Figure size 86.4x108 with 1 Axes>"
      ]
     },
     "metadata": {},
     "output_type": "display_data"
    }
   ],
   "source": [
    "y_fit_all = []\n",
    "for i, a_id in enumerate(np.unique(well_fit['animal'])):\n",
    "    \n",
    "    x = np.unique(meta_df['ampshift'])\n",
    "#     x = x[x>-20]\n",
    "\n",
    "    animal_df = well_fit[well_fit['animal'] == a_id]\n",
    "\n",
    "    spk_thresh = 12\n",
    "    y_fit = []\n",
    "    for name in np.unique(animal_df['exptname']):\n",
    "        expt_df = animal_df[animal_df['exptname'] == name]\n",
    "    #     print(expt_df)\n",
    "        y = exp_fit(x,expt_df['stretch'].values,expt_df['tau'].values,expt_df['offset'].values)\n",
    "        y[y>spk_thresh] = np.NaN\n",
    "        y_fit_all.append(y)\n",
    "        y_fit.append(y)\n",
    "    \n",
    "    y_fit = np.asarray(y_fit).T\n",
    "    \n",
    "\n",
    "    if i == 2:\n",
    "        hfig,ax = create_fig_tuning()\n",
    "        ax.plot(x,y_fit,color = colors[i],lw = 0.5,alpha = 0.75)\n",
    "        ax.set_ylabel('First spike latency (msec)')\n",
    "        ax.set_xlabel('Stimulus amplitude \\n (% change)',linespacing=0.8)\n",
    "        ax.set_xlim(-47,47)\n",
    "        xticks([-40,-20,0,20,40]);\n",
    "        sns.despine(hfig)\n",
    "y_fit_all = np.asarray(y_fit_all).T    \n",
    "figsave(figure_folder,'AfferentPop_AffTuningHeterogeneityAllAnimal_20200531')"
   ]
  },
  {
   "cell_type": "markdown",
   "metadata": {},
   "source": [
    "### Calculate approximate equivalent in stimshift amp of shifting stimulus onset by 1msec around baseline amplitude (to 3.5 from 4.5)\n",
    "\n",
    "> Note: this is to address reviewer comment that there is evidence that short delay is 3.5 ms not the standard 4.5 ms that was used in the previously published studies forming the basis of this work. "
   ]
  },
  {
   "cell_type": "code",
   "execution_count": 59,
   "metadata": {},
   "outputs": [
    {
     "data": {
      "text/plain": [
       "Text(0.5, 0, '%shift')"
      ]
     },
     "execution_count": 59,
     "metadata": {},
     "output_type": "execute_result"
    },
    {
     "data": {
      "image/png": "[encoded data removed]",
      "text/plain": [
       "<Figure size 216x360 with 1 Axes>"
      ]
     },
     "metadata": {},
     "output_type": "display_data"
    }
   ],
   "source": [
    "y_fit_all = []\n",
    "for i, a_id in enumerate(np.unique(well_fit['animal'])):\n",
    "    \n",
    "    x = np.arange(-40,40)#np.unique(meta_df['ampshift'])\n",
    "\n",
    "    animal_df = well_fit[well_fit['animal'] == a_id]\n",
    "\n",
    "    spk_thresh = 12\n",
    "    for name in np.unique(animal_df['exptname']):\n",
    "        expt_df = animal_df[animal_df['exptname'] == name]\n",
    "    #     print(expt_df)\n",
    "        y = exp_fit(x,expt_df['stretch'].values,expt_df['tau'].values,expt_df['offset'].values)\n",
    "        y[y>spk_thresh] = np.NaN\n",
    "        y_fit_all.append(y)\n",
    "\n",
    "y_fit_all = np.asarray(y_fit_all).T    \n",
    "\n",
    "fslmean = np.nanmean(y_fit_all,1)\n",
    "win = [fslmean[np.where(x==0)][0]-0.5,fslmean[np.where(x==0)][0]+0.5]\n",
    "stimdown = np.min(x[np.where(fslmean<win[0])])\n",
    "stimup = np.max(x[np.where(fslmean>win[1])])\n",
    "\n",
    "hfig = plt.figure(figsize=(3,5))\n",
    "plt.plot(x,np.nanmean(y_fit_all,1),color = 'black');\n",
    "plt.hlines(win[0],-40,40,color = 'red')\n",
    "plt.hlines(win[1],-40,40,color = 'red')\n",
    "plt.vlines(stimup,2.5,win[1],color = 'red', linestyle = '--')\n",
    "plt.vlines(stimdown,2.5,win[0],color = 'red', linestyle = '--')\n",
    "plt.xticks(fontsize=14)\n",
    "plt.yticks(fontsize=14)\n",
    "plt.ylabel('msec',fontsize=14)\n",
    "plt.xlabel('%shift',fontsize=14)"
   ]
  },
  {
   "cell_type": "markdown",
   "metadata": {},
   "source": [
    "## for each animal, plot distribution of parameters"
   ]
  },
  {
   "cell_type": "code",
   "execution_count": 26,
   "metadata": {},
   "outputs": [
    {
     "data": {
      "image/png": "[encoded data removed]",
      "text/plain": [
       "<Figure size 86.4x108 with 1 Axes>"
      ]
     },
     "metadata": {},
     "output_type": "display_data"
    },
    {
     "data": {
      "image/png": "[encoded data removed]",
      "text/plain": [
       "<Figure size 86.4x108 with 1 Axes>"
      ]
     },
     "metadata": {},
     "output_type": "display_data"
    },
    {
     "data": {
      "image/png": "[encoded data removed]",
      "text/plain": [
       "<Figure size 86.4x108 with 1 Axes>"
      ]
     },
     "metadata": {},
     "output_type": "display_data"
    }
   ],
   "source": [
    "##########################\n",
    "# split params for each animal by column in plots\n",
    "##########################\n",
    "\n",
    "hfig,ax = create_fig_tuning()\n",
    "ax.set_prop_cycle(color=colors)\n",
    "g = sns.stripplot(x = 'animal', y = 'stretch', data=well_fit,\n",
    "                  ax=ax,jitter=0.25,size=sqrt(10),alpha = 0.65)\n",
    "g.set(xticklabels=['1','2','3','4'])\n",
    "ax.set_ylabel('Amplitude')\n",
    "ax.set_xlabel('fish')\n",
    "sns.despine()\n",
    "figsave(figure_folder,'AfferentPop_fslfits_ParamsStretch')\n",
    "\n",
    "\n",
    "hfig,ax = create_fig_tuning()\n",
    "g = sns.stripplot(x = 'animal', y = 'tau', data=well_fit,\n",
    "                  ax=ax,jitter=0.25,size=sqrt(10),alpha = 0.65)\n",
    "g.set(xticklabels=['1','2','3','4'])\n",
    "ax.set_ylabel('Decay')\n",
    "ax.set_xlabel('')\n",
    "sns.despine()\n",
    "figsave(figure_folder,'AfferentPop_fslfits_ParamsTau')\n",
    "\n",
    "\n",
    "hfig,ax = create_fig_tuning()\n",
    "g = sns.stripplot(x = 'animal', y = 'offset', data=well_fit,\n",
    "                  ax=ax,jitter=0.25,size=sqrt(10),alpha = 0.65)\n",
    "g.set(xticklabels=['1','2','3','4'])\n",
    "ax.set_ylabel('Offset')\n",
    "ax.set_xlabel('')\n",
    "sns.despine()\n",
    "figsave(figure_folder,'AfferentPop_fslfits_ParamsOffset')\n"
   ]
  },
  {
   "cell_type": "markdown",
   "metadata": {},
   "source": [
    "## for each animal, plot percent first spikes available"
   ]
  },
  {
   "cell_type": "code",
   "execution_count": 16,
   "metadata": {},
   "outputs": [
    {
     "data": {
      "text/html": [
       "<div>\n",
       "<style scoped>\n",
       "    .dataframe tbody tr th:only-of-type {\n",
       "        vertical-align: middle;\n",
       "    }\n",
       "\n",
       "    .dataframe tbody tr th {\n",
       "        vertical-align: top;\n",
       "    }\n",
       "\n",
       "    .dataframe thead th {\n",
       "        text-align: right;\n",
       "    }\n",
       "</style>\n",
       "<table border=\"1\" class=\"dataframe\">\n",
       "  <thead>\n",
       "    <tr style=\"text-align: right;\">\n",
       "      <th></th>\n",
       "      <th>Unnamed: 0</th>\n",
       "      <th>time</th>\n",
       "      <th>code</th>\n",
       "      <th>ampshift</th>\n",
       "      <th>fsl</th>\n",
       "      <th>onset</th>\n",
       "      <th>spkamp</th>\n",
       "      <th>exptname</th>\n",
       "      <th>animalID</th>\n",
       "    </tr>\n",
       "  </thead>\n",
       "  <tbody>\n",
       "    <tr>\n",
       "      <th>0</th>\n",
       "      <td>105</td>\n",
       "      <td>11.803165</td>\n",
       "      <td>T</td>\n",
       "      <td>-20.0</td>\n",
       "      <td>6.364243</td>\n",
       "      <td>5.363576</td>\n",
       "      <td>11.398315</td>\n",
       "      <td>20200531_000</td>\n",
       "      <td>20200531</td>\n",
       "    </tr>\n",
       "    <tr>\n",
       "      <th>1</th>\n",
       "      <td>109</td>\n",
       "      <td>12.439925</td>\n",
       "      <td>T</td>\n",
       "      <td>-40.0</td>\n",
       "      <td>NaN</td>\n",
       "      <td>NaN</td>\n",
       "      <td>0.000000</td>\n",
       "      <td>20200531_000</td>\n",
       "      <td>20200531</td>\n",
       "    </tr>\n",
       "    <tr>\n",
       "      <th>2</th>\n",
       "      <td>113</td>\n",
       "      <td>13.045385</td>\n",
       "      <td>T</td>\n",
       "      <td>40.0</td>\n",
       "      <td>2.701801</td>\n",
       "      <td>2.261508</td>\n",
       "      <td>12.191772</td>\n",
       "      <td>20200531_000</td>\n",
       "      <td>20200531</td>\n",
       "    </tr>\n",
       "    <tr>\n",
       "      <th>3</th>\n",
       "      <td>117</td>\n",
       "      <td>13.712585</td>\n",
       "      <td>T</td>\n",
       "      <td>20.0</td>\n",
       "      <td>3.162108</td>\n",
       "      <td>2.821881</td>\n",
       "      <td>12.634277</td>\n",
       "      <td>20200531_000</td>\n",
       "      <td>20200531</td>\n",
       "    </tr>\n",
       "    <tr>\n",
       "      <th>4</th>\n",
       "      <td>121</td>\n",
       "      <td>14.391365</td>\n",
       "      <td>T</td>\n",
       "      <td>-30.0</td>\n",
       "      <td>NaN</td>\n",
       "      <td>NaN</td>\n",
       "      <td>0.000000</td>\n",
       "      <td>20200531_000</td>\n",
       "      <td>20200531</td>\n",
       "    </tr>\n",
       "    <tr>\n",
       "      <th>...</th>\n",
       "      <td>...</td>\n",
       "      <td>...</td>\n",
       "      <td>...</td>\n",
       "      <td>...</td>\n",
       "      <td>...</td>\n",
       "      <td>...</td>\n",
       "      <td>...</td>\n",
       "      <td>...</td>\n",
       "      <td>...</td>\n",
       "    </tr>\n",
       "    <tr>\n",
       "      <th>8143</th>\n",
       "      <td>300</td>\n",
       "      <td>60.400578</td>\n",
       "      <td>T</td>\n",
       "      <td>-30.0</td>\n",
       "      <td>3.527940</td>\n",
       "      <td>1.025855</td>\n",
       "      <td>20.706177</td>\n",
       "      <td>20200204_011</td>\n",
       "      <td>20200204</td>\n",
       "    </tr>\n",
       "    <tr>\n",
       "      <th>8144</th>\n",
       "      <td>302</td>\n",
       "      <td>60.795857</td>\n",
       "      <td>T</td>\n",
       "      <td>5.0</td>\n",
       "      <td>1.801501</td>\n",
       "      <td>1.075897</td>\n",
       "      <td>21.514893</td>\n",
       "      <td>20200204_011</td>\n",
       "      <td>20200204</td>\n",
       "    </tr>\n",
       "    <tr>\n",
       "      <th>8145</th>\n",
       "      <td>304</td>\n",
       "      <td>61.191138</td>\n",
       "      <td>T</td>\n",
       "      <td>-40.0</td>\n",
       "      <td>NaN</td>\n",
       "      <td>NaN</td>\n",
       "      <td>0.000000</td>\n",
       "      <td>20200204_011</td>\n",
       "      <td>20200204</td>\n",
       "    </tr>\n",
       "    <tr>\n",
       "      <th>8146</th>\n",
       "      <td>306</td>\n",
       "      <td>61.586418</td>\n",
       "      <td>T</td>\n",
       "      <td>10.0</td>\n",
       "      <td>1.751460</td>\n",
       "      <td>1.100917</td>\n",
       "      <td>21.484375</td>\n",
       "      <td>20200204_011</td>\n",
       "      <td>20200204</td>\n",
       "    </tr>\n",
       "    <tr>\n",
       "      <th>8147</th>\n",
       "      <td>308</td>\n",
       "      <td>61.981698</td>\n",
       "      <td>T</td>\n",
       "      <td>30.0</td>\n",
       "      <td>1.676397</td>\n",
       "      <td>1.050876</td>\n",
       "      <td>21.392822</td>\n",
       "      <td>20200204_011</td>\n",
       "      <td>20200204</td>\n",
       "    </tr>\n",
       "  </tbody>\n",
       "</table>\n",
       "<p>8148 rows × 9 columns</p>\n",
       "</div>"
      ],
      "text/plain": [
       "      Unnamed: 0       time code  ampshift       fsl     onset     spkamp  \\\n",
       "0            105  11.803165    T     -20.0  6.364243  5.363576  11.398315   \n",
       "1            109  12.439925    T     -40.0       NaN       NaN   0.000000   \n",
       "2            113  13.045385    T      40.0  2.701801  2.261508  12.191772   \n",
       "3            117  13.712585    T      20.0  3.162108  2.821881  12.634277   \n",
       "4            121  14.391365    T     -30.0       NaN       NaN   0.000000   \n",
       "...          ...        ...  ...       ...       ...       ...        ...   \n",
       "8143         300  60.400578    T     -30.0  3.527940  1.025855  20.706177   \n",
       "8144         302  60.795857    T       5.0  1.801501  1.075897  21.514893   \n",
       "8145         304  61.191138    T     -40.0       NaN       NaN   0.000000   \n",
       "8146         306  61.586418    T      10.0  1.751460  1.100917  21.484375   \n",
       "8147         308  61.981698    T      30.0  1.676397  1.050876  21.392822   \n",
       "\n",
       "          exptname  animalID  \n",
       "0     20200531_000  20200531  \n",
       "1     20200531_000  20200531  \n",
       "2     20200531_000  20200531  \n",
       "3     20200531_000  20200531  \n",
       "4     20200531_000  20200531  \n",
       "...            ...       ...  \n",
       "8143  20200204_011  20200204  \n",
       "8144  20200204_011  20200204  \n",
       "8145  20200204_011  20200204  \n",
       "8146  20200204_011  20200204  \n",
       "8147  20200204_011  20200204  \n",
       "\n",
       "[8148 rows x 9 columns]"
      ]
     },
     "execution_count": 16,
     "metadata": {},
     "output_type": "execute_result"
    }
   ],
   "source": [
    "meta_df"
   ]
  },
  {
   "cell_type": "markdown",
   "metadata": {},
   "source": [
    "### process fsl"
   ]
  },
  {
   "cell_type": "code",
   "execution_count": 153,
   "metadata": {},
   "outputs": [],
   "source": [
    "x = np.unique(meta_df['ampshift'])\n",
    "\n",
    "for a in np.unique(meta_df['animalID']):\n",
    "    animal_df = meta_df[meta_df['animalID'].isin([a])]\n",
    "    \n",
    "    expts = np.unique(animal_df['exptname'])\n",
    "    fsl = np.asarray([animal_df[animal_df['exptname'].isin([expt_])].groupby(['ampshift']).mean()['fsl'].values \n",
    "           for expt_ in expts]).T\n",
    "    exec('fsl' + str(a) + '= fsl')\n",
    "# expt_ = expts[0]\n",
    "# meta_df[meta_df['exptname'].isin([expt_])].groupby(['ampshift']).mean()['fsl'].values\n",
    "\n"
   ]
  },
  {
   "cell_type": "code",
   "execution_count": 48,
   "metadata": {},
   "outputs": [
    {
     "data": {
      "text/plain": [
       "array([20200129, 20200204, 20200531, 20200621])"
      ]
     },
     "execution_count": 48,
     "metadata": {},
     "output_type": "execute_result"
    }
   ],
   "source": [
    "np.unique(meta_df['animalID'])"
   ]
  },
  {
   "cell_type": "code",
   "execution_count": 59,
   "metadata": {},
   "outputs": [
    {
     "data": {
      "image/png": "[encoded data removed]",
      "text/plain": [
       "<Figure size 86.4x108 with 1 Axes>"
      ]
     },
     "metadata": {},
     "output_type": "display_data"
    }
   ],
   "source": [
    "hfig,ax = create_fig_tuning()\n",
    "ax.set_ylabel('percent spikes available')\n",
    "ax.set_xlabel('Stimulus amplitude \\n (% change)',linespacing=0.75)\n",
    "ax.set_ylim(-5,105)\n",
    "ax.set_xlim(-47,47)\n",
    "xticks([-40,-20,0,20,40]);\n",
    "datalist = [fsl20200129,fsl20200204,fsl20200531,fsl20200621]\n",
    "for i,dat in enumerate(datalist):\n",
    "    percent_spks = np.asarray([np.round(100*(sum(~np.isnan(amp))/len(amp))) for amp in dat])\n",
    "    ax.scatter(x,percent_spks,s=10,alpha = 0.65,edgecolors='none')\n",
    "    \n",
    "figsave(figure_folder,'AfferentPop_fsl_byanimal_percentspikes')"
   ]
  },
  {
   "cell_type": "code",
   "execution_count": 49,
   "metadata": {},
   "outputs": [
    {
     "data": {
      "image/png": "[encoded data removed]",
      "text/plain": [
       "<Figure size 86.4x108 with 1 Axes>"
      ]
     },
     "metadata": {},
     "output_type": "display_data"
    }
   ],
   "source": [
    "hfig,ax = create_fig_tuning()\n",
    "ax.set_ylabel('Afferent recruitment (%)')\n",
    "ax.set_xlabel('Stimulus amplitude \\n (% change)',linespacing=0.8)\n",
    "ax.set_ylim(-5,105)\n",
    "ax.set_xlim(-47,47)\n",
    "xticks([-40,-20,0,20,40]);\n",
    "datalist = [fsl20200129,fsl20200204,fsl20200531,fsl20200621]\n",
    "\n",
    "ax.fill_between([-15,47],[105,105],[-5,-5],facecolor = 'black',edgecolor='None', alpha = 0.10)\n",
    "# for i,dat in enumerate(datalist):\n",
    "#     percent_spks = np.asarray([np.round(100*(sum(~np.isnan(amp))/len(amp))) for amp in dat])\n",
    "#     ax.scatter(x,percent_spks,s=10,alpha = 0.65,edgecolors='none')\n",
    "    \n",
    "datalist_concat = np.concatenate(datalist,1)   \n",
    "percent_spks = np.asarray([np.round(100*(sum(~np.isnan(amp))/len(amp))) for amp in datalist_concat])\n",
    "ax.scatter(x,percent_spks,color='black',s=6) \n",
    "    \n",
    "figsave(figure_folder,'AfferentPop_fsl_allanimals_PercentAfferentsActive')"
   ]
  },
  {
   "cell_type": "markdown",
   "metadata": {},
   "source": [
    "## Use data from multispike dataframe"
   ]
  },
  {
   "cell_type": "markdown",
   "metadata": {},
   "source": [
    "### load data"
   ]
  },
  {
   "cell_type": "code",
   "execution_count": 27,
   "metadata": {},
   "outputs": [
    {
     "data": {
      "text/html": [
       "<div>\n",
       "<style scoped>\n",
       "    .dataframe tbody tr th:only-of-type {\n",
       "        vertical-align: middle;\n",
       "    }\n",
       "\n",
       "    .dataframe tbody tr th {\n",
       "        vertical-align: top;\n",
       "    }\n",
       "\n",
       "    .dataframe thead th {\n",
       "        text-align: right;\n",
       "    }\n",
       "</style>\n",
       "<table border=\"1\" class=\"dataframe\">\n",
       "  <thead>\n",
       "    <tr style=\"text-align: right;\">\n",
       "      <th></th>\n",
       "      <th>Unnamed: 0</th>\n",
       "      <th>time</th>\n",
       "      <th>code</th>\n",
       "      <th>ampshift</th>\n",
       "      <th>s0t</th>\n",
       "      <th>s0a</th>\n",
       "      <th>s1t</th>\n",
       "      <th>s1a</th>\n",
       "      <th>s2t</th>\n",
       "      <th>s2a</th>\n",
       "      <th>s3t</th>\n",
       "      <th>s3a</th>\n",
       "      <th>animalID</th>\n",
       "      <th>exptname</th>\n",
       "    </tr>\n",
       "  </thead>\n",
       "  <tbody>\n",
       "    <tr>\n",
       "      <th>2809</th>\n",
       "      <td>155</td>\n",
       "      <td>32.291035</td>\n",
       "      <td>T</td>\n",
       "      <td>-5.0</td>\n",
       "      <td>4.632721</td>\n",
       "      <td>47.866821</td>\n",
       "      <td>NaN</td>\n",
       "      <td>NaN</td>\n",
       "      <td>NaN</td>\n",
       "      <td>NaN</td>\n",
       "      <td>NaN</td>\n",
       "      <td>NaN</td>\n",
       "      <td>20200204</td>\n",
       "      <td>20200204_010</td>\n",
       "    </tr>\n",
       "    <tr>\n",
       "      <th>4974</th>\n",
       "      <td>533</td>\n",
       "      <td>70.341262</td>\n",
       "      <td>T</td>\n",
       "      <td>40.0</td>\n",
       "      <td>3.024032</td>\n",
       "      <td>61.401367</td>\n",
       "      <td>4.285714</td>\n",
       "      <td>29.769897</td>\n",
       "      <td>6.248331</td>\n",
       "      <td>25.45166</td>\n",
       "      <td>NaN</td>\n",
       "      <td>NaN</td>\n",
       "      <td>20200531</td>\n",
       "      <td>20200531_020</td>\n",
       "    </tr>\n",
       "    <tr>\n",
       "      <th>3647</th>\n",
       "      <td>372</td>\n",
       "      <td>48.089217</td>\n",
       "      <td>T</td>\n",
       "      <td>0.0</td>\n",
       "      <td>3.484646</td>\n",
       "      <td>33.340454</td>\n",
       "      <td>4.846462</td>\n",
       "      <td>20.401001</td>\n",
       "      <td>NaN</td>\n",
       "      <td>NaN</td>\n",
       "      <td>NaN</td>\n",
       "      <td>NaN</td>\n",
       "      <td>20200531</td>\n",
       "      <td>20200531_008</td>\n",
       "    </tr>\n",
       "    <tr>\n",
       "      <th>2983</th>\n",
       "      <td>76</td>\n",
       "      <td>16.129937</td>\n",
       "      <td>T</td>\n",
       "      <td>-5.0</td>\n",
       "      <td>1.953255</td>\n",
       "      <td>24.673462</td>\n",
       "      <td>3.055092</td>\n",
       "      <td>12.405396</td>\n",
       "      <td>NaN</td>\n",
       "      <td>NaN</td>\n",
       "      <td>NaN</td>\n",
       "      <td>NaN</td>\n",
       "      <td>20200204</td>\n",
       "      <td>20200204_011</td>\n",
       "    </tr>\n",
       "    <tr>\n",
       "      <th>1571</th>\n",
       "      <td>249</td>\n",
       "      <td>50.141753</td>\n",
       "      <td>T</td>\n",
       "      <td>40.0</td>\n",
       "      <td>4.006678</td>\n",
       "      <td>66.986084</td>\n",
       "      <td>6.185309</td>\n",
       "      <td>41.198730</td>\n",
       "      <td>NaN</td>\n",
       "      <td>NaN</td>\n",
       "      <td>NaN</td>\n",
       "      <td>NaN</td>\n",
       "      <td>20200129</td>\n",
       "      <td>20200129_012</td>\n",
       "    </tr>\n",
       "  </tbody>\n",
       "</table>\n",
       "</div>"
      ],
      "text/plain": [
       "      Unnamed: 0       time code  ampshift       s0t        s0a       s1t  \\\n",
       "2809         155  32.291035    T      -5.0  4.632721  47.866821       NaN   \n",
       "4974         533  70.341262    T      40.0  3.024032  61.401367  4.285714   \n",
       "3647         372  48.089217    T       0.0  3.484646  33.340454  4.846462   \n",
       "2983          76  16.129937    T      -5.0  1.953255  24.673462  3.055092   \n",
       "1571         249  50.141753    T      40.0  4.006678  66.986084  6.185309   \n",
       "\n",
       "            s1a       s2t       s2a  s3t  s3a  animalID      exptname  \n",
       "2809        NaN       NaN       NaN  NaN  NaN  20200204  20200204_010  \n",
       "4974  29.769897  6.248331  25.45166  NaN  NaN  20200531  20200531_020  \n",
       "3647  20.401001       NaN       NaN  NaN  NaN  20200531  20200531_008  \n",
       "2983  12.405396       NaN       NaN  NaN  NaN  20200204  20200204_011  \n",
       "1571  41.198730       NaN       NaN  NaN  NaN  20200129  20200129_012  "
      ]
     },
     "execution_count": 27,
     "metadata": {},
     "output_type": "execute_result"
    }
   ],
   "source": [
    "meta_df = pd.read_csv(top_dir / 'data_processed/DF_Afferent_MultiSpikePop_ALL.csv')\n",
    "\n",
    "meta_df.sample(5).head()"
   ]
  },
  {
   "cell_type": "markdown",
   "metadata": {},
   "source": [
    "### mean pairwise diff among first spikes"
   ]
  },
  {
   "cell_type": "code",
   "execution_count": 158,
   "metadata": {},
   "outputs": [
    {
     "data": {
      "text/plain": [
       "<matplotlib.collections.PathCollection at 0x7fac699c3438>"
      ]
     },
     "execution_count": 158,
     "metadata": {},
     "output_type": "execute_result"
    },
    {
     "data": {
      "image/png": "[encoded data removed]",
      "text/plain": [
       "<Figure size 86.4x108 with 1 Axes>"
      ]
     },
     "metadata": {},
     "output_type": "display_data"
    }
   ],
   "source": [
    "x = np.unique(meta_df['ampshift'])\n",
    "\n",
    "hfig,ax = create_fig_tuning()\n",
    "ax.set_ylabel('mean pairwise diff (ms)')\n",
    "ax.set_xlabel('Stimulus amplitude \\n (% change)',linespacing=0.8)\n",
    "ax.set_xlim(-47,47)\n",
    "xticks([-40,-20,0,20,40]);\n",
    "    \n",
    "expts = np.unique(meta_df['exptname'])\n",
    "spkt = np.concatenate(np.asarray([meta_df[meta_df['exptname'].isin([expt_])].groupby(['ampshift']).mean()[['s0t']].values \n",
    "       for expt_ in expts]),1)\n",
    "difft = []\n",
    "for st in spkt:\n",
    "#     print(np.shape(st))\n",
    "    diffmat = abs(st[~np.isnan(st)]-st[~np.isnan(st)][:, None])\n",
    "    diffmat = diffmat[np.triu_indices(np.shape(diffmat)[0],1)]\n",
    "    difft.append(np.mean(diffmat))\n",
    "\n",
    "ax.fill_between([-15,47],[3,3],[0.5,0.5],facecolor = 'black',edgecolor='None', alpha = 0.10)\n",
    "ax.set_ylim(0.75,2.8)\n",
    "ax.scatter(x,difft,color='black',s=6)\n",
    "figsave(figure_folder,'AfferentPop_fsl_allanimals_MeanPairwiseDiff')"
   ]
  },
  {
   "cell_type": "code",
   "execution_count": 236,
   "metadata": {},
   "outputs": [
    {
     "name": "stdout",
     "output_type": "stream",
     "text": [
      "n= 58 EAs in 4 fish\n"
     ]
    }
   ],
   "source": [
    "print('n= %i EAs in 4 fish' % len(np.unique(meta_df['exptname'])))"
   ]
  },
  {
   "cell_type": "markdown",
   "metadata": {},
   "source": [
    "### std among first spikes"
   ]
  },
  {
   "cell_type": "code",
   "execution_count": 58,
   "metadata": {},
   "outputs": [
    {
     "data": {
      "image/png": "[encoded data removed]",
      "text/plain": [
       "<Figure size 86.4x108 with 1 Axes>"
      ]
     },
     "metadata": {},
     "output_type": "display_data"
    }
   ],
   "source": [
    "x = np.unique(meta_df['ampshift'])\n",
    "\n",
    "hfig,ax = create_fig_tuning()\n",
    "ax.set_ylabel('standard deviation')\n",
    "ax.set_xlabel('Stimulus amplitude \\n (% change)',linespacing=0.8)\n",
    "# ax.set_ylim(-5,105)\n",
    "ax.set_xlim(-47,47)\n",
    "xticks([-40,-20,0,20,40]);\n",
    "    \n",
    "expts = np.unique(meta_df['exptname'])\n",
    "spkt = np.concatenate(np.asarray([meta_df[meta_df['exptname'].isin([expt_])].groupby(['ampshift']).mean()[['s0t']].values \n",
    "       for expt_ in expts]),1)\n",
    "\n",
    "sdev = [np.std(st[~np.isnan(st)]) for st in spkt]\n",
    "\n",
    "ax.scatter(x,sdev,color='black',s=6)\n",
    "figsave(figure_folder,'AfferentPop_fsl_allanimals_MeanSDEV')"
   ]
  },
  {
   "cell_type": "markdown",
   "metadata": {},
   "source": [
    "## mean offset for multiple spikes"
   ]
  },
  {
   "cell_type": "code",
   "execution_count": 174,
   "metadata": {},
   "outputs": [],
   "source": [
    "\n",
    "    \n",
    "expts = np.unique(meta_df['exptname'])\n",
    "s0t = np.asarray([meta_df[meta_df['exptname'].isin([expt_])].groupby(['ampshift']).mean()['s0t'].values \n",
    "       for expt_ in expts])\n",
    "s1t = np.asarray([meta_df[meta_df['exptname'].isin([expt_])].groupby(['ampshift']).mean()['s1t'].values \n",
    "       for expt_ in expts])  \n",
    "s2t = np.asarray([meta_df[meta_df['exptname'].isin([expt_])].groupby(['ampshift']).mean()['s2t'].values \n",
    "       for expt_ in expts])  \n",
    "s3t = np.asarray([meta_df[meta_df['exptname'].isin([expt_])].groupby(['ampshift']).mean()['s3t'].values \n",
    "       for expt_ in expts])   \n",
    "\n",
    "offset01 = np.asarray([np.nanmean(s1_-s0_) for s1_,s0_ in zip(s1t.T,s0t.T)])\n",
    "offset01_all = np.asarray([(s1_-s0_) for s1_,s0_ in zip(s1t.T,s0t.T)])\n",
    "sem01 = np.asarray([stats.sem(s1_-s0_,nan_policy = 'omit') for s1_,s0_ in zip(s1t.T,s0t.T)])\n",
    "std01 = np.asarray([np.nanstd(s1_-s0_) for s1_,s0_ in zip(s1t.T,s0t.T)])\n",
    "# ax.errorbar(x,offset01,sem01,color = 'black',alpha = 0.65,fmt='o',ms=3,mec='none')\n",
    "# ax.errorbar(x,offset01,sem01,color = 'black')\n",
    "\n",
    "offset02 = np.asarray([np.nanmean(s2_-s0_) for s2_,s0_ in zip(s2t.T,s0t.T)])\n",
    "offset02_all = np.asarray([(s2_-s0_) for s2_,s0_ in zip(s2t.T,s0t.T)])\n",
    "sem02 = np.asarray([stats.sem(s2_-s0_,nan_policy = 'omit') for s2_,s0_ in zip(s2t.T,s0t.T)])\n",
    "std02 = np.asarray([np.nanstd(s2_-s0_) for s2_,s0_ in zip(s2t.T,s0t.T)])\n",
    "# ax.errorbar(x,offset02,sem02,color = 'black',alpha = 0.65,fmt='o',ms=3,mec='none')\n",
    "# ax.errorbar(x,offset02,sem02,color = 'black')\n",
    "\n",
    "offset03 = np.asarray([np.nanmean(s3_-s0_) for s3_,s0_ in zip(s3t.T,s0t.T)])\n",
    "offset03_all = np.asarray([(s3_-s0_) for s3_,s0_ in zip(s3t.T,s0t.T)])\n",
    "sem03 = np.asarray([stats.sem(s3_-s0_,nan_policy = 'omit') for s3_,s0_ in zip(s3t.T,s0t.T)])\n",
    "std03 = np.asarray([np.nanstd(s3_-s0_) for s3_,s0_ in zip(s3t.T,s0t.T)])\n",
    "# ax.errorbar(x,offset03,sem03,color = 'black',alpha = 0.65,fmt='o',ms=3,mec='none')\n",
    "# ax.errorbar(x,offset03,sem03,color = 'black')"
   ]
  },
  {
   "cell_type": "code",
   "execution_count": 178,
   "metadata": {},
   "outputs": [
    {
     "data": {
      "image/png": "[encoded data removed]",
      "text/plain": [
       "<Figure size 86.4x108 with 1 Axes>"
      ]
     },
     "metadata": {},
     "output_type": "display_data"
    }
   ],
   "source": [
    "hfig,ax = create_fig_tuning()\n",
    "ax.set_ylabel('mean spike offset (msec)')\n",
    "ax.set_xlabel('Stimulus amplitude \\n (% change)',linespacing=0.8)\n",
    "# ax.set_ylim(-5,105)\n",
    "ax.set_xlim(-47,47)\n",
    "xticks([-40,-20,0,20,40]);\n",
    "ax.errorbar(x,offset01,yerr=sem01,\n",
    "             marker='o',markersize=2,\n",
    "             linestyle=\"None\",color = sns.xkcd_rgb['black'], capsize=2,zorder=3)\n",
    "ax.hlines(np.nanmean(offset01_all),-47,47,color='grey',linestyle='--')\n",
    "\n",
    "ax.errorbar(x,offset02,yerr=sem02,\n",
    "             marker='o',markersize=2,\n",
    "             linestyle=\"None\",color = sns.xkcd_rgb['black'], capsize=2,zorder=3)\n",
    "ax.hlines(np.nanmean(offset02_all),-47,47,color='grey',linestyle='--')\n",
    "\n",
    "ax.errorbar(x,offset03,yerr=sem03,\n",
    "             marker='o',markersize=2,\n",
    "             linestyle=\"None\",color = sns.xkcd_rgb['black'], capsize=2,zorder=3)\n",
    "ax.hlines(np.nanmean(offset03_all),-47,47,color='grey',linestyle='--')\n",
    "\n",
    "# figsave(figure_folder,'AfferentPop_multiplespikes_byanimal_meanoffset')\n",
    "figsave(figure_folder,'AfferentPop_multiplespikes_byanimal_meanoffset_all')"
   ]
  },
  {
   "cell_type": "code",
   "execution_count": 175,
   "metadata": {},
   "outputs": [
    {
     "name": "stdout",
     "output_type": "stream",
     "text": [
      "mean offsets : 2to1 1.574268, 3to1 3.550051, 4to1 6.588839\n",
      "std offsets : 2to1 0.533387, 3to1 0.822969, 4to1 0.766602\n",
      "nspikes : 2to1 360.000000, 3to1 145.000000, 4to1 13.000000\n"
     ]
    }
   ],
   "source": [
    "print('mean offsets : 2to1 %f, 3to1 %f, 4to1 %f' % (np.nanmean(offset01_all), np.nanmean(offset02_all), np.nanmean(offset03_all)))\n",
    "print('std offsets : 2to1 %f, 3to1 %f, 4to1 %f' % (np.nanstd(offset01_all), np.nanstd(offset02_all), np.nanstd(offset03_all)))\n",
    "print('nspikes : 2to1 %f, 3to1 %f, 4to1 %f' % (sum(~np.isnan(offset01_all)), sum(~np.isnan(offset02_all)), sum(~np.isnan(offset03_all))))"
   ]
  },
  {
   "cell_type": "code",
   "execution_count": 177,
   "metadata": {},
   "outputs": [
    {
     "data": {
      "text/plain": [
       "519"
      ]
     },
     "execution_count": 177,
     "metadata": {},
     "output_type": "execute_result"
    }
   ],
   "source": [
    "np.sum(~np.isnan(s0t.T))"
   ]
  },
  {
   "cell_type": "markdown",
   "metadata": {},
   "source": [
    "# Modeling expected spike count tuning compared to empirical"
   ]
  },
  {
   "cell_type": "markdown",
   "metadata": {},
   "source": [
    "## create multispike_params_df"
   ]
  },
  {
   "cell_type": "code",
   "execution_count": 69,
   "metadata": {},
   "outputs": [],
   "source": [
    "multispike_params_df = pd.DataFrame()\n",
    "n_trials = []\n",
    "n_excluded = 0\n",
    "n_included = 0\n",
    "expt_excluded = []\n",
    "params_all = []\n",
    "sse_all = []\n",
    "df_all = []\n",
    "exptname_all = []\n",
    "max_fsl = []\n",
    "min_fsl = []\n",
    "max_nspk = []\n",
    "\n",
    "for exptname in np.unique(meta_df['exptname']):\n",
    "\n",
    "    expt_df = meta_df[meta_df['exptname']==exptname]\n",
    "    n_trials.append(expt_df.groupby('ampshift').describe()['Unnamed: 0']['count'].values)\n",
    "    if np.mean(expt_df.groupby('ampshift').describe()['Unnamed: 0']['count'].values)>5:\n",
    "        \n",
    "        #get number of spikes at max stimulus amplitude\n",
    "        st = meta_df[meta_df['exptname'].isin([exptname])].groupby(['ampshift']).mean()[['s0t','s1t','s2t','s3t']].values\n",
    "        max_nspk.append(np.sum(~np.isnan(st),1)[-1])\n",
    "    \n",
    "        expt_df = meta_df[meta_df['exptname']==exptname][['ampshift','s0t']]\n",
    "        exptname_all.append(exptname)\n",
    "        max_fsl.append(np.max(expt_df.dropna(0).s0t.values))\n",
    "        min_fsl.append(np.min(expt_df.dropna(0).s0t.values))\n",
    "        \n",
    "        try:\n",
    "            x_data = expt_df.dropna(0).ampshift.values\n",
    "            y_data =  expt_df.dropna(0).s0t.values\n",
    "            if len(np.unique(x_data)) > 5 :\n",
    "                n_included += 1\n",
    "                spk_thresh = np.max(y_data)\n",
    "                params, params_covariance = optimize.curve_fit(exp_fit, x_data, y_data, \n",
    "                                                               p0=[1,-0.05, 3],\n",
    "                                                               bounds = ([0,-1,1],[np.inf,0,10]),\n",
    "                                                               maxfev=1000)\n",
    "                params_all.append(params)\n",
    "                c = []\n",
    "                for x_,y_ in zip(x_data,y_data):\n",
    "                    yh = exp_fit(x_,params[0],params[1],params[2])\n",
    "                    s = np.std(y_data[x_data==x_]) #calc std of y measure at each x to adjust chi2\n",
    "                    c.append(((y_ - yh)**2))\n",
    "#                     if s==0:\n",
    "#                         c.append(((y_ - yh)**2))\n",
    "#                     if s>0:\n",
    "#                         c.append(((y_ - yh)**2)/s**2)\n",
    "                sse_all.append(np.sum(c))    \n",
    "                df_all.append(len(y_data)-3)\n",
    "            if len(np.unique(x_data)) <= 5:\n",
    "                n_excluded += 1\n",
    "                expt_excluded.append(exptname)\n",
    "                params = array([np.NaN,np.NaN,np.NaN])\n",
    "                params_all.append(params)\n",
    "                sse_all.append(np.NaN)    \n",
    "                df_all.append(len(y_data)-3)\n",
    "        except:\n",
    "            n_excluded += 1\n",
    "            expt_excluded.append(exptname)\n",
    "            params = array([np.NaN,np.NaN,np.NaN])\n",
    "            params_all.append(params)\n",
    "            sse_all.append(np.NaN)    \n",
    "            df_all.append(len(y_data)-3)\n",
    "            pass # doing nothing on exception\n",
    "\n",
    "# exptname = meta_df.groupby('exptname').exptname.describe().top.values\n",
    "# max_fsl = meta_df.groupby('exptname').s0t.max().values\n",
    "a = np.asarray([p[0] for p in params_all])\n",
    "k = np.asarray([p[1] for p in params_all])\n",
    "b =np.asarray([p[2] for p in params_all])\n",
    "\n",
    "multispike_params = {\n",
    "    'exptname' : exptname_all,\n",
    "    'amplitude' : a,\n",
    "    'decay' : k,\n",
    "    'offset' : b,\n",
    "    'max_fsl' : np.asarray(max_fsl),\n",
    "    'min_fsl' : np.asarray(min_fsl),\n",
    "    'sse' : np.asarray(sse_all),\n",
    "    'df' : np.asarray(df_all),\n",
    "    'max_nspk' : max_nspk\n",
    "}\n",
    "multispike_params_df = pd.DataFrame(multispike_params)\n",
    "     "
   ]
  },
  {
   "cell_type": "code",
   "execution_count": 72,
   "metadata": {},
   "outputs": [
    {
     "data": {
      "text/html": [
       "<div>\n",
       "<style scoped>\n",
       "    .dataframe tbody tr th:only-of-type {\n",
       "        vertical-align: middle;\n",
       "    }\n",
       "\n",
       "    .dataframe tbody tr th {\n",
       "        vertical-align: top;\n",
       "    }\n",
       "\n",
       "    .dataframe thead th {\n",
       "        text-align: right;\n",
       "    }\n",
       "</style>\n",
       "<table border=\"1\" class=\"dataframe\">\n",
       "  <thead>\n",
       "    <tr style=\"text-align: right;\">\n",
       "      <th></th>\n",
       "      <th>exptname</th>\n",
       "      <th>amplitude</th>\n",
       "      <th>decay</th>\n",
       "      <th>offset</th>\n",
       "      <th>max_fsl</th>\n",
       "      <th>min_fsl</th>\n",
       "      <th>sse</th>\n",
       "      <th>df</th>\n",
       "      <th>max_nspk</th>\n",
       "    </tr>\n",
       "  </thead>\n",
       "  <tbody>\n",
       "    <tr>\n",
       "      <th>43</th>\n",
       "      <td>20200621_006</td>\n",
       "      <td>3.299779</td>\n",
       "      <td>-0.032622</td>\n",
       "      <td>3.037518</td>\n",
       "      <td>9.481605</td>\n",
       "      <td>3.812709</td>\n",
       "      <td>1.255996</td>\n",
       "      <td>40</td>\n",
       "      <td>2</td>\n",
       "    </tr>\n",
       "    <tr>\n",
       "      <th>31</th>\n",
       "      <td>20200531_017</td>\n",
       "      <td>0.309426</td>\n",
       "      <td>-0.114497</td>\n",
       "      <td>2.909695</td>\n",
       "      <td>7.009346</td>\n",
       "      <td>2.823765</td>\n",
       "      <td>3.566774</td>\n",
       "      <td>94</td>\n",
       "      <td>3</td>\n",
       "    </tr>\n",
       "    <tr>\n",
       "      <th>13</th>\n",
       "      <td>20200204_005</td>\n",
       "      <td>1.019306</td>\n",
       "      <td>-0.092049</td>\n",
       "      <td>2.531262</td>\n",
       "      <td>5.208681</td>\n",
       "      <td>2.479132</td>\n",
       "      <td>0.175772</td>\n",
       "      <td>85</td>\n",
       "      <td>3</td>\n",
       "    </tr>\n",
       "    <tr>\n",
       "      <th>37</th>\n",
       "      <td>20200531_023</td>\n",
       "      <td>NaN</td>\n",
       "      <td>NaN</td>\n",
       "      <td>NaN</td>\n",
       "      <td>10.133511</td>\n",
       "      <td>6.628838</td>\n",
       "      <td>NaN</td>\n",
       "      <td>12</td>\n",
       "      <td>1</td>\n",
       "    </tr>\n",
       "    <tr>\n",
       "      <th>46</th>\n",
       "      <td>20200621_013</td>\n",
       "      <td>0.509413</td>\n",
       "      <td>-0.053478</td>\n",
       "      <td>2.420713</td>\n",
       "      <td>8.528428</td>\n",
       "      <td>2.357860</td>\n",
       "      <td>7.728243</td>\n",
       "      <td>111</td>\n",
       "      <td>3</td>\n",
       "    </tr>\n",
       "  </tbody>\n",
       "</table>\n",
       "</div>"
      ],
      "text/plain": [
       "        exptname  amplitude     decay    offset    max_fsl   min_fsl  \\\n",
       "43  20200621_006   3.299779 -0.032622  3.037518   9.481605  3.812709   \n",
       "31  20200531_017   0.309426 -0.114497  2.909695   7.009346  2.823765   \n",
       "13  20200204_005   1.019306 -0.092049  2.531262   5.208681  2.479132   \n",
       "37  20200531_023        NaN       NaN       NaN  10.133511  6.628838   \n",
       "46  20200621_013   0.509413 -0.053478  2.420713   8.528428  2.357860   \n",
       "\n",
       "         sse   df  max_nspk  \n",
       "43  1.255996   40         2  \n",
       "31  3.566774   94         3  \n",
       "13  0.175772   85         3  \n",
       "37       NaN   12         1  \n",
       "46  7.728243  111         3  "
      ]
     },
     "execution_count": 72,
     "metadata": {},
     "output_type": "execute_result"
    }
   ],
   "source": [
    "multispike_params_df.sample(5).head()"
   ]
  },
  {
   "cell_type": "markdown",
   "metadata": {},
   "source": [
    "## max num spikes predicted from fsl at max stimamp and offsets and spike threshold\n",
    "> append to multispike_params_df"
   ]
  },
  {
   "cell_type": "code",
   "execution_count": 76,
   "metadata": {},
   "outputs": [],
   "source": [
    "expts = np.unique(multispike_params_df['exptname'])\n",
    "spkt = np.concatenate(np.asarray([meta_df[meta_df['exptname'].isin([expt_])].groupby(['ampshift']).mean()[['s0t']].values \n",
    "       for expt_ in expts]),1)\n",
    "\n",
    "\n",
    "offset_2 = 1.74 #(these are averages from empirical data in ms from first spikes)\n",
    "offset_3 = 3.66\n",
    "offset_4 = 6.37\n",
    "spkthresh = 11\n",
    "max_nspk_byoffset = []\n",
    "for st_0 in spkt.T:\n",
    "    # for each afferent, across stimamp\n",
    "    all_spk = np.asarray([st_0,st_0+offset_2,st_0+offset_3,st_0+offset_4])\n",
    "    max_nspk_byoffset.append(len(all_spk[all_spk[:,10]<spkthresh,10]))\n",
    "\n",
    "multispike_params_df['max_nspk_byoffset'] = max_nspk_byoffset"
   ]
  },
  {
   "cell_type": "code",
   "execution_count": 78,
   "metadata": {},
   "outputs": [
    {
     "data": {
      "text/html": [
       "<div>\n",
       "<style scoped>\n",
       "    .dataframe tbody tr th:only-of-type {\n",
       "        vertical-align: middle;\n",
       "    }\n",
       "\n",
       "    .dataframe tbody tr th {\n",
       "        vertical-align: top;\n",
       "    }\n",
       "\n",
       "    .dataframe thead th {\n",
       "        text-align: right;\n",
       "    }\n",
       "</style>\n",
       "<table border=\"1\" class=\"dataframe\">\n",
       "  <thead>\n",
       "    <tr style=\"text-align: right;\">\n",
       "      <th></th>\n",
       "      <th>exptname</th>\n",
       "      <th>amplitude</th>\n",
       "      <th>decay</th>\n",
       "      <th>offset</th>\n",
       "      <th>max_fsl</th>\n",
       "      <th>min_fsl</th>\n",
       "      <th>sse</th>\n",
       "      <th>df</th>\n",
       "      <th>max_nspk</th>\n",
       "      <th>max_nspk_byoffset</th>\n",
       "    </tr>\n",
       "  </thead>\n",
       "  <tbody>\n",
       "    <tr>\n",
       "      <th>2</th>\n",
       "      <td>20200129_005</td>\n",
       "      <td>0.768488</td>\n",
       "      <td>-0.058285</td>\n",
       "      <td>1.952039</td>\n",
       "      <td>7.387312</td>\n",
       "      <td>1.928214</td>\n",
       "      <td>4.395638</td>\n",
       "      <td>169</td>\n",
       "      <td>3</td>\n",
       "      <td>4</td>\n",
       "    </tr>\n",
       "    <tr>\n",
       "      <th>9</th>\n",
       "      <td>20200129_012</td>\n",
       "      <td>6.629759</td>\n",
       "      <td>-0.019456</td>\n",
       "      <td>1.000000</td>\n",
       "      <td>12.020033</td>\n",
       "      <td>3.380634</td>\n",
       "      <td>92.128799</td>\n",
       "      <td>85</td>\n",
       "      <td>2</td>\n",
       "      <td>4</td>\n",
       "    </tr>\n",
       "    <tr>\n",
       "      <th>12</th>\n",
       "      <td>20200204_004</td>\n",
       "      <td>0.074432</td>\n",
       "      <td>-0.078344</td>\n",
       "      <td>2.313082</td>\n",
       "      <td>4.081803</td>\n",
       "      <td>2.278798</td>\n",
       "      <td>0.050336</td>\n",
       "      <td>63</td>\n",
       "      <td>3</td>\n",
       "      <td>4</td>\n",
       "    </tr>\n",
       "    <tr>\n",
       "      <th>33</th>\n",
       "      <td>20200531_019</td>\n",
       "      <td>1.126737</td>\n",
       "      <td>-0.046532</td>\n",
       "      <td>3.155631</td>\n",
       "      <td>6.128171</td>\n",
       "      <td>3.304406</td>\n",
       "      <td>0.120034</td>\n",
       "      <td>114</td>\n",
       "      <td>2</td>\n",
       "      <td>4</td>\n",
       "    </tr>\n",
       "    <tr>\n",
       "      <th>37</th>\n",
       "      <td>20200531_023</td>\n",
       "      <td>NaN</td>\n",
       "      <td>NaN</td>\n",
       "      <td>NaN</td>\n",
       "      <td>10.133511</td>\n",
       "      <td>6.628838</td>\n",
       "      <td>NaN</td>\n",
       "      <td>12</td>\n",
       "      <td>1</td>\n",
       "      <td>3</td>\n",
       "    </tr>\n",
       "  </tbody>\n",
       "</table>\n",
       "</div>"
      ],
      "text/plain": [
       "        exptname  amplitude     decay    offset    max_fsl   min_fsl  \\\n",
       "2   20200129_005   0.768488 -0.058285  1.952039   7.387312  1.928214   \n",
       "9   20200129_012   6.629759 -0.019456  1.000000  12.020033  3.380634   \n",
       "12  20200204_004   0.074432 -0.078344  2.313082   4.081803  2.278798   \n",
       "33  20200531_019   1.126737 -0.046532  3.155631   6.128171  3.304406   \n",
       "37  20200531_023        NaN       NaN       NaN  10.133511  6.628838   \n",
       "\n",
       "          sse   df  max_nspk  max_nspk_byoffset  \n",
       "2    4.395638  169         3                  4  \n",
       "9   92.128799   85         2                  4  \n",
       "12   0.050336   63         3                  4  \n",
       "33   0.120034  114         2                  4  \n",
       "37        NaN   12         1                  3  "
      ]
     },
     "execution_count": 78,
     "metadata": {},
     "output_type": "execute_result"
    }
   ],
   "source": [
    "multispike_params_df.sample(frac=1).head()"
   ]
  },
  {
   "cell_type": "markdown",
   "metadata": {},
   "source": [
    "### create new df (df_spknum) to compare predicted versus actual num spikes at max\n"
   ]
  },
  {
   "cell_type": "code",
   "execution_count": 79,
   "metadata": {},
   "outputs": [],
   "source": [
    "df0 = pd.DataFrame()\n",
    "df0['nspk'] = multispike_params_df['max_nspk'].values\n",
    "df0['source'] = 'data'\n",
    "df1 = pd.DataFrame()\n",
    "df1['nspk'] = multispike_params_df['max_nspk_byoffset'].values\n",
    "df1['source'] = 'prediction'\n",
    "\n",
    "df_spknum = pd.concat([df0,df1])\n",
    "df_spknum = df_spknum.sort_values('nspk',ascending=False)\n",
    "\n",
    "df_spknum['nspk'] = list(map(str,df_spknum['nspk'].values))"
   ]
  },
  {
   "cell_type": "code",
   "execution_count": 89,
   "metadata": {},
   "outputs": [
    {
     "data": {
      "image/png": "[encoded data removed]",
      "text/plain": [
       "<Figure size 86.4x108 with 1 Axes>"
      ]
     },
     "metadata": {},
     "output_type": "display_data"
    }
   ],
   "source": [
    "colors = [\"gray\", \"black\"]\n",
    "sns.set_palette(sns.color_palette(colors))\n",
    "\n",
    "hfig,ax = create_fig_tuning()\n",
    "# sns.catplot(y='max_nspk', data = multispike_params_df,kind='point')\n",
    "ax.set_ylabel('max number of spikes')\n",
    "\n",
    "sns.set_palette(sns.color_palette())\n",
    "sns.histplot(y='nspk',hue='source', data = df_spknum,bins=4,ax = ax,\n",
    "                  common_norm=False, multiple=\"dodge\",legend = False,\n",
    "                  stat='probability',discrete = True,shrink = 0.8)#.get_figure().savefig(figure_folder/'AfferentPop_MultiSpike_ProbabilityTuning.png')#, inner='stick')\n",
    "\n",
    "\n",
    "plt.savefig(figure_folder/'AfferentPop_MultiSpike_ProbabilityTuning.pdf', dpi=300)\n",
    "'''\n",
    "I can't figure out why this pdf is corrupt to illustrator. \n",
    "I can open in acrobat and re-save and it then works in illustrator\n",
    "'''"
   ]
  },
  {
   "cell_type": "markdown",
   "metadata": {},
   "source": [
    "## max num spikes at baseline stimamp predicted from fsl and offsets and spike threshold\n",
    "> append to multispike_params_df"
   ]
  },
  {
   "cell_type": "code",
   "execution_count": 182,
   "metadata": {},
   "outputs": [],
   "source": [
    "## max num spikes predicted from fsl and offsets and spike threshold\n",
    "# > append to multispike_params_df\n",
    "expts = np.unique(multispike_params_df['exptname'])\n",
    "spkt = np.concatenate(np.asarray([meta_df[meta_df['exptname'].isin([expt_])].groupby(['ampshift']).mean()[['s0t']].values \n",
    "       for expt_ in expts]),1)\n",
    "\n",
    "\n",
    "offset_2 = 1.74 #(these are averages from empirical data in ms from first spikes)\n",
    "offset_3 = 3.66\n",
    "offset_4 = 6.37\n",
    "spkthresh = 11\n",
    "max_nspk_byoffset = []\n",
    "for st_0 in spkt.T:\n",
    "    # for each afferent, across stimamp\n",
    "    all_spk = np.asarray([st_0,st_0+offset_2,st_0+offset_3,st_0+offset_4])\n",
    "    max_nspk_byoffset.append(len(all_spk[all_spk[:,5]<spkthresh,10]))\n",
    "\n",
    "multispike_params_df['max_nspk_byoffset'] = max_nspk_byoffset"
   ]
  },
  {
   "cell_type": "code",
   "execution_count": 183,
   "metadata": {},
   "outputs": [
    {
     "data": {
      "text/html": [
       "<div>\n",
       "<style scoped>\n",
       "    .dataframe tbody tr th:only-of-type {\n",
       "        vertical-align: middle;\n",
       "    }\n",
       "\n",
       "    .dataframe tbody tr th {\n",
       "        vertical-align: top;\n",
       "    }\n",
       "\n",
       "    .dataframe thead th {\n",
       "        text-align: right;\n",
       "    }\n",
       "</style>\n",
       "<table border=\"1\" class=\"dataframe\">\n",
       "  <thead>\n",
       "    <tr style=\"text-align: right;\">\n",
       "      <th></th>\n",
       "      <th>exptname</th>\n",
       "      <th>amplitude</th>\n",
       "      <th>decay</th>\n",
       "      <th>offset</th>\n",
       "      <th>max_fsl</th>\n",
       "      <th>min_fsl</th>\n",
       "      <th>sse</th>\n",
       "      <th>df</th>\n",
       "      <th>max_nspk</th>\n",
       "      <th>max_nspk_byoffset</th>\n",
       "    </tr>\n",
       "  </thead>\n",
       "  <tbody>\n",
       "    <tr>\n",
       "      <th>24</th>\n",
       "      <td>20200531_008</td>\n",
       "      <td>1.081031</td>\n",
       "      <td>-0.043502</td>\n",
       "      <td>2.385277</td>\n",
       "      <td>6.969292</td>\n",
       "      <td>2.483311</td>\n",
       "      <td>1.085526</td>\n",
       "      <td>78</td>\n",
       "      <td>3</td>\n",
       "      <td>4</td>\n",
       "    </tr>\n",
       "    <tr>\n",
       "      <th>44</th>\n",
       "      <td>20200621_008</td>\n",
       "      <td>2.474539</td>\n",
       "      <td>-0.047119</td>\n",
       "      <td>2.802138</td>\n",
       "      <td>7.274247</td>\n",
       "      <td>3.110368</td>\n",
       "      <td>1.222097</td>\n",
       "      <td>57</td>\n",
       "      <td>3</td>\n",
       "      <td>3</td>\n",
       "    </tr>\n",
       "    <tr>\n",
       "      <th>29</th>\n",
       "      <td>20200531_014</td>\n",
       "      <td>NaN</td>\n",
       "      <td>NaN</td>\n",
       "      <td>NaN</td>\n",
       "      <td>6.408545</td>\n",
       "      <td>5.287049</td>\n",
       "      <td>NaN</td>\n",
       "      <td>14</td>\n",
       "      <td>1</td>\n",
       "      <td>0</td>\n",
       "    </tr>\n",
       "    <tr>\n",
       "      <th>31</th>\n",
       "      <td>20200531_017</td>\n",
       "      <td>0.309426</td>\n",
       "      <td>-0.114497</td>\n",
       "      <td>2.909695</td>\n",
       "      <td>7.009346</td>\n",
       "      <td>2.823765</td>\n",
       "      <td>3.566774</td>\n",
       "      <td>94</td>\n",
       "      <td>3</td>\n",
       "      <td>4</td>\n",
       "    </tr>\n",
       "    <tr>\n",
       "      <th>9</th>\n",
       "      <td>20200129_012</td>\n",
       "      <td>6.629759</td>\n",
       "      <td>-0.019456</td>\n",
       "      <td>1.000000</td>\n",
       "      <td>12.020033</td>\n",
       "      <td>3.380634</td>\n",
       "      <td>92.128799</td>\n",
       "      <td>85</td>\n",
       "      <td>2</td>\n",
       "      <td>3</td>\n",
       "    </tr>\n",
       "  </tbody>\n",
       "</table>\n",
       "</div>"
      ],
      "text/plain": [
       "        exptname  amplitude     decay    offset    max_fsl   min_fsl  \\\n",
       "24  20200531_008   1.081031 -0.043502  2.385277   6.969292  2.483311   \n",
       "44  20200621_008   2.474539 -0.047119  2.802138   7.274247  3.110368   \n",
       "29  20200531_014        NaN       NaN       NaN   6.408545  5.287049   \n",
       "31  20200531_017   0.309426 -0.114497  2.909695   7.009346  2.823765   \n",
       "9   20200129_012   6.629759 -0.019456  1.000000  12.020033  3.380634   \n",
       "\n",
       "          sse  df  max_nspk  max_nspk_byoffset  \n",
       "24   1.085526  78         3                  4  \n",
       "44   1.222097  57         3                  3  \n",
       "29        NaN  14         1                  0  \n",
       "31   3.566774  94         3                  4  \n",
       "9   92.128799  85         2                  3  "
      ]
     },
     "execution_count": 183,
     "metadata": {},
     "output_type": "execute_result"
    }
   ],
   "source": [
    "multispike_params_df.sample(frac=1).head()"
   ]
  },
  {
   "cell_type": "markdown",
   "metadata": {},
   "source": [
    "### create new df (df_spknum) to compare predicted versus actual num spikes at max\n"
   ]
  },
  {
   "cell_type": "code",
   "execution_count": 184,
   "metadata": {},
   "outputs": [],
   "source": [
    "df0 = pd.DataFrame()\n",
    "df0['nspk'] = multispike_params_df['max_nspk'].values\n",
    "df0['source'] = 'data'\n",
    "df1 = pd.DataFrame()\n",
    "df1['nspk'] = multispike_params_df['max_nspk_byoffset'].values\n",
    "df1['source'] = 'prediction'\n",
    "\n",
    "df_spknum = pd.concat([df0,df1])\n",
    "df_spknum = df_spknum.sort_values('nspk',ascending=False)\n",
    "\n",
    "df_spknum['nspk'] = list(map(str,df_spknum['nspk'].values))"
   ]
  },
  {
   "cell_type": "code",
   "execution_count": 185,
   "metadata": {},
   "outputs": [
    {
     "data": {
      "text/plain": [
       "\"\\nI can't figure out why this pdf is corrupt to illustrator. \\nI can open in acrobat and re-save and it then works in illustrator\\n\""
      ]
     },
     "execution_count": 185,
     "metadata": {},
     "output_type": "execute_result"
    },
    {
     "data": {
      "image/png": "[encoded data removed]",
      "text/plain": [
       "<Figure size 86.4x108 with 1 Axes>"
      ]
     },
     "metadata": {},
     "output_type": "display_data"
    }
   ],
   "source": [
    "colors = [\"gray\", \"black\"]\n",
    "sns.set_palette(sns.color_palette(colors))\n",
    "\n",
    "hfig,ax = create_fig_tuning()\n",
    "# sns.catplot(y='max_nspk', data = multispike_params_df,kind='point')\n",
    "ax.set_ylabel('max number of spikes')\n",
    "\n",
    "sns.set_palette(sns.color_palette())\n",
    "sns.histplot(y='nspk',hue='source', data = df_spknum,bins=4,ax = ax,\n",
    "                  common_norm=False, multiple=\"dodge\",legend = False,\n",
    "                  stat='probability',discrete = True,shrink = 0.8)#.get_figure().savefig(figure_folder/'AfferentPop_MultiSpike_ProbabilityTuning.png')#, inner='stick')\n",
    "\n",
    "\n",
    "plt.savefig(figure_folder/'AfferentPop_MultiSpike_ProbabilityTuning_baselinestimamp.pdf', dpi=300)\n",
    "'''\n",
    "I can't figure out why this pdf is corrupt to illustrator. \n",
    "I can open in acrobat and re-save and it then works in illustrator\n",
    "'''"
   ]
  },
  {
   "cell_type": "markdown",
   "metadata": {},
   "source": [
    "## total spikes across population of afferents recorded"
   ]
  },
  {
   "cell_type": "code",
   "execution_count": 224,
   "metadata": {},
   "outputs": [],
   "source": [
    "x = np.unique(meta_df['ampshift'])\n",
    "\n",
    "expts = np.unique(meta_df['exptname'])\n",
    "spkt = np.concatenate(np.asarray([meta_df[meta_df['exptname'].isin([expt_])].groupby(\n",
    "    ['ampshift']).mean()[['s0t']].values\n",
    "                                  for expt_ in expts]),1)\n",
    "\n",
    "offset_2 = 1.74 #(these are averages from empirical data in ms from first spikes)\n",
    "offset_3 = 3.66\n",
    "offset_4 = 6.37\n",
    "spkthresh = 11\n",
    "nspk_byoffset = []\n",
    "for st_0 in spkt.T:\n",
    "    # for each afferent, across stimamp\n",
    "    all_spk = np.asarray([st_0,st_0+offset_2,st_0+offset_3,st_0+offset_4])\n",
    "    all_spk[all_spk>spkthresh]=np.nan\n",
    "    nspk_byoffset.append([sum(~np.isnan(a)) for a in all_spk.T])\n",
    "\n",
    "nspk_data = []\n",
    "for expt_ in expts:\n",
    "    nspk_data.append(sum(~isnan(meta_df[meta_df['exptname'].isin([expt_])].groupby(\n",
    "        ['ampshift']).mean()[['s0t','s1t','s2t','s3t']].values),1))\n",
    "\n"
   ]
  },
  {
   "cell_type": "code",
   "execution_count": 229,
   "metadata": {},
   "outputs": [
    {
     "name": "stdout",
     "output_type": "stream",
     "text": [
      "(58, 11)\n",
      "(58, 11)\n"
     ]
    }
   ],
   "source": [
    "print(np.shape(nspk_byoffset))\n",
    "print(np.shape(nspk_data))"
   ]
  },
  {
   "cell_type": "code",
   "execution_count": 230,
   "metadata": {},
   "outputs": [
    {
     "data": {
      "image/png": "[encoded data removed]",
      "text/plain": [
       "<Figure size 86.4x108 with 1 Axes>"
      ]
     },
     "metadata": {},
     "output_type": "display_data"
    }
   ],
   "source": [
    "hfig,ax = create_fig_tuning()\n",
    "ax.set_ylabel('Total spikes')\n",
    "ax.set_xlabel('Stimulus amplitude \\n (% change)',linespacing=0.8)\n",
    "# ax.set_ylim(-1,11)\n",
    "ax.set_xlim(-47,47)\n",
    "xticks([-40,-20,0,20,40]);\n",
    "\n",
    "ax.scatter(x,np.sum(nspk_byoffset,0),color='black',edgecolors='none',s=10)   \n",
    "ax.scatter(x,np.sum(nspk_data,0),color='red',edgecolors='none',s=10)   \n",
    "figsave(figure_folder,'AfferentPop_SpikeCountTuning_allSpikes_Total_scatter')"
   ]
  },
  {
   "cell_type": "code",
   "execution_count": 232,
   "metadata": {},
   "outputs": [
    {
     "data": {
      "image/png": "[encoded data removed]",
      "text/plain": [
       "<Figure size 86.4x108 with 1 Axes>"
      ]
     },
     "metadata": {},
     "output_type": "display_data"
    }
   ],
   "source": [
    "hfig,ax = create_fig_tuning()\n",
    "ax.set_ylabel('Median spike number')\n",
    "ax.set_xlabel('Stimulus amplitude \\n (% change)',linespacing=0.8)\n",
    "\n",
    "ax.set_xlim(-47,47)\n",
    "xticks([-40,-20,0,20,40]);\n",
    "\n",
    "ax.scatter(x,np.median(nspk_byoffset,0),color='black',edgecolors='none',s=13)   \n",
    "ax.scatter(x,np.median(nspk_data,0),color='red',edgecolors='none',s=10)   \n",
    "\n",
    "\n",
    "figsave(figure_folder,'AfferentPop_SpikeCountTuning_allSpikes_MedianPerAfferent_scatter')"
   ]
  },
  {
   "cell_type": "markdown",
   "metadata": {},
   "source": [
    "## Supplemental: correlations among parameters of multispike_params_df"
   ]
  },
  {
   "cell_type": "code",
   "execution_count": 83,
   "metadata": {},
   "outputs": [
    {
     "data": {
      "text/html": [
       "<div>\n",
       "<style scoped>\n",
       "    .dataframe tbody tr th:only-of-type {\n",
       "        vertical-align: middle;\n",
       "    }\n",
       "\n",
       "    .dataframe tbody tr th {\n",
       "        vertical-align: top;\n",
       "    }\n",
       "\n",
       "    .dataframe thead th {\n",
       "        text-align: right;\n",
       "    }\n",
       "</style>\n",
       "<table border=\"1\" class=\"dataframe\">\n",
       "  <thead>\n",
       "    <tr style=\"text-align: right;\">\n",
       "      <th></th>\n",
       "      <th>amplitude</th>\n",
       "      <th>decay</th>\n",
       "      <th>offset</th>\n",
       "      <th>max_fsl</th>\n",
       "      <th>min_fsl</th>\n",
       "      <th>sse</th>\n",
       "      <th>df</th>\n",
       "      <th>max_nspk</th>\n",
       "      <th>max_nspk_byoffset</th>\n",
       "    </tr>\n",
       "  </thead>\n",
       "  <tbody>\n",
       "    <tr>\n",
       "      <th>amplitude</th>\n",
       "      <td>1.000000</td>\n",
       "      <td>0.633454</td>\n",
       "      <td>-0.234700</td>\n",
       "      <td>0.620205</td>\n",
       "      <td>0.628570</td>\n",
       "      <td>0.696366</td>\n",
       "      <td>-0.431664</td>\n",
       "      <td>-0.267397</td>\n",
       "      <td>-0.049829</td>\n",
       "    </tr>\n",
       "    <tr>\n",
       "      <th>decay</th>\n",
       "      <td>0.633454</td>\n",
       "      <td>1.000000</td>\n",
       "      <td>-0.212265</td>\n",
       "      <td>0.456271</td>\n",
       "      <td>0.438089</td>\n",
       "      <td>0.500598</td>\n",
       "      <td>0.004101</td>\n",
       "      <td>-0.176333</td>\n",
       "      <td>0.012525</td>\n",
       "    </tr>\n",
       "    <tr>\n",
       "      <th>offset</th>\n",
       "      <td>-0.234700</td>\n",
       "      <td>-0.212265</td>\n",
       "      <td>1.000000</td>\n",
       "      <td>0.219733</td>\n",
       "      <td>0.558126</td>\n",
       "      <td>-0.605546</td>\n",
       "      <td>-0.269241</td>\n",
       "      <td>-0.146920</td>\n",
       "      <td>-0.397032</td>\n",
       "    </tr>\n",
       "    <tr>\n",
       "      <th>max_fsl</th>\n",
       "      <td>0.620205</td>\n",
       "      <td>0.456271</td>\n",
       "      <td>0.219733</td>\n",
       "      <td>1.000000</td>\n",
       "      <td>0.522494</td>\n",
       "      <td>0.414554</td>\n",
       "      <td>-0.326421</td>\n",
       "      <td>-0.211733</td>\n",
       "      <td>-0.120850</td>\n",
       "    </tr>\n",
       "    <tr>\n",
       "      <th>min_fsl</th>\n",
       "      <td>0.628570</td>\n",
       "      <td>0.438089</td>\n",
       "      <td>0.558126</td>\n",
       "      <td>0.522494</td>\n",
       "      <td>1.000000</td>\n",
       "      <td>0.149862</td>\n",
       "      <td>-0.656623</td>\n",
       "      <td>-0.569091</td>\n",
       "      <td>-0.735051</td>\n",
       "    </tr>\n",
       "    <tr>\n",
       "      <th>sse</th>\n",
       "      <td>0.696366</td>\n",
       "      <td>0.500598</td>\n",
       "      <td>-0.605546</td>\n",
       "      <td>0.414554</td>\n",
       "      <td>0.149862</td>\n",
       "      <td>1.000000</td>\n",
       "      <td>-0.096251</td>\n",
       "      <td>-0.060959</td>\n",
       "      <td>0.061599</td>\n",
       "    </tr>\n",
       "    <tr>\n",
       "      <th>df</th>\n",
       "      <td>-0.431664</td>\n",
       "      <td>0.004101</td>\n",
       "      <td>-0.269241</td>\n",
       "      <td>-0.326421</td>\n",
       "      <td>-0.656623</td>\n",
       "      <td>-0.096251</td>\n",
       "      <td>1.000000</td>\n",
       "      <td>0.350057</td>\n",
       "      <td>0.493067</td>\n",
       "    </tr>\n",
       "    <tr>\n",
       "      <th>max_nspk</th>\n",
       "      <td>-0.267397</td>\n",
       "      <td>-0.176333</td>\n",
       "      <td>-0.146920</td>\n",
       "      <td>-0.211733</td>\n",
       "      <td>-0.569091</td>\n",
       "      <td>-0.060959</td>\n",
       "      <td>0.350057</td>\n",
       "      <td>1.000000</td>\n",
       "      <td>0.483315</td>\n",
       "    </tr>\n",
       "    <tr>\n",
       "      <th>max_nspk_byoffset</th>\n",
       "      <td>-0.049829</td>\n",
       "      <td>0.012525</td>\n",
       "      <td>-0.397032</td>\n",
       "      <td>-0.120850</td>\n",
       "      <td>-0.735051</td>\n",
       "      <td>0.061599</td>\n",
       "      <td>0.493067</td>\n",
       "      <td>0.483315</td>\n",
       "      <td>1.000000</td>\n",
       "    </tr>\n",
       "  </tbody>\n",
       "</table>\n",
       "</div>"
      ],
      "text/plain": [
       "                   amplitude     decay    offset   max_fsl   min_fsl  \\\n",
       "amplitude           1.000000  0.633454 -0.234700  0.620205  0.628570   \n",
       "decay               0.633454  1.000000 -0.212265  0.456271  0.438089   \n",
       "offset             -0.234700 -0.212265  1.000000  0.219733  0.558126   \n",
       "max_fsl             0.620205  0.456271  0.219733  1.000000  0.522494   \n",
       "min_fsl             0.628570  0.438089  0.558126  0.522494  1.000000   \n",
       "sse                 0.696366  0.500598 -0.605546  0.414554  0.149862   \n",
       "df                 -0.431664  0.004101 -0.269241 -0.326421 -0.656623   \n",
       "max_nspk           -0.267397 -0.176333 -0.146920 -0.211733 -0.569091   \n",
       "max_nspk_byoffset  -0.049829  0.012525 -0.397032 -0.120850 -0.735051   \n",
       "\n",
       "                        sse        df  max_nspk  max_nspk_byoffset  \n",
       "amplitude          0.696366 -0.431664 -0.267397          -0.049829  \n",
       "decay              0.500598  0.004101 -0.176333           0.012525  \n",
       "offset            -0.605546 -0.269241 -0.146920          -0.397032  \n",
       "max_fsl            0.414554 -0.326421 -0.211733          -0.120850  \n",
       "min_fsl            0.149862 -0.656623 -0.569091          -0.735051  \n",
       "sse                1.000000 -0.096251 -0.060959           0.061599  \n",
       "df                -0.096251  1.000000  0.350057           0.493067  \n",
       "max_nspk          -0.060959  0.350057  1.000000           0.483315  \n",
       "max_nspk_byoffset  0.061599  0.493067  0.483315           1.000000  "
      ]
     },
     "execution_count": 83,
     "metadata": {},
     "output_type": "execute_result"
    }
   ],
   "source": [
    "multispike_params_df.corr()"
   ]
  },
  {
   "cell_type": "code",
   "execution_count": null,
   "metadata": {},
   "outputs": [],
   "source": []
  },
  {
   "cell_type": "code",
   "execution_count": null,
   "metadata": {},
   "outputs": [],
   "source": []
  }
 ],
 "metadata": {
  "kernelspec": {
   "display_name": "Python 3",
   "language": "python",
   "name": "python3"
  },
  "language_info": {
   "codemirror_mode": {
    "name": "ipython",
    "version": 3
   },
   "file_extension": ".py",
   "mimetype": "text/x-python",
   "name": "python",
   "nbconvert_exporter": "python",
   "pygments_lexer": "ipython3",
   "version": "3.6.12"
  },
  "toc": {
   "base_numbering": 1,
   "nav_menu": {},
   "number_sections": true,
   "sideBar": true,
   "skip_h1_title": false,
   "title_cell": "Table of Contents",
   "title_sidebar": "Contents",
   "toc_cell": false,
   "toc_position": {
    "height": "calc(100% - 180px)",
    "left": "10px",
    "top": "150px",
    "width": "390.594px"
   },
   "toc_section_display": true,
   "toc_window_display": true
  }
 },
 "nbformat": 4,
 "nbformat_minor": 4
}
